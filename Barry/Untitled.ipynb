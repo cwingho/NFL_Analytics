{
 "cells": [
  {
   "cell_type": "code",
   "execution_count": 1,
   "metadata": {},
   "outputs": [
    {
     "data": {
      "text/plain": [
       "'C:\\\\spark\\\\spark-3.0.1-bin-hadoop2.7'"
      ]
     },
     "execution_count": 1,
     "metadata": {},
     "output_type": "execute_result"
    }
   ],
   "source": [
    "import findspark\n",
    "findspark.init()\n",
    "findspark.find()\n",
    "import pyspark\n",
    "findspark.find()"
   ]
  },
  {
   "cell_type": "code",
   "execution_count": 2,
   "metadata": {},
   "outputs": [],
   "source": [
    "\n",
    "from pyspark import SparkContext, SparkConf\n",
    "from pyspark.sql import SQLContext, SparkSession\n",
    "import pyspark.sql.functions as f\n",
    "import sys"
   ]
  },
  {
   "cell_type": "code",
   "execution_count": 3,
   "metadata": {},
   "outputs": [],
   "source": [
    "conf = pyspark.SparkConf().setAppName('appName').setMaster('local')\n",
    "sc = pyspark.SparkContext(conf=conf)\n",
    "spark = SparkSession(sc)"
   ]
  },
  {
   "cell_type": "code",
   "execution_count": 4,
   "metadata": {},
   "outputs": [],
   "source": [
    "import numpy as np # linear algebra\n",
    "import pandas as pd # data processing\n",
    "import itertools"
   ]
  },
  {
   "cell_type": "code",
   "execution_count": 5,
   "metadata": {},
   "outputs": [],
   "source": [
    "import matplotlib.pyplot as plt\n",
    "import seaborn as sns\n",
    "import scipy.stats as ss"
   ]
  },
  {
   "cell_type": "code",
   "execution_count": 28,
   "metadata": {},
   "outputs": [],
   "source": [
    "injury= spark.read.option('header',True).csv('../nfl/InjuryRecord.csv')\n"
   ]
  },
  {
   "cell_type": "code",
   "execution_count": 29,
   "metadata": {},
   "outputs": [
    {
     "name": "stdout",
     "output_type": "stream",
     "text": [
      "+---------+--------+-----------+--------+---------+-----+-----+------+------+\n",
      "|PlayerKey|  GameID|    PlayKey|BodyPart|  Surface|DM_M1|DM_M7|DM_M28|DM_M42|\n",
      "+---------+--------+-----------+--------+---------+-----+-----+------+------+\n",
      "|    39873| 39873-4| 39873-4-32|    Knee|Synthetic|    1|    1|     1|     1|\n",
      "|    46074| 46074-7| 46074-7-26|    Knee|  Natural|    1|    1|     0|     0|\n",
      "|    36557| 36557-1| 36557-1-70|   Ankle|Synthetic|    1|    1|     1|     1|\n",
      "|    46646| 46646-3| 46646-3-30|   Ankle|  Natural|    1|    0|     0|     0|\n",
      "|    43532| 43532-5| 43532-5-69|   Ankle|Synthetic|    1|    1|     1|     1|\n",
      "|    41145| 41145-2| 41145-2-60|    Knee|  Natural|    1|    0|     0|     0|\n",
      "|    46014|46014-10|46014-10-22|   Ankle|Synthetic|    1|    1|     1|     1|\n",
      "|    44860| 44860-5| 44860-5-52|    Knee|  Natural|    1|    1|     0|     0|\n",
      "|    44806| 44806-7| 44806-7-61|    Knee|Synthetic|    1|    0|     0|     0|\n",
      "|    45962| 45962-8| 45962-8-40|   Ankle|Synthetic|    1|    1|     0|     0|\n",
      "|    46331| 46331-4| 46331-4-44|   Ankle|Synthetic|    1|    1|     1|     1|\n",
      "|    36621|36621-13|36621-13-58|    Foot|  Natural|    1|    1|     1|     1|\n",
      "|    44492| 44492-3| 44492-3-23|   Ankle|  Natural|    1|    1|     1|     1|\n",
      "|    43505| 43505-2| 43505-2-49|    Foot|  Natural|    1|    1|     1|     1|\n",
      "|    41094| 41094-1| 41094-1-55|    Knee|  Natural|    1|    1|     1|     1|\n",
      "|    40474| 40474-1|  40474-1-8|    Knee|Synthetic|    1|    0|     0|     0|\n",
      "|    39656| 39656-2| 39656-2-38|    Knee|Synthetic|    1|    1|     0|     0|\n",
      "|    46587| 46587-2| 46587-2-13|    Knee|Synthetic|    1|    1|     1|     1|\n",
      "|    46119| 46119-3| 46119-3-16|    Knee|  Natural|    1|    1|     0|     0|\n",
      "|    38364| 38364-5| 38364-5-23|    Foot|Synthetic|    1|    1|     1|     1|\n",
      "+---------+--------+-----------+--------+---------+-----+-----+------+------+\n",
      "only showing top 20 rows\n",
      "\n"
     ]
    }
   ],
   "source": [
    "injury.show()"
   ]
  },
  {
   "cell_type": "code",
   "execution_count": 30,
   "metadata": {},
   "outputs": [],
   "source": [
    "injury_panda = injury.toPandas()"
   ]
  },
  {
   "cell_type": "code",
   "execution_count": 31,
   "metadata": {},
   "outputs": [
    {
     "data": {
      "text/html": [
       "<div>\n",
       "<style scoped>\n",
       "    .dataframe tbody tr th:only-of-type {\n",
       "        vertical-align: middle;\n",
       "    }\n",
       "\n",
       "    .dataframe tbody tr th {\n",
       "        vertical-align: top;\n",
       "    }\n",
       "\n",
       "    .dataframe thead th {\n",
       "        text-align: right;\n",
       "    }\n",
       "</style>\n",
       "<table border=\"1\" class=\"dataframe\">\n",
       "  <thead>\n",
       "    <tr style=\"text-align: right;\">\n",
       "      <th></th>\n",
       "      <th>PlayerKey</th>\n",
       "      <th>GameID</th>\n",
       "      <th>PlayKey</th>\n",
       "      <th>BodyPart</th>\n",
       "      <th>Surface</th>\n",
       "      <th>DM_M1</th>\n",
       "      <th>DM_M7</th>\n",
       "      <th>DM_M28</th>\n",
       "      <th>DM_M42</th>\n",
       "    </tr>\n",
       "  </thead>\n",
       "  <tbody>\n",
       "    <tr>\n",
       "      <th>0</th>\n",
       "      <td>39873</td>\n",
       "      <td>39873-4</td>\n",
       "      <td>39873-4-32</td>\n",
       "      <td>Knee</td>\n",
       "      <td>Synthetic</td>\n",
       "      <td>1</td>\n",
       "      <td>1</td>\n",
       "      <td>1</td>\n",
       "      <td>1</td>\n",
       "    </tr>\n",
       "    <tr>\n",
       "      <th>1</th>\n",
       "      <td>46074</td>\n",
       "      <td>46074-7</td>\n",
       "      <td>46074-7-26</td>\n",
       "      <td>Knee</td>\n",
       "      <td>Natural</td>\n",
       "      <td>1</td>\n",
       "      <td>1</td>\n",
       "      <td>0</td>\n",
       "      <td>0</td>\n",
       "    </tr>\n",
       "    <tr>\n",
       "      <th>2</th>\n",
       "      <td>36557</td>\n",
       "      <td>36557-1</td>\n",
       "      <td>36557-1-70</td>\n",
       "      <td>Ankle</td>\n",
       "      <td>Synthetic</td>\n",
       "      <td>1</td>\n",
       "      <td>1</td>\n",
       "      <td>1</td>\n",
       "      <td>1</td>\n",
       "    </tr>\n",
       "    <tr>\n",
       "      <th>3</th>\n",
       "      <td>46646</td>\n",
       "      <td>46646-3</td>\n",
       "      <td>46646-3-30</td>\n",
       "      <td>Ankle</td>\n",
       "      <td>Natural</td>\n",
       "      <td>1</td>\n",
       "      <td>0</td>\n",
       "      <td>0</td>\n",
       "      <td>0</td>\n",
       "    </tr>\n",
       "    <tr>\n",
       "      <th>4</th>\n",
       "      <td>43532</td>\n",
       "      <td>43532-5</td>\n",
       "      <td>43532-5-69</td>\n",
       "      <td>Ankle</td>\n",
       "      <td>Synthetic</td>\n",
       "      <td>1</td>\n",
       "      <td>1</td>\n",
       "      <td>1</td>\n",
       "      <td>1</td>\n",
       "    </tr>\n",
       "  </tbody>\n",
       "</table>\n",
       "</div>"
      ],
      "text/plain": [
       "  PlayerKey   GameID     PlayKey BodyPart    Surface DM_M1 DM_M7 DM_M28 DM_M42\n",
       "0     39873  39873-4  39873-4-32     Knee  Synthetic     1     1      1      1\n",
       "1     46074  46074-7  46074-7-26     Knee    Natural     1     1      0      0\n",
       "2     36557  36557-1  36557-1-70    Ankle  Synthetic     1     1      1      1\n",
       "3     46646  46646-3  46646-3-30    Ankle    Natural     1     0      0      0\n",
       "4     43532  43532-5  43532-5-69    Ankle  Synthetic     1     1      1      1"
      ]
     },
     "execution_count": 31,
     "metadata": {},
     "output_type": "execute_result"
    }
   ],
   "source": [
    "injury_panda.head()"
   ]
  },
  {
   "cell_type": "code",
   "execution_count": 21,
   "metadata": {},
   "outputs": [
    {
     "name": "stdout",
     "output_type": "stream",
     "text": [
      "root\n",
      " |-- _c0: string (nullable = true)\n",
      " |-- _c1: string (nullable = true)\n",
      " |-- _c2: string (nullable = true)\n",
      " |-- _c3: string (nullable = true)\n",
      " |-- _c4: string (nullable = true)\n",
      " |-- _c5: string (nullable = true)\n",
      " |-- _c6: string (nullable = true)\n",
      " |-- _c7: string (nullable = true)\n",
      " |-- _c8: string (nullable = true)\n",
      "\n"
     ]
    }
   ],
   "source": []
  },
  {
   "cell_type": "code",
   "execution_count": null,
   "metadata": {},
   "outputs": [],
   "source": []
  }
 ],
 "metadata": {
  "kernelspec": {
   "display_name": "Python 3",
   "language": "python",
   "name": "python3"
  },
  "language_info": {
   "codemirror_mode": {
    "name": "ipython",
    "version": 3
   },
   "file_extension": ".py",
   "mimetype": "text/x-python",
   "name": "python",
   "nbconvert_exporter": "python",
   "pygments_lexer": "ipython3",
   "version": "3.7.3"
  }
 },
 "nbformat": 4,
 "nbformat_minor": 2
}
