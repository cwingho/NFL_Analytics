{
 "cells": [
  {
   "cell_type": "code",
   "execution_count": 1,
   "metadata": {},
   "outputs": [
    {
     "data": {
      "text/plain": [
       "'C:\\\\spark\\\\spark-3.0.1-bin-hadoop2.7'"
      ]
     },
     "execution_count": 1,
     "metadata": {},
     "output_type": "execute_result"
    }
   ],
   "source": [
    "import findspark\n",
    "findspark.init()\n",
    "findspark.find()\n",
    "import pyspark\n",
    "findspark.find()"
   ]
  },
  {
   "cell_type": "code",
   "execution_count": 2,
   "metadata": {},
   "outputs": [],
   "source": [
    "from pyspark import SparkContext, SparkConf\n",
    "from pyspark.sql import SQLContext, SparkSession\n",
    "import pyspark.sql.functions as f\n",
    "import sys"
   ]
  },
  {
   "cell_type": "code",
   "execution_count": 3,
   "metadata": {},
   "outputs": [],
   "source": [
    "conf = pyspark.SparkConf().setAppName('appName').setMaster('local')\n",
    "sc = pyspark.SparkContext(conf=conf)\n",
    "spark = SparkSession(sc)"
   ]
  },
  {
   "cell_type": "code",
   "execution_count": 4,
   "metadata": {},
   "outputs": [],
   "source": [
    "import numpy as np # linear algebra\n",
    "import pandas as pd # data processing\n",
    "import itertools"
   ]
  },
  {
   "cell_type": "code",
   "execution_count": 5,
   "metadata": {},
   "outputs": [],
   "source": [
    "import matplotlib.pyplot as plt\n",
    "import seaborn as sns\n",
    "import scipy.stats as ss"
   ]
  },
  {
   "cell_type": "code",
   "execution_count": 6,
   "metadata": {},
   "outputs": [],
   "source": [
    "play= spark.read.option('header',True).csv('../nfl/PlayList.csv')\n",
    "injury = injury= spark.read.option('header',True).csv('../nfl/InjuryRecord.csv')"
   ]
  },
  {
   "cell_type": "code",
   "execution_count": 7,
   "metadata": {},
   "outputs": [
    {
     "name": "stdout",
     "output_type": "stream",
     "text": [
      "+---------+-------+----------+--------------+---------+----------+-----------+---------+-----------+--------------+--------+--------------+--------+-------------+\n",
      "|PlayerKey| GameID|   PlayKey|RosterPosition|PlayerDay|PlayerGame|StadiumType|FieldType|Temperature|       Weather|PlayType|PlayerGamePlay|Position|PositionGroup|\n",
      "+---------+-------+----------+--------------+---------+----------+-----------+---------+-----------+--------------+--------+--------------+--------+-------------+\n",
      "|    26624|26624-1| 26624-1-1|   Quarterback|        1|         1|    Outdoor|Synthetic|         63|Clear and warm|    Pass|             1|      QB|           QB|\n",
      "|    26624|26624-1| 26624-1-2|   Quarterback|        1|         1|    Outdoor|Synthetic|         63|Clear and warm|    Pass|             2|      QB|           QB|\n",
      "|    26624|26624-1| 26624-1-3|   Quarterback|        1|         1|    Outdoor|Synthetic|         63|Clear and warm|    Rush|             3|      QB|           QB|\n",
      "|    26624|26624-1| 26624-1-4|   Quarterback|        1|         1|    Outdoor|Synthetic|         63|Clear and warm|    Rush|             4|      QB|           QB|\n",
      "|    26624|26624-1| 26624-1-5|   Quarterback|        1|         1|    Outdoor|Synthetic|         63|Clear and warm|    Pass|             5|      QB|           QB|\n",
      "|    26624|26624-1| 26624-1-6|   Quarterback|        1|         1|    Outdoor|Synthetic|         63|Clear and warm|    Rush|             6|      QB|           QB|\n",
      "|    26624|26624-1| 26624-1-7|   Quarterback|        1|         1|    Outdoor|Synthetic|         63|Clear and warm|    Pass|             7|      QB|           QB|\n",
      "|    26624|26624-1| 26624-1-8|   Quarterback|        1|         1|    Outdoor|Synthetic|         63|Clear and warm|    Pass|             8|      QB|           QB|\n",
      "|    26624|26624-1| 26624-1-9|   Quarterback|        1|         1|    Outdoor|Synthetic|         63|Clear and warm|    Rush|             9|      QB|           QB|\n",
      "|    26624|26624-1|26624-1-10|   Quarterback|        1|         1|    Outdoor|Synthetic|         63|Clear and warm|    Pass|            10|      QB|           QB|\n",
      "|    26624|26624-1|26624-1-11|   Quarterback|        1|         1|    Outdoor|Synthetic|         63|Clear and warm|    Rush|            11|      QB|           QB|\n",
      "|    26624|26624-1|26624-1-12|   Quarterback|        1|         1|    Outdoor|Synthetic|         63|Clear and warm|    Pass|            12|      QB|           QB|\n",
      "|    26624|26624-1|26624-1-13|   Quarterback|        1|         1|    Outdoor|Synthetic|         63|Clear and warm|    Pass|            13|      QB|           QB|\n",
      "|    26624|26624-1|26624-1-14|   Quarterback|        1|         1|    Outdoor|Synthetic|         63|Clear and warm|    Rush|            14|      QB|           QB|\n",
      "|    26624|26624-1|26624-1-15|   Quarterback|        1|         1|    Outdoor|Synthetic|         63|Clear and warm|    Pass|            15|      QB|           QB|\n",
      "|    26624|26624-1|26624-1-16|   Quarterback|        1|         1|    Outdoor|Synthetic|         63|Clear and warm|    Rush|            16|      QB|           QB|\n",
      "|    26624|26624-1|26624-1-17|   Quarterback|        1|         1|    Outdoor|Synthetic|         63|Clear and warm|    Pass|            17|      QB|           QB|\n",
      "|    26624|26624-1|26624-1-18|   Quarterback|        1|         1|    Outdoor|Synthetic|         63|Clear and warm|    Pass|            18|      QB|           QB|\n",
      "|    26624|26624-1|26624-1-19|   Quarterback|        1|         1|    Outdoor|Synthetic|         63|Clear and warm|    Rush|            19|      QB|           QB|\n",
      "|    26624|26624-1|26624-1-20|   Quarterback|        1|         1|    Outdoor|Synthetic|         63|Clear and warm|    Rush|            20|      QB|           QB|\n",
      "+---------+-------+----------+--------------+---------+----------+-----------+---------+-----------+--------------+--------+--------------+--------+-------------+\n",
      "only showing top 20 rows\n",
      "\n"
     ]
    }
   ],
   "source": [
    "play.show()"
   ]
  },
  {
   "cell_type": "code",
   "execution_count": 8,
   "metadata": {},
   "outputs": [
    {
     "name": "stdout",
     "output_type": "stream",
     "text": [
      "+--------------------+\n",
      "|         StadiumType|\n",
      "+--------------------+\n",
      "|       Domed, closed|\n",
      "|        Dome, closed|\n",
      "|                Bowl|\n",
      "|              Cloudy|\n",
      "|         Closed Dome|\n",
      "|              Indoor|\n",
      "|     Retr. Roof-Open|\n",
      "|             Outdoor|\n",
      "|Outdoor Retr Roof...|\n",
      "|                null|\n",
      "|             Indoors|\n",
      "|    Retractable Roof|\n",
      "|                Open|\n",
      "|            Outdoors|\n",
      "|         Domed, Open|\n",
      "|   Retr. Roof - Open|\n",
      "|              Outdor|\n",
      "|   Retr. Roof-Closed|\n",
      "|              Oudoor|\n",
      "|               Domed|\n",
      "+--------------------+\n",
      "only showing top 20 rows\n",
      "\n"
     ]
    }
   ],
   "source": [
    "play.select('StadiumType').distinct().show()"
   ]
  },
  {
   "cell_type": "code",
   "execution_count": 9,
   "metadata": {},
   "outputs": [],
   "source": [
    "#replace value to outdoor or indoor\n",
    "#play = play.withColumn(\"StadiumType\", f.when(f.col(\"StadiumType\")=='Domed, closed', 'Indoor').otherwise(f.col('StadiumType')))\n",
    "#play = play.withColumn(\"StadiumType\", f.when(f.col(\"StadiumType\")=='Dome, closed', 'Indoor').otherwise(f.col('StadiumType')))\n",
    "#play = play.withColumn(\"StadiumType\", f.when(f.col(\"StadiumType\")=='Bowl', ' Outdoor').otherwise(f.col('StadiumType')))"
   ]
  },
  {
   "cell_type": "code",
   "execution_count": 10,
   "metadata": {},
   "outputs": [],
   "source": [
    "#play_injury = play.join(injury, (play.GameID == injury.GameID) & (play.PlayerKey == injury.PlayerKey)& (play.FieldType == injury.Surface))\n",
    "#play_injury.show()"
   ]
  },
  {
   "cell_type": "code",
   "execution_count": 11,
   "metadata": {},
   "outputs": [
    {
     "name": "stdout",
     "output_type": "stream",
     "text": [
      "+---------+--------+-----------+--------+---------+-----+-----+------+------+---------------+\n",
      "|PlayerKey|  GameID|    PlayKey|BodyPart|  Surface|DM_M1|DM_M7|DM_M28|DM_M42|level of injury|\n",
      "+---------+--------+-----------+--------+---------+-----+-----+------+------+---------------+\n",
      "|    39873| 39873-4| 39873-4-32|    Knee|Synthetic|    1|    1|     1|     1|              4|\n",
      "|    46074| 46074-7| 46074-7-26|    Knee|  Natural|    1|    1|     0|     0|              2|\n",
      "|    36557| 36557-1| 36557-1-70|   Ankle|Synthetic|    1|    1|     1|     1|              4|\n",
      "|    46646| 46646-3| 46646-3-30|   Ankle|  Natural|    1|    0|     0|     0|              1|\n",
      "|    43532| 43532-5| 43532-5-69|   Ankle|Synthetic|    1|    1|     1|     1|              4|\n",
      "|    41145| 41145-2| 41145-2-60|    Knee|  Natural|    1|    0|     0|     0|              1|\n",
      "|    46014|46014-10|46014-10-22|   Ankle|Synthetic|    1|    1|     1|     1|              4|\n",
      "|    44860| 44860-5| 44860-5-52|    Knee|  Natural|    1|    1|     0|     0|              2|\n",
      "|    44806| 44806-7| 44806-7-61|    Knee|Synthetic|    1|    0|     0|     0|              1|\n",
      "|    45962| 45962-8| 45962-8-40|   Ankle|Synthetic|    1|    1|     0|     0|              2|\n",
      "|    46331| 46331-4| 46331-4-44|   Ankle|Synthetic|    1|    1|     1|     1|              4|\n",
      "|    36621|36621-13|36621-13-58|    Foot|  Natural|    1|    1|     1|     1|              4|\n",
      "|    44492| 44492-3| 44492-3-23|   Ankle|  Natural|    1|    1|     1|     1|              4|\n",
      "|    43505| 43505-2| 43505-2-49|    Foot|  Natural|    1|    1|     1|     1|              4|\n",
      "|    41094| 41094-1| 41094-1-55|    Knee|  Natural|    1|    1|     1|     1|              4|\n",
      "|    40474| 40474-1|  40474-1-8|    Knee|Synthetic|    1|    0|     0|     0|              1|\n",
      "|    39656| 39656-2| 39656-2-38|    Knee|Synthetic|    1|    1|     0|     0|              2|\n",
      "|    46587| 46587-2| 46587-2-13|    Knee|Synthetic|    1|    1|     1|     1|              4|\n",
      "|    46119| 46119-3| 46119-3-16|    Knee|  Natural|    1|    1|     0|     0|              2|\n",
      "|    38364| 38364-5| 38364-5-23|    Foot|Synthetic|    1|    1|     1|     1|              4|\n",
      "+---------+--------+-----------+--------+---------+-----+-----+------+------+---------------+\n",
      "only showing top 20 rows\n",
      "\n"
     ]
    }
   ],
   "source": [
    "from pyspark.sql.functions import col\n",
    "injury = injury.withColumn('level of injury', (col('DM_M1')+col('DM_M7')+col('DM_M28')+col('DM_M42')).cast('integer'))\n",
    "injury.show()"
   ]
  },
  {
   "cell_type": "code",
   "execution_count": 12,
   "metadata": {},
   "outputs": [],
   "source": [
    "key_play_columns= play.select('PlayerKey','GameID',\"Temperature\", \"Weather\",'StadiumType',\"FieldType\")"
   ]
  },
  {
   "cell_type": "code",
   "execution_count": 13,
   "metadata": {},
   "outputs": [
    {
     "name": "stdout",
     "output_type": "stream",
     "text": [
      "+---------+--------+-----------+--------------------+-----------------+---------+\n",
      "|PlayerKey|  GameID|Temperature|             Weather|      StadiumType|FieldType|\n",
      "+---------+--------+-----------+--------------------+-----------------+---------+\n",
      "|    26624| 26624-7|         56|Cloudy, fog start...|          Outdoor|Synthetic|\n",
      "|    27363| 27363-2|         85|       Mostly Cloudy|          Indoors|Synthetic|\n",
      "|    34259|34259-20|         33|              Cloudy|Retr. Roof-Closed|Synthetic|\n",
      "|    36621| 36621-1|         68|  Controlled Climate|          Indoors|Synthetic|\n",
      "|    36696| 36696-8|         49|               Sunny|          Outdoor|  Natural|\n",
      "|    36877|36877-12|         80|              Cloudy|          Outdoor|  Natural|\n",
      "|    38228|38228-25|         52|               Sunny|         Outdoors|  Natural|\n",
      "|    38325|38325-23|         46|               Sunny|          Outdoor|Synthetic|\n",
      "|    38364| 38364-2|         72|              Cloudy|             null|Synthetic|\n",
      "|    39654|39654-20|         80|              Cloudy|         Outdoors|  Natural|\n",
      "|    39654|39654-26|         69|                null|          Indoors|Synthetic|\n",
      "|    39809| 39809-9|         68|  Controlled Climate|          Indoors|Synthetic|\n",
      "|    40335| 40335-8|         54|               Sunny|          Indoors|Synthetic|\n",
      "|    41094| 41094-4|         40|              Cloudy|         Outdoors|  Natural|\n",
      "|    42344|42344-18|         79|               Clear|          Outdoor|  Natural|\n",
      "|    42370| 42370-1|         73|       Mostly Cloudy|          Outdoor|  Natural|\n",
      "|    42398| 42398-2|         72|       Partly Cloudy|          Outdoor|  Natural|\n",
      "|    42470| 42470-8|         62|                Rain|          Outdoor|Synthetic|\n",
      "|    42470|42470-13|         81|       Partly Cloudy|             null|  Natural|\n",
      "|    44037| 44037-7|         86|       Partly Cloudy|          Outdoor|  Natural|\n",
      "+---------+--------+-----------+--------------------+-----------------+---------+\n",
      "only showing top 20 rows\n",
      "\n"
     ]
    }
   ],
   "source": [
    "key_play_columns.distinct().show()"
   ]
  },
  {
   "cell_type": "code",
   "execution_count": 14,
   "metadata": {},
   "outputs": [
    {
     "data": {
      "text/plain": [
       "5712"
      ]
     },
     "execution_count": 14,
     "metadata": {},
     "output_type": "execute_result"
    }
   ],
   "source": [
    "key_play_columns.distinct().count()"
   ]
  },
  {
   "cell_type": "code",
   "execution_count": 15,
   "metadata": {},
   "outputs": [],
   "source": [
    "key_injury_columns= injury.select('PlayerKey','GameID',\"BodyPart\",'level of injury')"
   ]
  },
  {
   "cell_type": "code",
   "execution_count": 16,
   "metadata": {},
   "outputs": [
    {
     "name": "stdout",
     "output_type": "stream",
     "text": [
      "+---------+--------+--------+---------------+\n",
      "|PlayerKey|  GameID|BodyPart|level of injury|\n",
      "+---------+--------+--------+---------------+\n",
      "|    39873| 39873-4|    Knee|              4|\n",
      "|    46074| 46074-7|    Knee|              2|\n",
      "|    36557| 36557-1|   Ankle|              4|\n",
      "|    46646| 46646-3|   Ankle|              1|\n",
      "|    43532| 43532-5|   Ankle|              4|\n",
      "|    41145| 41145-2|    Knee|              1|\n",
      "|    46014|46014-10|   Ankle|              4|\n",
      "|    44860| 44860-5|    Knee|              2|\n",
      "|    44806| 44806-7|    Knee|              1|\n",
      "|    45962| 45962-8|   Ankle|              2|\n",
      "|    46331| 46331-4|   Ankle|              4|\n",
      "|    36621|36621-13|    Foot|              4|\n",
      "|    44492| 44492-3|   Ankle|              4|\n",
      "|    43505| 43505-2|    Foot|              4|\n",
      "|    41094| 41094-1|    Knee|              4|\n",
      "|    40474| 40474-1|    Knee|              1|\n",
      "|    39656| 39656-2|    Knee|              2|\n",
      "|    46587| 46587-2|    Knee|              4|\n",
      "|    46119| 46119-3|    Knee|              2|\n",
      "|    38364| 38364-5|    Foot|              4|\n",
      "+---------+--------+--------+---------------+\n",
      "only showing top 20 rows\n",
      "\n"
     ]
    }
   ],
   "source": [
    "key_injury_columns.show()"
   ]
  },
  {
   "cell_type": "code",
   "execution_count": 17,
   "metadata": {},
   "outputs": [
    {
     "data": {
      "text/plain": [
       "105"
      ]
     },
     "execution_count": 17,
     "metadata": {},
     "output_type": "execute_result"
    }
   ],
   "source": [
    "key_injury_columns.count()"
   ]
  },
  {
   "cell_type": "code",
   "execution_count": 18,
   "metadata": {},
   "outputs": [],
   "source": [
    "play_injury = key_injury_columns.join(key_play_columns.distinct(), ['GameID'],'inner')\n"
   ]
  },
  {
   "cell_type": "code",
   "execution_count": 19,
   "metadata": {},
   "outputs": [
    {
     "name": "stdout",
     "output_type": "stream",
     "text": [
      "+--------+---------+--------+---------------+---------+-----------+--------------------+----------------+---------+\n",
      "|  GameID|PlayerKey|BodyPart|level of injury|PlayerKey|Temperature|             Weather|     StadiumType|FieldType|\n",
      "+--------+---------+--------+---------------+---------+-----------+--------------------+----------------+---------+\n",
      "| 46331-4|    46331|   Ankle|              4|    46331|         61|               Sunny|         Outdoor|Synthetic|\n",
      "| 47334-8|    47334|    Knee|              2|    47334|         74|         Clear skies|          Indoor|Synthetic|\n",
      "| 46074-7|    46074|    Knee|              2|    46074|         76|       Partly Cloudy|            Open|  Natural|\n",
      "| 46646-3|    46646|   Ankle|              1|    46646|         80|              Cloudy|         Outdoor|  Natural|\n",
      "| 45950-6|    45950|    Toes|              2|    45950|         85|       Partly Cloudy|Retractable Roof|Synthetic|\n",
      "| 43826-7|    43826|    Knee|              2|    43826|       -999|                null|     Closed Dome|Synthetic|\n",
      "| 45187-9|    45187|   Ankle|              1|    45187|         81|              Cloudy|         Outdoor|  Natural|\n",
      "|41113-15|    41113|   Ankle|              1|    41113|         53|               Sunny|         Outdoor|  Natural|\n",
      "|36621-13|    36621|    Foot|              4|    36621|         79|                null|            Dome|  Natural|\n",
      "|42398-15|    42398|    Knee|              4|    42398|         70|          Light Rain|            null|Synthetic|\n",
      "| 44900-7|    44900|    Knee|              2|    44900|         70|Cloudy with perio...|         Outdoor|  Natural|\n",
      "|35570-15|    35570|    Knee|              2|    35570|         79|               Clear|         Outdoor|  Natural|\n",
      "| 38192-8|    38192|   Ankle|              1|    38192|         61|               Coudy|        Outdoors|  Natural|\n",
      "| 39956-2|    39956|    Knee|              2|    39956|         68|              Cloudy|         Outdoor|  Natural|\n",
      "| 46119-3|    46119|    Knee|              2|    46119|         89|               Sunny|         Outdoor|  Natural|\n",
      "|42448-14|    42448|    Knee|              3|    42448|         78|       Partly Cloudy|Retractable Roof|Synthetic|\n",
      "| 43540-7|    43540|   Ankle|              4|    43540|         70|              Cloudy|         Outdoor|  Natural|\n",
      "| 33337-2|    33337|    Foot|              4|    33337|         83|               Sunny|        Outdoors|  Natural|\n",
      "| 35611-7|    35611|   Ankle|              2|    35611|         68|  Controlled Climate|         Indoors|Synthetic|\n",
      "|33474-19|    33474|    Knee|              3|    33474|         79|       Partly Cloudy|         Outdoor|  Natural|\n",
      "+--------+---------+--------+---------------+---------+-----------+--------------------+----------------+---------+\n",
      "only showing top 20 rows\n",
      "\n"
     ]
    }
   ],
   "source": [
    "play_injury.show()"
   ]
  },
  {
   "cell_type": "code",
   "execution_count": 20,
   "metadata": {},
   "outputs": [
    {
     "data": {
      "text/plain": [
       "105"
      ]
     },
     "execution_count": 20,
     "metadata": {},
     "output_type": "execute_result"
    }
   ],
   "source": [
    "play_injury.count()"
   ]
  },
  {
   "cell_type": "code",
   "execution_count": 21,
   "metadata": {},
   "outputs": [
    {
     "data": {
      "text/plain": [
       "[Row(Weather='Rain shower'),\n",
       " Row(Weather='Cloudy'),\n",
       " Row(Weather='Clear and warm'),\n",
       " Row(Weather='Cold'),\n",
       " Row(Weather='Mostly sunny'),\n",
       " Row(Weather='Indoor'),\n",
       " Row(Weather='Cloudy and Cool'),\n",
       " Row(Weather=None),\n",
       " Row(Weather='Indoors'),\n",
       " Row(Weather='Sunny and clear'),\n",
       " Row(Weather='Cloudy with periods of rain, thunder possible. Winds shifting to WNW, 10-20 mph.'),\n",
       " Row(Weather='Clear and cold'),\n",
       " Row(Weather='Coudy'),\n",
       " Row(Weather='Clear skies'),\n",
       " Row(Weather='Partly Cloudy'),\n",
       " Row(Weather='Clear'),\n",
       " Row(Weather='Party Cloudy'),\n",
       " Row(Weather='N/A (Indoors)'),\n",
       " Row(Weather='Sunny'),\n",
       " Row(Weather='Fair'),\n",
       " Row(Weather='Clear Skies'),\n",
       " Row(Weather='Mostly cloudy'),\n",
       " Row(Weather='Light Rain'),\n",
       " Row(Weather='Clear and Sunny'),\n",
       " Row(Weather='Controlled Climate'),\n",
       " Row(Weather='Mostly Sunny'),\n",
       " Row(Weather='Rain'),\n",
       " Row(Weather='Cloudy, 50% change of rain'),\n",
       " Row(Weather='Sun & clouds')]"
      ]
     },
     "execution_count": 21,
     "metadata": {},
     "output_type": "execute_result"
    }
   ],
   "source": [
    "\n",
    "play_injury.select('Weather').distinct().collect()"
   ]
  },
  {
   "cell_type": "code",
   "execution_count": 22,
   "metadata": {},
   "outputs": [],
   "source": [
    "play_injury = play_injury.na.fill(\"null\", 'Weather')\n",
    "play_injury = play_injury.na.fill(\"null\", 'StadiumType')"
   ]
  },
  {
   "cell_type": "code",
   "execution_count": 23,
   "metadata": {},
   "outputs": [],
   "source": [
    "Bad = ['30% Chance of Rain', 'Rainy', 'Rain Chance 40%', 'Showers', 'Cloudy, 50% change of rain', 'Rain likely, temps in low 40s.',\n",
    "          'Cloudy with periods of rain, thunder possible. Winds shifting to WNW, 10-20 mph.',\n",
    "          'Scattered Showers', 'Cloudy, Rain', 'Rain shower', 'Light Rain', 'Rain', 'Heavy lake effect snow', 'Snow','10% Chance of Rain']\n",
    "\n",
    "Normal = ['Party Cloudy', 'Cloudy, chance of rain','Coudy', 'Cloudy and cold', 'Cloudy, fog started developing in 2nd quarter',\n",
    "            'Partly Clouidy', 'Mostly Coudy', 'Cloudy and Cool','cloudy', 'Partly cloudy', 'Overcast', \n",
    "            'Hazy', 'Mostly cloudy', 'Mostly Cloudy', 'Partly Cloudy', 'Cloudy','Cloudy, light snow accumulating 1-3\"\"','Controlled Climate']\n",
    "\n",
    "Good = ['Partly clear', 'Sunny and clear', 'Sun & clouds', 'Clear and Sunny', 'Sunny and cold', 'Sunny Skies', 'Clear and Cool', 'Clear and sunny',\n",
    "           'Sunny, highs to upper 80s', 'Mostly Sunny Skies', 'Cold', 'Clear and warm', 'Sunny and warm', 'Clear and cold', 'Mostly sunny',\n",
    "            'Clear Skies', 'Clear skies', 'Partly sunny', 'Fair', 'Partly Sunny', 'Mostly Sunny', 'Clear', 'Sunny' ,'Clear to Partly Cloudy','Sunny, Windy']\n",
    "\n",
    "none= ['N/A Indoor', 'Indoors', 'Indoor', 'N/A (Indoors)','Indoor,','T: 51; H: 55; W: NW 10 mph','Heat Index 95','NONE','N/A','null','None']"
   ]
  },
  {
   "cell_type": "code",
   "execution_count": 24,
   "metadata": {},
   "outputs": [],
   "source": [
    "# replace value\n",
    "\n",
    "play_injury = play_injury.withColumn(\"Weather\", f.when(f.col(\"Weather\").isin(Good),'Good').otherwise(f.col('Weather')));\n",
    "play_injury = play_injury.withColumn(\"Weather\", f.when(f.col(\"Weather\").isin(Normal),'Normal').otherwise(f.col('Weather')));\n",
    "play_injury = play_injury.withColumn(\"Weather\", f.when(f.col(\"Weather\").isin(Bad),'Bad').otherwise(f.col('Weather')));\n",
    "play_injury = play_injury.withColumn(\"Weather\", f.when(f.col(\"Weather\").isin(none),'none').otherwise(f.col('Weather')));"
   ]
  },
  {
   "cell_type": "code",
   "execution_count": 25,
   "metadata": {},
   "outputs": [
    {
     "data": {
      "text/plain": [
       "[Row(StadiumType='Domed, closed'),\n",
       " Row(StadiumType='Closed Dome'),\n",
       " Row(StadiumType='Indoor'),\n",
       " Row(StadiumType='Outdoor'),\n",
       " Row(StadiumType='Indoors'),\n",
       " Row(StadiumType='Retractable Roof'),\n",
       " Row(StadiumType='Open'),\n",
       " Row(StadiumType='Outdoors'),\n",
       " Row(StadiumType='Retr. Roof - Open'),\n",
       " Row(StadiumType='Retr. Roof-Closed'),\n",
       " Row(StadiumType='Oudoor'),\n",
       " Row(StadiumType='Retr. Roof - Closed'),\n",
       " Row(StadiumType='Heinz Field'),\n",
       " Row(StadiumType='Indoor, Open Roof'),\n",
       " Row(StadiumType='Outddors'),\n",
       " Row(StadiumType='Dome'),\n",
       " Row(StadiumType='Indoor, Roof Closed'),\n",
       " Row(StadiumType='null')]"
      ]
     },
     "execution_count": 25,
     "metadata": {},
     "output_type": "execute_result"
    }
   ],
   "source": [
    "play_injury.select('StadiumType').distinct().collect()"
   ]
  },
  {
   "cell_type": "code",
   "execution_count": 26,
   "metadata": {},
   "outputs": [],
   "source": [
    "closed = ['Indoors', 'Indoor', 'Indoor, Roof Closed', \n",
    "                 'Indoor, Roof Closed', 'Retractable Roof', 'Retr. Roof-Closed', 'Retr. Roof - Closed', 'Retr. Roof Closed',\n",
    "                 'Dome', 'Domed, closed', 'Closed Dome', 'Domed', 'Dome, closed']\n",
    "\n",
    "open = ['Indoor, Open Roof', 'Open', 'Retr. Roof-Open', 'Retr. Roof - Open','Domed, open', 'Domed, Open','Outdoors','Outdor','Outddors','Outdoor Retr Roof-Open','Oudoor','Outside','Cloudy','Heinz Field','Bowl','Outdoor']\n"
   ]
  },
  {
   "cell_type": "code",
   "execution_count": 27,
   "metadata": {},
   "outputs": [],
   "source": [
    "# replace value\n",
    "\n",
    "play_injury = play_injury.withColumn(\"StadiumType\", f.when(f.col(\"StadiumType\").isin(closed),'closed').otherwise(f.col('StadiumType')));\n",
    "play_injury = play_injury.withColumn(\"StadiumType\", f.when(f.col(\"StadiumType\").isin(open),'open').otherwise(f.col('StadiumType')));\n"
   ]
  },
  {
   "cell_type": "code",
   "execution_count": 28,
   "metadata": {
    "scrolled": false
   },
   "outputs": [
    {
     "name": "stdout",
     "output_type": "stream",
     "text": [
      "+--------+---------+--------+---------------+---------+-----------+-------+-----------+---------+\n",
      "|  GameID|PlayerKey|BodyPart|level of injury|PlayerKey|Temperature|Weather|StadiumType|FieldType|\n",
      "+--------+---------+--------+---------------+---------+-----------+-------+-----------+---------+\n",
      "| 46331-4|    46331|   Ankle|              4|    46331|         61|   Good|       open|Synthetic|\n",
      "| 47334-8|    47334|    Knee|              2|    47334|         74|   Good|     closed|Synthetic|\n",
      "| 46074-7|    46074|    Knee|              2|    46074|         76| Normal|       open|  Natural|\n",
      "| 46646-3|    46646|   Ankle|              1|    46646|         80| Normal|       open|  Natural|\n",
      "| 45950-6|    45950|    Toes|              2|    45950|         85| Normal|     closed|Synthetic|\n",
      "| 43826-7|    43826|    Knee|              2|    43826|       -999|   none|     closed|Synthetic|\n",
      "| 45187-9|    45187|   Ankle|              1|    45187|         81| Normal|       open|  Natural|\n",
      "|41113-15|    41113|   Ankle|              1|    41113|         53|   Good|       open|  Natural|\n",
      "|36621-13|    36621|    Foot|              4|    36621|         79|   none|     closed|  Natural|\n",
      "|42398-15|    42398|    Knee|              4|    42398|         70|    Bad|       null|Synthetic|\n",
      "| 44900-7|    44900|    Knee|              2|    44900|         70|    Bad|       open|  Natural|\n",
      "|35570-15|    35570|    Knee|              2|    35570|         79|   Good|       open|  Natural|\n",
      "| 38192-8|    38192|   Ankle|              1|    38192|         61| Normal|       open|  Natural|\n",
      "| 39956-2|    39956|    Knee|              2|    39956|         68| Normal|       open|  Natural|\n",
      "| 46119-3|    46119|    Knee|              2|    46119|         89|   Good|       open|  Natural|\n",
      "|42448-14|    42448|    Knee|              3|    42448|         78| Normal|     closed|Synthetic|\n",
      "| 43540-7|    43540|   Ankle|              4|    43540|         70| Normal|       open|  Natural|\n",
      "| 33337-2|    33337|    Foot|              4|    33337|         83|   Good|       open|  Natural|\n",
      "| 35611-7|    35611|   Ankle|              2|    35611|         68| Normal|     closed|Synthetic|\n",
      "|33474-19|    33474|    Knee|              3|    33474|         79| Normal|       open|  Natural|\n",
      "+--------+---------+--------+---------------+---------+-----------+-------+-----------+---------+\n",
      "only showing top 20 rows\n",
      "\n"
     ]
    }
   ],
   "source": [
    "play_injury.show()"
   ]
  },
  {
   "cell_type": "code",
   "execution_count": 29,
   "metadata": {},
   "outputs": [
    {
     "data": {
      "text/plain": [
       "[Row(StadiumType='closed'), Row(StadiumType='open'), Row(StadiumType='null')]"
      ]
     },
     "execution_count": 29,
     "metadata": {},
     "output_type": "execute_result"
    }
   ],
   "source": [
    "play_injury.select('StadiumType').distinct().collect()"
   ]
  },
  {
   "cell_type": "code",
   "execution_count": 30,
   "metadata": {},
   "outputs": [
    {
     "data": {
      "text/plain": [
       "[Row(Weather='none'),\n",
       " Row(Weather='Good'),\n",
       " Row(Weather='Bad'),\n",
       " Row(Weather='Normal')]"
      ]
     },
     "execution_count": 30,
     "metadata": {},
     "output_type": "execute_result"
    }
   ],
   "source": [
    "play_injury.select('Weather').distinct().collect()"
   ]
  },
  {
   "cell_type": "code",
   "execution_count": 31,
   "metadata": {},
   "outputs": [],
   "source": [
    "play_injury_panda = play_injury.toPandas()"
   ]
  },
  {
   "cell_type": "code",
   "execution_count": 32,
   "metadata": {},
   "outputs": [
    {
     "data": {
      "text/plain": [
       "<matplotlib.axes._subplots.AxesSubplot at 0x240936dcac8>"
      ]
     },
     "execution_count": 32,
     "metadata": {},
     "output_type": "execute_result"
    },
    {
     "data": {
      "image/png": "[encoded data removed]",
      "text/plain": [
       "<Figure size 432x288 with 1 Axes>"
      ]
     },
     "metadata": {
      "needs_background": "light"
     },
     "output_type": "display_data"
    }
   ],
   "source": [
    "sns.countplot(x=\"Weather\", data=play_injury_panda, hue='BodyPart')"
   ]
  },
  {
   "cell_type": "code",
   "execution_count": 33,
   "metadata": {},
   "outputs": [
    {
     "data": {
      "text/plain": [
       "<matplotlib.axes._subplots.AxesSubplot at 0x24093a4aeb8>"
      ]
     },
     "execution_count": 33,
     "metadata": {},
     "output_type": "execute_result"
    },
    {
     "data": {
      "image/png": "[encoded data removed]",
      "text/plain": [
       "<Figure size 432x288 with 1 Axes>"
      ]
     },
     "metadata": {
      "needs_background": "light"
     },
     "output_type": "display_data"
    }
   ],
   "source": [
    "sns.countplot(x=\"Weather\", data=play_injury_panda, hue='FieldType')"
   ]
  },
  {
   "cell_type": "code",
   "execution_count": 34,
   "metadata": {},
   "outputs": [
    {
     "data": {
      "text/plain": [
       "<matplotlib.axes._subplots.AxesSubplot at 0x24093af78d0>"
      ]
     },
     "execution_count": 34,
     "metadata": {},
     "output_type": "execute_result"
    },
    {
     "data": {
      "image/png": "[encoded data removed]",
      "text/plain": [
       "<Figure size 432x288 with 1 Axes>"
      ]
     },
     "metadata": {
      "needs_background": "light"
     },
     "output_type": "display_data"
    }
   ],
   "source": [
    "sns.countplot(x=\"Weather\", data=play_injury_panda, hue='BodyPart')"
   ]
  },
  {
   "cell_type": "code",
   "execution_count": 35,
   "metadata": {},
   "outputs": [
    {
     "data": {
      "text/plain": [
       "<matplotlib.axes._subplots.AxesSubplot at 0x24093adf358>"
      ]
     },
     "execution_count": 35,
     "metadata": {},
     "output_type": "execute_result"
    },
    {
     "data": {
      "image/png": "[encoded data removed]",
      "text/plain": [
       "<Figure size 432x288 with 1 Axes>"
      ]
     },
     "metadata": {
      "needs_background": "light"
     },
     "output_type": "display_data"
    }
   ],
   "source": [
    "sns.countplot(x=\"Weather\", data=play_injury_panda, hue='level of injury')"
   ]
  },
  {
   "cell_type": "code",
   "execution_count": 36,
   "metadata": {},
   "outputs": [
    {
     "data": {
      "text/plain": [
       "<matplotlib.axes._subplots.AxesSubplot at 0x24093c21550>"
      ]
     },
     "execution_count": 36,
     "metadata": {},
     "output_type": "execute_result"
    },
    {
     "data": {
      "image/png": "[encoded data removed]",
      "text/plain": [
       "<Figure size 432x288 with 1 Axes>"
      ]
     },
     "metadata": {
      "needs_background": "light"
     },
     "output_type": "display_data"
    }
   ],
   "source": [
    "sns.countplot(x=\"Weather\", data=play_injury_panda, hue='FieldType')"
   ]
  },
  {
   "cell_type": "code",
   "execution_count": 37,
   "metadata": {},
   "outputs": [],
   "source": [
    "#good_weather_panda = play_injury.filter(play_injury.Weather=='Good').toPandas()\n",
    "#normal_weather_panda = play_injury.filter(play_injury.Weather=='Normal').toPandas()"
   ]
  },
  {
   "cell_type": "code",
   "execution_count": 38,
   "metadata": {},
   "outputs": [
    {
     "data": {
      "text/plain": [
       "<matplotlib.axes._subplots.AxesSubplot at 0x24093c98c18>"
      ]
     },
     "execution_count": 38,
     "metadata": {},
     "output_type": "execute_result"
    },
    {
     "data": {
      "image/png": "[encoded data removed]",
      "text/plain": [
       "<Figure size 432x288 with 1 Axes>"
      ]
     },
     "metadata": {
      "needs_background": "light"
     },
     "output_type": "display_data"
    }
   ],
   "source": [
    "sns.countplot(x=\"StadiumType\", data=play_injury_panda, hue='level of injury')"
   ]
  },
  {
   "cell_type": "code",
   "execution_count": 39,
   "metadata": {},
   "outputs": [
    {
     "data": {
      "text/plain": [
       "<matplotlib.axes._subplots.AxesSubplot at 0x24093d20828>"
      ]
     },
     "execution_count": 39,
     "metadata": {},
     "output_type": "execute_result"
    },
    {
     "data": {
      "image/png": "[encoded data removed]",
      "text/plain": [
       "<Figure size 432x288 with 1 Axes>"
      ]
     },
     "metadata": {
      "needs_background": "light"
     },
     "output_type": "display_data"
    }
   ],
   "source": [
    "sns.countplot(x=\"StadiumType\", data=play_injury_panda, hue='Weather')"
   ]
  },
  {
   "cell_type": "code",
   "execution_count": 40,
   "metadata": {},
   "outputs": [
    {
     "data": {
      "text/plain": [
       "<matplotlib.axes._subplots.AxesSubplot at 0x24093d5d6a0>"
      ]
     },
     "execution_count": 40,
     "metadata": {},
     "output_type": "execute_result"
    },
    {
     "data": {
      "image/png": "[encoded data removed]",
      "text/plain": [
       "<Figure size 432x288 with 1 Axes>"
      ]
     },
     "metadata": {
      "needs_background": "light"
     },
     "output_type": "display_data"
    }
   ],
   "source": [
    "sns.countplot(x=\"StadiumType\", data=play_injury_panda, hue='BodyPart')"
   ]
  },
  {
   "cell_type": "code",
   "execution_count": null,
   "metadata": {
    "scrolled": true
   },
   "outputs": [],
   "source": []
  },
  {
   "cell_type": "code",
   "execution_count": null,
   "metadata": {},
   "outputs": [],
   "source": []
  },
  {
   "cell_type": "code",
   "execution_count": null,
   "metadata": {},
   "outputs": [],
   "source": []
  },
  {
   "cell_type": "code",
   "execution_count": null,
   "metadata": {},
   "outputs": [],
   "source": []
  },
  {
   "cell_type": "code",
   "execution_count": null,
   "metadata": {},
   "outputs": [],
   "source": []
  },
  {
   "cell_type": "code",
   "execution_count": null,
   "metadata": {},
   "outputs": [],
   "source": []
  }
 ],
 "metadata": {
  "kernelspec": {
   "display_name": "Python 3",
   "language": "python",
   "name": "python3"
  },
  "language_info": {
   "codemirror_mode": {
    "name": "ipython",
    "version": 3
   },
   "file_extension": ".py",
   "mimetype": "text/x-python",
   "name": "python",
   "nbconvert_exporter": "python",
   "pygments_lexer": "ipython3",
   "version": "3.7.3"
  }
 },
 "nbformat": 4,
 "nbformat_minor": 2
}
