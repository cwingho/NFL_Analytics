{
 "cells": [
  {
   "cell_type": "code",
   "execution_count": 42,
   "metadata": {},
   "outputs": [],
   "source": [
    "from pyspark import SparkContext\n",
    "from pyspark.sql import SQLContext\n",
    "import pyspark.sql.functions as f\n",
    "from pyspark.sql import SparkSession\n",
    "import sys"
   ]
  },
  {
   "cell_type": "code",
   "execution_count": 46,
   "metadata": {},
   "outputs": [],
   "source": [
    "spark = SparkSession.builder.master(\"local[*]\").appName(\"NFL\").getOrCreate()"
   ]
  },
  {
   "cell_type": "code",
   "execution_count": 60,
   "metadata": {},
   "outputs": [],
   "source": [
    "# injury_rec = sc.textFile('../in/InjuryRecord.csv')\n",
    "# play_rec = sc.textFile('../in/PlayList.csv')\n",
    "# sqlContext = SQLContext(sc)\n",
    "\n",
    "injury_rec_df = spark.read.option(\"header\",True).csv('../in/InjuryRecord.csv')\n",
    "play_rec_df = spark.read.option(\"header\",True).csv('../in/PlayList.csv')"
   ]
  },
  {
   "cell_type": "code",
   "execution_count": 61,
   "metadata": {},
   "outputs": [
    {
     "data": {
      "text/plain": [
       "[Row(PlayerKey='39873', GameID='39873-4', PlayKey='39873-4-32', BodyPart='Knee', Surface='Synthetic', DM_M1='1', DM_M7='1', DM_M28='1', DM_M42='1'),\n",
       " Row(PlayerKey='46074', GameID='46074-7', PlayKey='46074-7-26', BodyPart='Knee', Surface='Natural', DM_M1='1', DM_M7='1', DM_M28='0', DM_M42='0'),\n",
       " Row(PlayerKey='36557', GameID='36557-1', PlayKey='36557-1-70', BodyPart='Ankle', Surface='Synthetic', DM_M1='1', DM_M7='1', DM_M28='1', DM_M42='1'),\n",
       " Row(PlayerKey='46646', GameID='46646-3', PlayKey='46646-3-30', BodyPart='Ankle', Surface='Natural', DM_M1='1', DM_M7='0', DM_M28='0', DM_M42='0'),\n",
       " Row(PlayerKey='43532', GameID='43532-5', PlayKey='43532-5-69', BodyPart='Ankle', Surface='Synthetic', DM_M1='1', DM_M7='1', DM_M28='1', DM_M42='1'),\n",
       " Row(PlayerKey='41145', GameID='41145-2', PlayKey='41145-2-60', BodyPart='Knee', Surface='Natural', DM_M1='1', DM_M7='0', DM_M28='0', DM_M42='0'),\n",
       " Row(PlayerKey='46014', GameID='46014-10', PlayKey='46014-10-22', BodyPart='Ankle', Surface='Synthetic', DM_M1='1', DM_M7='1', DM_M28='1', DM_M42='1'),\n",
       " Row(PlayerKey='44860', GameID='44860-5', PlayKey='44860-5-52', BodyPart='Knee', Surface='Natural', DM_M1='1', DM_M7='1', DM_M28='0', DM_M42='0'),\n",
       " Row(PlayerKey='44806', GameID='44806-7', PlayKey='44806-7-61', BodyPart='Knee', Surface='Synthetic', DM_M1='1', DM_M7='0', DM_M28='0', DM_M42='0'),\n",
       " Row(PlayerKey='45962', GameID='45962-8', PlayKey='45962-8-40', BodyPart='Ankle', Surface='Synthetic', DM_M1='1', DM_M7='1', DM_M28='0', DM_M42='0')]"
      ]
     },
     "execution_count": 61,
     "metadata": {},
     "output_type": "execute_result"
    }
   ],
   "source": [
    "injury_rec_df.take(10)"
   ]
  },
  {
   "cell_type": "code",
   "execution_count": 62,
   "metadata": {},
   "outputs": [
    {
     "data": {
      "text/plain": [
       "[Row(PlayerKey='26624', GameID='26624-1', PlayKey='26624-1-1', RosterPosition='Quarterback', PlayerDay='1', PlayerGame='1', StadiumType='Outdoor', FieldType='Synthetic', Temperature='63', Weather='Clear and warm', PlayType='Pass', PlayerGamePlay='1', Position='QB', PositionGroup='QB'),\n",
       " Row(PlayerKey='26624', GameID='26624-1', PlayKey='26624-1-2', RosterPosition='Quarterback', PlayerDay='1', PlayerGame='1', StadiumType='Outdoor', FieldType='Synthetic', Temperature='63', Weather='Clear and warm', PlayType='Pass', PlayerGamePlay='2', Position='QB', PositionGroup='QB'),\n",
       " Row(PlayerKey='26624', GameID='26624-1', PlayKey='26624-1-3', RosterPosition='Quarterback', PlayerDay='1', PlayerGame='1', StadiumType='Outdoor', FieldType='Synthetic', Temperature='63', Weather='Clear and warm', PlayType='Rush', PlayerGamePlay='3', Position='QB', PositionGroup='QB'),\n",
       " Row(PlayerKey='26624', GameID='26624-1', PlayKey='26624-1-4', RosterPosition='Quarterback', PlayerDay='1', PlayerGame='1', StadiumType='Outdoor', FieldType='Synthetic', Temperature='63', Weather='Clear and warm', PlayType='Rush', PlayerGamePlay='4', Position='QB', PositionGroup='QB'),\n",
       " Row(PlayerKey='26624', GameID='26624-1', PlayKey='26624-1-5', RosterPosition='Quarterback', PlayerDay='1', PlayerGame='1', StadiumType='Outdoor', FieldType='Synthetic', Temperature='63', Weather='Clear and warm', PlayType='Pass', PlayerGamePlay='5', Position='QB', PositionGroup='QB'),\n",
       " Row(PlayerKey='26624', GameID='26624-1', PlayKey='26624-1-6', RosterPosition='Quarterback', PlayerDay='1', PlayerGame='1', StadiumType='Outdoor', FieldType='Synthetic', Temperature='63', Weather='Clear and warm', PlayType='Rush', PlayerGamePlay='6', Position='QB', PositionGroup='QB'),\n",
       " Row(PlayerKey='26624', GameID='26624-1', PlayKey='26624-1-7', RosterPosition='Quarterback', PlayerDay='1', PlayerGame='1', StadiumType='Outdoor', FieldType='Synthetic', Temperature='63', Weather='Clear and warm', PlayType='Pass', PlayerGamePlay='7', Position='QB', PositionGroup='QB'),\n",
       " Row(PlayerKey='26624', GameID='26624-1', PlayKey='26624-1-8', RosterPosition='Quarterback', PlayerDay='1', PlayerGame='1', StadiumType='Outdoor', FieldType='Synthetic', Temperature='63', Weather='Clear and warm', PlayType='Pass', PlayerGamePlay='8', Position='QB', PositionGroup='QB'),\n",
       " Row(PlayerKey='26624', GameID='26624-1', PlayKey='26624-1-9', RosterPosition='Quarterback', PlayerDay='1', PlayerGame='1', StadiumType='Outdoor', FieldType='Synthetic', Temperature='63', Weather='Clear and warm', PlayType='Rush', PlayerGamePlay='9', Position='QB', PositionGroup='QB'),\n",
       " Row(PlayerKey='26624', GameID='26624-1', PlayKey='26624-1-10', RosterPosition='Quarterback', PlayerDay='1', PlayerGame='1', StadiumType='Outdoor', FieldType='Synthetic', Temperature='63', Weather='Clear and warm', PlayType='Pass', PlayerGamePlay='10', Position='QB', PositionGroup='QB')]"
      ]
     },
     "execution_count": 62,
     "metadata": {},
     "output_type": "execute_result"
    }
   ],
   "source": [
    "play_rec_df.take(10)"
   ]
  },
  {
   "cell_type": "code",
   "execution_count": 16,
   "metadata": {},
   "outputs": [],
   "source": [
    "# remove header, split str to list\n",
    "# injury_rec = injury_rec.filter(lambda x: 'PlayerKey' not in x).map(lambda x: x.split(','))\n",
    "# play_rec = play_rec.filter(lambda x: 'PlayerKey' not in x).map(lambda x: x.split(','))"
   ]
  },
  {
   "cell_type": "code",
   "execution_count": 23,
   "metadata": {},
   "outputs": [],
   "source": [
    "# rdd->df\n",
    "# injury_rec_df = injury_rec.toDF(['PlayerKey','GameID','PlayKey','BodyPart','Surface','DM_M1','DM_M7','DM_M28','DM_M42'])\n",
    "# play_rec_df = play_rec.toDF(['_PlayberKey','_GameID','_PlayKey','RosterPosition','PlayerDay','PlayerGame','StadiumType','FieldType','Temperature','Weather','PlayType','PlayerGamePlay','Position','PositionGroup']"
   ]
  },
  {
   "cell_type": "code",
   "execution_count": null,
   "metadata": {},
   "outputs": [],
   "source": []
  },
  {
   "cell_type": "code",
   "execution_count": 72,
   "metadata": {},
   "outputs": [],
   "source": [
    "# join table\n",
    "injury_play_rec_df = injury_rec_df.join(play_rec_df, injury_rec_df.PlayKey == play_rec_df.PlayKey,'left')"
   ]
  },
  {
   "cell_type": "code",
   "execution_count": 73,
   "metadata": {},
   "outputs": [
    {
     "name": "stdout",
     "output_type": "stream",
     "text": [
      "+---------+--------+-----------+--------+---------+-----+-----+------+------+---------+--------+-----------+-----------------+---------+----------+-----------------+---------+-----------+--------------+--------+--------------+--------+-------------+\n",
      "|PlayerKey|  GameID|    PlayKey|BodyPart|  Surface|DM_M1|DM_M7|DM_M28|DM_M42|PlayerKey|  GameID|    PlayKey|   RosterPosition|PlayerDay|PlayerGame|      StadiumType|FieldType|Temperature|       Weather|PlayType|PlayerGamePlay|Position|PositionGroup|\n",
      "+---------+--------+-----------+--------+---------+-----+-----+------+------+---------+--------+-----------+-----------------+---------+----------+-----------------+---------+-----------+--------------+--------+--------------+--------+-------------+\n",
      "|    44860| 44860-5| 44860-5-52|    Knee|  Natural|    1|    1|     0|     0|    44860| 44860-5| 44860-5-52|       Linebacker|       29|         5|          Outdoor|  Natural|         67|        Cloudy|    Rush|            52|     OLB|           LB|\n",
      "|    39873| 39873-4| 39873-4-32|    Knee|Synthetic|    1|    1|     1|     1|    39873| 39873-4| 39873-4-32|       Linebacker|       29|         4|          Indoors|Synthetic|         84|        Cloudy|    Punt|            32|     OLB|           LB|\n",
      "|    36557| 36557-1| 36557-1-70|   Ankle|Synthetic|    1|    1|     1|     1|    36557| 36557-1| 36557-1-70|           Safety|        1|         1|          Outdoor|Synthetic|         63|Clear and warm|    Pass|            70|      SS|           DB|\n",
      "|    44492| 44492-3| 44492-3-23|   Ankle|  Natural|    1|    1|     1|     1|    44492| 44492-3| 44492-3-23|     Running Back|       15|         3|         Outddors|  Natural|         88|         Sunny|    Rush|            23|      RB|           RB|\n",
      "|    46587| 46587-2| 46587-2-13|    Knee|Synthetic|    1|    1|     1|     1|    46587| 46587-2| 46587-2-13|    Wide Receiver|        8|         2|Retr. Roof-Closed|Synthetic|         68|        Cloudy| Kickoff|            13|      WR|           WR|\n",
      "|    44806| 44806-7| 44806-7-61|    Knee|Synthetic|    1|    0|     0|     0|    44806| 44806-7| 44806-7-61|       Linebacker|       43|         7|           Indoor|Synthetic|       -999|        Indoor|    Rush|            61|     ILB|           LB|\n",
      "|    46331| 46331-4| 46331-4-44|   Ankle|Synthetic|    1|    1|     1|     1|    46331| 46331-4| 46331-4-44|           Safety|       22|         4|          Outdoor|Synthetic|         61|         Sunny|    Pass|            44|      SS|           DB|\n",
      "|    43532| 43532-5| 43532-5-69|   Ankle|Synthetic|    1|    1|     1|     1|    43532| 43532-5| 43532-5-69|    Wide Receiver|       32|         5| Retractable Roof|Synthetic|         89| Partly Cloudy| Kickoff|            69|      WR|           WR|\n",
      "|    41145| 41145-2| 41145-2-60|    Knee|  Natural|    1|    0|     0|     0|    41145| 41145-2| 41145-2-60|           Safety|       11|         2|          Outdoor|  Natural|         89|         Sunny|    Pass|            60|      SS|           DB|\n",
      "|    43505| 43505-2| 43505-2-49|    Foot|  Natural|    1|    1|     1|     1|    43505| 43505-2| 43505-2-49|Offensive Lineman|       11|         2|          Outdoor|  Natural|         68|        Cloudy|    Pass|            49|       C|           OL|\n",
      "|    36621|36621-13|36621-13-58|    Foot|  Natural|    1|    1|     1|     1|    36621|36621-13|36621-13-58|Offensive Lineman|       92|        13|             Dome|  Natural|         79|          null|    Rush|            58|       T|           OL|\n",
      "|    46646| 46646-3| 46646-3-30|   Ankle|  Natural|    1|    0|     0|     0|    46646| 46646-3| 46646-3-30|       Linebacker|       15|         3|          Outdoor|  Natural|         80|        Cloudy|    Punt|            30|      LB|           LB|\n",
      "|    46119| 46119-3| 46119-3-16|    Knee|  Natural|    1|    1|     0|     0|    46119| 46119-3| 46119-3-16|       Linebacker|       15|         3|          Outdoor|  Natural|         89|         Sunny|    Punt|            16|     OLB|           LB|\n",
      "|    45962| 45962-8| 45962-8-40|   Ankle|Synthetic|    1|    1|     0|     0|    45962| 45962-8| 45962-8-40|    Wide Receiver|       54|         8|          Outdoor|Synthetic|         68|         Clear|    Pass|            40|      WR|           WR|\n",
      "|    41094| 41094-1| 41094-1-55|    Knee|  Natural|    1|    1|     1|     1|    41094| 41094-1| 41094-1-55|           Safety|        1|         1|         Outdoors|  Natural|         72|         Sunny|    Pass|            55|      SS|           DB|\n",
      "|    45966| 45966-4| 45966-4-27|    Knee|Synthetic|    1|    1|     1|     1|    45966| 45966-4| 45966-4-27|     Running Back|       21|         4|           Indoor|Synthetic|       -999|        Indoor|    Rush|            27|      RB|           RB|\n",
      "|    39656| 39656-2| 39656-2-38|    Knee|Synthetic|    1|    1|     0|     0|    39656| 39656-2| 39656-2-38|    Wide Receiver|        7|         2|           Indoor|Synthetic|       -999|        Indoor|    Pass|            38|      WR|           WR|\n",
      "|    46014|46014-10|46014-10-22|   Ankle|Synthetic|    1|    1|     1|     1|    46014|46014-10|46014-10-22|     Running Back|       71|        10| Retractable Roof|Synthetic|         60|         Sunny|    Rush|            22|      RB|           RB|\n",
      "|    46074| 46074-7| 46074-7-26|    Knee|  Natural|    1|    1|     0|     0|    46074| 46074-7| 46074-7-26|       Linebacker|       50|         7|             Open|  Natural|         76| Partly Cloudy|    Punt|            26|     OLB|           LB|\n",
      "|    38364| 38364-5| 38364-5-23|    Foot|Synthetic|    1|    1|     1|     1|    38364| 38364-5| 38364-5-23|    Wide Receiver|       29|         5|             null|Synthetic|         76|        Cloudy| Kickoff|            23|      WR|           WR|\n",
      "+---------+--------+-----------+--------+---------+-----+-----+------+------+---------+--------+-----------+-----------------+---------+----------+-----------------+---------+-----------+--------------+--------+--------------+--------+-------------+\n",
      "only showing top 20 rows\n",
      "\n"
     ]
    }
   ],
   "source": [
    "injury_play_rec_df.show()"
   ]
  },
  {
   "cell_type": "code",
   "execution_count": 77,
   "metadata": {},
   "outputs": [
    {
     "name": "stdout",
     "output_type": "stream",
     "text": [
      "No. of injury record:  105\n"
     ]
    }
   ],
   "source": [
    "cnt = injury_play_rec_df.count()\n",
    "print('No. of injury record: ',cnt)"
   ]
  },
  {
   "cell_type": "code",
   "execution_count": 84,
   "metadata": {},
   "outputs": [
    {
     "name": "stdout",
     "output_type": "stream",
     "text": [
      "[Row(Position='OLB', count=12), Row(Position=None, count=28), Row(Position='T', count=2), Row(Position='ILB', count=3), Row(Position='DB', count=1), Row(Position='FS', count=5), Row(Position='LB', count=2), Row(Position='MLB', count=4), Row(Position='RB', count=6), Row(Position='DE', count=5), Row(Position='C', count=4), Row(Position='TE', count=2), Row(Position='DT', count=2), Row(Position='WR', count=16), Row(Position='CB', count=8), Row(Position='SS', count=5)]\n"
     ]
    }
   ],
   "source": [
    "# the position of the injuried player\n",
    "injury_pos_result = injury_play_rec_df.groupBy(injury_play_rec_df.Position).count()\n",
    "injury_pos_result = injury_pos_result.collect()\n",
    "print(injury_pos_result)"
   ]
  },
  {
   "cell_type": "code",
   "execution_count": 82,
   "metadata": {},
   "outputs": [
    {
     "name": "stdout",
     "output_type": "stream",
     "text": [
      "[Row(PositionGroup='OL', count=6), Row(PositionGroup=None, count=28), Row(PositionGroup='DB', count=19), Row(PositionGroup='LB', count=21), Row(PositionGroup='DL', count=7), Row(PositionGroup='RB', count=6), Row(PositionGroup='TE', count=2), Row(PositionGroup='WR', count=16)]\n"
     ]
    }
   ],
   "source": [
    "# the position group of the injuried player\n",
    "injury_pos_gp_result = injury_play_rec_df.groupBy(injury_play_rec_df.PositionGroup).count()\n",
    "injury_pos_gp_result = injury_pos_gp_result.collect()\n",
    "print(injury_pos_gp_result)"
   ]
  },
  {
   "cell_type": "code",
   "execution_count": 85,
   "metadata": {},
   "outputs": [
    {
     "name": "stdout",
     "output_type": "stream",
     "text": [
      "[Row(RosterPosition='Linebacker', count=21), Row(RosterPosition=None, count=28), Row(RosterPosition='Defensive Lineman', count=7), Row(RosterPosition='Offensive Lineman', count=6), Row(RosterPosition='Running Back', count=6), Row(RosterPosition='Safety', count=11), Row(RosterPosition='Wide Receiver', count=16), Row(RosterPosition='Cornerback', count=8), Row(RosterPosition='Tight End', count=2)]\n"
     ]
    }
   ],
   "source": [
    "# the position group of the injuried player\n",
    "injury_roster_pos_result = injury_play_rec_df.groupBy(injury_play_rec_df.RosterPosition).count()\n",
    "injury_roster_pos_result = injury_roster_pos_result.collect()\n",
    "print(injury_roster_pos_result)"
   ]
  },
  {
   "cell_type": "code",
   "execution_count": 93,
   "metadata": {},
   "outputs": [],
   "source": [
    "def writeResult(res, name):\n",
    "    with open('../out/{}.txt'.format(name),'w') as f:\n",
    "        for line in res:\n",
    "            f.write('{} {} {}\\n'.format(line[0],line[1],line[2]))"
   ]
  },
  {
   "cell_type": "code",
   "execution_count": 91,
   "metadata": {},
   "outputs": [],
   "source": [
    "writeResult(injury_pos_result,'injury_pos_result')\n",
    "writeResult(injury_pos_gp_result,'injury_pos_gp_result')\n",
    "writeResult(injury_roster_pos_result,'injury_roster_pos_result')"
   ]
  },
  {
   "cell_type": "code",
   "execution_count": 92,
   "metadata": {},
   "outputs": [
    {
     "name": "stdout",
     "output_type": "stream",
     "text": [
      "[Row(Position='TE', BodyPart='Foot', count=1), Row(Position='T', BodyPart='Foot', count=1), Row(Position='DT', BodyPart='Knee', count=2), Row(Position='SS', BodyPart='Knee', count=3), Row(Position='WR', BodyPart='Knee', count=7), Row(Position='RB', BodyPart='Knee', count=4), Row(Position='MLB', BodyPart='Knee', count=1), Row(Position='CB', BodyPart='Knee', count=2), Row(Position='DE', BodyPart='Knee', count=2), Row(Position='CB', BodyPart='Ankle', count=5), Row(Position='DB', BodyPart='Knee', count=1), Row(Position='DE', BodyPart='Ankle', count=2), Row(Position='MLB', BodyPart='Ankle', count=3), Row(Position='WR', BodyPart='Ankle', count=8), Row(Position='FS', BodyPart='Ankle', count=3), Row(Position='CB', BodyPart='Foot', count=1), Row(Position=None, BodyPart='Foot', count=1), Row(Position='TE', BodyPart='Knee', count=1), Row(Position='C', BodyPart='Ankle', count=3), Row(Position=None, BodyPart='Knee', count=12), Row(Position='ILB', BodyPart='Ankle', count=1), Row(Position='RB', BodyPart='Ankle', count=2), Row(Position='ILB', BodyPart='Knee', count=2), Row(Position='C', BodyPart='Foot', count=1), Row(Position='T', BodyPart='Knee', count=1), Row(Position='FS', BodyPart='Knee', count=2), Row(Position='WR', BodyPart='Foot', count=1), Row(Position='SS', BodyPart='Ankle', count=2), Row(Position='OLB', BodyPart='Knee', count=8), Row(Position=None, BodyPart='Toes', count=7), Row(Position=None, BodyPart='Ankle', count=7), Row(Position='OLB', BodyPart='Ankle', count=4), Row(Position=None, BodyPart='Heel', count=1), Row(Position='DE', BodyPart='Foot', count=1), Row(Position='LB', BodyPart='Ankle', count=2)]\n"
     ]
    }
   ],
   "source": [
    "# the position and body part of the injuried player\n",
    "injury_pos_body_result = injury_play_rec_df.groupBy([injury_play_rec_df.Position,injury_play_rec_df.BodyPart]).count()\n",
    "injury_pos_body_result = injury_pos_body_result.collect()\n",
    "print(injury_pos_body_result)"
   ]
  },
  {
   "cell_type": "code",
   "execution_count": 94,
   "metadata": {},
   "outputs": [],
   "source": [
    "writeResult(injury_pos_body_result,'injury_pos_body_result')"
   ]
  },
  {
   "cell_type": "code",
   "execution_count": null,
   "metadata": {},
   "outputs": [],
   "source": []
  }
 ],
 "metadata": {
  "kernelspec": {
   "display_name": "Python 3",
   "language": "python",
   "name": "python3"
  },
  "language_info": {
   "codemirror_mode": {
    "name": "ipython",
    "version": 3
   },
   "file_extension": ".py",
   "mimetype": "text/x-python",
   "name": "python",
   "nbconvert_exporter": "python",
   "pygments_lexer": "ipython3",
   "version": "3.7.4"
  }
 },
 "nbformat": 4,
 "nbformat_minor": 4
}
