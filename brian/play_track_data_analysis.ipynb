{
 "cells": [
  {
   "cell_type": "code",
   "execution_count": 1,
   "metadata": {},
   "outputs": [],
   "source": [
    "from pyspark import SparkContext\n",
    "from pyspark.sql import SQLContext\n",
    "from pyspark.sql.types import FloatType\n",
    "import pyspark.sql.functions as f\n",
    "from pyspark.sql import Row\n",
    "from pyspark import StorageLevel\n",
    "from pyspark.sql import SparkSession\n",
    "import sys\n",
    "import numpy as np\n",
    "import matplotlib.pylab as plt"
   ]
  },
  {
   "cell_type": "code",
   "execution_count": 2,
   "metadata": {},
   "outputs": [],
   "source": [
    "# sc = SparkContext(\"local[*]\", \"NFL\")\n",
    "# rdd = sc.textFile('../in/PlayerTrackData.csv')\n",
    "\n",
    "# remove header\n",
    "# rdd = rdd.filter(lambda x: 'PlayKey' not in x)\n",
    "\n",
    "# split the col\n",
    "# rdd = rdd.map(lambda x: x.split(','))\n",
    "\n",
    "# remove row if missing some value\n",
    "# rdd = rdd.filter(lambda x: x[5] != '' and x[7] != '')\n",
    "\n",
    "# convert to dataframe object\n",
    "# sqlContext = SQLContext(sc)\n",
    "# df = rdd.toDF(['PlayKey','time','event','x','y','dir','dis','o','s'])\n",
    "\n",
    "# if df want to use rdd function\n",
    "# just df.rdd.xxx()"
   ]
  },
  {
   "cell_type": "code",
   "execution_count": 2,
   "metadata": {},
   "outputs": [],
   "source": [
    "spark = SparkSession.builder.master(\"local[*]\").appName(\"NFL\").getOrCreate()\n",
    "tracks = spark.read.option(\"header\",True).csv('../in/PlayerTrackData.csv')"
   ]
  },
  {
   "cell_type": "code",
   "execution_count": 3,
   "metadata": {},
   "outputs": [
    {
     "name": "stdout",
     "output_type": "stream",
     "text": [
      "root\n",
      " |-- PlayKey: string (nullable = true)\n",
      " |-- time: string (nullable = true)\n",
      " |-- event: string (nullable = true)\n",
      " |-- x: string (nullable = true)\n",
      " |-- y: string (nullable = true)\n",
      " |-- dir: string (nullable = true)\n",
      " |-- dis: string (nullable = true)\n",
      " |-- o: string (nullable = true)\n",
      " |-- s: string (nullable = true)\n",
      "\n"
     ]
    }
   ],
   "source": [
    "# show header\n",
    "# rdd.take(1)\n",
    "# show schema\n",
    "tracks.printSchema()"
   ]
  },
  {
   "cell_type": "code",
   "execution_count": 4,
   "metadata": {},
   "outputs": [],
   "source": [
    "# convert the defautl datatype\n",
    "tracks = tracks.withColumn(\"time\", tracks.time.cast('float').alias(\"time\"))\n",
    "tracks = tracks.withColumn(\"x\", tracks.x.cast('float').alias(\"x\"))\n",
    "tracks = tracks.withColumn(\"y\", tracks.y.cast('float').alias(\"y\"))\n",
    "tracks = tracks.withColumn(\"dir\", tracks.dir.cast('float').alias(\"dir\"))\n",
    "tracks = tracks.withColumn(\"o\", tracks.o.cast('float').alias(\"o\"))\n",
    "tracks = tracks.withColumn(\"s\", tracks.s.cast('float').alias(\"s\"))\n",
    "tracks = tracks.withColumn(\"x\", tracks.x.cast('float').alias(\"x\"))"
   ]
  },
  {
   "cell_type": "code",
   "execution_count": 5,
   "metadata": {},
   "outputs": [
    {
     "name": "stdout",
     "output_type": "stream",
     "text": [
      "root\n",
      " |-- PlayKey: string (nullable = true)\n",
      " |-- time: float (nullable = true)\n",
      " |-- event: string (nullable = true)\n",
      " |-- x: float (nullable = true)\n",
      " |-- y: float (nullable = true)\n",
      " |-- dir: float (nullable = true)\n",
      " |-- dis: string (nullable = true)\n",
      " |-- o: float (nullable = true)\n",
      " |-- s: float (nullable = true)\n",
      "\n"
     ]
    }
   ],
   "source": [
    "tracks.printSchema()"
   ]
  },
  {
   "cell_type": "code",
   "execution_count": 6,
   "metadata": {},
   "outputs": [],
   "source": [
    "# get all ball_snap play record\n",
    "ball_snap_tracks = tracks.where(\"event == 'ball_snap'\")\n",
    "\n",
    "# rename x,y,time for ball snap\n",
    "drop_list = ['dir','dis','o','event','s']\n",
    "ball_snap_tracks = ball_snap_tracks.withColumnRenamed('x','snap_x')\\\n",
    ".withColumnRenamed('y','snap_y')\\\n",
    ".withColumnRenamed('time','snap_time').drop(*drop_list)\n",
    "\n",
    "# join two table (orign tracks and tracks only contained ball_snap event)\n",
    "tracks = tracks.join(ball_snap_tracks, ['PlayKey'], \"left_outer\")\n",
    "\n",
    "# remove any data for a play 0.1 second before snap\n",
    "tracks = tracks.where('time >= (snap_time - 0.1)')\n"
   ]
  },
  {
   "cell_type": "code",
   "execution_count": 7,
   "metadata": {},
   "outputs": [],
   "source": [
    "# get the last event of each play key\n",
    "last_event_tracks = tracks.where('event is not null').groupBy('PlayKey').agg(f.max('time').alias('time'))\n",
    "\n",
    "# join last event tracks and tracks\n",
    "# only get the playkey, time, and event field\n",
    "last_event_tracks = last_event_tracks.join(tracks, ['PlayKey','time'], \"inner\")[['PlayKey','time','event']]\n",
    "\n",
    "# rename the column\n",
    "last_event_tracks = last_event_tracks.withColumnRenamed('time','last_time').withColumnRenamed('event','last_event')\n",
    "\n",
    "# park the result of last event tracks to the tracks\n",
    "tracks = tracks.join(last_event_tracks, ['PlayKey'], 'left_outer')\n",
    "\n",
    "# Remove any data for a play 0.1 second after last event\n",
    "tracks = tracks.where('time <= (last_time + 0.1)')"
   ]
  },
  {
   "cell_type": "code",
   "execution_count": 8,
   "metadata": {},
   "outputs": [
    {
     "name": "stdout",
     "output_type": "stream",
     "text": [
      "root\n",
      " |-- PlayKey: string (nullable = true)\n",
      " |-- time: float (nullable = true)\n",
      " |-- event: string (nullable = true)\n",
      " |-- x: float (nullable = true)\n",
      " |-- y: float (nullable = true)\n",
      " |-- dir: float (nullable = true)\n",
      " |-- dis: string (nullable = true)\n",
      " |-- o: float (nullable = true)\n",
      " |-- s: float (nullable = true)\n",
      " |-- snap_time: float (nullable = true)\n",
      " |-- snap_x: float (nullable = true)\n",
      " |-- snap_y: float (nullable = true)\n",
      " |-- last_time: float (nullable = true)\n",
      " |-- last_event: string (nullable = true)\n",
      "\n"
     ]
    }
   ],
   "source": [
    "tracks.printSchema()"
   ]
  },
  {
   "cell_type": "code",
   "execution_count": 9,
   "metadata": {},
   "outputs": [
    {
     "data": {
      "text/plain": [
       "DataFrame[PlayKey: string, time: float, event: string, x: float, y: float, dir: float, dis: string, o: float, s: float, snap_time: float, snap_x: float, snap_y: float, last_time: float, last_event: string]"
      ]
     },
     "execution_count": 9,
     "metadata": {},
     "output_type": "execute_result"
    }
   ],
   "source": [
    "# save tracks into memory\n",
    "# only record the time from the start of first event-1 to the end of last event+1\n",
    "tracks.persist(StorageLevel.MEMORY_ONLY)"
   ]
  },
  {
   "cell_type": "code",
   "execution_count": 10,
   "metadata": {},
   "outputs": [],
   "source": [
    "pd = tracks.where('event == \"ball_snap\"').toPandas()"
   ]
  },
  {
   "cell_type": "code",
   "execution_count": 21,
   "metadata": {},
   "outputs": [
    {
     "data": {
      "image/png": "[encoded data removed]",
      "text/plain": [
       "<Figure size 1080x360 with 1 Axes>"
      ]
     },
     "metadata": {
      "needs_background": "light"
     },
     "output_type": "display_data"
    }
   ],
   "source": [
    "pd['o'].plot(kind='hist',\n",
    "             bins=100,\n",
    "             figsize=(15, 5),\n",
    "             density=True,\n",
    "             title='Distribution of Orientation when snapping balls')\n",
    "plt.savefig('../out/o_hist.png')"
   ]
  },
  {
   "cell_type": "code",
   "execution_count": 11,
   "metadata": {},
   "outputs": [],
   "source": [
    "# tracks.show()\n",
    "# print(tracks.count())"
   ]
  },
  {
   "cell_type": "code",
   "execution_count": null,
   "metadata": {},
   "outputs": [],
   "source": []
  },
  {
   "cell_type": "code",
   "execution_count": 10,
   "metadata": {},
   "outputs": [],
   "source": [
    "#load play list data\n",
    "playlist = spark.read.option(\"header\",True).csv('../in/PlayList.csv')\n",
    "\n",
    "# convert player day to integer\n",
    "playlist = playlist.withColumn(\"PlayerDay\", playlist.PlayerDay.cast('int').alias(\"PlayerDay\"))"
   ]
  },
  {
   "cell_type": "code",
   "execution_count": 11,
   "metadata": {},
   "outputs": [
    {
     "name": "stdout",
     "output_type": "stream",
     "text": [
      "root\n",
      " |-- PlayerKey: string (nullable = true)\n",
      " |-- GameID: string (nullable = true)\n",
      " |-- PlayKey: string (nullable = true)\n",
      " |-- RosterPosition: string (nullable = true)\n",
      " |-- PlayerDay: integer (nullable = true)\n",
      " |-- PlayerGame: string (nullable = true)\n",
      " |-- StadiumType: string (nullable = true)\n",
      " |-- FieldType: string (nullable = true)\n",
      " |-- Temperature: string (nullable = true)\n",
      " |-- Weather: string (nullable = true)\n",
      " |-- PlayType: string (nullable = true)\n",
      " |-- PlayerGamePlay: string (nullable = true)\n",
      " |-- Position: string (nullable = true)\n",
      " |-- PositionGroup: string (nullable = true)\n",
      "\n"
     ]
    }
   ],
   "source": [
    "playlist.printSchema()"
   ]
  },
  {
   "cell_type": "code",
   "execution_count": 12,
   "metadata": {},
   "outputs": [],
   "source": [
    "# get season 2 distinct player key\n",
    "tough_playerkey = playlist.select('PlayerKey').where('PlayerDay >= 350').distinct()\n",
    "tough_playerkey = tough_playerkey.rdd.map(lambda x:x.PlayerKey).collect()"
   ]
  },
  {
   "cell_type": "code",
   "execution_count": 13,
   "metadata": {},
   "outputs": [],
   "source": [
    "# only select the player who play in season 2, dont know is he play season 1\n",
    "tough_playlist = playlist[playlist.PlayerKey.isin(tough_playerkey)]\n",
    "\n",
    "# add season to df, if less than 350, season 1 else season 2\n",
    "tough_playlist = tough_playlist.withColumn('season', f.when(f.col(\"PlayerDay\") < 350,1).otherwise(2))"
   ]
  },
  {
   "cell_type": "code",
   "execution_count": 14,
   "metadata": {},
   "outputs": [],
   "source": [
    "games = tough_playlist[['GameID','season']].distinct()"
   ]
  },
  {
   "cell_type": "code",
   "execution_count": 15,
   "metadata": {},
   "outputs": [
    {
     "data": {
      "text/plain": [
       "DataFrame[GameID: string, PlayKey: string, time: float, event: string, x: float, y: float, dir: float, dis: string, o: float, s: float, snap_time: float, snap_x: float, snap_y: float, last_time: float, last_event: string, season: int]"
      ]
     },
     "execution_count": 15,
     "metadata": {},
     "output_type": "execute_result"
    }
   ],
   "source": [
    "_tracks = tracks.join(tough_playlist[['PlayKey','GameID']],['PlayKey'],'left_outer')\n",
    "_tracks = _tracks.join(games,['GameID'],'left_outer')\n",
    "_tracks.persist(StorageLevel.MEMORY_ONLY)"
   ]
  },
  {
   "cell_type": "code",
   "execution_count": null,
   "metadata": {},
   "outputs": [],
   "source": []
  },
  {
   "cell_type": "code",
   "execution_count": 16,
   "metadata": {},
   "outputs": [],
   "source": [
    "# Fix orientation\n",
    "# Assume other seasons based on direction at snap - if orientation at snap is outside normal range, shift.\n",
    "s1 = _tracks.select('PlayKey').where('event == \"ball_snap\" and o < 50 and season is null').distinct().collect()\n",
    "s2 = _tracks.select('PlayKey').where('event == \"ball_snap\" and o > 325 and season is null').distinct().collect()\n",
    "s3 = _tracks.select('PlayKey').where('event == \"ball_snap\" and o < 225 and o > 125 and season is null').distinct().collect()\n",
    "\n",
    "def get(x, field='PlayKey'):\n",
    "    return [i[field] for i in x]\n",
    "\n",
    "abnormal_playkey = get(s1)+get(s2)+get(s3)\n",
    "abnormal_playkey = list(set(abnormal_playkey))"
   ]
  },
  {
   "cell_type": "code",
   "execution_count": 17,
   "metadata": {},
   "outputs": [],
   "source": [
    "# all abnormal orientation record will be treated as session 1\n",
    "tracks = _tracks.withColumn('season', \n",
    "                            f.when(_tracks.season.isNull()\n",
    "                                   & _tracks.PlayKey.isin(abnormal_playkey),1).otherwise(f.col('season')))\n",
    "\n",
    "# all normal orientation record will be treated as session 2\n",
    "tracks = tracks.withColumn('season', \n",
    "                           f.when(tracks.season.isNull()\n",
    "                                  & ~tracks.PlayKey.isin(abnormal_playkey),2).otherwise(f.col('season')))\n",
    "# tracks.persist(StorageLevel.MEMORY_ONLY)"
   ]
  },
  {
   "cell_type": "code",
   "execution_count": 18,
   "metadata": {},
   "outputs": [],
   "source": [
    "# Change orientation for season 1\n",
    "clean_tracks = tracks.withColumn('o',f.when(f.col('season')== 1, (f.col('o')+90)%360).otherwise(f.col('o')))\n",
    "# clean_tracks.persist(StorageLevel.MEMORY_ONLY)"
   ]
  },
  {
   "cell_type": "code",
   "execution_count": 19,
   "metadata": {},
   "outputs": [],
   "source": [
    "# join clean track and playlist\n",
    "tracks = clean_tracks.join(playlist[['PlayKey','PlayerKey','RosterPosition','PositionGroup','FieldType','PlayType']], ['PlayKey'], 'inner')"
   ]
  },
  {
   "cell_type": "code",
   "execution_count": 20,
   "metadata": {},
   "outputs": [
    {
     "data": {
      "text/plain": [
       "DataFrame[PlayKey: string, GameID: string, time: float, event: string, x: float, y: float, dir: float, dis: string, o: float, s: float, snap_time: float, snap_x: float, snap_y: float, last_time: float, last_event: string, season: int, PlayerKey: string, RosterPosition: string, PositionGroup: string, FieldType: string, PlayType: string]"
      ]
     },
     "execution_count": 20,
     "metadata": {},
     "output_type": "execute_result"
    }
   ],
   "source": [
    "tracks.persist(StorageLevel.MEMORY_ONLY)"
   ]
  },
  {
   "cell_type": "code",
   "execution_count": 21,
   "metadata": {},
   "outputs": [],
   "source": [
    "pd = tracks.where('event == \"ball_snap\"').toPandas()"
   ]
  },
  {
   "cell_type": "code",
   "execution_count": 22,
   "metadata": {},
   "outputs": [
    {
     "data": {
      "image/png": "[encoded data removed]",
      "text/plain": [
       "<Figure size 1080x360 with 1 Axes>"
      ]
     },
     "metadata": {
      "needs_background": "light"
     },
     "output_type": "display_data"
    }
   ],
   "source": [
    "pd['o'].plot(kind='hist',\n",
    "             bins=100,\n",
    "             figsize=(15, 5),\n",
    "             density=True,\n",
    "             title='Distribution of Orientation when snapping balls (after adjustment)')\n",
    "plt.savefig('../out/adjust_o_hist.png')"
   ]
  },
  {
   "cell_type": "code",
   "execution_count": 36,
   "metadata": {},
   "outputs": [
    {
     "data": {
      "text/html": [
       "<div>\n",
       "<style scoped>\n",
       "    .dataframe tbody tr th:only-of-type {\n",
       "        vertical-align: middle;\n",
       "    }\n",
       "\n",
       "    .dataframe tbody tr th {\n",
       "        vertical-align: top;\n",
       "    }\n",
       "\n",
       "    .dataframe thead th {\n",
       "        text-align: right;\n",
       "    }\n",
       "</style>\n",
       "<table border=\"1\" class=\"dataframe\">\n",
       "  <thead>\n",
       "    <tr style=\"text-align: right;\">\n",
       "      <th></th>\n",
       "      <th>PlayKey</th>\n",
       "      <th>GameID</th>\n",
       "      <th>time</th>\n",
       "      <th>event</th>\n",
       "      <th>x</th>\n",
       "      <th>y</th>\n",
       "      <th>dir</th>\n",
       "      <th>dis</th>\n",
       "      <th>o</th>\n",
       "      <th>s</th>\n",
       "      <th>...</th>\n",
       "      <th>snap_x</th>\n",
       "      <th>snap_y</th>\n",
       "      <th>last_time</th>\n",
       "      <th>last_event</th>\n",
       "      <th>season</th>\n",
       "      <th>PlayerKey</th>\n",
       "      <th>RosterPosition</th>\n",
       "      <th>PositionGroup</th>\n",
       "      <th>FieldType</th>\n",
       "      <th>PlayType</th>\n",
       "    </tr>\n",
       "  </thead>\n",
       "  <tbody>\n",
       "    <tr>\n",
       "      <th>11</th>\n",
       "      <td>27363-10-71</td>\n",
       "      <td>27363-10</td>\n",
       "      <td>16.0</td>\n",
       "      <td>ball_snap</td>\n",
       "      <td>67.510002</td>\n",
       "      <td>29.629999</td>\n",
       "      <td>267.700012</td>\n",
       "      <td>0.0</td>\n",
       "      <td>447.329987</td>\n",
       "      <td>0.65</td>\n",
       "      <td>...</td>\n",
       "      <td>67.510002</td>\n",
       "      <td>29.629999</td>\n",
       "      <td>23.900000</td>\n",
       "      <td>tackle</td>\n",
       "      <td>1</td>\n",
       "      <td>27363</td>\n",
       "      <td>Quarterback</td>\n",
       "      <td>QB</td>\n",
       "      <td>Synthetic</td>\n",
       "      <td>Rush</td>\n",
       "    </tr>\n",
       "    <tr>\n",
       "      <th>27</th>\n",
       "      <td>30953-4-13</td>\n",
       "      <td>30953-4</td>\n",
       "      <td>14.3</td>\n",
       "      <td>ball_snap</td>\n",
       "      <td>35.919998</td>\n",
       "      <td>27.650000</td>\n",
       "      <td>55.709999</td>\n",
       "      <td>0.11</td>\n",
       "      <td>447.100006</td>\n",
       "      <td>1.42</td>\n",
       "      <td>...</td>\n",
       "      <td>35.919998</td>\n",
       "      <td>27.650000</td>\n",
       "      <td>18.700001</td>\n",
       "      <td>tackle</td>\n",
       "      <td>1</td>\n",
       "      <td>30953</td>\n",
       "      <td>Linebacker</td>\n",
       "      <td>LB</td>\n",
       "      <td>Natural</td>\n",
       "      <td>Rush</td>\n",
       "    </tr>\n",
       "    <tr>\n",
       "      <th>34</th>\n",
       "      <td>31266-1-5</td>\n",
       "      <td>31266-1</td>\n",
       "      <td>16.0</td>\n",
       "      <td>ball_snap</td>\n",
       "      <td>25.070000</td>\n",
       "      <td>35.529999</td>\n",
       "      <td>149.619995</td>\n",
       "      <td>0.0</td>\n",
       "      <td>371.660004</td>\n",
       "      <td>0.29</td>\n",
       "      <td>...</td>\n",
       "      <td>25.070000</td>\n",
       "      <td>35.529999</td>\n",
       "      <td>20.600000</td>\n",
       "      <td>tackle</td>\n",
       "      <td>1</td>\n",
       "      <td>31266</td>\n",
       "      <td>Defensive Lineman</td>\n",
       "      <td>DL</td>\n",
       "      <td>Natural</td>\n",
       "      <td>Rush</td>\n",
       "    </tr>\n",
       "    <tr>\n",
       "      <th>41</th>\n",
       "      <td>31933-3-49</td>\n",
       "      <td>31933-3</td>\n",
       "      <td>19.6</td>\n",
       "      <td>ball_snap</td>\n",
       "      <td>79.269997</td>\n",
       "      <td>24.860001</td>\n",
       "      <td>33.799999</td>\n",
       "      <td>0.0</td>\n",
       "      <td>448.980011</td>\n",
       "      <td>0.10</td>\n",
       "      <td>...</td>\n",
       "      <td>79.269997</td>\n",
       "      <td>24.860001</td>\n",
       "      <td>26.900000</td>\n",
       "      <td>tackle</td>\n",
       "      <td>1</td>\n",
       "      <td>31933</td>\n",
       "      <td>Tight End</td>\n",
       "      <td>TE</td>\n",
       "      <td>Natural</td>\n",
       "      <td>Rush</td>\n",
       "    </tr>\n",
       "    <tr>\n",
       "      <th>43</th>\n",
       "      <td>32103-1-50</td>\n",
       "      <td>32103-1</td>\n",
       "      <td>18.6</td>\n",
       "      <td>ball_snap</td>\n",
       "      <td>40.860001</td>\n",
       "      <td>18.760000</td>\n",
       "      <td>56.549999</td>\n",
       "      <td>0.0</td>\n",
       "      <td>445.660004</td>\n",
       "      <td>0.85</td>\n",
       "      <td>...</td>\n",
       "      <td>40.860001</td>\n",
       "      <td>18.760000</td>\n",
       "      <td>26.400000</td>\n",
       "      <td>out_of_bounds</td>\n",
       "      <td>1</td>\n",
       "      <td>32103</td>\n",
       "      <td>Tight End</td>\n",
       "      <td>TE</td>\n",
       "      <td>Natural</td>\n",
       "      <td>Pass</td>\n",
       "    </tr>\n",
       "    <tr>\n",
       "      <th>...</th>\n",
       "      <td>...</td>\n",
       "      <td>...</td>\n",
       "      <td>...</td>\n",
       "      <td>...</td>\n",
       "      <td>...</td>\n",
       "      <td>...</td>\n",
       "      <td>...</td>\n",
       "      <td>...</td>\n",
       "      <td>...</td>\n",
       "      <td>...</td>\n",
       "      <td>...</td>\n",
       "      <td>...</td>\n",
       "      <td>...</td>\n",
       "      <td>...</td>\n",
       "      <td>...</td>\n",
       "      <td>...</td>\n",
       "      <td>...</td>\n",
       "      <td>...</td>\n",
       "      <td>...</td>\n",
       "      <td>...</td>\n",
       "      <td>...</td>\n",
       "    </tr>\n",
       "    <tr>\n",
       "      <th>253398</th>\n",
       "      <td>46038-10-28</td>\n",
       "      <td>46038-10</td>\n",
       "      <td>11.1</td>\n",
       "      <td>ball_snap</td>\n",
       "      <td>58.779999</td>\n",
       "      <td>20.100000</td>\n",
       "      <td>288.570007</td>\n",
       "      <td>0.15</td>\n",
       "      <td>439.929993</td>\n",
       "      <td>1.37</td>\n",
       "      <td>...</td>\n",
       "      <td>58.779999</td>\n",
       "      <td>20.100000</td>\n",
       "      <td>15.300000</td>\n",
       "      <td>tackle</td>\n",
       "      <td>1</td>\n",
       "      <td>46038</td>\n",
       "      <td>Safety</td>\n",
       "      <td>DB</td>\n",
       "      <td>Natural</td>\n",
       "      <td>Pass</td>\n",
       "    </tr>\n",
       "    <tr>\n",
       "      <th>253409</th>\n",
       "      <td>46038-8-8</td>\n",
       "      <td>46038-8</td>\n",
       "      <td>20.9</td>\n",
       "      <td>ball_snap</td>\n",
       "      <td>18.809999</td>\n",
       "      <td>33.009998</td>\n",
       "      <td>49.599998</td>\n",
       "      <td>0.0</td>\n",
       "      <td>445.049988</td>\n",
       "      <td>0.02</td>\n",
       "      <td>...</td>\n",
       "      <td>18.809999</td>\n",
       "      <td>33.009998</td>\n",
       "      <td>55.799999</td>\n",
       "      <td>penalty_accepted</td>\n",
       "      <td>1</td>\n",
       "      <td>46038</td>\n",
       "      <td>Safety</td>\n",
       "      <td>DB</td>\n",
       "      <td>Synthetic</td>\n",
       "      <td>Rush</td>\n",
       "    </tr>\n",
       "    <tr>\n",
       "      <th>253416</th>\n",
       "      <td>46046-5-27</td>\n",
       "      <td>46046-5</td>\n",
       "      <td>11.7</td>\n",
       "      <td>ball_snap</td>\n",
       "      <td>73.930000</td>\n",
       "      <td>28.850000</td>\n",
       "      <td>34.650002</td>\n",
       "      <td>0.12</td>\n",
       "      <td>403.450012</td>\n",
       "      <td>1.55</td>\n",
       "      <td>...</td>\n",
       "      <td>73.930000</td>\n",
       "      <td>28.850000</td>\n",
       "      <td>17.799999</td>\n",
       "      <td>tackle</td>\n",
       "      <td>1</td>\n",
       "      <td>46046</td>\n",
       "      <td>Linebacker</td>\n",
       "      <td>LB</td>\n",
       "      <td>Natural</td>\n",
       "      <td>Rush</td>\n",
       "    </tr>\n",
       "    <tr>\n",
       "      <th>253431</th>\n",
       "      <td>46299-6-5</td>\n",
       "      <td>46299-6</td>\n",
       "      <td>16.0</td>\n",
       "      <td>ball_snap</td>\n",
       "      <td>32.430000</td>\n",
       "      <td>29.900000</td>\n",
       "      <td>139.179993</td>\n",
       "      <td>0.0</td>\n",
       "      <td>449.679993</td>\n",
       "      <td>1.56</td>\n",
       "      <td>...</td>\n",
       "      <td>32.430000</td>\n",
       "      <td>29.900000</td>\n",
       "      <td>21.000000</td>\n",
       "      <td>tackle</td>\n",
       "      <td>1</td>\n",
       "      <td>46299</td>\n",
       "      <td>Running Back</td>\n",
       "      <td>RB</td>\n",
       "      <td>Natural</td>\n",
       "      <td>Pass</td>\n",
       "    </tr>\n",
       "    <tr>\n",
       "      <th>253435</th>\n",
       "      <td>46646-12-2</td>\n",
       "      <td>46646-12</td>\n",
       "      <td>6.7</td>\n",
       "      <td>ball_snap</td>\n",
       "      <td>56.259998</td>\n",
       "      <td>23.690001</td>\n",
       "      <td>91.370003</td>\n",
       "      <td>0.01</td>\n",
       "      <td>372.829987</td>\n",
       "      <td>0.01</td>\n",
       "      <td>...</td>\n",
       "      <td>56.259998</td>\n",
       "      <td>23.690001</td>\n",
       "      <td>13.800000</td>\n",
       "      <td>out_of_bounds</td>\n",
       "      <td>1</td>\n",
       "      <td>46646</td>\n",
       "      <td>Linebacker</td>\n",
       "      <td>LB</td>\n",
       "      <td>Synthetic</td>\n",
       "      <td>Punt Not Returned</td>\n",
       "    </tr>\n",
       "  </tbody>\n",
       "</table>\n",
       "<p>35756 rows × 21 columns</p>\n",
       "</div>"
      ],
      "text/plain": [
       "            PlayKey    GameID  time      event          x          y  \\\n",
       "11      27363-10-71  27363-10  16.0  ball_snap  67.510002  29.629999   \n",
       "27       30953-4-13   30953-4  14.3  ball_snap  35.919998  27.650000   \n",
       "34        31266-1-5   31266-1  16.0  ball_snap  25.070000  35.529999   \n",
       "41       31933-3-49   31933-3  19.6  ball_snap  79.269997  24.860001   \n",
       "43       32103-1-50   32103-1  18.6  ball_snap  40.860001  18.760000   \n",
       "...             ...       ...   ...        ...        ...        ...   \n",
       "253398  46038-10-28  46038-10  11.1  ball_snap  58.779999  20.100000   \n",
       "253409    46038-8-8   46038-8  20.9  ball_snap  18.809999  33.009998   \n",
       "253416   46046-5-27   46046-5  11.7  ball_snap  73.930000  28.850000   \n",
       "253431    46299-6-5   46299-6  16.0  ball_snap  32.430000  29.900000   \n",
       "253435   46646-12-2  46646-12   6.7  ball_snap  56.259998  23.690001   \n",
       "\n",
       "               dir   dis           o     s  ...     snap_x     snap_y  \\\n",
       "11      267.700012   0.0  447.329987  0.65  ...  67.510002  29.629999   \n",
       "27       55.709999  0.11  447.100006  1.42  ...  35.919998  27.650000   \n",
       "34      149.619995   0.0  371.660004  0.29  ...  25.070000  35.529999   \n",
       "41       33.799999   0.0  448.980011  0.10  ...  79.269997  24.860001   \n",
       "43       56.549999   0.0  445.660004  0.85  ...  40.860001  18.760000   \n",
       "...            ...   ...         ...   ...  ...        ...        ...   \n",
       "253398  288.570007  0.15  439.929993  1.37  ...  58.779999  20.100000   \n",
       "253409   49.599998   0.0  445.049988  0.02  ...  18.809999  33.009998   \n",
       "253416   34.650002  0.12  403.450012  1.55  ...  73.930000  28.850000   \n",
       "253431  139.179993   0.0  449.679993  1.56  ...  32.430000  29.900000   \n",
       "253435   91.370003  0.01  372.829987  0.01  ...  56.259998  23.690001   \n",
       "\n",
       "        last_time        last_event season  PlayerKey     RosterPosition  \\\n",
       "11      23.900000            tackle      1      27363        Quarterback   \n",
       "27      18.700001            tackle      1      30953         Linebacker   \n",
       "34      20.600000            tackle      1      31266  Defensive Lineman   \n",
       "41      26.900000            tackle      1      31933          Tight End   \n",
       "43      26.400000     out_of_bounds      1      32103          Tight End   \n",
       "...           ...               ...    ...        ...                ...   \n",
       "253398  15.300000            tackle      1      46038             Safety   \n",
       "253409  55.799999  penalty_accepted      1      46038             Safety   \n",
       "253416  17.799999            tackle      1      46046         Linebacker   \n",
       "253431  21.000000            tackle      1      46299       Running Back   \n",
       "253435  13.800000     out_of_bounds      1      46646         Linebacker   \n",
       "\n",
       "       PositionGroup  FieldType           PlayType  \n",
       "11                QB  Synthetic               Rush  \n",
       "27                LB    Natural               Rush  \n",
       "34                DL    Natural               Rush  \n",
       "41                TE    Natural               Rush  \n",
       "43                TE    Natural               Pass  \n",
       "...              ...        ...                ...  \n",
       "253398            DB    Natural               Pass  \n",
       "253409            DB  Synthetic               Rush  \n",
       "253416            LB    Natural               Rush  \n",
       "253431            RB    Natural               Pass  \n",
       "253435            LB  Synthetic  Punt Not Returned  \n",
       "\n",
       "[35756 rows x 21 columns]"
      ]
     },
     "execution_count": 36,
     "metadata": {},
     "output_type": "execute_result"
    }
   ],
   "source": [
    "pd.query('o > 360')"
   ]
  },
  {
   "cell_type": "code",
   "execution_count": 21,
   "metadata": {},
   "outputs": [],
   "source": [
    "#load injury data\n",
    "injury = spark.read.option(\"header\",True).csv('../in/InjuryRecord.csv')\n",
    "\n",
    "injury_plays = injury.select('PlayKey').distinct().collect()\n",
    "injury_plays = get(injury_plays)\n",
    "\n",
    "injury_players = injury.select('PlayerKey').distinct().collect()\n",
    "injury_players = get(injury_players, field='PlayerKey')"
   ]
  },
  {
   "cell_type": "code",
   "execution_count": 24,
   "metadata": {},
   "outputs": [
    {
     "data": {
      "text/plain": [
       "DataFrame[PlayerKey: string, GameID: string, PlayKey: string, BodyPart: string, Surface: string, DM_M1: string, DM_M7: string, DM_M28: string, DM_M42: string]"
      ]
     },
     "execution_count": 24,
     "metadata": {},
     "output_type": "execute_result"
    }
   ],
   "source": [
    "injury"
   ]
  },
  {
   "cell_type": "code",
   "execution_count": 25,
   "metadata": {},
   "outputs": [
    {
     "data": {
      "text/plain": [
       "DataFrame[PlayerKey: string, GameID: string, PlayKey: string, RosterPosition: string, PlayerDay: int, PlayerGame: string, StadiumType: string, FieldType: string, Temperature: string, Weather: string, PlayType: string, PlayerGamePlay: string, Position: string, PositionGroup: string]"
      ]
     },
     "execution_count": 25,
     "metadata": {},
     "output_type": "execute_result"
    }
   ],
   "source": [
    "playlist"
   ]
  },
  {
   "cell_type": "code",
   "execution_count": 48,
   "metadata": {},
   "outputs": [
    {
     "data": {
      "text/plain": [
       "[Row(playType='Kickoff', count=5754),\n",
       " Row(playType='Extra Point', count=5906),\n",
       " Row(playType='Kickoff Not Returned', count=4625),\n",
       " Row(playType='0', count=279),\n",
       " Row(playType=None, count=367),\n",
       " Row(playType='Punt Not Returned', count=3486),\n",
       " Row(playType='Field Goal', count=4915),\n",
       " Row(playType='Punt Returned', count=2469),\n",
       " Row(playType='Rush', count=92606),\n",
       " Row(playType='Kickoff Returned', count=2773),\n",
       " Row(playType='Punt', count=5746),\n",
       " Row(playType='Pass', count=138079)]"
      ]
     },
     "execution_count": 48,
     "metadata": {},
     "output_type": "execute_result"
    }
   ],
   "source": [
    "playlist.groupBy(['playType']).count().collect()"
   ]
  },
  {
   "cell_type": "code",
   "execution_count": 44,
   "metadata": {},
   "outputs": [],
   "source": [
    "injury_playlist = injury.join(playlist, ['PlayKey'],'inner')"
   ]
  },
  {
   "cell_type": "code",
   "execution_count": 46,
   "metadata": {
    "scrolled": false
   },
   "outputs": [
    {
     "data": {
      "text/plain": [
       "[Row(RosterPosition='Linebacker', count=21),\n",
       " Row(RosterPosition='Defensive Lineman', count=7),\n",
       " Row(RosterPosition='Offensive Lineman', count=6),\n",
       " Row(RosterPosition='Running Back', count=6),\n",
       " Row(RosterPosition='Safety', count=11),\n",
       " Row(RosterPosition='Wide Receiver', count=16),\n",
       " Row(RosterPosition='Cornerback', count=8),\n",
       " Row(RosterPosition='Tight End', count=2)]"
      ]
     },
     "execution_count": 46,
     "metadata": {},
     "output_type": "execute_result"
    }
   ],
   "source": [
    "res = injury_playlist.groupby(['RosterPosition']).count()\n",
    "res.collect()"
   ]
  },
  {
   "cell_type": "code",
   "execution_count": null,
   "metadata": {},
   "outputs": [],
   "source": []
  },
  {
   "cell_type": "code",
   "execution_count": 49,
   "metadata": {},
   "outputs": [],
   "source": [
    "# only focus on 3 kind of position\n",
    "# tracks = tracks.withColumn('isInjuryPronePos', \n",
    "#                            f.when(tracks.PositionGroup.isin(['DB','WR','LB']),True).otherwise(False))\n",
    "\n",
    "tracks = tracks.withColumn('isInjuryPronePos', \n",
    "                           f.when(tracks.RosterPosition.isin(['Linebacker','Safety','Wide Receiver']),True).otherwise(False))\n",
    "\n",
    "# is player get injuryed in the play\n",
    "tracks = tracks.withColumn('isInjuryPlay', \n",
    "                           f.when(tracks.PlayKey.isin(injury_plays),True).otherwise(False))\n",
    "\n",
    "# is player rush or pass\n",
    "tracks = tracks.withColumn('isRushPass', \n",
    "                           f.when(tracks.PlayType.isin(['Rush','Pass']),True).otherwise(False))\n",
    "\n",
    "# is player ever get injuryed\n",
    "tracks = tracks.withColumn('isInjuredPlayer', \n",
    "                           f.when(tracks.PlayerKey.isin(injury_plays),True).otherwise(False))\n",
    "\n"
   ]
  },
  {
   "cell_type": "code",
   "execution_count": 50,
   "metadata": {},
   "outputs": [],
   "source": [
    "# Time since the snap (only remain the record that with in 25 seconds start at snapping a ball)\n",
    "tracks = tracks.withColumn('time_since_snap',tracks.time-tracks.snap_time)\n",
    "tracks = tracks.where('time_since_snap <= 25')"
   ]
  },
  {
   "cell_type": "code",
   "execution_count": 51,
   "metadata": {},
   "outputs": [
    {
     "data": {
      "text/plain": [
       "DataFrame[PlayKey: string, GameID: string, time: float, event: string, x: float, y: float, dir: float, dis: string, o: float, s: float, snap_time: float, snap_x: float, snap_y: float, last_time: float, last_event: string, season: int, PlayerKey: string, RosterPosition: string, PositionGroup: string, FieldType: string, PlayType: string, isInjuryPronePos: boolean, isInjuryPlay: boolean, isRushPass: boolean, isInjuredPlayer: boolean, time_since_snap: float]"
      ]
     },
     "execution_count": 51,
     "metadata": {},
     "output_type": "execute_result"
    }
   ],
   "source": [
    "tracks.persist(StorageLevel.MEMORY_ONLY)"
   ]
  },
  {
   "cell_type": "code",
   "execution_count": 53,
   "metadata": {},
   "outputs": [],
   "source": [
    "# def getODirDiff(o,d):\n",
    "#     diff1 = abs(o-d)\n",
    "#     diff2 = abs(o-(d-360))\n",
    "#     diff3 = abs(o-(d+360))\n",
    "#     return min([diff1,diff2,diff3])\n",
    "# fn = f.udf(getODirDiff, FloatType())\n",
    "# _tracks = tracks.rdd.map(getODirDiff)"
   ]
  },
  {
   "cell_type": "code",
   "execution_count": 52,
   "metadata": {},
   "outputs": [],
   "source": [
    "_tracks = tracks.withColumn('o_dir_diff1', f.abs(tracks.o-tracks.dir))\n",
    "_tracks = _tracks.withColumn('o_dir_diff2', f.abs(_tracks.o-(_tracks.dir-360)))\n",
    "_tracks = _tracks.withColumn('o_dir_diff3', f.abs(_tracks.o-(_tracks.dir+360)))\n",
    "_tracks = _tracks.withColumn('o_dir_diff', f.least(_tracks.o_dir_diff1,_tracks.o_dir_diff2,_tracks.o_dir_diff3))\n",
    "\n",
    "drop = ['o_dir_diff1', 'o_dir_diff2', 'o_dir_diff3']\n",
    "_tracks = _tracks.drop(*drop)"
   ]
  },
  {
   "cell_type": "code",
   "execution_count": 53,
   "metadata": {},
   "outputs": [],
   "source": [
    "# class the movement\n",
    "_tracks = _tracks.withColumn('movement', \n",
    "                           f.when(f.col('o_dir_diff') >= 45, 'abnormal')\\\n",
    "                           .otherwise('normal'))"
   ]
  },
  {
   "cell_type": "code",
   "execution_count": 54,
   "metadata": {},
   "outputs": [
    {
     "data": {
      "text/plain": [
       "DataFrame[PlayKey: string, GameID: string, time: float, event: string, x: float, y: float, dir: float, dis: string, o: float, s: float, snap_time: float, snap_x: float, snap_y: float, last_time: float, last_event: string, season: int, PlayerKey: string, RosterPosition: string, PositionGroup: string, FieldType: string, PlayType: string, isInjuryPronePos: boolean, isInjuryPlay: boolean, isRushPass: boolean, isInjuredPlayer: boolean, time_since_snap: float, o_dir_diff: float, movement: string, is_abnormal_movement: boolean]"
      ]
     },
     "execution_count": 54,
     "metadata": {},
     "output_type": "execute_result"
    }
   ],
   "source": [
    "# label is abnormal movement\n",
    "_tracks = _tracks.withColumn('is_abnormal_movement', \n",
    "                           f.when(f.col('movement') == 'normal', False)\\\n",
    "                           .otherwise(True))\n",
    "\n",
    "_tracks.persist(StorageLevel.MEMORY_ONLY)"
   ]
  },
  {
   "cell_type": "code",
   "execution_count": 61,
   "metadata": {},
   "outputs": [
    {
     "name": "stdout",
     "output_type": "stream",
     "text": [
      "[Row(isInjuryPlay=False, playType='Punt', count=591146), Row(isInjuryPlay=True, playType='Punt Not Returned', count=114), Row(isInjuryPlay=False, playType='Pass', count=9309402), Row(isInjuryPlay=False, playType='Rush', count=4890474), Row(isInjuryPlay=True, playType='Pass', count=2349), Row(isInjuryPlay=False, playType='Field Goal', count=209663), Row(isInjuryPlay=False, playType='Punt Not Returned', count=304396), Row(isInjuryPlay=False, playType='Extra Point', count=229802), Row(isInjuryPlay=True, playType='Punt', count=1049), Row(isInjuryPlay=False, playType='Punt Returned', count=302231), Row(isInjuryPlay=True, playType='Punt Returned', count=348), Row(isInjuryPlay=False, playType='0', count=50316), Row(isInjuryPlay=True, playType='Rush', count=1088), Row(isInjuryPlay=False, playType=None, count=65781)]\n"
     ]
    }
   ],
   "source": [
    "t_group = _tracks.groupby(['isInjuryPlay','playType']).count()\n",
    "c = t_group.collect()\n",
    "print(c)"
   ]
  },
  {
   "cell_type": "code",
   "execution_count": 55,
   "metadata": {},
   "outputs": [
    {
     "name": "stdout",
     "output_type": "stream",
     "text": [
      "+--------+------------+-------+\n",
      "|movement|isInjuryPlay|  count|\n",
      "+--------+------------+-------+\n",
      "|abnormal|        true|    911|\n",
      "|  normal|       false|4030912|\n",
      "|  normal|        true|    874|\n",
      "|abnormal|       false|2795604|\n",
      "+--------+------------+-------+\n",
      "\n"
     ]
    }
   ],
   "source": [
    "# show the ratio between movement and injury (RosterPosition)\n",
    "t_group = _tracks.where('isRushPass == True and isInjuryPronePos == True').groupby(['movement','isInjuryPlay']).count()\n",
    "t_group.show()"
   ]
  },
  {
   "cell_type": "code",
   "execution_count": 117,
   "metadata": {},
   "outputs": [
    {
     "name": "stdout",
     "output_type": "stream",
     "text": [
      "+--------+------------+-------+\n",
      "|movement|isInjuryPlay|  count|\n",
      "+--------+------------+-------+\n",
      "|abnormal|        true|   1225|\n",
      "|  normal|       false|4721894|\n",
      "|  normal|        true|   1102|\n",
      "|abnormal|       false|3678244|\n",
      "+--------+------------+-------+\n",
      "\n"
     ]
    }
   ],
   "source": [
    "# show the ratio between movement and injury\n",
    "t_group = _tracks.where('isRushPass == True and isInjuryPronePos == True').groupby(['movement','isInjuryPlay']).count()\n",
    "t_group.show()"
   ]
  },
  {
   "cell_type": "code",
   "execution_count": 56,
   "metadata": {},
   "outputs": [
    {
     "name": "stdout",
     "output_type": "stream",
     "text": [
      "+--------+------------+-----------------+-------+\n",
      "|movement|isInjuryPlay|   RosterPosition|  count|\n",
      "+--------+------------+-----------------+-------+\n",
      "|abnormal|        true|       Cornerback|    314|\n",
      "|abnormal|        true|           Safety|    297|\n",
      "|abnormal|       false|     Running Back| 258160|\n",
      "|  normal|        true|       Linebacker|    247|\n",
      "|abnormal|        true|Defensive Lineman|    142|\n",
      "|  normal|        true|       Cornerback|    228|\n",
      "|abnormal|       false|       Linebacker|1101190|\n",
      "|  normal|       false|Defensive Lineman| 987164|\n",
      "|abnormal|       false|Offensive Lineman|1492667|\n",
      "|  normal|        true|     Running Back|    373|\n",
      "|abnormal|       false|           Safety| 999177|\n",
      "|abnormal|       false|           Kicker|     78|\n",
      "|abnormal|       false|    Wide Receiver| 695237|\n",
      "|  normal|       false|       Linebacker|1304665|\n",
      "|  normal|        true|        Tight End|     37|\n",
      "|  normal|        true|    Wide Receiver|    457|\n",
      "|  normal|        true|Defensive Lineman|    105|\n",
      "|abnormal|        true|     Running Back|    127|\n",
      "|  normal|        true|Offensive Lineman|     81|\n",
      "|abnormal|        true|    Wide Receiver|    286|\n",
      "+--------+------------+-----------------+-------+\n",
      "only showing top 20 rows\n",
      "\n",
      "[Row(movement='abnormal', isInjuryPlay=True, RosterPosition='Cornerback', count=314), Row(movement='abnormal', isInjuryPlay=True, RosterPosition='Safety', count=297), Row(movement='abnormal', isInjuryPlay=False, RosterPosition='Running Back', count=258160), Row(movement='normal', isInjuryPlay=True, RosterPosition='Linebacker', count=247), Row(movement='abnormal', isInjuryPlay=True, RosterPosition='Defensive Lineman', count=142), Row(movement='normal', isInjuryPlay=True, RosterPosition='Cornerback', count=228), Row(movement='abnormal', isInjuryPlay=False, RosterPosition='Linebacker', count=1101190), Row(movement='normal', isInjuryPlay=False, RosterPosition='Defensive Lineman', count=987164), Row(movement='abnormal', isInjuryPlay=False, RosterPosition='Offensive Lineman', count=1492667), Row(movement='normal', isInjuryPlay=True, RosterPosition='Running Back', count=373), Row(movement='abnormal', isInjuryPlay=False, RosterPosition='Safety', count=999177), Row(movement='abnormal', isInjuryPlay=False, RosterPosition='Kicker', count=78), Row(movement='abnormal', isInjuryPlay=False, RosterPosition='Wide Receiver', count=695237), Row(movement='normal', isInjuryPlay=False, RosterPosition='Linebacker', count=1304665), Row(movement='normal', isInjuryPlay=True, RosterPosition='Tight End', count=37), Row(movement='normal', isInjuryPlay=True, RosterPosition='Wide Receiver', count=457), Row(movement='normal', isInjuryPlay=True, RosterPosition='Defensive Lineman', count=105), Row(movement='abnormal', isInjuryPlay=True, RosterPosition='Running Back', count=127), Row(movement='normal', isInjuryPlay=True, RosterPosition='Offensive Lineman', count=81), Row(movement='abnormal', isInjuryPlay=True, RosterPosition='Wide Receiver', count=286), Row(movement='normal', isInjuryPlay=False, RosterPosition='Safety', count=922151), Row(movement='abnormal', isInjuryPlay=True, RosterPosition='Tight End', count=30), Row(movement='abnormal', isInjuryPlay=True, RosterPosition='Offensive Lineman', count=215), Row(movement='abnormal', isInjuryPlay=True, RosterPosition='Linebacker', count=328), Row(movement='normal', isInjuryPlay=False, RosterPosition='Kicker', count=20), Row(movement='normal', isInjuryPlay=False, RosterPosition='Wide Receiver', count=1804096), Row(movement='abnormal', isInjuryPlay=False, RosterPosition='Quarterback', count=251696), Row(movement='normal', isInjuryPlay=False, RosterPosition='Quarterback', count=164805), Row(movement='abnormal', isInjuryPlay=False, RosterPosition='Tight End', count=156863), Row(movement='normal', isInjuryPlay=False, RosterPosition='Running Back', count=358384), Row(movement='abnormal', isInjuryPlay=False, RosterPosition='Defensive Lineman', count=707290), Row(movement='abnormal', isInjuryPlay=False, RosterPosition='Cornerback', count=859803), Row(movement='normal', isInjuryPlay=False, RosterPosition='Cornerback', count=662796), Row(movement='normal', isInjuryPlay=False, RosterPosition='Tight End', count=228399), Row(movement='normal', isInjuryPlay=True, RosterPosition='Safety', count=170), Row(movement='normal', isInjuryPlay=False, RosterPosition='Offensive Lineman', count=1245235)]\n"
     ]
    }
   ],
   "source": [
    "# show the ratio between movement and injury and position (RosterPosition)\n",
    "t_group = _tracks.where('isRushPass == True').groupby(['movement','isInjuryPlay','RosterPosition']).count()\n",
    "t_group.show()\n",
    "c = t_group.collect()\n",
    "print(c)"
   ]
  },
  {
   "cell_type": "code",
   "execution_count": 57,
   "metadata": {},
   "outputs": [
    {
     "data": {
      "text/plain": [
       "[Row(movement='abnormal', isInjuryPlay=True, RosterPosition='Cornerback', count=314),\n",
       " Row(movement='abnormal', isInjuryPlay=True, RosterPosition='Safety', count=297),\n",
       " Row(movement='abnormal', isInjuryPlay=False, RosterPosition='Running Back', count=258160),\n",
       " Row(movement='normal', isInjuryPlay=True, RosterPosition='Linebacker', count=247),\n",
       " Row(movement='abnormal', isInjuryPlay=True, RosterPosition='Defensive Lineman', count=142),\n",
       " Row(movement='normal', isInjuryPlay=True, RosterPosition='Cornerback', count=228),\n",
       " Row(movement='abnormal', isInjuryPlay=False, RosterPosition='Linebacker', count=1101190),\n",
       " Row(movement='normal', isInjuryPlay=False, RosterPosition='Defensive Lineman', count=987164),\n",
       " Row(movement='abnormal', isInjuryPlay=False, RosterPosition='Offensive Lineman', count=1492667),\n",
       " Row(movement='normal', isInjuryPlay=True, RosterPosition='Running Back', count=373),\n",
       " Row(movement='abnormal', isInjuryPlay=False, RosterPosition='Safety', count=999177),\n",
       " Row(movement='abnormal', isInjuryPlay=False, RosterPosition='Kicker', count=78),\n",
       " Row(movement='abnormal', isInjuryPlay=False, RosterPosition='Wide Receiver', count=695237),\n",
       " Row(movement='normal', isInjuryPlay=False, RosterPosition='Linebacker', count=1304665),\n",
       " Row(movement='normal', isInjuryPlay=True, RosterPosition='Tight End', count=37),\n",
       " Row(movement='normal', isInjuryPlay=True, RosterPosition='Wide Receiver', count=457),\n",
       " Row(movement='normal', isInjuryPlay=True, RosterPosition='Defensive Lineman', count=105),\n",
       " Row(movement='abnormal', isInjuryPlay=True, RosterPosition='Running Back', count=127),\n",
       " Row(movement='normal', isInjuryPlay=True, RosterPosition='Offensive Lineman', count=81),\n",
       " Row(movement='abnormal', isInjuryPlay=True, RosterPosition='Wide Receiver', count=286),\n",
       " Row(movement='normal', isInjuryPlay=False, RosterPosition='Safety', count=922151),\n",
       " Row(movement='abnormal', isInjuryPlay=True, RosterPosition='Tight End', count=30),\n",
       " Row(movement='abnormal', isInjuryPlay=True, RosterPosition='Offensive Lineman', count=215),\n",
       " Row(movement='abnormal', isInjuryPlay=True, RosterPosition='Linebacker', count=328),\n",
       " Row(movement='normal', isInjuryPlay=False, RosterPosition='Kicker', count=20),\n",
       " Row(movement='normal', isInjuryPlay=False, RosterPosition='Wide Receiver', count=1804096),\n",
       " Row(movement='abnormal', isInjuryPlay=False, RosterPosition='Quarterback', count=251696),\n",
       " Row(movement='normal', isInjuryPlay=False, RosterPosition='Quarterback', count=164805),\n",
       " Row(movement='abnormal', isInjuryPlay=False, RosterPosition='Tight End', count=156863),\n",
       " Row(movement='normal', isInjuryPlay=False, RosterPosition='Running Back', count=358384),\n",
       " Row(movement='abnormal', isInjuryPlay=False, RosterPosition='Defensive Lineman', count=707290),\n",
       " Row(movement='abnormal', isInjuryPlay=False, RosterPosition='Cornerback', count=859803),\n",
       " Row(movement='normal', isInjuryPlay=False, RosterPosition='Cornerback', count=662796),\n",
       " Row(movement='normal', isInjuryPlay=False, RosterPosition='Tight End', count=228399),\n",
       " Row(movement='normal', isInjuryPlay=True, RosterPosition='Safety', count=170),\n",
       " Row(movement='normal', isInjuryPlay=False, RosterPosition='Offensive Lineman', count=1245235)]"
      ]
     },
     "execution_count": 57,
     "metadata": {},
     "output_type": "execute_result"
    }
   ],
   "source": [
    "c"
   ]
  },
  {
   "cell_type": "code",
   "execution_count": 119,
   "metadata": {},
   "outputs": [
    {
     "name": "stdout",
     "output_type": "stream",
     "text": [
      "+--------+------------+-------------+-------+\n",
      "|movement|isInjuryPlay|PositionGroup|  count|\n",
      "+--------+------------+-------------+-------+\n",
      "|  normal|        true|           DL|    105|\n",
      "|abnormal|        true|           TE|     30|\n",
      "|abnormal|       false|           DB|1857120|\n",
      "|  normal|        true|           DB|    398|\n",
      "|abnormal|        true|           LB|    328|\n",
      "|  normal|        true|           OL|     81|\n",
      "|  normal|        true|           RB|    373|\n",
      "|  normal|       false|           QB| 164805|\n",
      "|  normal|       false|           TE| 228398|\n",
      "|  normal|       false|           DB|1582792|\n",
      "|abnormal|       false|           TE| 156864|\n",
      "|abnormal|       false|           WR| 695240|\n",
      "|  normal|       false|           OL|1245230|\n",
      "|abnormal|        true|           DL|    142|\n",
      "|  normal|       false|           RB| 358384|\n",
      "|  normal|       false|           WR|1804093|\n",
      "|abnormal|       false|           DL| 684476|\n",
      "|abnormal|       false|           OL|1492672|\n",
      "|abnormal|       false|           LB|1125884|\n",
      "|abnormal|       false|           RB| 258160|\n",
      "+--------+------------+-------------+-------+\n",
      "only showing top 20 rows\n",
      "\n",
      "[Row(movement='normal', isInjuryPlay=True, PositionGroup='DL', count=105), Row(movement='abnormal', isInjuryPlay=True, PositionGroup='TE', count=30), Row(movement='abnormal', isInjuryPlay=False, PositionGroup='DB', count=1857120), Row(movement='normal', isInjuryPlay=True, PositionGroup='DB', count=398), Row(movement='abnormal', isInjuryPlay=True, PositionGroup='LB', count=328), Row(movement='normal', isInjuryPlay=True, PositionGroup='OL', count=81), Row(movement='normal', isInjuryPlay=True, PositionGroup='RB', count=373), Row(movement='normal', isInjuryPlay=False, PositionGroup='QB', count=164805), Row(movement='normal', isInjuryPlay=False, PositionGroup='TE', count=228398), Row(movement='normal', isInjuryPlay=False, PositionGroup='DB', count=1582792), Row(movement='abnormal', isInjuryPlay=False, PositionGroup='TE', count=156864), Row(movement='abnormal', isInjuryPlay=False, PositionGroup='WR', count=695240), Row(movement='normal', isInjuryPlay=False, PositionGroup='OL', count=1245230), Row(movement='abnormal', isInjuryPlay=True, PositionGroup='DL', count=142), Row(movement='normal', isInjuryPlay=False, PositionGroup='RB', count=358384), Row(movement='normal', isInjuryPlay=False, PositionGroup='WR', count=1804093), Row(movement='abnormal', isInjuryPlay=False, PositionGroup='DL', count=684476), Row(movement='abnormal', isInjuryPlay=False, PositionGroup='OL', count=1492672), Row(movement='abnormal', isInjuryPlay=False, PositionGroup='LB', count=1125884), Row(movement='abnormal', isInjuryPlay=False, PositionGroup='RB', count=258160), Row(movement='abnormal', isInjuryPlay=True, PositionGroup='RB', count=127), Row(movement='normal', isInjuryPlay=True, PositionGroup='LB', count=247), Row(movement='normal', isInjuryPlay=False, PositionGroup='SPEC', count=20), Row(movement='abnormal', isInjuryPlay=True, PositionGroup='OL', count=215), Row(movement='normal', isInjuryPlay=True, PositionGroup='TE', count=37), Row(movement='normal', isInjuryPlay=True, PositionGroup='WR', count=457), Row(movement='abnormal', isInjuryPlay=True, PositionGroup='DB', count=611), Row(movement='abnormal', isInjuryPlay=False, PositionGroup='SPEC', count=78), Row(movement='abnormal', isInjuryPlay=True, PositionGroup='WR', count=286), Row(movement='normal', isInjuryPlay=False, PositionGroup='DL', count=958955), Row(movement='normal', isInjuryPlay=False, PositionGroup='LB', count=1335009), Row(movement='abnormal', isInjuryPlay=False, PositionGroup='QB', count=251696)]\n"
     ]
    }
   ],
   "source": [
    "# show the ratio between movement and injury and position\n",
    "t_group = _tracks.where('isRushPass == True').groupby(['movement','isInjuryPlay','PositionGroup']).count()\n",
    "t_group.show()\n",
    "c = t_group.collect()\n",
    "print(c)"
   ]
  },
  {
   "cell_type": "code",
   "execution_count": 120,
   "metadata": {},
   "outputs": [
    {
     "data": {
      "text/plain": [
       "[Row(movement='normal', isInjuryPlay=True, PositionGroup='DL', count=105),\n",
       " Row(movement='abnormal', isInjuryPlay=True, PositionGroup='TE', count=30),\n",
       " Row(movement='abnormal', isInjuryPlay=False, PositionGroup='DB', count=1857120),\n",
       " Row(movement='normal', isInjuryPlay=True, PositionGroup='DB', count=398),\n",
       " Row(movement='abnormal', isInjuryPlay=True, PositionGroup='LB', count=328),\n",
       " Row(movement='normal', isInjuryPlay=True, PositionGroup='OL', count=81),\n",
       " Row(movement='normal', isInjuryPlay=True, PositionGroup='RB', count=373),\n",
       " Row(movement='normal', isInjuryPlay=False, PositionGroup='QB', count=164805),\n",
       " Row(movement='normal', isInjuryPlay=False, PositionGroup='TE', count=228398),\n",
       " Row(movement='normal', isInjuryPlay=False, PositionGroup='DB', count=1582792),\n",
       " Row(movement='abnormal', isInjuryPlay=False, PositionGroup='TE', count=156864),\n",
       " Row(movement='abnormal', isInjuryPlay=False, PositionGroup='WR', count=695240),\n",
       " Row(movement='normal', isInjuryPlay=False, PositionGroup='OL', count=1245230),\n",
       " Row(movement='abnormal', isInjuryPlay=True, PositionGroup='DL', count=142),\n",
       " Row(movement='normal', isInjuryPlay=False, PositionGroup='RB', count=358384),\n",
       " Row(movement='normal', isInjuryPlay=False, PositionGroup='WR', count=1804093),\n",
       " Row(movement='abnormal', isInjuryPlay=False, PositionGroup='DL', count=684476),\n",
       " Row(movement='abnormal', isInjuryPlay=False, PositionGroup='OL', count=1492672),\n",
       " Row(movement='abnormal', isInjuryPlay=False, PositionGroup='LB', count=1125884),\n",
       " Row(movement='abnormal', isInjuryPlay=False, PositionGroup='RB', count=258160),\n",
       " Row(movement='abnormal', isInjuryPlay=True, PositionGroup='RB', count=127),\n",
       " Row(movement='normal', isInjuryPlay=True, PositionGroup='LB', count=247),\n",
       " Row(movement='normal', isInjuryPlay=False, PositionGroup='SPEC', count=20),\n",
       " Row(movement='abnormal', isInjuryPlay=True, PositionGroup='OL', count=215),\n",
       " Row(movement='normal', isInjuryPlay=True, PositionGroup='TE', count=37),\n",
       " Row(movement='normal', isInjuryPlay=True, PositionGroup='WR', count=457),\n",
       " Row(movement='abnormal', isInjuryPlay=True, PositionGroup='DB', count=611),\n",
       " Row(movement='abnormal', isInjuryPlay=False, PositionGroup='SPEC', count=78),\n",
       " Row(movement='abnormal', isInjuryPlay=True, PositionGroup='WR', count=286),\n",
       " Row(movement='normal', isInjuryPlay=False, PositionGroup='DL', count=958955),\n",
       " Row(movement='normal', isInjuryPlay=False, PositionGroup='LB', count=1335009),\n",
       " Row(movement='abnormal', isInjuryPlay=False, PositionGroup='QB', count=251696)]"
      ]
     },
     "execution_count": 120,
     "metadata": {},
     "output_type": "execute_result"
    }
   ],
   "source": [
    "c"
   ]
  },
  {
   "cell_type": "code",
   "execution_count": null,
   "metadata": {},
   "outputs": [],
   "source": []
  },
  {
   "cell_type": "code",
   "execution_count": 58,
   "metadata": {},
   "outputs": [
    {
     "name": "stdout",
     "output_type": "stream",
     "text": [
      "+------------+-----------------+\n",
      "|isInjuryPlay|        avg_speed|\n",
      "+------------+-----------------+\n",
      "|        true| 3.10926030685172|\n",
      "|       false|2.653949671597476|\n",
      "+------------+-----------------+\n",
      "\n"
     ]
    }
   ],
   "source": [
    "# show the ratio between speed and injury\n",
    "t_group = _tracks.select(['s','isInjuryPlay']).groupby('isInjuryPlay').agg(f.mean(\"s\").alias('avg_speed'))\n",
    "t_group.show()\n"
   ]
  },
  {
   "cell_type": "code",
   "execution_count": null,
   "metadata": {},
   "outputs": [],
   "source": []
  },
  {
   "cell_type": "code",
   "execution_count": 63,
   "metadata": {},
   "outputs": [
    {
     "name": "stdout",
     "output_type": "stream",
     "text": [
      "+------------+-----------------+------------------+\n",
      "|isInjuryPlay|   RosterPosition|         avg_speed|\n",
      "+------------+-----------------+------------------+\n",
      "|       false|       Cornerback|3.0783234981077943|\n",
      "|       false|        Tight End|2.8337883323087016|\n",
      "|       false|      Quarterback|1.7420485825848817|\n",
      "|        true|       Cornerback|2.6128589395124004|\n",
      "|        true|        Tight End|3.8832836008783596|\n",
      "|        true|    Wide Receiver|3.6077649545252855|\n",
      "|       false|    Wide Receiver|3.4822857157183225|\n",
      "|        true|           Safety|2.8797391339521043|\n",
      "|       false|Offensive Lineman|1.6539108777126899|\n",
      "|       false|       Linebacker|2.7511054023236454|\n",
      "|       false|     Running Back|3.0450795054005293|\n",
      "|        true|Offensive Lineman|1.6694932395995066|\n",
      "|       false|Defensive Lineman|2.0979293224867064|\n",
      "|        true|       Linebacker| 3.426846961418319|\n",
      "|        true|     Running Back|3.3406400055103003|\n",
      "|       false|           Safety|2.9685911972882604|\n",
      "|       false|           Kicker|1.7433133082294603|\n",
      "|        true|Defensive Lineman| 2.413724697161059|\n",
      "+------------+-----------------+------------------+\n",
      "\n"
     ]
    }
   ],
   "source": [
    "# show the ratio between speed and injury\n",
    "# t_group = _tracks.select(['s','isInjuryPlay','PositionGroup']).groupby('isInjuryPlay','PositionGroup').agg(f.mean(\"s\").alias('avg_speed'))\n",
    "t_group = _tracks.select(['s','isInjuryPlay','RosterPosition']).groupby('isInjuryPlay','RosterPosition').agg(f.mean(\"s\").alias('avg_speed'))\n",
    "t_group.show()\n",
    "c = t_group.collect()"
   ]
  },
  {
   "cell_type": "code",
   "execution_count": 64,
   "metadata": {},
   "outputs": [
    {
     "data": {
      "text/plain": [
       "[Row(isInjuryPlay=False, RosterPosition='Cornerback', avg_speed=3.0783234981077943),\n",
       " Row(isInjuryPlay=False, RosterPosition='Tight End', avg_speed=2.8337883323087016),\n",
       " Row(isInjuryPlay=False, RosterPosition='Quarterback', avg_speed=1.7420485825848817),\n",
       " Row(isInjuryPlay=True, RosterPosition='Cornerback', avg_speed=2.6128589395124004),\n",
       " Row(isInjuryPlay=True, RosterPosition='Tight End', avg_speed=3.8832836008783596),\n",
       " Row(isInjuryPlay=True, RosterPosition='Wide Receiver', avg_speed=3.6077649545252855),\n",
       " Row(isInjuryPlay=False, RosterPosition='Wide Receiver', avg_speed=3.4822857157183225),\n",
       " Row(isInjuryPlay=True, RosterPosition='Safety', avg_speed=2.8797391339521043),\n",
       " Row(isInjuryPlay=False, RosterPosition='Offensive Lineman', avg_speed=1.6539108777126899),\n",
       " Row(isInjuryPlay=False, RosterPosition='Linebacker', avg_speed=2.7511054023236454),\n",
       " Row(isInjuryPlay=False, RosterPosition='Running Back', avg_speed=3.0450795054005293),\n",
       " Row(isInjuryPlay=True, RosterPosition='Offensive Lineman', avg_speed=1.6694932395995066),\n",
       " Row(isInjuryPlay=False, RosterPosition='Defensive Lineman', avg_speed=2.0979293224867064),\n",
       " Row(isInjuryPlay=True, RosterPosition='Linebacker', avg_speed=3.426846961418319),\n",
       " Row(isInjuryPlay=True, RosterPosition='Running Back', avg_speed=3.3406400055103003),\n",
       " Row(isInjuryPlay=False, RosterPosition='Safety', avg_speed=2.9685911972882604),\n",
       " Row(isInjuryPlay=False, RosterPosition='Kicker', avg_speed=1.7433133082294603),\n",
       " Row(isInjuryPlay=True, RosterPosition='Defensive Lineman', avg_speed=2.413724697161059)]"
      ]
     },
     "execution_count": 64,
     "metadata": {},
     "output_type": "execute_result"
    }
   ],
   "source": [
    "c"
   ]
  },
  {
   "cell_type": "code",
   "execution_count": null,
   "metadata": {},
   "outputs": [],
   "source": []
  },
  {
   "cell_type": "code",
   "execution_count": 126,
   "metadata": {},
   "outputs": [
    {
     "name": "stdout",
     "output_type": "stream",
     "text": [
      "+--------+------------+-------+\n",
      "|movement|isInjuryPlay|  count|\n",
      "+--------+------------+-------+\n",
      "|abnormal|        true|   2272|\n",
      "|  normal|       false|8732590|\n",
      "|  normal|        true|   2676|\n",
      "|abnormal|       false|7220621|\n",
      "+--------+------------+-------+\n",
      "\n"
     ]
    }
   ],
   "source": [
    "# show the ratio between movement and injury\n",
    "t_group = _tracks.groupby(['movement','isInjuryPlay']).count()\n",
    "t_group.show()"
   ]
  },
  {
   "cell_type": "code",
   "execution_count": 127,
   "metadata": {},
   "outputs": [
    {
     "name": "stdout",
     "output_type": "stream",
     "text": [
      "+--------+------------+-------+\n",
      "|movement|isInjuryPlay|  count|\n",
      "+--------+------------+-------+\n",
      "|abnormal|        true|   1739|\n",
      "|  normal|       false|7677686|\n",
      "|  normal|        true|   1698|\n",
      "|abnormal|       false|6522190|\n",
      "+--------+------------+-------+\n",
      "\n"
     ]
    }
   ],
   "source": [
    "# show the ratio between movement and injury (no isInjuryPronePos)\n",
    "t_group = _tracks.where('isRushPass == True').groupby(['movement','isInjuryPlay']).count()\n",
    "t_group.show()"
   ]
  },
  {
   "cell_type": "code",
   "execution_count": null,
   "metadata": {},
   "outputs": [],
   "source": []
  },
  {
   "cell_type": "code",
   "execution_count": null,
   "metadata": {},
   "outputs": [],
   "source": []
  },
  {
   "cell_type": "code",
   "execution_count": 100,
   "metadata": {},
   "outputs": [],
   "source": [
    "# speed\n",
    "# player_mean_speed_df = df.rdd.map(lambda x: [x[0].split('-')[0], float(x[-1])]).toDF([\"playerKey\",\"s\"])\n",
    "# # remove extreme small speed\n",
    "# player_mean_speed_df = player_mean_speed_df.rdd.filter(lambda x:x.s >= 1).toDF([\"playerKey\",\"s\"])\n",
    "# # get average speed\n",
    "# player_mean_speed = player_mean_speed_df.groupBy('playerKey').agg(f.mean(\"s\").alias('mean'))\n",
    "# result = player_mean_speed.collect()"
   ]
  },
  {
   "cell_type": "code",
   "execution_count": null,
   "metadata": {},
   "outputs": [],
   "source": []
  },
  {
   "cell_type": "code",
   "execution_count": 90,
   "metadata": {},
   "outputs": [],
   "source": [
    "# add new col.\n",
    "# compute the difference between o and dir\n",
    "# def add_o_dir_diff(x):\n",
    "#     x = x.asDict()\n",
    "#     x['o_dir_diff'] = min([abs(x['o']-x['dir']),abs(x['o']-(x['dir']-360)),abs(x['o']-(x['dir']+360))])\n",
    "    \n",
    "#     x['is_forward_move'] = False\n",
    "#     x['is_sideway_move'] = False\n",
    "#     x['is_backward_move'] = False\n",
    "    \n",
    "#     if x['o_dir_diff'] <= 45:\n",
    "#         x['move_type'] = 'forward'\n",
    "#         x['is_forward_move'] = True\n",
    "#     elif x['o_dir_diff'] <= 135:\n",
    "#         x['move_type'] = 'sideway'\n",
    "#         x['is_sideway_move'] = True\n",
    "#     else:\n",
    "#         x['move_type'] = 'backward'\n",
    "#         x['is_backward_move'] = True\n",
    "        \n",
    "#     return Row(**x)\n",
    "\n",
    "\n",
    "# rdd = df.rdd.map(add_o_dir_diff)\n",
    "# df = rdd.toDF()"
   ]
  }
 ],
 "metadata": {
  "kernelspec": {
   "display_name": "Python 3",
   "language": "python",
   "name": "python3"
  },
  "language_info": {
   "codemirror_mode": {
    "name": "ipython",
    "version": 3
   },
   "file_extension": ".py",
   "mimetype": "text/x-python",
   "name": "python",
   "nbconvert_exporter": "python",
   "pygments_lexer": "ipython3",
   "version": "3.7.6"
  }
 },
 "nbformat": 4,
 "nbformat_minor": 4
}
