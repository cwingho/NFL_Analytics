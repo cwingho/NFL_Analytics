{
 "cells": [
  {
   "cell_type": "code",
   "execution_count": 1,
   "metadata": {},
   "outputs": [],
   "source": [
    "from pyspark import SparkContext\n",
    "from pyspark.sql import SQLContext\n",
    "from pyspark.sql.types import FloatType\n",
    "import pyspark.sql.functions as f\n",
    "from pyspark.sql import Row\n",
    "from pyspark import StorageLevel\n",
    "from pyspark.sql import SparkSession\n",
    "import sys\n",
    "import numpy as np"
   ]
  },
  {
   "cell_type": "code",
   "execution_count": 2,
   "metadata": {},
   "outputs": [],
   "source": [
    "# sc = SparkContext(\"local[*]\", \"NFL\")\n",
    "# rdd = sc.textFile('../in/PlayerTrackData.csv')\n",
    "\n",
    "# remove header\n",
    "# rdd = rdd.filter(lambda x: 'PlayKey' not in x)\n",
    "\n",
    "# split the col\n",
    "# rdd = rdd.map(lambda x: x.split(','))\n",
    "\n",
    "# remove row if missing some value\n",
    "# rdd = rdd.filter(lambda x: x[5] != '' and x[7] != '')\n",
    "\n",
    "# convert to dataframe object\n",
    "# sqlContext = SQLContext(sc)\n",
    "# df = rdd.toDF(['PlayKey','time','event','x','y','dir','dis','o','s'])\n",
    "\n",
    "# if df want to use rdd function\n",
    "# just df.rdd.xxx()"
   ]
  },
  {
   "cell_type": "code",
   "execution_count": 3,
   "metadata": {},
   "outputs": [],
   "source": [
    "spark = SparkSession.builder.master(\"local[*]\").appName(\"NFL\").getOrCreate()\n",
    "tracks = spark.read.option(\"header\",True).csv('../in/PlayerTrackData.csv')"
   ]
  },
  {
   "cell_type": "code",
   "execution_count": 4,
   "metadata": {},
   "outputs": [
    {
     "name": "stdout",
     "output_type": "stream",
     "text": [
      "root\n",
      " |-- PlayKey: string (nullable = true)\n",
      " |-- time: string (nullable = true)\n",
      " |-- event: string (nullable = true)\n",
      " |-- x: string (nullable = true)\n",
      " |-- y: string (nullable = true)\n",
      " |-- dir: string (nullable = true)\n",
      " |-- dis: string (nullable = true)\n",
      " |-- o: string (nullable = true)\n",
      " |-- s: string (nullable = true)\n",
      "\n"
     ]
    }
   ],
   "source": [
    "# show header\n",
    "# rdd.take(1)\n",
    "# show schema\n",
    "tracks.printSchema()"
   ]
  },
  {
   "cell_type": "code",
   "execution_count": 5,
   "metadata": {},
   "outputs": [],
   "source": [
    "# convert the defautl datatype\n",
    "tracks = tracks.withColumn(\"time\", tracks.time.cast('float').alias(\"time\"))\n",
    "tracks = tracks.withColumn(\"x\", tracks.x.cast('float').alias(\"x\"))\n",
    "tracks = tracks.withColumn(\"y\", tracks.y.cast('float').alias(\"y\"))\n",
    "tracks = tracks.withColumn(\"dir\", tracks.dir.cast('float').alias(\"dir\"))\n",
    "tracks = tracks.withColumn(\"o\", tracks.o.cast('float').alias(\"o\"))\n",
    "tracks = tracks.withColumn(\"s\", tracks.s.cast('float').alias(\"s\"))\n",
    "tracks = tracks.withColumn(\"x\", tracks.x.cast('float').alias(\"x\"))"
   ]
  },
  {
   "cell_type": "code",
   "execution_count": 6,
   "metadata": {},
   "outputs": [
    {
     "name": "stdout",
     "output_type": "stream",
     "text": [
      "root\n",
      " |-- PlayKey: string (nullable = true)\n",
      " |-- time: float (nullable = true)\n",
      " |-- event: string (nullable = true)\n",
      " |-- x: float (nullable = true)\n",
      " |-- y: float (nullable = true)\n",
      " |-- dir: float (nullable = true)\n",
      " |-- dis: string (nullable = true)\n",
      " |-- o: float (nullable = true)\n",
      " |-- s: float (nullable = true)\n",
      "\n"
     ]
    }
   ],
   "source": [
    "tracks.printSchema()"
   ]
  },
  {
   "cell_type": "code",
   "execution_count": 7,
   "metadata": {},
   "outputs": [],
   "source": [
    "# get all ball_snap play record\n",
    "ball_snap_tracks = tracks.where(\"event == 'ball_snap'\")\n",
    "\n",
    "# rename x,y,time for ball snap\n",
    "drop_list = ['dir','dis','o','event','s']\n",
    "ball_snap_tracks = ball_snap_tracks.withColumnRenamed('x','snap_x')\\\n",
    ".withColumnRenamed('y','snap_y')\\\n",
    ".withColumnRenamed('time','snap_time').drop(*drop_list)\n",
    "\n",
    "# join two table (orign tracks and tracks only contained ball_snap event)\n",
    "tracks = tracks.join(ball_snap_tracks, ['PlayKey'], \"left_outer\")\n",
    "\n",
    "# remove any data for a play 0.1 second before snap\n",
    "tracks = tracks.where('time >= (snap_time - 0.1)')\n"
   ]
  },
  {
   "cell_type": "code",
   "execution_count": 8,
   "metadata": {},
   "outputs": [],
   "source": [
    "# get the last event of each play key\n",
    "last_event_tracks = tracks.where('event is not null').groupBy('PlayKey').agg(f.max('time').alias('time'))\n",
    "\n",
    "# join last event tracks and tracks\n",
    "# only get the playkey, time, and event field\n",
    "last_event_tracks = last_event_tracks.join(tracks, ['PlayKey','time'], \"inner\")[['PlayKey','time','event']]\n",
    "\n",
    "# rename the column\n",
    "last_event_tracks = last_event_tracks.withColumnRenamed('time','last_time').withColumnRenamed('event','last_event')\n",
    "\n",
    "# park the result of last event tracks to the tracks\n",
    "tracks = tracks.join(last_event_tracks, ['PlayKey'], 'left_outer')\n",
    "\n",
    "# Remove any data for a play 0.1 second after last event\n",
    "tracks = tracks.where('time <= (last_time + 0.1)')"
   ]
  },
  {
   "cell_type": "code",
   "execution_count": 9,
   "metadata": {},
   "outputs": [
    {
     "name": "stdout",
     "output_type": "stream",
     "text": [
      "root\n",
      " |-- PlayKey: string (nullable = true)\n",
      " |-- time: float (nullable = true)\n",
      " |-- event: string (nullable = true)\n",
      " |-- x: float (nullable = true)\n",
      " |-- y: float (nullable = true)\n",
      " |-- dir: float (nullable = true)\n",
      " |-- dis: string (nullable = true)\n",
      " |-- o: float (nullable = true)\n",
      " |-- s: float (nullable = true)\n",
      " |-- snap_time: float (nullable = true)\n",
      " |-- snap_x: float (nullable = true)\n",
      " |-- snap_y: float (nullable = true)\n",
      " |-- last_time: float (nullable = true)\n",
      " |-- last_event: string (nullable = true)\n",
      "\n"
     ]
    }
   ],
   "source": [
    "tracks.printSchema()"
   ]
  },
  {
   "cell_type": "code",
   "execution_count": 10,
   "metadata": {},
   "outputs": [],
   "source": [
    "# save tracks into memory\n",
    "# only record the time from the start of first event-1 to the end of last event+1\n",
    "# tracks.persist(StorageLevel.MEMORY_ONLY)"
   ]
  },
  {
   "cell_type": "code",
   "execution_count": 11,
   "metadata": {},
   "outputs": [],
   "source": [
    "# tracks.show()\n",
    "# print(tracks.count())"
   ]
  },
  {
   "cell_type": "code",
   "execution_count": null,
   "metadata": {},
   "outputs": [],
   "source": []
  },
  {
   "cell_type": "code",
   "execution_count": 12,
   "metadata": {},
   "outputs": [],
   "source": [
    "#load play list data\n",
    "playlist = spark.read.option(\"header\",True).csv('../in/PlayList.csv')\n",
    "\n",
    "# convert player day to integer\n",
    "playlist = playlist.withColumn(\"PlayerDay\", playlist.PlayerDay.cast('int').alias(\"PlayerDay\"))"
   ]
  },
  {
   "cell_type": "code",
   "execution_count": 13,
   "metadata": {},
   "outputs": [
    {
     "name": "stdout",
     "output_type": "stream",
     "text": [
      "root\n",
      " |-- PlayerKey: string (nullable = true)\n",
      " |-- GameID: string (nullable = true)\n",
      " |-- PlayKey: string (nullable = true)\n",
      " |-- RosterPosition: string (nullable = true)\n",
      " |-- PlayerDay: integer (nullable = true)\n",
      " |-- PlayerGame: string (nullable = true)\n",
      " |-- StadiumType: string (nullable = true)\n",
      " |-- FieldType: string (nullable = true)\n",
      " |-- Temperature: string (nullable = true)\n",
      " |-- Weather: string (nullable = true)\n",
      " |-- PlayType: string (nullable = true)\n",
      " |-- PlayerGamePlay: string (nullable = true)\n",
      " |-- Position: string (nullable = true)\n",
      " |-- PositionGroup: string (nullable = true)\n",
      "\n"
     ]
    }
   ],
   "source": [
    "playlist.printSchema()"
   ]
  },
  {
   "cell_type": "code",
   "execution_count": 14,
   "metadata": {},
   "outputs": [],
   "source": [
    "# get season 2 distinct player key\n",
    "tough_playerkey = playlist.select('PlayerKey').where('PlayerDay >= 350').distinct()\n",
    "tough_playerkey = tough_playerkey.rdd.map(lambda x:x.PlayerKey).collect()"
   ]
  },
  {
   "cell_type": "code",
   "execution_count": 15,
   "metadata": {},
   "outputs": [],
   "source": [
    "# only select the player who play in season 2, dont know is he play season 1\n",
    "tough_playlist = playlist[playlist.PlayerKey.isin(tough_playerkey)]\n",
    "\n",
    "# add season to df, if less than 350, season 1 else season 2\n",
    "tough_playlist = tough_playlist.withColumn('season', f.when(f.col(\"PlayerDay\") < 350,1).otherwise(2))"
   ]
  },
  {
   "cell_type": "code",
   "execution_count": 16,
   "metadata": {},
   "outputs": [],
   "source": [
    "games = tough_playlist[['GameID','season']].distinct()"
   ]
  },
  {
   "cell_type": "code",
   "execution_count": 17,
   "metadata": {},
   "outputs": [
    {
     "data": {
      "text/plain": [
       "DataFrame[GameID: string, PlayKey: string, time: float, event: string, x: float, y: float, dir: float, dis: string, o: float, s: float, snap_time: float, snap_x: float, snap_y: float, last_time: float, last_event: string, season: int]"
      ]
     },
     "execution_count": 17,
     "metadata": {},
     "output_type": "execute_result"
    }
   ],
   "source": [
    "_tracks = tracks.join(tough_playlist[['PlayKey','GameID']],['PlayKey'],'left_outer')\n",
    "_tracks = _tracks.join(games,['GameID'],'left_outer')\n",
    "_tracks.persist(StorageLevel.MEMORY_ONLY)"
   ]
  },
  {
   "cell_type": "code",
   "execution_count": null,
   "metadata": {},
   "outputs": [],
   "source": []
  },
  {
   "cell_type": "code",
   "execution_count": 18,
   "metadata": {},
   "outputs": [],
   "source": [
    "# Fix orientation\n",
    "# Assume other seasons based on direction at snap - if orientation at snap is outside normal range, shift.\n",
    "s1 = _tracks.select('PlayKey').where('event == \"ball_snap\" and o < 50 and season is null').distinct().collect()\n",
    "s2 = _tracks.select('PlayKey').where('event == \"ball_snap\" and o > 325 and season is null').distinct().collect()\n",
    "s3 = _tracks.select('PlayKey').where('event == \"ball_snap\" and o < 225 and o > 125 and season is null').distinct().collect()\n",
    "\n",
    "def get(x, field='PlayKey'):\n",
    "    return [i[field] for i in x]\n",
    "\n",
    "abnormal_playkey = get(s1)+get(s2)+get(s3)\n",
    "abnormal_playkey = list(set(abnormal_playkey))"
   ]
  },
  {
   "cell_type": "code",
   "execution_count": 19,
   "metadata": {},
   "outputs": [],
   "source": [
    "# all abnormal orientation record will be treated as session 1\n",
    "tracks = _tracks.withColumn('season', \n",
    "                            f.when(_tracks.season.isNull()\n",
    "                                   & _tracks.PlayKey.isin(abnormal_playkey),1).otherwise(f.col('season')))\n",
    "\n",
    "# all normal orientation record will be treated as session 2\n",
    "tracks = tracks.withColumn('season', \n",
    "                           f.when(tracks.season.isNull()\n",
    "                                  & ~tracks.PlayKey.isin(abnormal_playkey),2).otherwise(f.col('season')))\n",
    "# tracks.persist(StorageLevel.MEMORY_ONLY)"
   ]
  },
  {
   "cell_type": "code",
   "execution_count": 20,
   "metadata": {},
   "outputs": [],
   "source": [
    "# Change orientation for season 1\n",
    "clean_tracks = tracks.withColumn('o',f.when(f.col('season')== 1, (f.col('o')+90%360)).otherwise(f.col('o')))\n",
    "# clean_tracks.persist(StorageLevel.MEMORY_ONLY)"
   ]
  },
  {
   "cell_type": "code",
   "execution_count": 21,
   "metadata": {},
   "outputs": [],
   "source": [
    "# join clean track and playlist\n",
    "tracks = clean_tracks.join(playlist[['PlayKey','PlayerKey','RosterPosition','PositionGroup','FieldType','PlayType']], ['PlayKey'], 'inner')"
   ]
  },
  {
   "cell_type": "code",
   "execution_count": 22,
   "metadata": {},
   "outputs": [
    {
     "data": {
      "text/plain": [
       "DataFrame[PlayKey: string, GameID: string, time: float, event: string, x: float, y: float, dir: float, dis: string, o: float, s: float, snap_time: float, snap_x: float, snap_y: float, last_time: float, last_event: string, season: int, PlayerKey: string, RosterPosition: string, PositionGroup: string, FieldType: string, PlayType: string]"
      ]
     },
     "execution_count": 22,
     "metadata": {},
     "output_type": "execute_result"
    }
   ],
   "source": [
    "tracks.persist(StorageLevel.MEMORY_ONLY)"
   ]
  },
  {
   "cell_type": "code",
   "execution_count": null,
   "metadata": {},
   "outputs": [],
   "source": []
  },
  {
   "cell_type": "code",
   "execution_count": 23,
   "metadata": {},
   "outputs": [],
   "source": [
    "#load injury data\n",
    "injury = spark.read.option(\"header\",True).csv('../in/InjuryRecord.csv')\n",
    "\n",
    "injury_plays = injury.select('PlayKey').distinct().collect()\n",
    "injury_plays = get(injury_plays)\n",
    "\n",
    "injury_players = injury.select('PlayerKey').distinct().collect()\n",
    "injury_players = get(injury_players, field='PlayerKey')"
   ]
  },
  {
   "cell_type": "code",
   "execution_count": 24,
   "metadata": {},
   "outputs": [],
   "source": [
    "# only focus on 3 kind of position\n",
    "tracks = tracks.withColumn('isInjuryPronePos', \n",
    "                           f.when(tracks.PositionGroup.isin(['DB','WR','LB']),True).otherwise(False))\n",
    "\n",
    "# is player get injuryed in the play\n",
    "tracks = tracks.withColumn('isInjuryPlay', \n",
    "                           f.when(tracks.PlayKey.isin(injury_plays),True).otherwise(False))\n",
    "\n",
    "# is player rush or pass\n",
    "tracks = tracks.withColumn('isRushPass', \n",
    "                           f.when(tracks.PlayType.isin(['Rush','Pass']),True).otherwise(False))\n",
    "\n",
    "# is player ever get injuryed\n",
    "tracks = tracks.withColumn('isInjuredPlayer', \n",
    "                           f.when(tracks.PlayerKey.isin(injury_plays),True).otherwise(False))\n",
    "\n"
   ]
  },
  {
   "cell_type": "code",
   "execution_count": 25,
   "metadata": {},
   "outputs": [],
   "source": [
    "# Time since the snap (only remain the record that with in 25 seconds start at snapping a ball)\n",
    "tracks = tracks.withColumn('time_since_snap',tracks.time-tracks.snap_time)\n",
    "tracks = tracks.where('time_since_snap <= 25')"
   ]
  },
  {
   "cell_type": "code",
   "execution_count": 26,
   "metadata": {},
   "outputs": [
    {
     "data": {
      "text/plain": [
       "DataFrame[PlayKey: string, GameID: string, time: float, event: string, x: float, y: float, dir: float, dis: string, o: float, s: float, snap_time: float, snap_x: float, snap_y: float, last_time: float, last_event: string, season: int, PlayerKey: string, RosterPosition: string, PositionGroup: string, FieldType: string, PlayType: string, isInjuryPronePos: boolean, isInjuryPlay: boolean, isRushPass: boolean, isInjuredPlayer: boolean, time_since_snap: float]"
      ]
     },
     "execution_count": 26,
     "metadata": {},
     "output_type": "execute_result"
    }
   ],
   "source": [
    "tracks.persist(StorageLevel.MEMORY_ONLY)"
   ]
  },
  {
   "cell_type": "code",
   "execution_count": 53,
   "metadata": {},
   "outputs": [],
   "source": [
    "# def getODirDiff(o,d):\n",
    "#     diff1 = abs(o-d)\n",
    "#     diff2 = abs(o-(d-360))\n",
    "#     diff3 = abs(o-(d+360))\n",
    "#     return min([diff1,diff2,diff3])\n",
    "# fn = f.udf(getODirDiff, FloatType())\n",
    "# _tracks = tracks.rdd.map(getODirDiff)"
   ]
  },
  {
   "cell_type": "code",
   "execution_count": 101,
   "metadata": {},
   "outputs": [],
   "source": [
    "_tracks = tracks.withColumn('o_dir_diff1', f.abs(tracks.o-tracks.dir))\n",
    "_tracks = _tracks.withColumn('o_dir_diff2', f.abs(_tracks.o-(_tracks.dir-360)))\n",
    "_tracks = _tracks.withColumn('o_dir_diff3', f.abs(_tracks.o-(_tracks.dir+360)))\n",
    "_tracks = _tracks.withColumn('o_dir_diff', f.least(_tracks.o_dir_diff1,_tracks.o_dir_diff2,_tracks.o_dir_diff3))\n",
    "\n",
    "drop = ['o_dir_diff1', 'o_dir_diff2', 'o_dir_diff3']\n",
    "_tracks = _tracks.drop(*drop)"
   ]
  },
  {
   "cell_type": "code",
   "execution_count": 104,
   "metadata": {},
   "outputs": [],
   "source": [
    "# class the movement\n",
    "_tracks = _tracks.withColumn('movement', \n",
    "                           f.when(f.col('o_dir_diff') >= 45, 'abnormal')\\\n",
    "                           .otherwise('normal'))"
   ]
  },
  {
   "cell_type": "code",
   "execution_count": 105,
   "metadata": {},
   "outputs": [
    {
     "data": {
      "text/plain": [
       "DataFrame[PlayKey: string, GameID: string, time: float, event: string, x: float, y: float, dir: float, dis: string, o: float, s: float, snap_time: float, snap_x: float, snap_y: float, last_time: float, last_event: string, season: int, PlayerKey: string, RosterPosition: string, PositionGroup: string, FieldType: string, PlayType: string, isInjuryPronePos: boolean, isInjuryPlay: boolean, isRushPass: boolean, isInjuredPlayer: boolean, time_since_snap: float, o_dir_diff: float, movement: string, is_abnormal_movement: boolean]"
      ]
     },
     "execution_count": 105,
     "metadata": {},
     "output_type": "execute_result"
    }
   ],
   "source": [
    "# label is abnormal movement\n",
    "_tracks = _tracks.withColumn('is_abnormal_movement', \n",
    "                           f.when(f.col('movement') == 'normal', False)\\\n",
    "                           .otherwise(True))\n",
    "\n",
    "_tracks.persist(StorageLevel.MEMORY_ONLY)"
   ]
  },
  {
   "cell_type": "code",
   "execution_count": 116,
   "metadata": {},
   "outputs": [],
   "source": []
  },
  {
   "cell_type": "code",
   "execution_count": 117,
   "metadata": {},
   "outputs": [
    {
     "name": "stdout",
     "output_type": "stream",
     "text": [
      "+--------+------------+-------+\n",
      "|movement|isInjuryPlay|  count|\n",
      "+--------+------------+-------+\n",
      "|abnormal|        true|   1225|\n",
      "|  normal|       false|4721894|\n",
      "|  normal|        true|   1102|\n",
      "|abnormal|       false|3678244|\n",
      "+--------+------------+-------+\n",
      "\n"
     ]
    }
   ],
   "source": [
    "# show the ratio between movement and injury\n",
    "t_group = _tracks.where('isRushPass == True and isInjuryPronePos == True').groupby(['movement','isInjuryPlay']).count()\n",
    "t_group.show()"
   ]
  },
  {
   "cell_type": "code",
   "execution_count": 119,
   "metadata": {},
   "outputs": [
    {
     "name": "stdout",
     "output_type": "stream",
     "text": [
      "+--------+------------+-------------+-------+\n",
      "|movement|isInjuryPlay|PositionGroup|  count|\n",
      "+--------+------------+-------------+-------+\n",
      "|  normal|        true|           DL|    105|\n",
      "|abnormal|        true|           TE|     30|\n",
      "|abnormal|       false|           DB|1857120|\n",
      "|  normal|        true|           DB|    398|\n",
      "|abnormal|        true|           LB|    328|\n",
      "|  normal|        true|           OL|     81|\n",
      "|  normal|        true|           RB|    373|\n",
      "|  normal|       false|           QB| 164805|\n",
      "|  normal|       false|           TE| 228398|\n",
      "|  normal|       false|           DB|1582792|\n",
      "|abnormal|       false|           TE| 156864|\n",
      "|abnormal|       false|           WR| 695240|\n",
      "|  normal|       false|           OL|1245230|\n",
      "|abnormal|        true|           DL|    142|\n",
      "|  normal|       false|           RB| 358384|\n",
      "|  normal|       false|           WR|1804093|\n",
      "|abnormal|       false|           DL| 684476|\n",
      "|abnormal|       false|           OL|1492672|\n",
      "|abnormal|       false|           LB|1125884|\n",
      "|abnormal|       false|           RB| 258160|\n",
      "+--------+------------+-------------+-------+\n",
      "only showing top 20 rows\n",
      "\n",
      "[Row(movement='normal', isInjuryPlay=True, PositionGroup='DL', count=105), Row(movement='abnormal', isInjuryPlay=True, PositionGroup='TE', count=30), Row(movement='abnormal', isInjuryPlay=False, PositionGroup='DB', count=1857120), Row(movement='normal', isInjuryPlay=True, PositionGroup='DB', count=398), Row(movement='abnormal', isInjuryPlay=True, PositionGroup='LB', count=328), Row(movement='normal', isInjuryPlay=True, PositionGroup='OL', count=81), Row(movement='normal', isInjuryPlay=True, PositionGroup='RB', count=373), Row(movement='normal', isInjuryPlay=False, PositionGroup='QB', count=164805), Row(movement='normal', isInjuryPlay=False, PositionGroup='TE', count=228398), Row(movement='normal', isInjuryPlay=False, PositionGroup='DB', count=1582792), Row(movement='abnormal', isInjuryPlay=False, PositionGroup='TE', count=156864), Row(movement='abnormal', isInjuryPlay=False, PositionGroup='WR', count=695240), Row(movement='normal', isInjuryPlay=False, PositionGroup='OL', count=1245230), Row(movement='abnormal', isInjuryPlay=True, PositionGroup='DL', count=142), Row(movement='normal', isInjuryPlay=False, PositionGroup='RB', count=358384), Row(movement='normal', isInjuryPlay=False, PositionGroup='WR', count=1804093), Row(movement='abnormal', isInjuryPlay=False, PositionGroup='DL', count=684476), Row(movement='abnormal', isInjuryPlay=False, PositionGroup='OL', count=1492672), Row(movement='abnormal', isInjuryPlay=False, PositionGroup='LB', count=1125884), Row(movement='abnormal', isInjuryPlay=False, PositionGroup='RB', count=258160), Row(movement='abnormal', isInjuryPlay=True, PositionGroup='RB', count=127), Row(movement='normal', isInjuryPlay=True, PositionGroup='LB', count=247), Row(movement='normal', isInjuryPlay=False, PositionGroup='SPEC', count=20), Row(movement='abnormal', isInjuryPlay=True, PositionGroup='OL', count=215), Row(movement='normal', isInjuryPlay=True, PositionGroup='TE', count=37), Row(movement='normal', isInjuryPlay=True, PositionGroup='WR', count=457), Row(movement='abnormal', isInjuryPlay=True, PositionGroup='DB', count=611), Row(movement='abnormal', isInjuryPlay=False, PositionGroup='SPEC', count=78), Row(movement='abnormal', isInjuryPlay=True, PositionGroup='WR', count=286), Row(movement='normal', isInjuryPlay=False, PositionGroup='DL', count=958955), Row(movement='normal', isInjuryPlay=False, PositionGroup='LB', count=1335009), Row(movement='abnormal', isInjuryPlay=False, PositionGroup='QB', count=251696)]\n"
     ]
    }
   ],
   "source": [
    "# show the ratio between movement and injury and position\n",
    "t_group = _tracks.where('isRushPass == True').groupby(['movement','isInjuryPlay','PositionGroup']).count()\n",
    "t_group.show()\n",
    "c = t_group.collect()\n",
    "print(c)"
   ]
  },
  {
   "cell_type": "code",
   "execution_count": 120,
   "metadata": {},
   "outputs": [
    {
     "data": {
      "text/plain": [
       "[Row(movement='normal', isInjuryPlay=True, PositionGroup='DL', count=105),\n",
       " Row(movement='abnormal', isInjuryPlay=True, PositionGroup='TE', count=30),\n",
       " Row(movement='abnormal', isInjuryPlay=False, PositionGroup='DB', count=1857120),\n",
       " Row(movement='normal', isInjuryPlay=True, PositionGroup='DB', count=398),\n",
       " Row(movement='abnormal', isInjuryPlay=True, PositionGroup='LB', count=328),\n",
       " Row(movement='normal', isInjuryPlay=True, PositionGroup='OL', count=81),\n",
       " Row(movement='normal', isInjuryPlay=True, PositionGroup='RB', count=373),\n",
       " Row(movement='normal', isInjuryPlay=False, PositionGroup='QB', count=164805),\n",
       " Row(movement='normal', isInjuryPlay=False, PositionGroup='TE', count=228398),\n",
       " Row(movement='normal', isInjuryPlay=False, PositionGroup='DB', count=1582792),\n",
       " Row(movement='abnormal', isInjuryPlay=False, PositionGroup='TE', count=156864),\n",
       " Row(movement='abnormal', isInjuryPlay=False, PositionGroup='WR', count=695240),\n",
       " Row(movement='normal', isInjuryPlay=False, PositionGroup='OL', count=1245230),\n",
       " Row(movement='abnormal', isInjuryPlay=True, PositionGroup='DL', count=142),\n",
       " Row(movement='normal', isInjuryPlay=False, PositionGroup='RB', count=358384),\n",
       " Row(movement='normal', isInjuryPlay=False, PositionGroup='WR', count=1804093),\n",
       " Row(movement='abnormal', isInjuryPlay=False, PositionGroup='DL', count=684476),\n",
       " Row(movement='abnormal', isInjuryPlay=False, PositionGroup='OL', count=1492672),\n",
       " Row(movement='abnormal', isInjuryPlay=False, PositionGroup='LB', count=1125884),\n",
       " Row(movement='abnormal', isInjuryPlay=False, PositionGroup='RB', count=258160),\n",
       " Row(movement='abnormal', isInjuryPlay=True, PositionGroup='RB', count=127),\n",
       " Row(movement='normal', isInjuryPlay=True, PositionGroup='LB', count=247),\n",
       " Row(movement='normal', isInjuryPlay=False, PositionGroup='SPEC', count=20),\n",
       " Row(movement='abnormal', isInjuryPlay=True, PositionGroup='OL', count=215),\n",
       " Row(movement='normal', isInjuryPlay=True, PositionGroup='TE', count=37),\n",
       " Row(movement='normal', isInjuryPlay=True, PositionGroup='WR', count=457),\n",
       " Row(movement='abnormal', isInjuryPlay=True, PositionGroup='DB', count=611),\n",
       " Row(movement='abnormal', isInjuryPlay=False, PositionGroup='SPEC', count=78),\n",
       " Row(movement='abnormal', isInjuryPlay=True, PositionGroup='WR', count=286),\n",
       " Row(movement='normal', isInjuryPlay=False, PositionGroup='DL', count=958955),\n",
       " Row(movement='normal', isInjuryPlay=False, PositionGroup='LB', count=1335009),\n",
       " Row(movement='abnormal', isInjuryPlay=False, PositionGroup='QB', count=251696)]"
      ]
     },
     "execution_count": 120,
     "metadata": {},
     "output_type": "execute_result"
    }
   ],
   "source": [
    "c"
   ]
  },
  {
   "cell_type": "code",
   "execution_count": null,
   "metadata": {},
   "outputs": [],
   "source": []
  },
  {
   "cell_type": "code",
   "execution_count": 123,
   "metadata": {},
   "outputs": [
    {
     "name": "stdout",
     "output_type": "stream",
     "text": [
      "+------------+-----------------+\n",
      "|isInjuryPlay|        avg_speed|\n",
      "+------------+-----------------+\n",
      "|        true| 3.10926030685172|\n",
      "|       false|2.653949671597476|\n",
      "+------------+-----------------+\n",
      "\n"
     ]
    }
   ],
   "source": [
    "# show the ratio between speed and injury\n",
    "t_group = _tracks.select(['s','isInjuryPlay']).groupby('isInjuryPlay').agg(f.mean(\"s\").alias('avg_speed'))\n",
    "t_group.show()\n"
   ]
  },
  {
   "cell_type": "code",
   "execution_count": null,
   "metadata": {},
   "outputs": [],
   "source": []
  },
  {
   "cell_type": "code",
   "execution_count": 124,
   "metadata": {},
   "outputs": [
    {
     "name": "stdout",
     "output_type": "stream",
     "text": [
      "+------------+-------------+------------------+\n",
      "|isInjuryPlay|PositionGroup|         avg_speed|\n",
      "+------------+-------------+------------------+\n",
      "|       false|           QB|1.7420485825848817|\n",
      "|       false|           LB|2.7460349053845676|\n",
      "|       false|           DL|2.0877762101955106|\n",
      "|       false|           DB| 3.016076179816458|\n",
      "|       false|           WR|3.4822857157183225|\n",
      "|        true|           OL|1.6694932395995066|\n",
      "|       false|           TE|2.8337883323087016|\n",
      "|        true|           RB|3.3406400055103003|\n",
      "|       false|           OL|1.6539108777126899|\n",
      "|       false|           RB|3.0450795054005293|\n",
      "|        true|           WR|3.6077649545252855|\n",
      "|        true|           TE|3.8832836008783596|\n",
      "|        true|           DB|2.7249525200842264|\n",
      "|        true|           DL| 2.413724697161059|\n",
      "|        true|           LB| 3.426846961418319|\n",
      "|       false|         SPEC|1.7433133082294603|\n",
      "+------------+-------------+------------------+\n",
      "\n"
     ]
    }
   ],
   "source": [
    "# show the ratio between speed and injury\n",
    "t_group = _tracks.select(['s','isInjuryPlay','PositionGroup']).groupby('isInjuryPlay','PositionGroup').agg(f.mean(\"s\").alias('avg_speed'))\n",
    "t_group.show()\n",
    "c = t_group.collect()"
   ]
  },
  {
   "cell_type": "code",
   "execution_count": 125,
   "metadata": {},
   "outputs": [
    {
     "data": {
      "text/plain": [
       "[Row(isInjuryPlay=False, PositionGroup='QB', avg_speed=1.7420485825848817),\n",
       " Row(isInjuryPlay=False, PositionGroup='LB', avg_speed=2.7460349053845676),\n",
       " Row(isInjuryPlay=False, PositionGroup='DL', avg_speed=2.0877762101955106),\n",
       " Row(isInjuryPlay=False, PositionGroup='DB', avg_speed=3.016076179816458),\n",
       " Row(isInjuryPlay=False, PositionGroup='WR', avg_speed=3.4822857157183225),\n",
       " Row(isInjuryPlay=True, PositionGroup='OL', avg_speed=1.6694932395995066),\n",
       " Row(isInjuryPlay=False, PositionGroup='TE', avg_speed=2.8337883323087016),\n",
       " Row(isInjuryPlay=True, PositionGroup='RB', avg_speed=3.3406400055103003),\n",
       " Row(isInjuryPlay=False, PositionGroup='OL', avg_speed=1.6539108777126899),\n",
       " Row(isInjuryPlay=False, PositionGroup='RB', avg_speed=3.0450795054005293),\n",
       " Row(isInjuryPlay=True, PositionGroup='WR', avg_speed=3.6077649545252855),\n",
       " Row(isInjuryPlay=True, PositionGroup='TE', avg_speed=3.8832836008783596),\n",
       " Row(isInjuryPlay=True, PositionGroup='DB', avg_speed=2.7249525200842264),\n",
       " Row(isInjuryPlay=True, PositionGroup='DL', avg_speed=2.413724697161059),\n",
       " Row(isInjuryPlay=True, PositionGroup='LB', avg_speed=3.426846961418319),\n",
       " Row(isInjuryPlay=False, PositionGroup='SPEC', avg_speed=1.7433133082294603)]"
      ]
     },
     "execution_count": 125,
     "metadata": {},
     "output_type": "execute_result"
    }
   ],
   "source": [
    "c"
   ]
  },
  {
   "cell_type": "code",
   "execution_count": null,
   "metadata": {},
   "outputs": [],
   "source": []
  },
  {
   "cell_type": "code",
   "execution_count": 126,
   "metadata": {},
   "outputs": [
    {
     "name": "stdout",
     "output_type": "stream",
     "text": [
      "+--------+------------+-------+\n",
      "|movement|isInjuryPlay|  count|\n",
      "+--------+------------+-------+\n",
      "|abnormal|        true|   2272|\n",
      "|  normal|       false|8732590|\n",
      "|  normal|        true|   2676|\n",
      "|abnormal|       false|7220621|\n",
      "+--------+------------+-------+\n",
      "\n"
     ]
    }
   ],
   "source": [
    "# show the ratio between movement and injury\n",
    "t_group = _tracks.groupby(['movement','isInjuryPlay']).count()\n",
    "t_group.show()"
   ]
  },
  {
   "cell_type": "code",
   "execution_count": 127,
   "metadata": {},
   "outputs": [
    {
     "name": "stdout",
     "output_type": "stream",
     "text": [
      "+--------+------------+-------+\n",
      "|movement|isInjuryPlay|  count|\n",
      "+--------+------------+-------+\n",
      "|abnormal|        true|   1739|\n",
      "|  normal|       false|7677686|\n",
      "|  normal|        true|   1698|\n",
      "|abnormal|       false|6522190|\n",
      "+--------+------------+-------+\n",
      "\n"
     ]
    }
   ],
   "source": [
    "# show the ratio between movement and injury (no isInjuryPronePos)\n",
    "t_group = _tracks.where('isRushPass == True').groupby(['movement','isInjuryPlay']).count()\n",
    "t_group.show()"
   ]
  },
  {
   "cell_type": "code",
   "execution_count": null,
   "metadata": {},
   "outputs": [],
   "source": []
  },
  {
   "cell_type": "code",
   "execution_count": null,
   "metadata": {},
   "outputs": [],
   "source": []
  },
  {
   "cell_type": "code",
   "execution_count": 100,
   "metadata": {},
   "outputs": [],
   "source": [
    "# speed\n",
    "# player_mean_speed_df = df.rdd.map(lambda x: [x[0].split('-')[0], float(x[-1])]).toDF([\"playerKey\",\"s\"])\n",
    "# # remove extreme small speed\n",
    "# player_mean_speed_df = player_mean_speed_df.rdd.filter(lambda x:x.s >= 1).toDF([\"playerKey\",\"s\"])\n",
    "# # get average speed\n",
    "# player_mean_speed = player_mean_speed_df.groupBy('playerKey').agg(f.mean(\"s\").alias('mean'))\n",
    "# result = player_mean_speed.collect()"
   ]
  },
  {
   "cell_type": "code",
   "execution_count": null,
   "metadata": {},
   "outputs": [],
   "source": []
  },
  {
   "cell_type": "code",
   "execution_count": 90,
   "metadata": {},
   "outputs": [],
   "source": [
    "# add new col.\n",
    "# compute the difference between o and dir\n",
    "# def add_o_dir_diff(x):\n",
    "#     x = x.asDict()\n",
    "#     x['o_dir_diff'] = min([abs(x['o']-x['dir']),abs(x['o']-(x['dir']-360)),abs(x['o']-(x['dir']+360))])\n",
    "    \n",
    "#     x['is_forward_move'] = False\n",
    "#     x['is_sideway_move'] = False\n",
    "#     x['is_backward_move'] = False\n",
    "    \n",
    "#     if x['o_dir_diff'] <= 45:\n",
    "#         x['move_type'] = 'forward'\n",
    "#         x['is_forward_move'] = True\n",
    "#     elif x['o_dir_diff'] <= 135:\n",
    "#         x['move_type'] = 'sideway'\n",
    "#         x['is_sideway_move'] = True\n",
    "#     else:\n",
    "#         x['move_type'] = 'backward'\n",
    "#         x['is_backward_move'] = True\n",
    "        \n",
    "#     return Row(**x)\n",
    "\n",
    "\n",
    "# rdd = df.rdd.map(add_o_dir_diff)\n",
    "# df = rdd.toDF()"
   ]
  }
 ],
 "metadata": {
  "kernelspec": {
   "display_name": "Python 3",
   "language": "python",
   "name": "python3"
  },
  "language_info": {
   "codemirror_mode": {
    "name": "ipython",
    "version": 3
   },
   "file_extension": ".py",
   "mimetype": "text/x-python",
   "name": "python",
   "nbconvert_exporter": "python",
   "pygments_lexer": "ipython3",
   "version": "3.7.6"
  }
 },
 "nbformat": 4,
 "nbformat_minor": 4
}
