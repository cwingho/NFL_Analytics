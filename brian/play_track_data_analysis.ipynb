{
 "cells": [
  {
   "cell_type": "code",
   "execution_count": 38,
   "metadata": {},
   "outputs": [],
   "source": [
    "from pyspark import SparkContext\n",
    "from pyspark.sql import SQLContext\n",
    "import pyspark.sql.functions as f\n",
    "from pyspark.sql import Row\n",
    "import sys\n",
    "import numpy as np"
   ]
  },
  {
   "cell_type": "code",
   "execution_count": 3,
   "metadata": {},
   "outputs": [],
   "source": [
    "sc = SparkContext(\"local[*]\", \"NFL\")"
   ]
  },
  {
   "cell_type": "code",
   "execution_count": 4,
   "metadata": {},
   "outputs": [],
   "source": [
    "rdd = sc.textFile('../in/PlayerTrackData.csv')"
   ]
  },
  {
   "cell_type": "code",
   "execution_count": 5,
   "metadata": {},
   "outputs": [
    {
     "data": {
      "text/plain": [
       "['PlayKey,time,event,x,y,dir,dis,o,s']"
      ]
     },
     "execution_count": 5,
     "metadata": {},
     "output_type": "execute_result"
    }
   ],
   "source": [
    "# show header\n",
    "rdd.take(1)"
   ]
  },
  {
   "cell_type": "code",
   "execution_count": 6,
   "metadata": {},
   "outputs": [],
   "source": [
    "# remove header\n",
    "rdd = rdd.filter(lambda x: 'PlayKey' not in x)"
   ]
  },
  {
   "cell_type": "code",
   "execution_count": 7,
   "metadata": {},
   "outputs": [],
   "source": [
    "# split the col\n",
    "rdd = rdd.map(lambda x: x.split(','))"
   ]
  },
  {
   "cell_type": "code",
   "execution_count": 8,
   "metadata": {},
   "outputs": [],
   "source": [
    "# convert to dataframe object\n",
    "sqlContext = SQLContext(sc)\n",
    "df = rdd.toDF(['PlayKey','time','event','x','y','dir','dis','o','s'])\n",
    "\n",
    "# if df want to use rdd function\n",
    "# just df.rdd.xxx()"
   ]
  },
  {
   "cell_type": "code",
   "execution_count": 9,
   "metadata": {},
   "outputs": [
    {
     "name": "stdout",
     "output_type": "stream",
     "text": [
      "+---------+----+\n",
      "|  PlayKey|   s|\n",
      "+---------+----+\n",
      "|26624-1-1|0.13|\n",
      "|26624-1-1|0.12|\n",
      "|26624-1-1|0.12|\n",
      "|26624-1-1| 0.1|\n",
      "|26624-1-1|0.09|\n",
      "|26624-1-1|0.07|\n",
      "|26624-1-1|0.05|\n",
      "|26624-1-1|0.02|\n",
      "|26624-1-1|0.01|\n",
      "|26624-1-1|0.01|\n",
      "|26624-1-1| 0.0|\n",
      "|26624-1-1|0.01|\n",
      "|26624-1-1|0.01|\n",
      "|26624-1-1|0.01|\n",
      "|26624-1-1| 0.0|\n",
      "|26624-1-1|0.01|\n",
      "|26624-1-1| 0.0|\n",
      "|26624-1-1| 0.0|\n",
      "|26624-1-1| 0.0|\n",
      "|26624-1-1| 0.0|\n",
      "+---------+----+\n",
      "only showing top 20 rows\n",
      "\n"
     ]
    }
   ],
   "source": [
    "df.select('PlayKey','s').show()"
   ]
  },
  {
   "cell_type": "code",
   "execution_count": 10,
   "metadata": {},
   "outputs": [
    {
     "name": "stdout",
     "output_type": "stream",
     "text": [
      "root\n",
      " |-- PlayKey: string (nullable = true)\n",
      " |-- time: string (nullable = true)\n",
      " |-- event: string (nullable = true)\n",
      " |-- x: string (nullable = true)\n",
      " |-- y: string (nullable = true)\n",
      " |-- dir: string (nullable = true)\n",
      " |-- dis: string (nullable = true)\n",
      " |-- o: string (nullable = true)\n",
      " |-- s: string (nullable = true)\n",
      "\n"
     ]
    }
   ],
   "source": [
    "# printSchema\n",
    "df.printSchema()"
   ]
  },
  {
   "cell_type": "code",
   "execution_count": 13,
   "metadata": {},
   "outputs": [],
   "source": [
    "# player_mean_speed_df = df.rdd.map(lambda x: [x[0].split('-')[0], float(x[-1])]).toDF([\"playerKey\",\"s\"])\n",
    "# # remove extreme small speed\n",
    "# player_mean_speed_df = player_mean_speed_df.rdd.filter(lambda x:x.s >= 1).toDF([\"playerKey\",\"s\"])\n",
    "# # get average speed\n",
    "# player_mean_speed = player_mean_speed_df.groupBy('playerKey').agg(f.mean(\"s\").alias('mean'))\n",
    "# result = player_mean_speed.collect()"
   ]
  },
  {
   "cell_type": "code",
   "execution_count": null,
   "metadata": {},
   "outputs": [],
   "source": []
  },
  {
   "cell_type": "code",
   "execution_count": 17,
   "metadata": {},
   "outputs": [],
   "source": [
    "# convert string to float\n",
    "df = df.withColumn(\"s\", df.s.cast('float').alias(\"s\"))\n",
    "df = df.withColumn(\"o\", df.o.cast('float').alias(\"o\"))\n",
    "df = df.withColumn(\"dir\", df.dir.cast('float').alias(\"dir\"))"
   ]
  },
  {
   "cell_type": "code",
   "execution_count": 18,
   "metadata": {},
   "outputs": [
    {
     "name": "stdout",
     "output_type": "stream",
     "text": [
      "root\n",
      " |-- PlayKey: string (nullable = true)\n",
      " |-- time: string (nullable = true)\n",
      " |-- event: string (nullable = true)\n",
      " |-- x: string (nullable = true)\n",
      " |-- y: string (nullable = true)\n",
      " |-- dir: float (nullable = true)\n",
      " |-- dis: string (nullable = true)\n",
      " |-- o: float (nullable = true)\n",
      " |-- s: float (nullable = true)\n",
      "\n"
     ]
    }
   ],
   "source": [
    "df.printSchema()"
   ]
  },
  {
   "cell_type": "code",
   "execution_count": 45,
   "metadata": {},
   "outputs": [],
   "source": [
    "# add new col.\n",
    "# compute the difference between o and dir\n",
    "# df.withColumn('o_dir_diff',min([np.abs(df.o-df.dir),np.abs(df.o-(df.dir-360)),np.abs(df.o-(df.dir+360))]))\n",
    "\n",
    "\n",
    "def add_o_dir_diff(x):\n",
    "    x = x.asDict()\n",
    "    x['o_dir_diff'] = min([abs(x['o']-x['dir']),abs(x['o']-(x['dir']-360)),abs(x['o']-(x['dir']+360))])\n",
    "    \n",
    "    if x['o_dir_diff'] <= 45:\n",
    "        x['move_type'] = 'forward'\n",
    "    elif x['o_dir_diff'] <= 135:\n",
    "        x['move_type'] = 'sideway'\n",
    "    else:\n",
    "        x['move_type'] = 'backward'\n",
    "        \n",
    "    return Row(**x)\n",
    "\n",
    "rdd = df.rdd.map(add_o_dir_diff)"
   ]
  },
  {
   "cell_type": "code",
   "execution_count": 46,
   "metadata": {},
   "outputs": [
    {
     "data": {
      "text/plain": [
       "[Row(PlayKey='26624-1-1', dir=288.239990234375, dis='0.01', event='huddle_start_offense', move_type='forward', o=262.3299865722656, o_dir_diff=25.910003662109375, s=0.12999999523162842, time='0.0', x='87.46', y='28.93'),\n",
       " Row(PlayKey='26624-1-1', dir=283.9100036621094, dis='0.01', event='', move_type='forward', o=261.69000244140625, o_dir_diff=22.220001220703125, s=0.11999999731779099, time='0.1', x='87.45', y='28.92'),\n",
       " Row(PlayKey='26624-1-1', dir=280.3999938964844, dis='0.01', event='', move_type='forward', o=261.1700134277344, o_dir_diff=19.22998046875, s=0.11999999731779099, time='0.2', x='87.44', y='28.92'),\n",
       " Row(PlayKey='26624-1-1', dir=278.7900085449219, dis='0.01', event='', move_type='forward', o=260.6600036621094, o_dir_diff=18.1300048828125, s=0.10000000149011612, time='0.3', x='87.44', y='28.92'),\n",
       " Row(PlayKey='26624-1-1', dir=275.44000244140625, dis='0.01', event='', move_type='forward', o=260.2699890136719, o_dir_diff=15.170013427734375, s=0.09000000357627869, time='0.4', x='87.44', y='28.92'),\n",
       " Row(PlayKey='26624-1-1', dir=270.05999755859375, dis='0.01', event='', move_type='forward', o=260.0799865722656, o_dir_diff=9.980010986328125, s=0.07000000029802322, time='0.5', x='87.45', y='28.92'),\n",
       " Row(PlayKey='26624-1-1', dir=265.04998779296875, dis='0.01', event='', move_type='forward', o=260.04998779296875, o_dir_diff=5.0, s=0.05000000074505806, time='0.6', x='87.46', y='28.92'),\n",
       " Row(PlayKey='26624-1-1', dir=255.75, dis='0.0', event='', move_type='forward', o=260.2799987792969, o_dir_diff=4.529998779296875, s=0.019999999552965164, time='0.7', x='87.46', y='28.92'),\n",
       " Row(PlayKey='26624-1-1', dir=244.55999755859375, dis='0.0', event='', move_type='forward', o=260.7200012207031, o_dir_diff=16.160003662109375, s=0.009999999776482582, time='0.8', x='87.46', y='28.92'),\n",
       " Row(PlayKey='26624-1-1', dir=220.57000732421875, dis='0.0', event='', move_type='forward', o=261.260009765625, o_dir_diff=40.69000244140625, s=0.009999999776482582, time='0.9', x='87.46', y='28.92'),\n",
       " Row(PlayKey='26624-1-1', dir=188.4199981689453, dis='0.0', event='', move_type='sideway', o=261.7900085449219, o_dir_diff=73.37001037597656, s=0.0, time='1.0', x='87.46', y='28.92'),\n",
       " Row(PlayKey='26624-1-1', dir=118.12000274658203, dis='0.0', event='', move_type='backward', o=262.32000732421875, o_dir_diff=144.20000457763672, s=0.009999999776482582, time='1.1', x='87.46', y='28.92'),\n",
       " Row(PlayKey='26624-1-1', dir=105.26000213623047, dis='0.0', event='', move_type='backward', o=262.8299865722656, o_dir_diff=157.56998443603516, s=0.009999999776482582, time='1.2', x='87.45', y='28.92'),\n",
       " Row(PlayKey='26624-1-1', dir=117.94999694824219, dis='0.0', event='', move_type='backward', o=263.2900085449219, o_dir_diff=145.3400115966797, s=0.009999999776482582, time='1.3', x='87.45', y='28.92'),\n",
       " Row(PlayKey='26624-1-1', dir=177.22000122070312, dis='0.0', event='', move_type='sideway', o=263.7200012207031, o_dir_diff=86.5, s=0.0, time='1.4', x='87.45', y='28.92'),\n",
       " Row(PlayKey='26624-1-1', dir=227.38999938964844, dis='0.0', event='', move_type='forward', o=264.1199951171875, o_dir_diff=36.72999572753906, s=0.009999999776482582, time='1.5', x='87.45', y='28.92'),\n",
       " Row(PlayKey='26624-1-1', dir=235.3800048828125, dis='0.0', event='', move_type='forward', o=264.5199890136719, o_dir_diff=29.139984130859375, s=0.0, time='1.6', x='87.45', y='28.92'),\n",
       " Row(PlayKey='26624-1-1', dir=245.8699951171875, dis='0.0', event='', move_type='forward', o=264.8900146484375, o_dir_diff=19.02001953125, s=0.0, time='1.7', x='87.45', y='28.92'),\n",
       " Row(PlayKey='26624-1-1', dir=246.83999633789062, dis='0.0', event='', move_type='forward', o=265.2099914550781, o_dir_diff=18.3699951171875, s=0.0, time='1.8', x='87.45', y='28.92'),\n",
       " Row(PlayKey='26624-1-1', dir=219.6999969482422, dis='0.0', event='', move_type='sideway', o=265.489990234375, o_dir_diff=45.78999328613281, s=0.0, time='1.9', x='87.45', y='28.92')]"
      ]
     },
     "execution_count": 46,
     "metadata": {},
     "output_type": "execute_result"
    }
   ],
   "source": [
    "rdd.take(20)"
   ]
  },
  {
   "cell_type": "code",
   "execution_count": null,
   "metadata": {},
   "outputs": [],
   "source": []
  }
 ],
 "metadata": {
  "kernelspec": {
   "display_name": "Python 3",
   "language": "python",
   "name": "python3"
  },
  "language_info": {
   "codemirror_mode": {
    "name": "ipython",
    "version": 3
   },
   "file_extension": ".py",
   "mimetype": "text/x-python",
   "name": "python",
   "nbconvert_exporter": "python",
   "pygments_lexer": "ipython3",
   "version": "3.7.6"
  }
 },
 "nbformat": 4,
 "nbformat_minor": 4
}
