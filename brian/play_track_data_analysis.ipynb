{
 "cells": [
  {
   "cell_type": "code",
   "execution_count": 51,
   "metadata": {},
   "outputs": [],
   "source": [
    "from pyspark import SparkContext\n",
    "from pyspark.sql import SQLContext\n",
    "import pyspark.sql.functions as f\n",
    "from pyspark.sql import Row\n",
    "from pyspark import StorageLevel\n",
    "from pyspark.sql import SparkSession\n",
    "import sys\n",
    "import numpy as np"
   ]
  },
  {
   "cell_type": "code",
   "execution_count": 2,
   "metadata": {},
   "outputs": [],
   "source": [
    "sc = SparkContext(\"local[*]\", \"NFL\")"
   ]
  },
  {
   "cell_type": "code",
   "execution_count": 3,
   "metadata": {},
   "outputs": [],
   "source": [
    "rdd = sc.textFile('../in/PlayerTrackData.csv')"
   ]
  },
  {
   "cell_type": "code",
   "execution_count": 4,
   "metadata": {},
   "outputs": [
    {
     "data": {
      "text/plain": [
       "['PlayKey,time,event,x,y,dir,dis,o,s']"
      ]
     },
     "execution_count": 4,
     "metadata": {},
     "output_type": "execute_result"
    }
   ],
   "source": [
    "# show header\n",
    "rdd.take(1)"
   ]
  },
  {
   "cell_type": "code",
   "execution_count": 5,
   "metadata": {},
   "outputs": [],
   "source": [
    "# remove header\n",
    "rdd = rdd.filter(lambda x: 'PlayKey' not in x)"
   ]
  },
  {
   "cell_type": "code",
   "execution_count": 6,
   "metadata": {},
   "outputs": [],
   "source": [
    "# split the col\n",
    "rdd = rdd.map(lambda x: x.split(','))"
   ]
  },
  {
   "cell_type": "code",
   "execution_count": 7,
   "metadata": {},
   "outputs": [],
   "source": [
    "# remove row if missing some value\n",
    "# rdd = rdd.filter(lambda x: x[5] != '' and x[7] != '')"
   ]
  },
  {
   "cell_type": "code",
   "execution_count": 8,
   "metadata": {},
   "outputs": [],
   "source": [
    "# convert to dataframe object\n",
    "sqlContext = SQLContext(sc)\n",
    "df = rdd.toDF(['PlayKey','time','event','x','y','dir','dis','o','s'])\n",
    "\n",
    "# if df want to use rdd function\n",
    "# just df.rdd.xxx()"
   ]
  },
  {
   "cell_type": "code",
   "execution_count": 9,
   "metadata": {},
   "outputs": [
    {
     "name": "stdout",
     "output_type": "stream",
     "text": [
      "+---------+----+\n",
      "|  PlayKey|   s|\n",
      "+---------+----+\n",
      "|26624-1-1|0.13|\n",
      "|26624-1-1|0.12|\n",
      "|26624-1-1|0.12|\n",
      "|26624-1-1| 0.1|\n",
      "|26624-1-1|0.09|\n",
      "|26624-1-1|0.07|\n",
      "|26624-1-1|0.05|\n",
      "|26624-1-1|0.02|\n",
      "|26624-1-1|0.01|\n",
      "|26624-1-1|0.01|\n",
      "|26624-1-1| 0.0|\n",
      "|26624-1-1|0.01|\n",
      "|26624-1-1|0.01|\n",
      "|26624-1-1|0.01|\n",
      "|26624-1-1| 0.0|\n",
      "|26624-1-1|0.01|\n",
      "|26624-1-1| 0.0|\n",
      "|26624-1-1| 0.0|\n",
      "|26624-1-1| 0.0|\n",
      "|26624-1-1| 0.0|\n",
      "+---------+----+\n",
      "only showing top 20 rows\n",
      "\n"
     ]
    }
   ],
   "source": [
    "df.select('PlayKey','s').show()"
   ]
  },
  {
   "cell_type": "code",
   "execution_count": 10,
   "metadata": {},
   "outputs": [
    {
     "name": "stdout",
     "output_type": "stream",
     "text": [
      "root\n",
      " |-- PlayKey: string (nullable = true)\n",
      " |-- time: string (nullable = true)\n",
      " |-- event: string (nullable = true)\n",
      " |-- x: string (nullable = true)\n",
      " |-- y: string (nullable = true)\n",
      " |-- dir: string (nullable = true)\n",
      " |-- dis: string (nullable = true)\n",
      " |-- o: string (nullable = true)\n",
      " |-- s: string (nullable = true)\n",
      "\n"
     ]
    }
   ],
   "source": [
    "# printSchema\n",
    "df.printSchema()"
   ]
  },
  {
   "cell_type": "code",
   "execution_count": 14,
   "metadata": {},
   "outputs": [
    {
     "data": {
      "text/plain": [
       "DataFrame[PlayKey: string, time: string, event: string, x: string, y: string, dir: string, dis: string, o: string, s: string, snap_time: string, snap_x: string, snap_y: string]"
      ]
     },
     "execution_count": 14,
     "metadata": {},
     "output_type": "execute_result"
    }
   ],
   "source": [
    "# get all ball_snap play record\n",
    "ball_snap_tracks = df.select('*').where(\"event == 'ball_snap'\")\n",
    "# rename x,y,time for ball snap\n",
    "drop_list = ['dir','dis','o','event','s']\n",
    "ball_snap_tracks = ball_snap_tracks.withColumnRenamed('x','snap_x').withColumnRenamed('y','snap_y').withColumnRenamed('time','snap_time').drop(*drop_list)\n",
    "# join two table (orign tracks and tracks only contained ball_snap event)\n",
    "tracks = df.join(ball_snap_tracks, ['PlayKey'], \"left_outer\")\n",
    "# remove any data for a play 0.1 second before snap\n",
    "tracks = tracks.select('*').where('time >= (snap_time - 0.1)')\n",
    "# tracks.persist(StorageLevel.MEMORY_ONLY)\n"
   ]
  },
  {
   "cell_type": "code",
   "execution_count": 34,
   "metadata": {
    "scrolled": true
   },
   "outputs": [
    {
     "name": "stdout",
     "output_type": "stream",
     "text": [
      "37087421\n",
      "+-----------+----+---------+-----+-----+------+----+-----+----+---------+------+------+\n",
      "|    PlayKey|time|    event|    x|    y|   dir| dis|    o|   s|snap_time|snap_x|snap_y|\n",
      "+-----------+----+---------+-----+-----+------+----+-----+----+---------+------+------+\n",
      "|26624-13-32|19.4|         |19.85| 23.9|267.19| 0.0|15.21|0.29|     19.5| 19.85|  23.9|\n",
      "|26624-13-32|19.5|ball_snap|19.85| 23.9|266.62| 0.0|15.32|0.51|     19.5| 19.85|  23.9|\n",
      "|26624-13-32|19.6|         |19.84| 23.9|266.04| 0.0|15.48|0.68|     19.5| 19.85|  23.9|\n",
      "|26624-13-32|19.7|         |19.84| 23.9|265.88| 0.0|15.85| 0.8|     19.5| 19.85|  23.9|\n",
      "|26624-13-32|19.8|         |19.84| 23.9|265.98| 0.0|16.76|0.89|     19.5| 19.85|  23.9|\n",
      "|26624-13-32|19.9|         |19.83| 23.9|266.15|0.01|18.18|0.96|     19.5| 19.85|  23.9|\n",
      "|26624-13-32|20.0|         |19.82| 23.9|266.43|0.01| 19.8|1.03|     19.5| 19.85|  23.9|\n",
      "|26624-13-32|20.1|         | 19.8| 23.9| 266.2|0.02|21.42|1.11|     19.5| 19.85|  23.9|\n",
      "|26624-13-32|20.2|         |19.67| 23.9|267.22|0.12|23.02|1.16|     19.5| 19.85|  23.9|\n",
      "|26624-13-32|20.3|         |19.32|23.87|268.67|0.36|24.85| 1.2|     19.5| 19.85|  23.9|\n",
      "|26624-13-32|20.4|         |18.93|23.84|270.45|0.39|26.79|1.25|     19.5| 19.85|  23.9|\n",
      "|26624-13-32|20.5|         |18.62|23.81|272.09|0.31| 28.8|1.28|     19.5| 19.85|  23.9|\n",
      "|26624-13-32|20.6|         |18.41|23.79|274.16|0.21|30.57| 1.3|     19.5| 19.85|  23.9|\n",
      "|26624-13-32|20.7|         |18.25|23.79|276.21|0.16| 32.1|1.32|     19.5| 19.85|  23.9|\n",
      "|26624-13-32|20.8|         |18.11|23.78|278.05|0.13|33.36|1.32|     19.5| 19.85|  23.9|\n",
      "|26624-13-32|20.9|         |17.99|23.78|279.52|0.12|34.32|1.32|     19.5| 19.85|  23.9|\n",
      "|26624-13-32|21.0|         |17.85|23.77|280.74|0.14|34.57|1.31|     19.5| 19.85|  23.9|\n",
      "|26624-13-32|21.1|         |17.76| 23.8| 283.5|0.09|34.04|1.26|     19.5| 19.85|  23.9|\n",
      "|26624-13-32|21.2|         |17.68|23.85|289.14| 0.1|33.67|1.14|     19.5| 19.85|  23.9|\n",
      "|26624-13-32|21.3|         | 17.6|23.92|295.25| 0.1|33.72|0.99|     19.5| 19.85|  23.9|\n",
      "+-----------+----+---------+-----+-----+------+----+-----+----+---------+------+------+\n",
      "only showing top 20 rows\n",
      "\n"
     ]
    }
   ],
   "source": [
    "l = tracks.count()\n",
    "print(l)\n",
    "tracks.show()"
   ]
  },
  {
   "cell_type": "code",
   "execution_count": 46,
   "metadata": {},
   "outputs": [
    {
     "name": "stdout",
     "output_type": "stream",
     "text": [
      "+-----------+----+---------+-----+-----+------+----+-----+----+---------+------+------+---------+--------------------+\n",
      "|    PlayKey|time|    event|    x|    y|   dir| dis|    o|   s|snap_time|snap_x|snap_y|last_time|          last_event|\n",
      "+-----------+----+---------+-----+-----+------+----+-----+----+---------+------+------+---------+--------------------+\n",
      "|26624-13-32|19.4|         |19.85| 23.9|267.19| 0.0|15.21|0.29|     19.5| 19.85|  23.9|     23.6|pass_outcome_inco...|\n",
      "|26624-13-32|19.5|ball_snap|19.85| 23.9|266.62| 0.0|15.32|0.51|     19.5| 19.85|  23.9|     23.6|pass_outcome_inco...|\n",
      "|26624-13-32|19.6|         |19.84| 23.9|266.04| 0.0|15.48|0.68|     19.5| 19.85|  23.9|     23.6|pass_outcome_inco...|\n",
      "|26624-13-32|19.7|         |19.84| 23.9|265.88| 0.0|15.85| 0.8|     19.5| 19.85|  23.9|     23.6|pass_outcome_inco...|\n",
      "|26624-13-32|19.8|         |19.84| 23.9|265.98| 0.0|16.76|0.89|     19.5| 19.85|  23.9|     23.6|pass_outcome_inco...|\n",
      "|26624-13-32|19.9|         |19.83| 23.9|266.15|0.01|18.18|0.96|     19.5| 19.85|  23.9|     23.6|pass_outcome_inco...|\n",
      "|26624-13-32|20.0|         |19.82| 23.9|266.43|0.01| 19.8|1.03|     19.5| 19.85|  23.9|     23.6|pass_outcome_inco...|\n",
      "|26624-13-32|20.1|         | 19.8| 23.9| 266.2|0.02|21.42|1.11|     19.5| 19.85|  23.9|     23.6|pass_outcome_inco...|\n",
      "|26624-13-32|20.2|         |19.67| 23.9|267.22|0.12|23.02|1.16|     19.5| 19.85|  23.9|     23.6|pass_outcome_inco...|\n",
      "|26624-13-32|20.3|         |19.32|23.87|268.67|0.36|24.85| 1.2|     19.5| 19.85|  23.9|     23.6|pass_outcome_inco...|\n",
      "|26624-13-32|20.4|         |18.93|23.84|270.45|0.39|26.79|1.25|     19.5| 19.85|  23.9|     23.6|pass_outcome_inco...|\n",
      "|26624-13-32|20.5|         |18.62|23.81|272.09|0.31| 28.8|1.28|     19.5| 19.85|  23.9|     23.6|pass_outcome_inco...|\n",
      "|26624-13-32|20.6|         |18.41|23.79|274.16|0.21|30.57| 1.3|     19.5| 19.85|  23.9|     23.6|pass_outcome_inco...|\n",
      "|26624-13-32|20.7|         |18.25|23.79|276.21|0.16| 32.1|1.32|     19.5| 19.85|  23.9|     23.6|pass_outcome_inco...|\n",
      "|26624-13-32|20.8|         |18.11|23.78|278.05|0.13|33.36|1.32|     19.5| 19.85|  23.9|     23.6|pass_outcome_inco...|\n",
      "|26624-13-32|20.9|         |17.99|23.78|279.52|0.12|34.32|1.32|     19.5| 19.85|  23.9|     23.6|pass_outcome_inco...|\n",
      "|26624-13-32|21.0|         |17.85|23.77|280.74|0.14|34.57|1.31|     19.5| 19.85|  23.9|     23.6|pass_outcome_inco...|\n",
      "|26624-13-32|21.1|         |17.76| 23.8| 283.5|0.09|34.04|1.26|     19.5| 19.85|  23.9|     23.6|pass_outcome_inco...|\n",
      "|26624-13-32|21.2|         |17.68|23.85|289.14| 0.1|33.67|1.14|     19.5| 19.85|  23.9|     23.6|pass_outcome_inco...|\n",
      "|26624-13-32|21.3|         | 17.6|23.92|295.25| 0.1|33.72|0.99|     19.5| 19.85|  23.9|     23.6|pass_outcome_inco...|\n",
      "+-----------+----+---------+-----+-----+------+----+-----+----+---------+------+------+---------+--------------------+\n",
      "only showing top 20 rows\n",
      "\n",
      "15061907\n"
     ]
    }
   ],
   "source": [
    "# get last event and lasr time of each playkey\n",
    "last_event_tracks = tracks.where('event != \"\"').groupBy('PlayKey').agg(f.max('time').alias('time'))\n",
    "\n",
    "# join tracks record and last event tracks record\n",
    "last_event_tracks = tracks.join(last_event_tracks, ['PlayKey','time'], \"inner\")\n",
    "last_event_tracks = last_event_tracks[last_event_tracks.PlayKey,last_event_tracks.time,last_event_tracks.event]\n",
    "last_event_tracks = last_event_tracks.withColumnRenamed('time','last_time').withColumnRenamed('event','last_event')\n",
    "tracks = tracks.join(last_event_tracks, ['PlayKey'], 'left_outer')\n",
    "\n",
    "# Remove any data for a play 0.1 second after last event\n",
    "tracks = tracks.select('*').where('time <= (last_time + 0.1)')\n",
    "tracks.persist(StorageLevel.MEMORY_ONLY)\n",
    "tracks.show()\n",
    "l = tracks.count()\n",
    "print(l)\n"
   ]
  },
  {
   "cell_type": "code",
   "execution_count": 48,
   "metadata": {},
   "outputs": [
    {
     "data": {
      "text/plain": [
       "[Row(PlayKey='26624-13-32', time='19.4', event='', x='19.85', y='23.9', dir='267.19', dis='0.0', o='15.21', s='0.29', snap_time='19.5', snap_x='19.85', snap_y='23.9', last_time='23.6', last_event='pass_outcome_incomplete'),\n",
       " Row(PlayKey='26624-13-32', time='19.5', event='ball_snap', x='19.85', y='23.9', dir='266.62', dis='0.0', o='15.32', s='0.51', snap_time='19.5', snap_x='19.85', snap_y='23.9', last_time='23.6', last_event='pass_outcome_incomplete'),\n",
       " Row(PlayKey='26624-13-32', time='19.6', event='', x='19.84', y='23.9', dir='266.04', dis='0.0', o='15.48', s='0.68', snap_time='19.5', snap_x='19.85', snap_y='23.9', last_time='23.6', last_event='pass_outcome_incomplete'),\n",
       " Row(PlayKey='26624-13-32', time='19.7', event='', x='19.84', y='23.9', dir='265.88', dis='0.0', o='15.85', s='0.8', snap_time='19.5', snap_x='19.85', snap_y='23.9', last_time='23.6', last_event='pass_outcome_incomplete'),\n",
       " Row(PlayKey='26624-13-32', time='19.8', event='', x='19.84', y='23.9', dir='265.98', dis='0.0', o='16.76', s='0.89', snap_time='19.5', snap_x='19.85', snap_y='23.9', last_time='23.6', last_event='pass_outcome_incomplete'),\n",
       " Row(PlayKey='26624-13-32', time='19.9', event='', x='19.83', y='23.9', dir='266.15', dis='0.01', o='18.18', s='0.96', snap_time='19.5', snap_x='19.85', snap_y='23.9', last_time='23.6', last_event='pass_outcome_incomplete'),\n",
       " Row(PlayKey='26624-13-32', time='20.0', event='', x='19.82', y='23.9', dir='266.43', dis='0.01', o='19.8', s='1.03', snap_time='19.5', snap_x='19.85', snap_y='23.9', last_time='23.6', last_event='pass_outcome_incomplete'),\n",
       " Row(PlayKey='26624-13-32', time='20.1', event='', x='19.8', y='23.9', dir='266.2', dis='0.02', o='21.42', s='1.11', snap_time='19.5', snap_x='19.85', snap_y='23.9', last_time='23.6', last_event='pass_outcome_incomplete'),\n",
       " Row(PlayKey='26624-13-32', time='20.2', event='', x='19.67', y='23.9', dir='267.22', dis='0.12', o='23.02', s='1.16', snap_time='19.5', snap_x='19.85', snap_y='23.9', last_time='23.6', last_event='pass_outcome_incomplete'),\n",
       " Row(PlayKey='26624-13-32', time='20.3', event='', x='19.32', y='23.87', dir='268.67', dis='0.36', o='24.85', s='1.2', snap_time='19.5', snap_x='19.85', snap_y='23.9', last_time='23.6', last_event='pass_outcome_incomplete'),\n",
       " Row(PlayKey='26624-13-32', time='20.4', event='', x='18.93', y='23.84', dir='270.45', dis='0.39', o='26.79', s='1.25', snap_time='19.5', snap_x='19.85', snap_y='23.9', last_time='23.6', last_event='pass_outcome_incomplete'),\n",
       " Row(PlayKey='26624-13-32', time='20.5', event='', x='18.62', y='23.81', dir='272.09', dis='0.31', o='28.8', s='1.28', snap_time='19.5', snap_x='19.85', snap_y='23.9', last_time='23.6', last_event='pass_outcome_incomplete'),\n",
       " Row(PlayKey='26624-13-32', time='20.6', event='', x='18.41', y='23.79', dir='274.16', dis='0.21', o='30.57', s='1.3', snap_time='19.5', snap_x='19.85', snap_y='23.9', last_time='23.6', last_event='pass_outcome_incomplete'),\n",
       " Row(PlayKey='26624-13-32', time='20.7', event='', x='18.25', y='23.79', dir='276.21', dis='0.16', o='32.1', s='1.32', snap_time='19.5', snap_x='19.85', snap_y='23.9', last_time='23.6', last_event='pass_outcome_incomplete'),\n",
       " Row(PlayKey='26624-13-32', time='20.8', event='', x='18.11', y='23.78', dir='278.05', dis='0.13', o='33.36', s='1.32', snap_time='19.5', snap_x='19.85', snap_y='23.9', last_time='23.6', last_event='pass_outcome_incomplete'),\n",
       " Row(PlayKey='26624-13-32', time='20.9', event='', x='17.99', y='23.78', dir='279.52', dis='0.12', o='34.32', s='1.32', snap_time='19.5', snap_x='19.85', snap_y='23.9', last_time='23.6', last_event='pass_outcome_incomplete'),\n",
       " Row(PlayKey='26624-13-32', time='21.0', event='', x='17.85', y='23.77', dir='280.74', dis='0.14', o='34.57', s='1.31', snap_time='19.5', snap_x='19.85', snap_y='23.9', last_time='23.6', last_event='pass_outcome_incomplete'),\n",
       " Row(PlayKey='26624-13-32', time='21.1', event='', x='17.76', y='23.8', dir='283.5', dis='0.09', o='34.04', s='1.26', snap_time='19.5', snap_x='19.85', snap_y='23.9', last_time='23.6', last_event='pass_outcome_incomplete'),\n",
       " Row(PlayKey='26624-13-32', time='21.2', event='', x='17.68', y='23.85', dir='289.14', dis='0.1', o='33.67', s='1.14', snap_time='19.5', snap_x='19.85', snap_y='23.9', last_time='23.6', last_event='pass_outcome_incomplete'),\n",
       " Row(PlayKey='26624-13-32', time='21.3', event='', x='17.6', y='23.92', dir='295.25', dis='0.1', o='33.72', s='0.99', snap_time='19.5', snap_x='19.85', snap_y='23.9', last_time='23.6', last_event='pass_outcome_incomplete'),\n",
       " Row(PlayKey='26624-13-32', time='21.4', event='', x='17.54', y='23.99', dir='300.09', dis='0.09', o='34.4', s='0.86', snap_time='19.5', snap_x='19.85', snap_y='23.9', last_time='23.6', last_event='pass_outcome_incomplete'),\n",
       " Row(PlayKey='26624-13-32', time='21.5', event='', x='17.5', y='24.07', dir='304.15', dis='0.1', o='33.74', s='0.76', snap_time='19.5', snap_x='19.85', snap_y='23.9', last_time='23.6', last_event='pass_outcome_incomplete'),\n",
       " Row(PlayKey='26624-13-32', time='21.6', event='', x='17.47', y='24.16', dir='307.18', dis='0.09', o='29.37', s='0.7', snap_time='19.5', snap_x='19.85', snap_y='23.9', last_time='23.6', last_event='pass_outcome_incomplete'),\n",
       " Row(PlayKey='26624-13-32', time='21.7', event='', x='17.48', y='24.24', dir='308.37', dis='0.08', o='23.53', s='0.65', snap_time='19.5', snap_x='19.85', snap_y='23.9', last_time='23.6', last_event='pass_outcome_incomplete'),\n",
       " Row(PlayKey='26624-13-32', time='21.8', event='', x='17.47', y='24.3', dir='308.26', dis='0.06', o='16.48', s='0.61', snap_time='19.5', snap_x='19.85', snap_y='23.9', last_time='23.6', last_event='pass_outcome_incomplete'),\n",
       " Row(PlayKey='26624-13-32', time='21.9', event='', x='17.47', y='24.34', dir='309.11', dis='0.05', o='8.22', s='0.57', snap_time='19.5', snap_x='19.85', snap_y='23.9', last_time='23.6', last_event='pass_outcome_incomplete'),\n",
       " Row(PlayKey='26624-13-32', time='22.0', event='pass_forward', x='17.46', y='24.43', dir='305.88', dis='0.09', o='358.45', s='0.54', snap_time='19.5', snap_x='19.85', snap_y='23.9', last_time='23.6', last_event='pass_outcome_incomplete'),\n",
       " Row(PlayKey='26624-13-32', time='22.1', event='', x='17.38', y='24.55', dir='301.7', dis='0.14', o='347.7', s='0.51', snap_time='19.5', snap_x='19.85', snap_y='23.9', last_time='23.6', last_event='pass_outcome_incomplete'),\n",
       " Row(PlayKey='26624-13-32', time='22.2', event='', x='17.31', y='24.6', dir='296.52', dis='0.09', o='337.71', s='0.49', snap_time='19.5', snap_x='19.85', snap_y='23.9', last_time='23.6', last_event='pass_outcome_incomplete'),\n",
       " Row(PlayKey='26624-13-32', time='22.3', event='', x='17.29', y='24.59', dir='289.74', dis='0.03', o='330.01', s='0.47', snap_time='19.5', snap_x='19.85', snap_y='23.9', last_time='23.6', last_event='pass_outcome_incomplete'),\n",
       " Row(PlayKey='26624-13-32', time='22.4', event='', x='17.28', y='24.56', dir='281.2', dis='0.03', o='323.85', s='0.47', snap_time='19.5', snap_x='19.85', snap_y='23.9', last_time='23.6', last_event='pass_outcome_incomplete'),\n",
       " Row(PlayKey='26624-13-32', time='22.5', event='', x='17.24', y='24.55', dir='271.86', dis='0.04', o='318.79', s='0.48', snap_time='19.5', snap_x='19.85', snap_y='23.9', last_time='23.6', last_event='pass_outcome_incomplete'),\n",
       " Row(PlayKey='26624-13-32', time='22.6', event='', x='17.2', y='24.51', dir='264.81', dis='0.06', o='314.5', s='0.52', snap_time='19.5', snap_x='19.85', snap_y='23.9', last_time='23.6', last_event='pass_outcome_incomplete'),\n",
       " Row(PlayKey='26624-13-32', time='22.7', event='', x='17.13', y='24.47', dir='259.12', dis='0.08', o='311.15', s='0.56', snap_time='19.5', snap_x='19.85', snap_y='23.9', last_time='23.6', last_event='pass_outcome_incomplete'),\n",
       " Row(PlayKey='26624-13-32', time='22.8', event='pass_arrived', x='17.05', y='24.42', dir='256.33', dis='0.09', o='310.61', s='0.6', snap_time='19.5', snap_x='19.85', snap_y='23.9', last_time='23.6', last_event='pass_outcome_incomplete'),\n",
       " Row(PlayKey='26624-13-32', time='22.9', event='', x='16.97', y='24.37', dir='251.66', dis='0.09', o='311.8', s='0.64', snap_time='19.5', snap_x='19.85', snap_y='23.9', last_time='23.6', last_event='pass_outcome_incomplete'),\n",
       " Row(PlayKey='26624-13-32', time='23.0', event='', x='16.89', y='24.34', dir='243.4', dis='0.09', o='315.64', s='0.65', snap_time='19.5', snap_x='19.85', snap_y='23.9', last_time='23.6', last_event='pass_outcome_incomplete'),\n",
       " Row(PlayKey='26624-13-32', time='23.1', event='', x='16.8', y='24.32', dir='238.68', dis='0.09', o='320.64', s='0.67', snap_time='19.5', snap_x='19.85', snap_y='23.9', last_time='23.6', last_event='pass_outcome_incomplete'),\n",
       " Row(PlayKey='26624-13-32', time='23.2', event='', x='16.74', y='24.27', dir='238.47', dis='0.08', o='325.64', s='0.68', snap_time='19.5', snap_x='19.85', snap_y='23.9', last_time='23.6', last_event='pass_outcome_incomplete'),\n",
       " Row(PlayKey='26624-13-32', time='23.3', event='', x='16.66', y='24.24', dir='239.32', dis='0.08', o='329.95', s='0.68', snap_time='19.5', snap_x='19.85', snap_y='23.9', last_time='23.6', last_event='pass_outcome_incomplete'),\n",
       " Row(PlayKey='26624-13-32', time='23.4', event='', x='16.61', y='24.19', dir='238.74', dis='0.08', o='333.33', s='0.68', snap_time='19.5', snap_x='19.85', snap_y='23.9', last_time='23.6', last_event='pass_outcome_incomplete'),\n",
       " Row(PlayKey='26624-13-32', time='23.5', event='', x='16.55', y='24.15', dir='239.71', dis='0.07', o='335.58', s='0.65', snap_time='19.5', snap_x='19.85', snap_y='23.9', last_time='23.6', last_event='pass_outcome_incomplete'),\n",
       " Row(PlayKey='26624-13-32', time='23.6', event='pass_outcome_incomplete', x='16.49', y='24.11', dir='239.06', dis='0.07', o='337.06', s='0.61', snap_time='19.5', snap_x='19.85', snap_y='23.9', last_time='23.6', last_event='pass_outcome_incomplete'),\n",
       " Row(PlayKey='26624-13-32', time='23.7', event='', x='16.43', y='24.09', dir='240.2', dis='0.07', o='338.04', s='0.56', snap_time='19.5', snap_x='19.85', snap_y='23.9', last_time='23.6', last_event='pass_outcome_incomplete'),\n",
       " Row(PlayKey='26624-15-34', time='24.3', event='', x='37.87', y='23.54', dir='298.06', dis='0.0', o='182.68', s='0.01', snap_time='24.4', snap_x='37.87', snap_y='23.54', last_time='29.2', last_event='tackle'),\n",
       " Row(PlayKey='26624-15-34', time='24.4', event='ball_snap', x='37.87', y='23.54', dir='291.5', dis='0.0', o='182.69', s='0.01', snap_time='24.4', snap_x='37.87', snap_y='23.54', last_time='29.2', last_event='tackle'),\n",
       " Row(PlayKey='26624-15-34', time='24.5', event='', x='37.87', y='23.54', dir='285.15', dis='0.0', o='182.76', s='0.01', snap_time='24.4', snap_x='37.87', snap_y='23.54', last_time='29.2', last_event='tackle'),\n",
       " Row(PlayKey='26624-15-34', time='24.6', event='', x='37.86', y='23.54', dir='275.3', dis='0.0', o='182.9', s='0.01', snap_time='24.4', snap_x='37.87', snap_y='23.54', last_time='29.2', last_event='tackle'),\n",
       " Row(PlayKey='26624-15-34', time='24.7', event='', x='37.86', y='23.54', dir='260.48', dis='0.0', o='183.09', s='0.0', snap_time='24.4', snap_x='37.87', snap_y='23.54', last_time='29.2', last_event='tackle'),\n",
       " Row(PlayKey='26624-15-34', time='24.8', event='', x='37.86', y='23.54', dir='146.58', dis='0.0', o='183.35', s='0.0', snap_time='24.4', snap_x='37.87', snap_y='23.54', last_time='29.2', last_event='tackle'),\n",
       " Row(PlayKey='26624-15-34', time='24.9', event='', x='37.86', y='23.54', dir='118.21', dis='0.0', o='183.68', s='0.01', snap_time='24.4', snap_x='37.87', snap_y='23.54', last_time='29.2', last_event='tackle'),\n",
       " Row(PlayKey='26624-15-34', time='25.0', event='', x='37.86', y='23.54', dir='110.98', dis='0.0', o='184.08', s='0.03', snap_time='24.4', snap_x='37.87', snap_y='23.54', last_time='29.2', last_event='tackle'),\n",
       " Row(PlayKey='26624-15-34', time='25.1', event='', x='37.86', y='23.54', dir='108.41', dis='0.0', o='184.56', s='0.14', snap_time='24.4', snap_x='37.87', snap_y='23.54', last_time='29.2', last_event='tackle'),\n",
       " Row(PlayKey='26624-15-34', time='25.2', event='', x='37.86', y='23.54', dir='106.57', dis='0.0', o='185.11', s='0.36', snap_time='24.4', snap_x='37.87', snap_y='23.54', last_time='29.2', last_event='tackle'),\n",
       " Row(PlayKey='26624-15-34', time='25.3', event='', x='37.86', y='23.54', dir='106.34', dis='0.0', o='185.71', s='0.56', snap_time='24.4', snap_x='37.87', snap_y='23.54', last_time='29.2', last_event='tackle'),\n",
       " Row(PlayKey='26624-15-34', time='25.4', event='', x='37.86', y='23.54', dir='106.32', dis='0.0', o='186.45', s='0.71', snap_time='24.4', snap_x='37.87', snap_y='23.54', last_time='29.2', last_event='tackle'),\n",
       " Row(PlayKey='26624-15-34', time='25.5', event='handoff', x='37.86', y='23.54', dir='106.34', dis='0.0', o='187.59', s='0.79', snap_time='24.4', snap_x='37.87', snap_y='23.54', last_time='29.2', last_event='tackle'),\n",
       " Row(PlayKey='26624-15-34', time='25.6', event='', x='37.86', y='23.53', dir='106.14', dis='0.01', o='189.07', s='0.86', snap_time='24.4', snap_x='37.87', snap_y='23.54', last_time='29.2', last_event='tackle'),\n",
       " Row(PlayKey='26624-15-34', time='25.7', event='', x='37.87', y='23.53', dir='105.17', dis='0.01', o='190.46', s='0.92', snap_time='24.4', snap_x='37.87', snap_y='23.54', last_time='29.2', last_event='tackle'),\n",
       " Row(PlayKey='26624-15-34', time='25.8', event='', x='37.88', y='23.53', dir='103.69', dis='0.01', o='191.6', s='0.97', snap_time='24.4', snap_x='37.87', snap_y='23.54', last_time='29.2', last_event='tackle'),\n",
       " Row(PlayKey='26624-15-34', time='25.9', event='', x='37.92', y='23.52', dir='101.5', dis='0.04', o='192.55', s='1.03', snap_time='24.4', snap_x='37.87', snap_y='23.54', last_time='29.2', last_event='tackle'),\n",
       " Row(PlayKey='26624-15-34', time='26.0', event='', x='38.11', y='23.46', dir='100.37', dis='0.2', o='192.97', s='1.08', snap_time='24.4', snap_x='37.87', snap_y='23.54', last_time='29.2', last_event='tackle'),\n",
       " Row(PlayKey='26624-15-34', time='26.1', event='', x='38.48', y='23.36', dir='98.58', dis='0.39', o='193.15', s='1.12', snap_time='24.4', snap_x='37.87', snap_y='23.54', last_time='29.2', last_event='tackle'),\n",
       " Row(PlayKey='26624-15-34', time='26.2', event='', x='38.84', y='23.25', dir='98.03', dis='0.37', o='193.28', s='1.15', snap_time='24.4', snap_x='37.87', snap_y='23.54', last_time='29.2', last_event='tackle'),\n",
       " Row(PlayKey='26624-15-34', time='26.3', event='', x='39.09', y='23.18', dir='96.78', dis='0.26', o='193.3', s='1.18', snap_time='24.4', snap_x='37.87', snap_y='23.54', last_time='29.2', last_event='tackle'),\n",
       " Row(PlayKey='26624-15-34', time='26.4', event='', x='39.24', y='23.14', dir='95.77', dis='0.15', o='193.12', s='1.2', snap_time='24.4', snap_x='37.87', snap_y='23.54', last_time='29.2', last_event='tackle'),\n",
       " Row(PlayKey='26624-15-34', time='26.5', event='', x='39.36', y='23.11', dir='94.85', dis='0.12', o='192.79', s='1.21', snap_time='24.4', snap_x='37.87', snap_y='23.54', last_time='29.2', last_event='tackle'),\n",
       " Row(PlayKey='26624-15-34', time='26.6', event='', x='39.46', y='23.1', dir='94.18', dis='0.1', o='192.06', s='1.21', snap_time='24.4', snap_x='37.87', snap_y='23.54', last_time='29.2', last_event='tackle'),\n",
       " Row(PlayKey='26624-15-34', time='26.7', event='', x='39.56', y='23.12', dir='93.17', dis='0.1', o='190.7', s='1.2', snap_time='24.4', snap_x='37.87', snap_y='23.54', last_time='29.2', last_event='tackle'),\n",
       " Row(PlayKey='26624-15-34', time='26.8', event='', x='39.67', y='23.17', dir='91.92', dis='0.12', o='189.34', s='1.17', snap_time='24.4', snap_x='37.87', snap_y='23.54', last_time='29.2', last_event='tackle'),\n",
       " Row(PlayKey='26624-15-34', time='26.9', event='', x='39.77', y='23.19', dir='89.56', dis='0.1', o='187.84', s='1.04', snap_time='24.4', snap_x='37.87', snap_y='23.54', last_time='29.2', last_event='tackle'),\n",
       " Row(PlayKey='26624-15-34', time='27.0', event='first_contact', x='39.86', y='23.24', dir='84.43', dis='0.1', o='187.1', s='0.8', snap_time='24.4', snap_x='37.87', snap_y='23.54', last_time='29.2', last_event='tackle'),\n",
       " Row(PlayKey='26624-15-34', time='27.1', event='', x='39.91', y='23.25', dir='76.54', dis='0.05', o='186.5', s='0.57', snap_time='24.4', snap_x='37.87', snap_y='23.54', last_time='29.2', last_event='tackle'),\n",
       " Row(PlayKey='26624-15-34', time='27.2', event='', x='39.96', y='23.29', dir='63.4', dis='0.07', o='186.47', s='0.43', snap_time='24.4', snap_x='37.87', snap_y='23.54', last_time='29.2', last_event='tackle'),\n",
       " Row(PlayKey='26624-15-34', time='27.3', event='', x='40.0', y='23.32', dir='48.44', dis='0.05', o='186.57', s='0.36', snap_time='24.4', snap_x='37.87', snap_y='23.54', last_time='29.2', last_event='tackle'),\n",
       " Row(PlayKey='26624-15-34', time='27.4', event='', x='40.04', y='23.35', dir='31.39', dis='0.05', o='186.82', s='0.3', snap_time='24.4', snap_x='37.87', snap_y='23.54', last_time='29.2', last_event='tackle'),\n",
       " Row(PlayKey='26624-15-34', time='27.5', event='', x='40.04', y='23.37', dir='10.47', dis='0.02', o='187.19', s='0.27', snap_time='24.4', snap_x='37.87', snap_y='23.54', last_time='29.2', last_event='tackle'),\n",
       " Row(PlayKey='26624-15-34', time='27.6', event='', x='40.04', y='23.41', dir='347.2', dis='0.04', o='187.78', s='0.26', snap_time='24.4', snap_x='37.87', snap_y='23.54', last_time='29.2', last_event='tackle'),\n",
       " Row(PlayKey='26624-15-34', time='27.7', event='', x='40.02', y='23.45', dir='326.44', dis='0.04', o='188.7', s='0.3', snap_time='24.4', snap_x='37.87', snap_y='23.54', last_time='29.2', last_event='tackle'),\n",
       " Row(PlayKey='26624-15-34', time='27.8', event='', x='39.97', y='23.47', dir='312.42', dis='0.05', o='190.25', s='0.35', snap_time='24.4', snap_x='37.87', snap_y='23.54', last_time='29.2', last_event='tackle'),\n",
       " Row(PlayKey='26624-15-34', time='27.9', event='', x='39.91', y='23.49', dir='300.0', dis='0.07', o='192.03', s='0.41', snap_time='24.4', snap_x='37.87', snap_y='23.54', last_time='29.2', last_event='tackle'),\n",
       " Row(PlayKey='26624-15-34', time='28.0', event='', x='39.84', y='23.49', dir='293.55', dis='0.07', o='193.02', s='0.46', snap_time='24.4', snap_x='37.87', snap_y='23.54', last_time='29.2', last_event='tackle'),\n",
       " Row(PlayKey='26624-15-34', time='28.1', event='', x='39.77', y='23.52', dir='288.93', dis='0.07', o='193.76', s='0.52', snap_time='24.4', snap_x='37.87', snap_y='23.54', last_time='29.2', last_event='tackle'),\n",
       " Row(PlayKey='26624-15-34', time='28.2', event='', x='39.72', y='23.56', dir='284.91', dis='0.07', o='193.53', s='0.58', snap_time='24.4', snap_x='37.87', snap_y='23.54', last_time='29.2', last_event='tackle'),\n",
       " Row(PlayKey='26624-15-34', time='28.3', event='', x='39.64', y='23.57', dir='280.87', dis='0.08', o='192.99', s='0.64', snap_time='24.4', snap_x='37.87', snap_y='23.54', last_time='29.2', last_event='tackle'),\n",
       " Row(PlayKey='26624-15-34', time='28.4', event='', x='39.55', y='23.57', dir='279.09', dis='0.09', o='192.06', s='0.68', snap_time='24.4', snap_x='37.87', snap_y='23.54', last_time='29.2', last_event='tackle'),\n",
       " Row(PlayKey='26624-15-34', time='28.5', event='', x='39.46', y='23.59', dir='275.1', dis='0.09', o='190.9', s='0.72', snap_time='24.4', snap_x='37.87', snap_y='23.54', last_time='29.2', last_event='tackle'),\n",
       " Row(PlayKey='26624-15-34', time='28.6', event='', x='39.37', y='23.62', dir='272.65', dis='0.09', o='189.33', s='0.74', snap_time='24.4', snap_x='37.87', snap_y='23.54', last_time='29.2', last_event='tackle'),\n",
       " Row(PlayKey='26624-15-34', time='28.7', event='', x='39.3', y='23.62', dir='270.83', dis='0.08', o='187.4', s='0.74', snap_time='24.4', snap_x='37.87', snap_y='23.54', last_time='29.2', last_event='tackle'),\n",
       " Row(PlayKey='26624-15-34', time='28.8', event='', x='39.22', y='23.6', dir='268.58', dis='0.08', o='185.11', s='0.74', snap_time='24.4', snap_x='37.87', snap_y='23.54', last_time='29.2', last_event='tackle'),\n",
       " Row(PlayKey='26624-15-34', time='28.9', event='', x='39.15', y='23.58', dir='268.18', dis='0.07', o='182.48', s='0.74', snap_time='24.4', snap_x='37.87', snap_y='23.54', last_time='29.2', last_event='tackle'),\n",
       " Row(PlayKey='26624-15-34', time='29.0', event='', x='39.08', y='23.59', dir='266.16', dis='0.08', o='179.34', s='0.75', snap_time='24.4', snap_x='37.87', snap_y='23.54', last_time='29.2', last_event='tackle'),\n",
       " Row(PlayKey='26624-15-34', time='29.1', event='', x='38.99', y='23.59', dir='263.66', dis='0.09', o='175.94', s='0.77', snap_time='24.4', snap_x='37.87', snap_y='23.54', last_time='29.2', last_event='tackle'),\n",
       " Row(PlayKey='26624-15-34', time='29.2', event='tackle', x='38.91', y='23.57', dir='262.59', dis='0.08', o='172.74', s='0.78', snap_time='24.4', snap_x='37.87', snap_y='23.54', last_time='29.2', last_event='tackle'),\n",
       " Row(PlayKey='26624-15-34', time='29.3', event='', x='38.82', y='23.57', dir='260.36', dis='0.09', o='169.97', s='0.77', snap_time='24.4', snap_x='37.87', snap_y='23.54', last_time='29.2', last_event='tackle'),\n",
       " Row(PlayKey='26624-17-30', time='15.8', event='ball_snap', x='81.58', y='23.74', dir='89.59', dis='0.05', o='295.2', s='0.32', snap_time='15.8', snap_x='81.58', snap_y='23.74', last_time='20.1', last_event='pass_outcome_incomplete'),\n",
       " Row(PlayKey='26624-17-30', time='15.9', event='', x='81.65', y='23.73', dir='91.7', dis='0.07', o='314.32', s='0.42', snap_time='15.8', snap_x='81.58', snap_y='23.74', last_time='20.1', last_event='pass_outcome_incomplete'),\n",
       " Row(PlayKey='26624-17-30', time='16.0', event='', x='81.74', y='23.73', dir='93.06', dis='0.09', o='326.64', s='0.61', snap_time='15.8', snap_x='81.58', snap_y='23.74', last_time='20.1', last_event='pass_outcome_incomplete'),\n",
       " Row(PlayKey='26624-17-30', time='16.1', event='', x='81.85', y='23.73', dir='93.02', dis='0.11', o='338.32', s='0.98', snap_time='15.8', snap_x='81.58', snap_y='23.74', last_time='20.1', last_event='pass_outcome_incomplete'),\n",
       " Row(PlayKey='26624-17-30', time='16.2', event='', x='81.98', y='23.72', dir='92.31', dis='0.13', o='344.39', s='1.36', snap_time='15.8', snap_x='81.58', snap_y='23.74', last_time='20.1', last_event='pass_outcome_incomplete')]"
      ]
     },
     "execution_count": 48,
     "metadata": {},
     "output_type": "execute_result"
    }
   ],
   "source": [
    "tracks.head(100)"
   ]
  },
  {
   "cell_type": "code",
   "execution_count": 49,
   "metadata": {},
   "outputs": [],
   "source": [
    "# only record the time from the start of first event-1 to the end of last event+1"
   ]
  },
  {
   "cell_type": "code",
   "execution_count": 52,
   "metadata": {},
   "outputs": [],
   "source": [
    "spark = SparkSession.builder.master(\"local[*]\").appName(\"NFL\").getOrCreate()\n",
    "pl = spark.read.option(\"header\",True).csv('../in/PlayList.csv')"
   ]
  },
  {
   "cell_type": "code",
   "execution_count": 55,
   "metadata": {},
   "outputs": [
    {
     "name": "stdout",
     "output_type": "stream",
     "text": [
      "+---------+\n",
      "|PlayerKey|\n",
      "+---------+\n",
      "|    38252|\n",
      "|    42370|\n",
      "|    44423|\n",
      "|    30953|\n",
      "|    34347|\n",
      "|    44860|\n",
      "|    27363|\n",
      "|    44067|\n",
      "|    41084|\n",
      "|    44629|\n",
      "|    44825|\n",
      "|    36579|\n",
      "|    44934|\n",
      "|    46066|\n",
      "|    42359|\n",
      "|    42615|\n",
      "|    44548|\n",
      "|    34214|\n",
      "|    34259|\n",
      "|    44900|\n",
      "+---------+\n",
      "only showing top 20 rows\n",
      "\n"
     ]
    }
   ],
   "source": [
    "_pl = pl.select('PlayerKey').where('PlayerDay >= 350').distinct()\n",
    "_pl.show()"
   ]
  },
  {
   "cell_type": "code",
   "execution_count": 70,
   "metadata": {},
   "outputs": [],
   "source": [
    "# add season to df, if less than 350, season 1 else season 2\n",
    "pl = pl.withColumn(\"PlayerDay\", pl.PlayerDay.cast('int').alias(\"PlayerDay\"))\n",
    "pl = pl.withColumn('season', f.when(f.col(\"PlayerDay\") < 350,1).otherwise(2))"
   ]
  },
  {
   "cell_type": "code",
   "execution_count": 72,
   "metadata": {},
   "outputs": [
    {
     "name": "stdout",
     "output_type": "stream",
     "text": [
      "+---------+-------+----------+--------------+---------+----------+-----------+---------+-----------+--------------+--------+--------------+--------+-------------+------+\n",
      "|PlayerKey| GameID|   PlayKey|RosterPosition|PlayerDay|PlayerGame|StadiumType|FieldType|Temperature|       Weather|PlayType|PlayerGamePlay|Position|PositionGroup|season|\n",
      "+---------+-------+----------+--------------+---------+----------+-----------+---------+-----------+--------------+--------+--------------+--------+-------------+------+\n",
      "|    26624|26624-1| 26624-1-1|   Quarterback|        1|         1|    Outdoor|Synthetic|         63|Clear and warm|    Pass|             1|      QB|           QB|     1|\n",
      "|    26624|26624-1| 26624-1-2|   Quarterback|        1|         1|    Outdoor|Synthetic|         63|Clear and warm|    Pass|             2|      QB|           QB|     1|\n",
      "|    26624|26624-1| 26624-1-3|   Quarterback|        1|         1|    Outdoor|Synthetic|         63|Clear and warm|    Rush|             3|      QB|           QB|     1|\n",
      "|    26624|26624-1| 26624-1-4|   Quarterback|        1|         1|    Outdoor|Synthetic|         63|Clear and warm|    Rush|             4|      QB|           QB|     1|\n",
      "|    26624|26624-1| 26624-1-5|   Quarterback|        1|         1|    Outdoor|Synthetic|         63|Clear and warm|    Pass|             5|      QB|           QB|     1|\n",
      "|    26624|26624-1| 26624-1-6|   Quarterback|        1|         1|    Outdoor|Synthetic|         63|Clear and warm|    Rush|             6|      QB|           QB|     1|\n",
      "|    26624|26624-1| 26624-1-7|   Quarterback|        1|         1|    Outdoor|Synthetic|         63|Clear and warm|    Pass|             7|      QB|           QB|     1|\n",
      "|    26624|26624-1| 26624-1-8|   Quarterback|        1|         1|    Outdoor|Synthetic|         63|Clear and warm|    Pass|             8|      QB|           QB|     1|\n",
      "|    26624|26624-1| 26624-1-9|   Quarterback|        1|         1|    Outdoor|Synthetic|         63|Clear and warm|    Rush|             9|      QB|           QB|     1|\n",
      "|    26624|26624-1|26624-1-10|   Quarterback|        1|         1|    Outdoor|Synthetic|         63|Clear and warm|    Pass|            10|      QB|           QB|     1|\n",
      "|    26624|26624-1|26624-1-11|   Quarterback|        1|         1|    Outdoor|Synthetic|         63|Clear and warm|    Rush|            11|      QB|           QB|     1|\n",
      "|    26624|26624-1|26624-1-12|   Quarterback|        1|         1|    Outdoor|Synthetic|         63|Clear and warm|    Pass|            12|      QB|           QB|     1|\n",
      "|    26624|26624-1|26624-1-13|   Quarterback|        1|         1|    Outdoor|Synthetic|         63|Clear and warm|    Pass|            13|      QB|           QB|     1|\n",
      "|    26624|26624-1|26624-1-14|   Quarterback|        1|         1|    Outdoor|Synthetic|         63|Clear and warm|    Rush|            14|      QB|           QB|     1|\n",
      "|    26624|26624-1|26624-1-15|   Quarterback|        1|         1|    Outdoor|Synthetic|         63|Clear and warm|    Pass|            15|      QB|           QB|     1|\n",
      "|    26624|26624-1|26624-1-16|   Quarterback|        1|         1|    Outdoor|Synthetic|         63|Clear and warm|    Rush|            16|      QB|           QB|     1|\n",
      "|    26624|26624-1|26624-1-17|   Quarterback|        1|         1|    Outdoor|Synthetic|         63|Clear and warm|    Pass|            17|      QB|           QB|     1|\n",
      "|    26624|26624-1|26624-1-18|   Quarterback|        1|         1|    Outdoor|Synthetic|         63|Clear and warm|    Pass|            18|      QB|           QB|     1|\n",
      "|    26624|26624-1|26624-1-19|   Quarterback|        1|         1|    Outdoor|Synthetic|         63|Clear and warm|    Rush|            19|      QB|           QB|     1|\n",
      "|    26624|26624-1|26624-1-20|   Quarterback|        1|         1|    Outdoor|Synthetic|         63|Clear and warm|    Rush|            20|      QB|           QB|     1|\n",
      "+---------+-------+----------+--------------+---------+----------+-----------+---------+-----------+--------------+--------+--------------+--------+-------------+------+\n",
      "only showing top 20 rows\n",
      "\n"
     ]
    }
   ],
   "source": [
    "\n"
   ]
  },
  {
   "cell_type": "code",
   "execution_count": 58,
   "metadata": {},
   "outputs": [
    {
     "data": {
      "text/plain": [
       "DataFrame[PlayerKey: string, GameID: string, PlayKey: string, RosterPosition: string, PlayerDay: string, PlayerGame: string, StadiumType: string, FieldType: string, Temperature: string, Weather: string, PlayType: string, PlayerGamePlay: string, Position: string, PositionGroup: string]"
      ]
     },
     "execution_count": 58,
     "metadata": {},
     "output_type": "execute_result"
    }
   ],
   "source": [
    "pl"
   ]
  },
  {
   "cell_type": "code",
   "execution_count": 39,
   "metadata": {},
   "outputs": [],
   "source": [
    "temp = last_event_tracks[last_event_tracks.PlayKey,last_event_tracks.time,last_event_tracks.event]"
   ]
  },
  {
   "cell_type": "code",
   "execution_count": 41,
   "metadata": {},
   "outputs": [
    {
     "name": "stdout",
     "output_type": "stream",
     "text": [
      "+-----------+----+--------------------+\n",
      "|    PlayKey|time|               event|\n",
      "+-----------+----+--------------------+\n",
      "|  26624-1-6| 5.0|              tackle|\n",
      "| 26624-1-70|24.7|              tackle|\n",
      "|26624-11-18|19.3|       out_of_bounds|\n",
      "| 26624-18-9| 8.8|           ball_snap|\n",
      "|26624-23-24|18.3|pass_outcome_inco...|\n",
      "|26624-26-28|24.9|pass_outcome_inco...|\n",
      "| 26624-6-23| 5.7|              tackle|\n",
      "|  26624-7-2|33.3|        penalty_flag|\n",
      "| 26624-7-49| 8.8|           ball_snap|\n",
      "| 27363-1-53|16.8|              tackle|\n",
      "| 27363-1-62|18.6|pass_outcome_touc...|\n",
      "|27363-10-63| 9.9|           ball_snap|\n",
      "|27363-19-42|22.4|              tackle|\n",
      "|27363-21-59|21.4|              tackle|\n",
      "|27363-27-45|19.5|              tackle|\n",
      "|  27363-3-6|16.8|              tackle|\n",
      "|27363-30-51|51.2|        penalty_flag|\n",
      "| 27363-4-62|18.4|              tackle|\n",
      "| 27363-5-23| 9.1|             handoff|\n",
      "|  27363-6-3|31.3|              tackle|\n",
      "+-----------+----+--------------------+\n",
      "only showing top 20 rows\n",
      "\n"
     ]
    }
   ],
   "source": [
    "temp.show()"
   ]
  },
  {
   "cell_type": "code",
   "execution_count": null,
   "metadata": {},
   "outputs": [],
   "source": []
  },
  {
   "cell_type": "code",
   "execution_count": null,
   "metadata": {},
   "outputs": [],
   "source": []
  },
  {
   "cell_type": "code",
   "execution_count": null,
   "metadata": {},
   "outputs": [],
   "source": []
  },
  {
   "cell_type": "code",
   "execution_count": null,
   "metadata": {},
   "outputs": [],
   "source": []
  },
  {
   "cell_type": "code",
   "execution_count": null,
   "metadata": {},
   "outputs": [],
   "source": []
  },
  {
   "cell_type": "code",
   "execution_count": 100,
   "metadata": {},
   "outputs": [],
   "source": [
    "# speed\n",
    "# player_mean_speed_df = df.rdd.map(lambda x: [x[0].split('-')[0], float(x[-1])]).toDF([\"playerKey\",\"s\"])\n",
    "# # remove extreme small speed\n",
    "# player_mean_speed_df = player_mean_speed_df.rdd.filter(lambda x:x.s >= 1).toDF([\"playerKey\",\"s\"])\n",
    "# # get average speed\n",
    "# player_mean_speed = player_mean_speed_df.groupBy('playerKey').agg(f.mean(\"s\").alias('mean'))\n",
    "# result = player_mean_speed.collect()"
   ]
  },
  {
   "cell_type": "code",
   "execution_count": null,
   "metadata": {},
   "outputs": [],
   "source": []
  },
  {
   "cell_type": "code",
   "execution_count": 88,
   "metadata": {},
   "outputs": [],
   "source": [
    "# convert string to float\n",
    "df = df.withColumn(\"s\", df.s.cast('float').alias(\"s\"))\n",
    "df = df.withColumn(\"o\", df.o.cast('float').alias(\"o\"))\n",
    "df = df.withColumn(\"dir\", df.dir.cast('float').alias(\"dir\"))"
   ]
  },
  {
   "cell_type": "code",
   "execution_count": 89,
   "metadata": {},
   "outputs": [
    {
     "name": "stdout",
     "output_type": "stream",
     "text": [
      "root\n",
      " |-- PlayKey: string (nullable = true)\n",
      " |-- time: string (nullable = true)\n",
      " |-- event: string (nullable = true)\n",
      " |-- x: string (nullable = true)\n",
      " |-- y: string (nullable = true)\n",
      " |-- dir: float (nullable = true)\n",
      " |-- dis: string (nullable = true)\n",
      " |-- o: float (nullable = true)\n",
      " |-- s: float (nullable = true)\n",
      "\n"
     ]
    }
   ],
   "source": [
    "df.printSchema()"
   ]
  },
  {
   "cell_type": "code",
   "execution_count": 90,
   "metadata": {},
   "outputs": [],
   "source": [
    "# add new col.\n",
    "# compute the difference between o and dir\n",
    "def add_o_dir_diff(x):\n",
    "    x = x.asDict()\n",
    "    x['o_dir_diff'] = min([abs(x['o']-x['dir']),abs(x['o']-(x['dir']-360)),abs(x['o']-(x['dir']+360))])\n",
    "    \n",
    "    x['is_forward_move'] = False\n",
    "    x['is_sideway_move'] = False\n",
    "    x['is_backward_move'] = False\n",
    "    \n",
    "    if x['o_dir_diff'] <= 45:\n",
    "        x['move_type'] = 'forward'\n",
    "        x['is_forward_move'] = True\n",
    "    elif x['o_dir_diff'] <= 135:\n",
    "        x['move_type'] = 'sideway'\n",
    "        x['is_sideway_move'] = True\n",
    "    else:\n",
    "        x['move_type'] = 'backward'\n",
    "        x['is_backward_move'] = True\n",
    "        \n",
    "    return Row(**x)\n",
    "\n",
    "rdd = df.rdd.map(add_o_dir_diff)"
   ]
  },
  {
   "cell_type": "code",
   "execution_count": 91,
   "metadata": {},
   "outputs": [],
   "source": [
    "df = rdd.toDF()"
   ]
  },
  {
   "cell_type": "code",
   "execution_count": 99,
   "metadata": {},
   "outputs": [],
   "source": [
    "# get the distinct event in player trace data\n",
    "# res = df.select('event').distinct().collect()"
   ]
  },
  {
   "cell_type": "code",
   "execution_count": 98,
   "metadata": {},
   "outputs": [],
   "source": []
  },
  {
   "cell_type": "code",
   "execution_count": 101,
   "metadata": {
    "scrolled": true
   },
   "outputs": [
    {
     "ename": "KeyboardInterrupt",
     "evalue": "",
     "output_type": "error",
     "traceback": [
      "\u001b[0;31m---------------------------------------------------------------------------\u001b[0m",
      "\u001b[0;31mKeyboardInterrupt\u001b[0m                         Traceback (most recent call last)",
      "\u001b[0;32m<ipython-input-101-63512dda2991>\u001b[0m in \u001b[0;36m<module>\u001b[0;34m\u001b[0m\n\u001b[1;32m      1\u001b[0m \u001b[0;31m# we only focus on ball-snap (the most common event in player trace data)\u001b[0m\u001b[0;34m\u001b[0m\u001b[0;34m\u001b[0m\u001b[0;34m\u001b[0m\u001b[0m\n\u001b[0;32m----> 2\u001b[0;31m \u001b[0m_rdd\u001b[0m \u001b[0;34m=\u001b[0m \u001b[0mdf\u001b[0m\u001b[0;34m.\u001b[0m\u001b[0mrdd\u001b[0m\u001b[0;34m.\u001b[0m\u001b[0mfilter\u001b[0m\u001b[0;34m(\u001b[0m\u001b[0;32mlambda\u001b[0m \u001b[0mx\u001b[0m\u001b[0;34m:\u001b[0m \u001b[0mx\u001b[0m\u001b[0;34m.\u001b[0m\u001b[0mevent\u001b[0m \u001b[0;34m==\u001b[0m \u001b[0;34m'ball-snap'\u001b[0m\u001b[0;34m)\u001b[0m\u001b[0;34m.\u001b[0m\u001b[0mtoDF\u001b[0m\u001b[0;34m(\u001b[0m\u001b[0;34m)\u001b[0m\u001b[0;34m\u001b[0m\u001b[0;34m\u001b[0m\u001b[0m\n\u001b[0m",
      "\u001b[0;32m/usr/local/spark/python/pyspark/sql/session.py\u001b[0m in \u001b[0;36mtoDF\u001b[0;34m(self, schema, sampleRatio)\u001b[0m\n\u001b[1;32m     56\u001b[0m         \u001b[0;34m[\u001b[0m\u001b[0mRow\u001b[0m\u001b[0;34m(\u001b[0m\u001b[0mname\u001b[0m\u001b[0;34m=\u001b[0m\u001b[0;34mu'Alice'\u001b[0m\u001b[0;34m,\u001b[0m \u001b[0mage\u001b[0m\u001b[0;34m=\u001b[0m\u001b[0;36m1\u001b[0m\u001b[0;34m)\u001b[0m\u001b[0;34m]\u001b[0m\u001b[0;34m\u001b[0m\u001b[0;34m\u001b[0m\u001b[0m\n\u001b[1;32m     57\u001b[0m         \"\"\"\n\u001b[0;32m---> 58\u001b[0;31m         \u001b[0;32mreturn\u001b[0m \u001b[0msparkSession\u001b[0m\u001b[0;34m.\u001b[0m\u001b[0mcreateDataFrame\u001b[0m\u001b[0;34m(\u001b[0m\u001b[0mself\u001b[0m\u001b[0;34m,\u001b[0m \u001b[0mschema\u001b[0m\u001b[0;34m,\u001b[0m \u001b[0msampleRatio\u001b[0m\u001b[0;34m)\u001b[0m\u001b[0;34m\u001b[0m\u001b[0;34m\u001b[0m\u001b[0m\n\u001b[0m\u001b[1;32m     59\u001b[0m \u001b[0;34m\u001b[0m\u001b[0m\n\u001b[1;32m     60\u001b[0m     \u001b[0mRDD\u001b[0m\u001b[0;34m.\u001b[0m\u001b[0mtoDF\u001b[0m \u001b[0;34m=\u001b[0m \u001b[0mtoDF\u001b[0m\u001b[0;34m\u001b[0m\u001b[0;34m\u001b[0m\u001b[0m\n",
      "\u001b[0;32m/usr/local/spark/python/pyspark/sql/session.py\u001b[0m in \u001b[0;36mcreateDataFrame\u001b[0;34m(self, data, schema, samplingRatio, verifySchema)\u001b[0m\n\u001b[1;32m    744\u001b[0m \u001b[0;34m\u001b[0m\u001b[0m\n\u001b[1;32m    745\u001b[0m         \u001b[0;32mif\u001b[0m \u001b[0misinstance\u001b[0m\u001b[0;34m(\u001b[0m\u001b[0mdata\u001b[0m\u001b[0;34m,\u001b[0m \u001b[0mRDD\u001b[0m\u001b[0;34m)\u001b[0m\u001b[0;34m:\u001b[0m\u001b[0;34m\u001b[0m\u001b[0;34m\u001b[0m\u001b[0m\n\u001b[0;32m--> 746\u001b[0;31m             \u001b[0mrdd\u001b[0m\u001b[0;34m,\u001b[0m \u001b[0mschema\u001b[0m \u001b[0;34m=\u001b[0m \u001b[0mself\u001b[0m\u001b[0;34m.\u001b[0m\u001b[0m_createFromRDD\u001b[0m\u001b[0;34m(\u001b[0m\u001b[0mdata\u001b[0m\u001b[0;34m.\u001b[0m\u001b[0mmap\u001b[0m\u001b[0;34m(\u001b[0m\u001b[0mprepare\u001b[0m\u001b[0;34m)\u001b[0m\u001b[0;34m,\u001b[0m \u001b[0mschema\u001b[0m\u001b[0;34m,\u001b[0m \u001b[0msamplingRatio\u001b[0m\u001b[0;34m)\u001b[0m\u001b[0;34m\u001b[0m\u001b[0;34m\u001b[0m\u001b[0m\n\u001b[0m\u001b[1;32m    747\u001b[0m         \u001b[0;32melse\u001b[0m\u001b[0;34m:\u001b[0m\u001b[0;34m\u001b[0m\u001b[0;34m\u001b[0m\u001b[0m\n\u001b[1;32m    748\u001b[0m             \u001b[0mrdd\u001b[0m\u001b[0;34m,\u001b[0m \u001b[0mschema\u001b[0m \u001b[0;34m=\u001b[0m \u001b[0mself\u001b[0m\u001b[0;34m.\u001b[0m\u001b[0m_createFromLocal\u001b[0m\u001b[0;34m(\u001b[0m\u001b[0mmap\u001b[0m\u001b[0;34m(\u001b[0m\u001b[0mprepare\u001b[0m\u001b[0;34m,\u001b[0m \u001b[0mdata\u001b[0m\u001b[0;34m)\u001b[0m\u001b[0;34m,\u001b[0m \u001b[0mschema\u001b[0m\u001b[0;34m)\u001b[0m\u001b[0;34m\u001b[0m\u001b[0;34m\u001b[0m\u001b[0m\n",
      "\u001b[0;32m/usr/local/spark/python/pyspark/sql/session.py\u001b[0m in \u001b[0;36m_createFromRDD\u001b[0;34m(self, rdd, schema, samplingRatio)\u001b[0m\n\u001b[1;32m    388\u001b[0m         \"\"\"\n\u001b[1;32m    389\u001b[0m         \u001b[0;32mif\u001b[0m \u001b[0mschema\u001b[0m \u001b[0;32mis\u001b[0m \u001b[0;32mNone\u001b[0m \u001b[0;32mor\u001b[0m \u001b[0misinstance\u001b[0m\u001b[0;34m(\u001b[0m\u001b[0mschema\u001b[0m\u001b[0;34m,\u001b[0m \u001b[0;34m(\u001b[0m\u001b[0mlist\u001b[0m\u001b[0;34m,\u001b[0m \u001b[0mtuple\u001b[0m\u001b[0;34m)\u001b[0m\u001b[0;34m)\u001b[0m\u001b[0;34m:\u001b[0m\u001b[0;34m\u001b[0m\u001b[0;34m\u001b[0m\u001b[0m\n\u001b[0;32m--> 390\u001b[0;31m             \u001b[0mstruct\u001b[0m \u001b[0;34m=\u001b[0m \u001b[0mself\u001b[0m\u001b[0;34m.\u001b[0m\u001b[0m_inferSchema\u001b[0m\u001b[0;34m(\u001b[0m\u001b[0mrdd\u001b[0m\u001b[0;34m,\u001b[0m \u001b[0msamplingRatio\u001b[0m\u001b[0;34m,\u001b[0m \u001b[0mnames\u001b[0m\u001b[0;34m=\u001b[0m\u001b[0mschema\u001b[0m\u001b[0;34m)\u001b[0m\u001b[0;34m\u001b[0m\u001b[0;34m\u001b[0m\u001b[0m\n\u001b[0m\u001b[1;32m    391\u001b[0m             \u001b[0mconverter\u001b[0m \u001b[0;34m=\u001b[0m \u001b[0m_create_converter\u001b[0m\u001b[0;34m(\u001b[0m\u001b[0mstruct\u001b[0m\u001b[0;34m)\u001b[0m\u001b[0;34m\u001b[0m\u001b[0;34m\u001b[0m\u001b[0m\n\u001b[1;32m    392\u001b[0m             \u001b[0mrdd\u001b[0m \u001b[0;34m=\u001b[0m \u001b[0mrdd\u001b[0m\u001b[0;34m.\u001b[0m\u001b[0mmap\u001b[0m\u001b[0;34m(\u001b[0m\u001b[0mconverter\u001b[0m\u001b[0;34m)\u001b[0m\u001b[0;34m\u001b[0m\u001b[0;34m\u001b[0m\u001b[0m\n",
      "\u001b[0;32m/usr/local/spark/python/pyspark/sql/session.py\u001b[0m in \u001b[0;36m_inferSchema\u001b[0;34m(self, rdd, samplingRatio, names)\u001b[0m\n\u001b[1;32m    359\u001b[0m         \u001b[0;34m:\u001b[0m\u001b[0;32mreturn\u001b[0m\u001b[0;34m:\u001b[0m \u001b[0;34m:\u001b[0m\u001b[0;32mclass\u001b[0m\u001b[0;34m:\u001b[0m\u001b[0;31m`\u001b[0m\u001b[0mpyspark\u001b[0m\u001b[0;34m.\u001b[0m\u001b[0msql\u001b[0m\u001b[0;34m.\u001b[0m\u001b[0mtypes\u001b[0m\u001b[0;34m.\u001b[0m\u001b[0mStructType\u001b[0m\u001b[0;31m`\u001b[0m\u001b[0;34m\u001b[0m\u001b[0;34m\u001b[0m\u001b[0m\n\u001b[1;32m    360\u001b[0m         \"\"\"\n\u001b[0;32m--> 361\u001b[0;31m         \u001b[0mfirst\u001b[0m \u001b[0;34m=\u001b[0m \u001b[0mrdd\u001b[0m\u001b[0;34m.\u001b[0m\u001b[0mfirst\u001b[0m\u001b[0;34m(\u001b[0m\u001b[0;34m)\u001b[0m\u001b[0;34m\u001b[0m\u001b[0;34m\u001b[0m\u001b[0m\n\u001b[0m\u001b[1;32m    362\u001b[0m         \u001b[0;32mif\u001b[0m \u001b[0;32mnot\u001b[0m \u001b[0mfirst\u001b[0m\u001b[0;34m:\u001b[0m\u001b[0;34m\u001b[0m\u001b[0;34m\u001b[0m\u001b[0m\n\u001b[1;32m    363\u001b[0m             raise ValueError(\"The first row in RDD is empty, \"\n",
      "\u001b[0;32m/usr/local/spark/python/pyspark/rdd.py\u001b[0m in \u001b[0;36mfirst\u001b[0;34m(self)\u001b[0m\n\u001b[1;32m   1376\u001b[0m         \u001b[0mValueError\u001b[0m\u001b[0;34m:\u001b[0m \u001b[0mRDD\u001b[0m \u001b[0;32mis\u001b[0m \u001b[0mempty\u001b[0m\u001b[0;34m\u001b[0m\u001b[0;34m\u001b[0m\u001b[0m\n\u001b[1;32m   1377\u001b[0m         \"\"\"\n\u001b[0;32m-> 1378\u001b[0;31m         \u001b[0mrs\u001b[0m \u001b[0;34m=\u001b[0m \u001b[0mself\u001b[0m\u001b[0;34m.\u001b[0m\u001b[0mtake\u001b[0m\u001b[0;34m(\u001b[0m\u001b[0;36m1\u001b[0m\u001b[0;34m)\u001b[0m\u001b[0;34m\u001b[0m\u001b[0;34m\u001b[0m\u001b[0m\n\u001b[0m\u001b[1;32m   1379\u001b[0m         \u001b[0;32mif\u001b[0m \u001b[0mrs\u001b[0m\u001b[0;34m:\u001b[0m\u001b[0;34m\u001b[0m\u001b[0;34m\u001b[0m\u001b[0m\n\u001b[1;32m   1380\u001b[0m             \u001b[0;32mreturn\u001b[0m \u001b[0mrs\u001b[0m\u001b[0;34m[\u001b[0m\u001b[0;36m0\u001b[0m\u001b[0;34m]\u001b[0m\u001b[0;34m\u001b[0m\u001b[0;34m\u001b[0m\u001b[0m\n",
      "\u001b[0;32m/usr/local/spark/python/pyspark/rdd.py\u001b[0m in \u001b[0;36mtake\u001b[0;34m(self, num)\u001b[0m\n\u001b[1;32m   1358\u001b[0m \u001b[0;34m\u001b[0m\u001b[0m\n\u001b[1;32m   1359\u001b[0m             \u001b[0mp\u001b[0m \u001b[0;34m=\u001b[0m \u001b[0mrange\u001b[0m\u001b[0;34m(\u001b[0m\u001b[0mpartsScanned\u001b[0m\u001b[0;34m,\u001b[0m \u001b[0mmin\u001b[0m\u001b[0;34m(\u001b[0m\u001b[0mpartsScanned\u001b[0m \u001b[0;34m+\u001b[0m \u001b[0mnumPartsToTry\u001b[0m\u001b[0;34m,\u001b[0m \u001b[0mtotalParts\u001b[0m\u001b[0;34m)\u001b[0m\u001b[0;34m)\u001b[0m\u001b[0;34m\u001b[0m\u001b[0;34m\u001b[0m\u001b[0m\n\u001b[0;32m-> 1360\u001b[0;31m             \u001b[0mres\u001b[0m \u001b[0;34m=\u001b[0m \u001b[0mself\u001b[0m\u001b[0;34m.\u001b[0m\u001b[0mcontext\u001b[0m\u001b[0;34m.\u001b[0m\u001b[0mrunJob\u001b[0m\u001b[0;34m(\u001b[0m\u001b[0mself\u001b[0m\u001b[0;34m,\u001b[0m \u001b[0mtakeUpToNumLeft\u001b[0m\u001b[0;34m,\u001b[0m \u001b[0mp\u001b[0m\u001b[0;34m)\u001b[0m\u001b[0;34m\u001b[0m\u001b[0;34m\u001b[0m\u001b[0m\n\u001b[0m\u001b[1;32m   1361\u001b[0m \u001b[0;34m\u001b[0m\u001b[0m\n\u001b[1;32m   1362\u001b[0m             \u001b[0mitems\u001b[0m \u001b[0;34m+=\u001b[0m \u001b[0mres\u001b[0m\u001b[0;34m\u001b[0m\u001b[0;34m\u001b[0m\u001b[0m\n",
      "\u001b[0;32m/usr/local/spark/python/pyspark/context.py\u001b[0m in \u001b[0;36mrunJob\u001b[0;34m(self, rdd, partitionFunc, partitions, allowLocal)\u001b[0m\n\u001b[1;32m   1067\u001b[0m         \u001b[0;31m# SparkContext#runJob.\u001b[0m\u001b[0;34m\u001b[0m\u001b[0;34m\u001b[0m\u001b[0;34m\u001b[0m\u001b[0m\n\u001b[1;32m   1068\u001b[0m         \u001b[0mmappedRDD\u001b[0m \u001b[0;34m=\u001b[0m \u001b[0mrdd\u001b[0m\u001b[0;34m.\u001b[0m\u001b[0mmapPartitions\u001b[0m\u001b[0;34m(\u001b[0m\u001b[0mpartitionFunc\u001b[0m\u001b[0;34m)\u001b[0m\u001b[0;34m\u001b[0m\u001b[0;34m\u001b[0m\u001b[0m\n\u001b[0;32m-> 1069\u001b[0;31m         \u001b[0msock_info\u001b[0m \u001b[0;34m=\u001b[0m \u001b[0mself\u001b[0m\u001b[0;34m.\u001b[0m\u001b[0m_jvm\u001b[0m\u001b[0;34m.\u001b[0m\u001b[0mPythonRDD\u001b[0m\u001b[0;34m.\u001b[0m\u001b[0mrunJob\u001b[0m\u001b[0;34m(\u001b[0m\u001b[0mself\u001b[0m\u001b[0;34m.\u001b[0m\u001b[0m_jsc\u001b[0m\u001b[0;34m.\u001b[0m\u001b[0msc\u001b[0m\u001b[0;34m(\u001b[0m\u001b[0;34m)\u001b[0m\u001b[0;34m,\u001b[0m \u001b[0mmappedRDD\u001b[0m\u001b[0;34m.\u001b[0m\u001b[0m_jrdd\u001b[0m\u001b[0;34m,\u001b[0m \u001b[0mpartitions\u001b[0m\u001b[0;34m)\u001b[0m\u001b[0;34m\u001b[0m\u001b[0;34m\u001b[0m\u001b[0m\n\u001b[0m\u001b[1;32m   1070\u001b[0m         \u001b[0;32mreturn\u001b[0m \u001b[0mlist\u001b[0m\u001b[0;34m(\u001b[0m\u001b[0m_load_from_socket\u001b[0m\u001b[0;34m(\u001b[0m\u001b[0msock_info\u001b[0m\u001b[0;34m,\u001b[0m \u001b[0mmappedRDD\u001b[0m\u001b[0;34m.\u001b[0m\u001b[0m_jrdd_deserializer\u001b[0m\u001b[0;34m)\u001b[0m\u001b[0;34m)\u001b[0m\u001b[0;34m\u001b[0m\u001b[0;34m\u001b[0m\u001b[0m\n\u001b[1;32m   1071\u001b[0m \u001b[0;34m\u001b[0m\u001b[0m\n",
      "\u001b[0;32m/usr/local/spark/python/lib/py4j-0.10.7-src.zip/py4j/java_gateway.py\u001b[0m in \u001b[0;36m__call__\u001b[0;34m(self, *args)\u001b[0m\n\u001b[1;32m   1253\u001b[0m             \u001b[0mproto\u001b[0m\u001b[0;34m.\u001b[0m\u001b[0mEND_COMMAND_PART\u001b[0m\u001b[0;34m\u001b[0m\u001b[0;34m\u001b[0m\u001b[0m\n\u001b[1;32m   1254\u001b[0m \u001b[0;34m\u001b[0m\u001b[0m\n\u001b[0;32m-> 1255\u001b[0;31m         \u001b[0manswer\u001b[0m \u001b[0;34m=\u001b[0m \u001b[0mself\u001b[0m\u001b[0;34m.\u001b[0m\u001b[0mgateway_client\u001b[0m\u001b[0;34m.\u001b[0m\u001b[0msend_command\u001b[0m\u001b[0;34m(\u001b[0m\u001b[0mcommand\u001b[0m\u001b[0;34m)\u001b[0m\u001b[0;34m\u001b[0m\u001b[0;34m\u001b[0m\u001b[0m\n\u001b[0m\u001b[1;32m   1256\u001b[0m         return_value = get_return_value(\n\u001b[1;32m   1257\u001b[0m             answer, self.gateway_client, self.target_id, self.name)\n",
      "\u001b[0;32m/usr/local/spark/python/lib/py4j-0.10.7-src.zip/py4j/java_gateway.py\u001b[0m in \u001b[0;36msend_command\u001b[0;34m(self, command, retry, binary)\u001b[0m\n\u001b[1;32m    983\u001b[0m         \u001b[0mconnection\u001b[0m \u001b[0;34m=\u001b[0m \u001b[0mself\u001b[0m\u001b[0;34m.\u001b[0m\u001b[0m_get_connection\u001b[0m\u001b[0;34m(\u001b[0m\u001b[0;34m)\u001b[0m\u001b[0;34m\u001b[0m\u001b[0;34m\u001b[0m\u001b[0m\n\u001b[1;32m    984\u001b[0m         \u001b[0;32mtry\u001b[0m\u001b[0;34m:\u001b[0m\u001b[0;34m\u001b[0m\u001b[0;34m\u001b[0m\u001b[0m\n\u001b[0;32m--> 985\u001b[0;31m             \u001b[0mresponse\u001b[0m \u001b[0;34m=\u001b[0m \u001b[0mconnection\u001b[0m\u001b[0;34m.\u001b[0m\u001b[0msend_command\u001b[0m\u001b[0;34m(\u001b[0m\u001b[0mcommand\u001b[0m\u001b[0;34m)\u001b[0m\u001b[0;34m\u001b[0m\u001b[0;34m\u001b[0m\u001b[0m\n\u001b[0m\u001b[1;32m    986\u001b[0m             \u001b[0;32mif\u001b[0m \u001b[0mbinary\u001b[0m\u001b[0;34m:\u001b[0m\u001b[0;34m\u001b[0m\u001b[0;34m\u001b[0m\u001b[0m\n\u001b[1;32m    987\u001b[0m                 \u001b[0;32mreturn\u001b[0m \u001b[0mresponse\u001b[0m\u001b[0;34m,\u001b[0m \u001b[0mself\u001b[0m\u001b[0;34m.\u001b[0m\u001b[0m_create_connection_guard\u001b[0m\u001b[0;34m(\u001b[0m\u001b[0mconnection\u001b[0m\u001b[0;34m)\u001b[0m\u001b[0;34m\u001b[0m\u001b[0;34m\u001b[0m\u001b[0m\n",
      "\u001b[0;32m/usr/local/spark/python/lib/py4j-0.10.7-src.zip/py4j/java_gateway.py\u001b[0m in \u001b[0;36msend_command\u001b[0;34m(self, command)\u001b[0m\n\u001b[1;32m   1150\u001b[0m \u001b[0;34m\u001b[0m\u001b[0m\n\u001b[1;32m   1151\u001b[0m         \u001b[0;32mtry\u001b[0m\u001b[0;34m:\u001b[0m\u001b[0;34m\u001b[0m\u001b[0;34m\u001b[0m\u001b[0m\n\u001b[0;32m-> 1152\u001b[0;31m             \u001b[0manswer\u001b[0m \u001b[0;34m=\u001b[0m \u001b[0msmart_decode\u001b[0m\u001b[0;34m(\u001b[0m\u001b[0mself\u001b[0m\u001b[0;34m.\u001b[0m\u001b[0mstream\u001b[0m\u001b[0;34m.\u001b[0m\u001b[0mreadline\u001b[0m\u001b[0;34m(\u001b[0m\u001b[0;34m)\u001b[0m\u001b[0;34m[\u001b[0m\u001b[0;34m:\u001b[0m\u001b[0;34m-\u001b[0m\u001b[0;36m1\u001b[0m\u001b[0;34m]\u001b[0m\u001b[0;34m)\u001b[0m\u001b[0;34m\u001b[0m\u001b[0;34m\u001b[0m\u001b[0m\n\u001b[0m\u001b[1;32m   1153\u001b[0m             \u001b[0mlogger\u001b[0m\u001b[0;34m.\u001b[0m\u001b[0mdebug\u001b[0m\u001b[0;34m(\u001b[0m\u001b[0;34m\"Answer received: {0}\"\u001b[0m\u001b[0;34m.\u001b[0m\u001b[0mformat\u001b[0m\u001b[0;34m(\u001b[0m\u001b[0manswer\u001b[0m\u001b[0;34m)\u001b[0m\u001b[0;34m)\u001b[0m\u001b[0;34m\u001b[0m\u001b[0;34m\u001b[0m\u001b[0m\n\u001b[1;32m   1154\u001b[0m             \u001b[0;32mif\u001b[0m \u001b[0manswer\u001b[0m\u001b[0;34m.\u001b[0m\u001b[0mstartswith\u001b[0m\u001b[0;34m(\u001b[0m\u001b[0mproto\u001b[0m\u001b[0;34m.\u001b[0m\u001b[0mRETURN_MESSAGE\u001b[0m\u001b[0;34m)\u001b[0m\u001b[0;34m:\u001b[0m\u001b[0;34m\u001b[0m\u001b[0;34m\u001b[0m\u001b[0m\n",
      "\u001b[0;32m/opt/conda/lib/python3.7/socket.py\u001b[0m in \u001b[0;36mreadinto\u001b[0;34m(self, b)\u001b[0m\n\u001b[1;32m    587\u001b[0m         \u001b[0;32mwhile\u001b[0m \u001b[0;32mTrue\u001b[0m\u001b[0;34m:\u001b[0m\u001b[0;34m\u001b[0m\u001b[0;34m\u001b[0m\u001b[0m\n\u001b[1;32m    588\u001b[0m             \u001b[0;32mtry\u001b[0m\u001b[0;34m:\u001b[0m\u001b[0;34m\u001b[0m\u001b[0;34m\u001b[0m\u001b[0m\n\u001b[0;32m--> 589\u001b[0;31m                 \u001b[0;32mreturn\u001b[0m \u001b[0mself\u001b[0m\u001b[0;34m.\u001b[0m\u001b[0m_sock\u001b[0m\u001b[0;34m.\u001b[0m\u001b[0mrecv_into\u001b[0m\u001b[0;34m(\u001b[0m\u001b[0mb\u001b[0m\u001b[0;34m)\u001b[0m\u001b[0;34m\u001b[0m\u001b[0;34m\u001b[0m\u001b[0m\n\u001b[0m\u001b[1;32m    590\u001b[0m             \u001b[0;32mexcept\u001b[0m \u001b[0mtimeout\u001b[0m\u001b[0;34m:\u001b[0m\u001b[0;34m\u001b[0m\u001b[0;34m\u001b[0m\u001b[0m\n\u001b[1;32m    591\u001b[0m                 \u001b[0mself\u001b[0m\u001b[0;34m.\u001b[0m\u001b[0m_timeout_occurred\u001b[0m \u001b[0;34m=\u001b[0m \u001b[0;32mTrue\u001b[0m\u001b[0;34m\u001b[0m\u001b[0;34m\u001b[0m\u001b[0m\n",
      "\u001b[0;31mKeyboardInterrupt\u001b[0m: "
     ]
    }
   ],
   "source": [
    "# we only focus on ball-snap (the most common event in player trace data)\n",
    "# rename some columns\n",
    "_df = df.rdd.filter(lambda x: x.event == 'ball-snap').toDF()\n",
    "_df = _df.withColumnRenamed('x','x_snap').withColumnRenamed('y','y_snap').withColumnRenamed('time','time_snap')"
   ]
  },
  {
   "cell_type": "code",
   "execution_count": null,
   "metadata": {},
   "outputs": [],
   "source": [
    "# Remove any data for a play 0.1 second before snap\n",
    "df = df.merge(_df, on='PlayKey', how='left')\n",
    "df = df.rdd.filter(lambda x: x.time >= x.time_snap-0.1)\n",
    "\n",
    "# Remove any data for a play 0.1 second after snap\n",
    "# TODO"
   ]
  }
 ],
 "metadata": {
  "kernelspec": {
   "display_name": "Python 3",
   "language": "python",
   "name": "python3"
  },
  "language_info": {
   "codemirror_mode": {
    "name": "ipython",
    "version": 3
   },
   "file_extension": ".py",
   "mimetype": "text/x-python",
   "name": "python",
   "nbconvert_exporter": "python",
   "pygments_lexer": "ipython3",
   "version": "3.7.6"
  }
 },
 "nbformat": 4,
 "nbformat_minor": 4
}
