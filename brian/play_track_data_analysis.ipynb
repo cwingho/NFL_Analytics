{
 "cells": [
  {
   "cell_type": "code",
   "execution_count": 1,
   "metadata": {},
   "outputs": [],
   "source": [
    "from pyspark import SparkContext\n",
    "from pyspark.sql import SQLContext\n",
    "import pyspark.sql.functions as f\n",
    "from pyspark.sql import Row\n",
    "from pyspark import StorageLevel\n",
    "from pyspark.sql import SparkSession\n",
    "import sys\n",
    "import numpy as np"
   ]
  },
  {
   "cell_type": "code",
   "execution_count": 2,
   "metadata": {},
   "outputs": [],
   "source": [
    "# sc = SparkContext(\"local[*]\", \"NFL\")\n",
    "spark = SparkSession.builder.master(\"local[*]\").appName(\"NFL\").getOrCreate()"
   ]
  },
  {
   "cell_type": "code",
   "execution_count": 6,
   "metadata": {},
   "outputs": [],
   "source": [
    "df = spark.read.option(\"header\",True).csv('../in/PlayerTrackData.csv')\n",
    "# rdd = sc.textFile('../in/PlayerTrackData.csv')"
   ]
  },
  {
   "cell_type": "code",
   "execution_count": 7,
   "metadata": {},
   "outputs": [
    {
     "name": "stdout",
     "output_type": "stream",
     "text": [
      "root\n",
      " |-- PlayKey: string (nullable = true)\n",
      " |-- time: string (nullable = true)\n",
      " |-- event: string (nullable = true)\n",
      " |-- x: string (nullable = true)\n",
      " |-- y: string (nullable = true)\n",
      " |-- dir: string (nullable = true)\n",
      " |-- dis: string (nullable = true)\n",
      " |-- o: string (nullable = true)\n",
      " |-- s: string (nullable = true)\n",
      "\n"
     ]
    }
   ],
   "source": [
    "# show header\n",
    "df.printSchema()\n",
    "# rdd.take(1)"
   ]
  },
  {
   "cell_type": "code",
   "execution_count": 5,
   "metadata": {},
   "outputs": [],
   "source": [
    "# remove header\n",
    "# rdd = rdd.filter(lambda x: 'PlayKey' not in x)"
   ]
  },
  {
   "cell_type": "code",
   "execution_count": 6,
   "metadata": {},
   "outputs": [],
   "source": [
    "# split the col\n",
    "# rdd = rdd.map(lambda x: x.split(','))"
   ]
  },
  {
   "cell_type": "code",
   "execution_count": 7,
   "metadata": {},
   "outputs": [],
   "source": [
    "# remove row if missing some value\n",
    "# rdd = rdd.filter(lambda x: x[5] != '' and x[7] != '')"
   ]
  },
  {
   "cell_type": "code",
   "execution_count": 8,
   "metadata": {},
   "outputs": [],
   "source": [
    "# convert to dataframe object\n",
    "# sqlContext = SQLContext(sc)\n",
    "# df = rdd.toDF(['PlayKey','time','event','x','y','dir','dis','o','s'])\n",
    "\n",
    "# if df want to use rdd function\n",
    "# just df.rdd.xxx()"
   ]
  },
  {
   "cell_type": "code",
   "execution_count": 8,
   "metadata": {},
   "outputs": [
    {
     "name": "stdout",
     "output_type": "stream",
     "text": [
      "+---------+----+\n",
      "|  PlayKey|   s|\n",
      "+---------+----+\n",
      "|26624-1-1|0.13|\n",
      "|26624-1-1|0.12|\n",
      "|26624-1-1|0.12|\n",
      "|26624-1-1| 0.1|\n",
      "|26624-1-1|0.09|\n",
      "|26624-1-1|0.07|\n",
      "|26624-1-1|0.05|\n",
      "|26624-1-1|0.02|\n",
      "|26624-1-1|0.01|\n",
      "|26624-1-1|0.01|\n",
      "|26624-1-1| 0.0|\n",
      "|26624-1-1|0.01|\n",
      "|26624-1-1|0.01|\n",
      "|26624-1-1|0.01|\n",
      "|26624-1-1| 0.0|\n",
      "|26624-1-1|0.01|\n",
      "|26624-1-1| 0.0|\n",
      "|26624-1-1| 0.0|\n",
      "|26624-1-1| 0.0|\n",
      "|26624-1-1| 0.0|\n",
      "+---------+----+\n",
      "only showing top 20 rows\n",
      "\n"
     ]
    }
   ],
   "source": [
    "df.select('PlayKey','s').show()"
   ]
  },
  {
   "cell_type": "code",
   "execution_count": null,
   "metadata": {},
   "outputs": [],
   "source": []
  },
  {
   "cell_type": "code",
   "execution_count": 9,
   "metadata": {},
   "outputs": [],
   "source": [
    "# get all ball_snap play record\n",
    "ball_snap_tracks = df.where(\"event == 'ball_snap'\")\n",
    "# rename x,y,time for ball snap\n",
    "drop_list = ['dir','dis','o','event','s']\n",
    "ball_snap_tracks = ball_snap_tracks.withColumnRenamed('x','snap_x').withColumnRenamed('y','snap_y').withColumnRenamed('time','snap_time').drop(*drop_list)\n",
    "# join two table (orign tracks and tracks only contained ball_snap event)\n",
    "tracks = df.join(ball_snap_tracks, ['PlayKey'], \"left_outer\")\n",
    "# remove any data for a play 0.1 second before snap\n",
    "tracks = tracks.where('time >= (snap_time - 0.1)')\n",
    "# tracks.persist(StorageLevel.MEMORY_ONLY)\n"
   ]
  },
  {
   "cell_type": "code",
   "execution_count": 11,
   "metadata": {
    "scrolled": true
   },
   "outputs": [
    {
     "name": "stdout",
     "output_type": "stream",
     "text": [
      "37087421\n"
     ]
    }
   ],
   "source": [
    "cnt = tracks.count()\n",
    "print(cnt)"
   ]
  },
  {
   "cell_type": "code",
   "execution_count": 12,
   "metadata": {},
   "outputs": [],
   "source": [
    "# convert time to float\n",
    "tracks = tracks.withColumn(\"time\", tracks.time.cast('float').alias(\"time\"))"
   ]
  },
  {
   "cell_type": "code",
   "execution_count": 13,
   "metadata": {},
   "outputs": [],
   "source": [
    "last_event_tracks = tracks.where('event is not null').groupBy('PlayKey').agg(f.max('time').alias('time'))"
   ]
  },
  {
   "cell_type": "code",
   "execution_count": 15,
   "metadata": {},
   "outputs": [
    {
     "name": "stdout",
     "output_type": "stream",
     "text": [
      "+-----------+----+\n",
      "|    PlayKey|time|\n",
      "+-----------+----+\n",
      "|26624-13-32|23.6|\n",
      "|26624-15-34|29.2|\n",
      "|26624-17-30|20.1|\n",
      "|26624-23-64|29.4|\n",
      "|26624-27-32|21.8|\n",
      "|26624-28-56|23.7|\n",
      "| 26624-29-4|22.8|\n",
      "|26624-29-80| 8.0|\n",
      "|26624-30-11|18.2|\n",
      "| 26624-6-58|40.3|\n",
      "| 26624-8-75|18.1|\n",
      "|27363-10-71|23.9|\n",
      "|27363-15-21|17.2|\n",
      "|27363-15-23|17.0|\n",
      "|  27363-2-6|26.8|\n",
      "|27363-22-39|14.5|\n",
      "|27363-22-50|18.8|\n",
      "|27363-29-60|30.1|\n",
      "|27363-30-75| 7.9|\n",
      "| 27363-6-23|24.5|\n",
      "+-----------+----+\n",
      "only showing top 20 rows\n",
      "\n",
      "253227\n"
     ]
    }
   ],
   "source": [
    "last_event_tracks.show()\n",
    "cnt = last_event_tracks.count()\n",
    "print(cnt)"
   ]
  },
  {
   "cell_type": "code",
   "execution_count": 16,
   "metadata": {},
   "outputs": [],
   "source": [
    "# join tracks record and last event tracks record\n",
    "last_event_tracks = last_event_tracks.join(tracks, ['PlayKey','time'], \"inner\")['PlayKey','time','event']"
   ]
  },
  {
   "cell_type": "code",
   "execution_count": 17,
   "metadata": {},
   "outputs": [],
   "source": [
    "# rename col\n",
    "last_event_tracks = last_event_tracks.withColumnRenamed('time','last_time').withColumnRenamed('event','last_event')"
   ]
  },
  {
   "cell_type": "code",
   "execution_count": 18,
   "metadata": {},
   "outputs": [],
   "source": [
    "tracks = tracks.join(last_event_tracks, ['PlayKey'], 'left_outer')"
   ]
  },
  {
   "cell_type": "code",
   "execution_count": 19,
   "metadata": {},
   "outputs": [],
   "source": [
    "# Remove any data for a play 0.1 second after last event\n",
    "tracks = tracks.where('time <= (last_time + 0.1)')"
   ]
  },
  {
   "cell_type": "code",
   "execution_count": 20,
   "metadata": {},
   "outputs": [
    {
     "data": {
      "text/plain": [
       "DataFrame[PlayKey: string, time: float, event: string, x: string, y: string, dir: string, dis: string, o: string, s: string, snap_time: string, snap_x: string, snap_y: string, last_time: float, last_event: string]"
      ]
     },
     "execution_count": 20,
     "metadata": {},
     "output_type": "execute_result"
    }
   ],
   "source": [
    "tracks.persist(StorageLevel.MEMORY_ONLY)"
   ]
  },
  {
   "cell_type": "code",
   "execution_count": 21,
   "metadata": {},
   "outputs": [
    {
     "name": "stdout",
     "output_type": "stream",
     "text": [
      "+-----------+----+---------+-----+-----+------+----+-----+----+---------+------+------+---------+--------------------+\n",
      "|    PlayKey|time|    event|    x|    y|   dir| dis|    o|   s|snap_time|snap_x|snap_y|last_time|          last_event|\n",
      "+-----------+----+---------+-----+-----+------+----+-----+----+---------+------+------+---------+--------------------+\n",
      "|26624-13-32|19.4|     null|19.85| 23.9|267.19| 0.0|15.21|0.29|     19.5| 19.85|  23.9|     23.6|pass_outcome_inco...|\n",
      "|26624-13-32|19.5|ball_snap|19.85| 23.9|266.62| 0.0|15.32|0.51|     19.5| 19.85|  23.9|     23.6|pass_outcome_inco...|\n",
      "|26624-13-32|19.6|     null|19.84| 23.9|266.04| 0.0|15.48|0.68|     19.5| 19.85|  23.9|     23.6|pass_outcome_inco...|\n",
      "|26624-13-32|19.7|     null|19.84| 23.9|265.88| 0.0|15.85| 0.8|     19.5| 19.85|  23.9|     23.6|pass_outcome_inco...|\n",
      "|26624-13-32|19.8|     null|19.84| 23.9|265.98| 0.0|16.76|0.89|     19.5| 19.85|  23.9|     23.6|pass_outcome_inco...|\n",
      "|26624-13-32|19.9|     null|19.83| 23.9|266.15|0.01|18.18|0.96|     19.5| 19.85|  23.9|     23.6|pass_outcome_inco...|\n",
      "|26624-13-32|20.0|     null|19.82| 23.9|266.43|0.01| 19.8|1.03|     19.5| 19.85|  23.9|     23.6|pass_outcome_inco...|\n",
      "|26624-13-32|20.1|     null| 19.8| 23.9| 266.2|0.02|21.42|1.11|     19.5| 19.85|  23.9|     23.6|pass_outcome_inco...|\n",
      "|26624-13-32|20.2|     null|19.67| 23.9|267.22|0.12|23.02|1.16|     19.5| 19.85|  23.9|     23.6|pass_outcome_inco...|\n",
      "|26624-13-32|20.3|     null|19.32|23.87|268.67|0.36|24.85| 1.2|     19.5| 19.85|  23.9|     23.6|pass_outcome_inco...|\n",
      "|26624-13-32|20.4|     null|18.93|23.84|270.45|0.39|26.79|1.25|     19.5| 19.85|  23.9|     23.6|pass_outcome_inco...|\n",
      "|26624-13-32|20.5|     null|18.62|23.81|272.09|0.31| 28.8|1.28|     19.5| 19.85|  23.9|     23.6|pass_outcome_inco...|\n",
      "|26624-13-32|20.6|     null|18.41|23.79|274.16|0.21|30.57| 1.3|     19.5| 19.85|  23.9|     23.6|pass_outcome_inco...|\n",
      "|26624-13-32|20.7|     null|18.25|23.79|276.21|0.16| 32.1|1.32|     19.5| 19.85|  23.9|     23.6|pass_outcome_inco...|\n",
      "|26624-13-32|20.8|     null|18.11|23.78|278.05|0.13|33.36|1.32|     19.5| 19.85|  23.9|     23.6|pass_outcome_inco...|\n",
      "|26624-13-32|20.9|     null|17.99|23.78|279.52|0.12|34.32|1.32|     19.5| 19.85|  23.9|     23.6|pass_outcome_inco...|\n",
      "|26624-13-32|21.0|     null|17.85|23.77|280.74|0.14|34.57|1.31|     19.5| 19.85|  23.9|     23.6|pass_outcome_inco...|\n",
      "|26624-13-32|21.1|     null|17.76| 23.8| 283.5|0.09|34.04|1.26|     19.5| 19.85|  23.9|     23.6|pass_outcome_inco...|\n",
      "|26624-13-32|21.2|     null|17.68|23.85|289.14| 0.1|33.67|1.14|     19.5| 19.85|  23.9|     23.6|pass_outcome_inco...|\n",
      "|26624-13-32|21.3|     null| 17.6|23.92|295.25| 0.1|33.72|0.99|     19.5| 19.85|  23.9|     23.6|pass_outcome_inco...|\n",
      "+-----------+----+---------+-----+-----+------+----+-----+----+---------+------+------+---------+--------------------+\n",
      "only showing top 20 rows\n",
      "\n",
      "17304958\n"
     ]
    }
   ],
   "source": [
    "tracks.show()\n",
    "l = tracks.count()\n",
    "print(l)"
   ]
  },
  {
   "cell_type": "code",
   "execution_count": null,
   "metadata": {},
   "outputs": [],
   "source": []
  },
  {
   "cell_type": "code",
   "execution_count": 14,
   "metadata": {},
   "outputs": [
    {
     "name": "stdout",
     "output_type": "stream",
     "text": [
      "root\n",
      " |-- PlayKey: string (nullable = true)\n",
      " |-- time: float (nullable = true)\n",
      " |-- event: string (nullable = true)\n",
      " |-- x: string (nullable = true)\n",
      " |-- y: string (nullable = true)\n",
      " |-- dir: string (nullable = true)\n",
      " |-- dis: string (nullable = true)\n",
      " |-- o: string (nullable = true)\n",
      " |-- s: string (nullable = true)\n",
      " |-- snap_time: string (nullable = true)\n",
      " |-- snap_x: string (nullable = true)\n",
      " |-- snap_y: string (nullable = true)\n",
      " |-- last_time: float (nullable = true)\n",
      " |-- last_event: string (nullable = true)\n",
      "\n"
     ]
    }
   ],
   "source": [
    "tracks.head(100)\n",
    "tracks.printSchema()"
   ]
  },
  {
   "cell_type": "code",
   "execution_count": 49,
   "metadata": {},
   "outputs": [],
   "source": [
    "# only record the time from the start of first event-1 to the end of last event+1"
   ]
  },
  {
   "cell_type": "code",
   "execution_count": 57,
   "metadata": {},
   "outputs": [],
   "source": [
    "# spark = SparkSession.builder.master(\"local[*]\").appName(\"NFL\").getOrCreate()\n",
    "pl = spark.read.option(\"header\",True).csv('../in/PlayList.csv')"
   ]
  },
  {
   "cell_type": "code",
   "execution_count": 58,
   "metadata": {},
   "outputs": [
    {
     "name": "stdout",
     "output_type": "stream",
     "text": [
      "[Row(PlayerKey='38252'), Row(PlayerKey='42370'), Row(PlayerKey='44423'), Row(PlayerKey='30953'), Row(PlayerKey='34347'), Row(PlayerKey='44860'), Row(PlayerKey='27363'), Row(PlayerKey='44067'), Row(PlayerKey='41084'), Row(PlayerKey='44629'), Row(PlayerKey='44825'), Row(PlayerKey='36579'), Row(PlayerKey='44934'), Row(PlayerKey='46066'), Row(PlayerKey='42359'), Row(PlayerKey='42615'), Row(PlayerKey='44548'), Row(PlayerKey='34214'), Row(PlayerKey='34259'), Row(PlayerKey='44900'), Row(PlayerKey='45945'), Row(PlayerKey='45953'), Row(PlayerKey='46074'), Row(PlayerKey='39680'), Row(PlayerKey='37068'), Row(PlayerKey='43483'), Row(PlayerKey='36672'), Row(PlayerKey='45987'), Row(PlayerKey='40405'), Row(PlayerKey='42399'), Row(PlayerKey='38325'), Row(PlayerKey='40286'), Row(PlayerKey='44421'), Row(PlayerKey='35617'), Row(PlayerKey='34243'), Row(PlayerKey='42588'), Row(PlayerKey='46316'), Row(PlayerKey='44482'), Row(PlayerKey='44037'), Row(PlayerKey='42346'), Row(PlayerKey='39771'), Row(PlayerKey='45061'), Row(PlayerKey='39786'), Row(PlayerKey='45927'), Row(PlayerKey='43523'), Row(PlayerKey='39956'), Row(PlayerKey='39038'), Row(PlayerKey='38213'), Row(PlayerKey='42780'), Row(PlayerKey='36607'), Row(PlayerKey='42405'), Row(PlayerKey='46134'), Row(PlayerKey='26624'), Row(PlayerKey='45077'), Row(PlayerKey='39653'), Row(PlayerKey='44489'), Row(PlayerKey='45158'), Row(PlayerKey='39873'), Row(PlayerKey='46646'), Row(PlayerKey='35611'), Row(PlayerKey='38876'), Row(PlayerKey='38192'), Row(PlayerKey='36572'), Row(PlayerKey='36757'), Row(PlayerKey='39794'), Row(PlayerKey='44480'), Row(PlayerKey='45950'), Row(PlayerKey='44418'), Row(PlayerKey='43527'), Row(PlayerKey='39715'), Row(PlayerKey='44647'), Row(PlayerKey='35570'), Row(PlayerKey='30068'), Row(PlayerKey='39731'), Row(PlayerKey='45975'), Row(PlayerKey='39836'), Row(PlayerKey='42470'), Row(PlayerKey='41086'), Row(PlayerKey='44424'), Row(PlayerKey='46038'), Row(PlayerKey='36573'), Row(PlayerKey='44433'), Row(PlayerKey='42406'), Row(PlayerKey='43656'), Row(PlayerKey='43550'), Row(PlayerKey='42472'), Row(PlayerKey='36559'), Row(PlayerKey='44444'), Row(PlayerKey='33337'), Row(PlayerKey='46046'), Row(PlayerKey='38274'), Row(PlayerKey='32103'), Row(PlayerKey='42348'), Row(PlayerKey='36621'), Row(PlayerKey='44491'), Row(PlayerKey='44799'), Row(PlayerKey='44517'), Row(PlayerKey='41558'), Row(PlayerKey='43535'), Row(PlayerKey='38214'), Row(PlayerKey='44463'), Row(PlayerKey='44511'), Row(PlayerKey='31266'), Row(PlayerKey='46299'), Row(PlayerKey='44449'), Row(PlayerKey='44546'), Row(PlayerKey='44614'), Row(PlayerKey='42456'), Row(PlayerKey='44454'), Row(PlayerKey='42344'), Row(PlayerKey='44158'), Row(PlayerKey='38364'), Row(PlayerKey='44411'), Row(PlayerKey='44806'), Row(PlayerKey='41143'), Row(PlayerKey='43532'), Row(PlayerKey='39702'), Row(PlayerKey='44434'), Row(PlayerKey='43489'), Row(PlayerKey='39850'), Row(PlayerKey='45983'), Row(PlayerKey='42432'), Row(PlayerKey='44165'), Row(PlayerKey='31933'), Row(PlayerKey='39654'), Row(PlayerKey='39748'), Row(PlayerKey='44203'), Row(PlayerKey='36877'), Row(PlayerKey='43478'), Row(PlayerKey='44485'), Row(PlayerKey='36554'), Row(PlayerKey='42448'), Row(PlayerKey='42352'), Row(PlayerKey='39960'), Row(PlayerKey='43490'), Row(PlayerKey='41113'), Row(PlayerKey='43988'), Row(PlayerKey='44492'), Row(PlayerKey='38253'), Row(PlayerKey='42549'), Row(PlayerKey='44451'), Row(PlayerKey='44569'), Row(PlayerKey='42398'), Row(PlayerKey='42418'), Row(PlayerKey='46119'), Row(PlayerKey='36696'), Row(PlayerKey='39671'), Row(PlayerKey='46133'), Row(PlayerKey='43672'), Row(PlayerKey='40070'), Row(PlayerKey='34230'), Row(PlayerKey='46098'), Row(PlayerKey='35577'), Row(PlayerKey='45962'), Row(PlayerKey='40474'), Row(PlayerKey='41145'), Row(PlayerKey='45187'), Row(PlayerKey='46014'), Row(PlayerKey='39650'), Row(PlayerKey='42413'), Row(PlayerKey='36555'), Row(PlayerKey='41692'), Row(PlayerKey='43229'), Row(PlayerKey='38228'), Row(PlayerKey='39656'), Row(PlayerKey='42288'), Row(PlayerKey='46394'), Row(PlayerKey='36557'), Row(PlayerKey='33474'), Row(PlayerKey='41577'), Row(PlayerKey='39583'), Row(PlayerKey='43119'), Row(PlayerKey='43488'), Row(PlayerKey='35648'), Row(PlayerKey='45966'), Row(PlayerKey='46021'), Row(PlayerKey='43505'), Row(PlayerKey='45974'), Row(PlayerKey='44527'), Row(PlayerKey='39664'), Row(PlayerKey='36630'), Row(PlayerKey='40335'), Row(PlayerKey='43540'), Row(PlayerKey='40345'), Row(PlayerKey='41209'), Row(PlayerKey='46430'), Row(PlayerKey='41152'), Row(PlayerKey='45099'), Row(PlayerKey='41664'), Row(PlayerKey='43066'), Row(PlayerKey='39809'), Row(PlayerKey='44440'), Row(PlayerKey='31070'), Row(PlayerKey='43050')]\n",
      "194\n",
      "['38252', '42370', '44423', '30953', '34347', '44860', '27363', '44067', '41084', '44629', '44825', '36579', '44934', '46066', '42359', '42615', '44548', '34214', '34259', '44900', '45945', '45953', '46074', '39680', '37068', '43483', '36672', '45987', '40405', '42399', '38325', '40286', '44421', '35617', '34243', '42588', '46316', '44482', '44037', '42346', '39771', '45061', '39786', '45927', '43523', '39956', '39038', '38213', '42780', '36607', '42405', '46134', '26624', '45077', '39653', '44489', '45158', '39873', '46646', '35611', '38876', '38192', '36572', '36757', '39794', '44480', '45950', '44418', '43527', '39715', '44647', '35570', '30068', '39731', '45975', '39836', '42470', '41086', '44424', '46038', '36573', '44433', '42406', '43656', '43550', '42472', '36559', '44444', '33337', '46046', '38274', '32103', '42348', '36621', '44491', '44799', '44517', '41558', '43535', '38214', '44463', '44511', '31266', '46299', '44449', '44546', '44614', '42456', '44454', '42344', '44158', '38364', '44411', '44806', '41143', '43532', '39702', '44434', '43489', '39850', '45983', '42432', '44165', '31933', '39654', '39748', '44203', '36877', '43478', '44485', '36554', '42448', '42352', '39960', '43490', '41113', '43988', '44492', '38253', '42549', '44451', '44569', '42398', '42418', '46119', '36696', '39671', '46133', '43672', '40070', '34230', '46098', '35577', '45962', '40474', '41145', '45187', '46014', '39650', '42413', '36555', '41692', '43229', '38228', '39656', '42288', '46394', '36557', '33474', '41577', '39583', '43119', '43488', '35648', '45966', '46021', '43505', '45974', '44527', '39664', '36630', '40335', '43540', '40345', '41209', '46430', '41152', '45099', '41664', '43066', '39809', '44440', '31070', '43050']\n"
     ]
    }
   ],
   "source": [
    "# get season 2 distinct player key\n",
    "playerkey = pl.select('PlayerKey').where('PlayerDay >= 350').distinct()\n",
    "playerkey_list = playerkey.rdd.map(lambda x:x.PlayerKey).collect()\n",
    "\n",
    "res = playerkey.collect()\n",
    "cnt = playerkey.count()\n",
    "print(res)\n",
    "print(cnt)\n",
    "print(ids)"
   ]
  },
  {
   "cell_type": "code",
   "execution_count": 59,
   "metadata": {},
   "outputs": [],
   "source": [
    "# convert string to int\n",
    "pl = pl.withColumn(\"PlayerDay\", pl.PlayerDay.cast('int').alias(\"PlayerDay\"))"
   ]
  },
  {
   "cell_type": "code",
   "execution_count": 60,
   "metadata": {},
   "outputs": [],
   "source": [
    "# only select the player who play in season 2, dont know is he play season 1\n",
    "pl = pl[pl.PlayerKey.isin(playerkey_list)]"
   ]
  },
  {
   "cell_type": "code",
   "execution_count": 61,
   "metadata": {},
   "outputs": [],
   "source": [
    "# add season to df, if less than 350, season 1 else season 2\n",
    "pl = pl.withColumn('season', f.when(f.col(\"PlayerDay\") < 350,1).otherwise(2))"
   ]
  },
  {
   "cell_type": "code",
   "execution_count": 62,
   "metadata": {},
   "outputs": [
    {
     "name": "stdout",
     "output_type": "stream",
     "text": [
      "+---------+-------+----------+--------------+---------+----------+-----------+---------+-----------+--------------+--------+--------------+--------+-------------+------+\n",
      "|PlayerKey| GameID|   PlayKey|RosterPosition|PlayerDay|PlayerGame|StadiumType|FieldType|Temperature|       Weather|PlayType|PlayerGamePlay|Position|PositionGroup|season|\n",
      "+---------+-------+----------+--------------+---------+----------+-----------+---------+-----------+--------------+--------+--------------+--------+-------------+------+\n",
      "|    26624|26624-1| 26624-1-1|   Quarterback|        1|         1|    Outdoor|Synthetic|         63|Clear and warm|    Pass|             1|      QB|           QB|     1|\n",
      "|    26624|26624-1| 26624-1-2|   Quarterback|        1|         1|    Outdoor|Synthetic|         63|Clear and warm|    Pass|             2|      QB|           QB|     1|\n",
      "|    26624|26624-1| 26624-1-3|   Quarterback|        1|         1|    Outdoor|Synthetic|         63|Clear and warm|    Rush|             3|      QB|           QB|     1|\n",
      "|    26624|26624-1| 26624-1-4|   Quarterback|        1|         1|    Outdoor|Synthetic|         63|Clear and warm|    Rush|             4|      QB|           QB|     1|\n",
      "|    26624|26624-1| 26624-1-5|   Quarterback|        1|         1|    Outdoor|Synthetic|         63|Clear and warm|    Pass|             5|      QB|           QB|     1|\n",
      "|    26624|26624-1| 26624-1-6|   Quarterback|        1|         1|    Outdoor|Synthetic|         63|Clear and warm|    Rush|             6|      QB|           QB|     1|\n",
      "|    26624|26624-1| 26624-1-7|   Quarterback|        1|         1|    Outdoor|Synthetic|         63|Clear and warm|    Pass|             7|      QB|           QB|     1|\n",
      "|    26624|26624-1| 26624-1-8|   Quarterback|        1|         1|    Outdoor|Synthetic|         63|Clear and warm|    Pass|             8|      QB|           QB|     1|\n",
      "|    26624|26624-1| 26624-1-9|   Quarterback|        1|         1|    Outdoor|Synthetic|         63|Clear and warm|    Rush|             9|      QB|           QB|     1|\n",
      "|    26624|26624-1|26624-1-10|   Quarterback|        1|         1|    Outdoor|Synthetic|         63|Clear and warm|    Pass|            10|      QB|           QB|     1|\n",
      "|    26624|26624-1|26624-1-11|   Quarterback|        1|         1|    Outdoor|Synthetic|         63|Clear and warm|    Rush|            11|      QB|           QB|     1|\n",
      "|    26624|26624-1|26624-1-12|   Quarterback|        1|         1|    Outdoor|Synthetic|         63|Clear and warm|    Pass|            12|      QB|           QB|     1|\n",
      "|    26624|26624-1|26624-1-13|   Quarterback|        1|         1|    Outdoor|Synthetic|         63|Clear and warm|    Pass|            13|      QB|           QB|     1|\n",
      "|    26624|26624-1|26624-1-14|   Quarterback|        1|         1|    Outdoor|Synthetic|         63|Clear and warm|    Rush|            14|      QB|           QB|     1|\n",
      "|    26624|26624-1|26624-1-15|   Quarterback|        1|         1|    Outdoor|Synthetic|         63|Clear and warm|    Pass|            15|      QB|           QB|     1|\n",
      "|    26624|26624-1|26624-1-16|   Quarterback|        1|         1|    Outdoor|Synthetic|         63|Clear and warm|    Rush|            16|      QB|           QB|     1|\n",
      "|    26624|26624-1|26624-1-17|   Quarterback|        1|         1|    Outdoor|Synthetic|         63|Clear and warm|    Pass|            17|      QB|           QB|     1|\n",
      "|    26624|26624-1|26624-1-18|   Quarterback|        1|         1|    Outdoor|Synthetic|         63|Clear and warm|    Pass|            18|      QB|           QB|     1|\n",
      "|    26624|26624-1|26624-1-19|   Quarterback|        1|         1|    Outdoor|Synthetic|         63|Clear and warm|    Rush|            19|      QB|           QB|     1|\n",
      "|    26624|26624-1|26624-1-20|   Quarterback|        1|         1|    Outdoor|Synthetic|         63|Clear and warm|    Rush|            20|      QB|           QB|     1|\n",
      "+---------+-------+----------+--------------+---------+----------+-----------+---------+-----------+--------------+--------+--------------+--------+-------------+------+\n",
      "only showing top 20 rows\n",
      "\n",
      "245367\n"
     ]
    }
   ],
   "source": [
    "pl.show()\n",
    "l = pl.count()\n",
    "print(l)"
   ]
  },
  {
   "cell_type": "code",
   "execution_count": 65,
   "metadata": {},
   "outputs": [],
   "source": [
    "pl_map = pl[['PlayKey','GameID','season']]"
   ]
  },
  {
   "cell_type": "code",
   "execution_count": 66,
   "metadata": {},
   "outputs": [
    {
     "name": "stdout",
     "output_type": "stream",
     "text": [
      "+----------+-------+------+\n",
      "|   PlayKey| GameID|season|\n",
      "+----------+-------+------+\n",
      "| 26624-1-1|26624-1|     1|\n",
      "| 26624-1-2|26624-1|     1|\n",
      "| 26624-1-3|26624-1|     1|\n",
      "| 26624-1-4|26624-1|     1|\n",
      "| 26624-1-5|26624-1|     1|\n",
      "| 26624-1-6|26624-1|     1|\n",
      "| 26624-1-7|26624-1|     1|\n",
      "| 26624-1-8|26624-1|     1|\n",
      "| 26624-1-9|26624-1|     1|\n",
      "|26624-1-10|26624-1|     1|\n",
      "|26624-1-11|26624-1|     1|\n",
      "|26624-1-12|26624-1|     1|\n",
      "|26624-1-13|26624-1|     1|\n",
      "|26624-1-14|26624-1|     1|\n",
      "|26624-1-15|26624-1|     1|\n",
      "|26624-1-16|26624-1|     1|\n",
      "|26624-1-17|26624-1|     1|\n",
      "|26624-1-18|26624-1|     1|\n",
      "|26624-1-19|26624-1|     1|\n",
      "|26624-1-20|26624-1|     1|\n",
      "+----------+-------+------+\n",
      "only showing top 20 rows\n",
      "\n"
     ]
    }
   ],
   "source": [
    "pl_map.show()"
   ]
  },
  {
   "cell_type": "code",
   "execution_count": null,
   "metadata": {},
   "outputs": [],
   "source": []
  },
  {
   "cell_type": "code",
   "execution_count": 68,
   "metadata": {},
   "outputs": [
    {
     "data": {
      "text/plain": [
       "DataFrame[PlayKey: string, time: float, event: string, x: string, y: string, dir: string, dis: string, o: string, s: string, snap_time: string, snap_x: string, snap_y: string, last_time: float, last_event: string, GameID: string, season: int]"
      ]
     },
     "execution_count": 68,
     "metadata": {},
     "output_type": "execute_result"
    }
   ],
   "source": [
    "map_tracks = tracks.join(pl_map,['PlayKey'],'left_outer')\n",
    "map_tracks.persist(StorageLevel.MEMORY_ONLY)"
   ]
  },
  {
   "cell_type": "code",
   "execution_count": 69,
   "metadata": {},
   "outputs": [
    {
     "name": "stdout",
     "output_type": "stream",
     "text": [
      "+-----------+----+---------+-----+-----+------+----+------+----+---------+------+------+---------+----------+------+------+\n",
      "|    PlayKey|time|    event|    x|    y|   dir| dis|     o|   s|snap_time|snap_x|snap_y|last_time|last_event|GameID|season|\n",
      "+-----------+----+---------+-----+-----+------+----+------+----+---------+------+------+---------+----------+------+------+\n",
      "|47888-13-55|12.0|     null|68.27|37.85| 52.23|0.02|263.13|0.04|     12.1| 68.27| 37.85|     19.0|    tackle|  null|  null|\n",
      "|47888-13-55|12.1|ball_snap|68.27|37.85| 50.71| 0.0|263.13|0.03|     12.1| 68.27| 37.85|     19.0|    tackle|  null|  null|\n",
      "|47888-13-55|12.2|     null|68.26|37.86| 33.34|0.02|263.13|0.03|     12.1| 68.27| 37.85|     19.0|    tackle|  null|  null|\n",
      "|47888-13-55|12.3|     null|68.25|37.86| 24.49|0.01|265.05|0.02|     12.1| 68.27| 37.85|     19.0|    tackle|  null|  null|\n",
      "|47888-13-55|12.4|     null|68.24|37.86|286.07|0.01|266.58|0.03|     12.1| 68.27| 37.85|     19.0|    tackle|  null|  null|\n",
      "|47888-13-55|12.5|     null|68.24|37.85|218.18|0.01|263.38|0.14|     12.1| 68.27| 37.85|     19.0|    tackle|  null|  null|\n",
      "|47888-13-55|12.6|     null|68.22|37.83|213.31|0.03|260.83|0.35|     12.1| 68.27| 37.85|     19.0|    tackle|  null|  null|\n",
      "|47888-13-55|12.7|     null| 68.2|37.77|203.44|0.06|257.53|0.65|     12.1| 68.27| 37.85|     19.0|    tackle|  null|  null|\n",
      "|47888-13-55|12.8|     null|68.17|37.67|197.65|0.11|256.34|1.08|     12.1| 68.27| 37.85|     19.0|    tackle|  null|  null|\n",
      "|47888-13-55|12.9|     null|68.11| 37.5|197.07|0.17|253.53|1.48|     12.1| 68.27| 37.85|     19.0|    tackle|  null|  null|\n",
      "|47888-13-55|13.0|     null|68.06|37.33|197.71|0.18|252.24|1.81|     12.1| 68.27| 37.85|     19.0|    tackle|  null|  null|\n",
      "|47888-13-55|13.1|     null| 68.0|37.14|196.97| 0.2|248.81|2.14|     12.1| 68.27| 37.85|     19.0|    tackle|  null|  null|\n",
      "|47888-13-55|13.2|     null|67.93|36.91|195.95|0.24|243.56|2.46|     12.1| 68.27| 37.85|     19.0|    tackle|  null|  null|\n",
      "|47888-13-55|13.3|     null|67.86|36.66|195.32|0.26|238.99|2.72|     12.1| 68.27| 37.85|     19.0|    tackle|  null|  null|\n",
      "|47888-13-55|13.4|  handoff|67.79|36.39|195.11|0.28|235.66|2.93|     12.1| 68.27| 37.85|     19.0|    tackle|  null|  null|\n",
      "|47888-13-55|13.5|     null|67.71| 36.1|194.74| 0.3|233.83|3.08|     12.1| 68.27| 37.85|     19.0|    tackle|  null|  null|\n",
      "|47888-13-55|13.6|     null|67.64|35.79|192.34|0.32|230.41|3.22|     12.1| 68.27| 37.85|     19.0|    tackle|  null|  null|\n",
      "|47888-13-55|13.7|     null| 67.6|35.47|186.76|0.33|227.42|3.35|     12.1| 68.27| 37.85|     19.0|    tackle|  null|  null|\n",
      "|47888-13-55|13.8|     null|67.57|35.13|183.02|0.34|225.72|3.39|     12.1| 68.27| 37.85|     19.0|    tackle|  null|  null|\n",
      "|47888-13-55|13.9|     null|67.56|34.79|180.25|0.34|221.51|3.42|     12.1| 68.27| 37.85|     19.0|    tackle|  null|  null|\n",
      "+-----------+----+---------+-----+-----+------+----+------+----+---------+------+------+---------+----------+------+------+\n",
      "only showing top 20 rows\n",
      "\n"
     ]
    }
   ],
   "source": [
    "map_tracks.where('PlayKey == \"47888-13-55\"').show()"
   ]
  },
  {
   "cell_type": "code",
   "execution_count": 70,
   "metadata": {},
   "outputs": [
    {
     "name": "stdout",
     "output_type": "stream",
     "text": [
      "17304958\n"
     ]
    }
   ],
   "source": [
    "print(map_tracks.count())"
   ]
  },
  {
   "cell_type": "code",
   "execution_count": 73,
   "metadata": {},
   "outputs": [],
   "source": [
    "# Fix orientation\n",
    "# Assume other seasons based on direction at snap - if orientation at snap is outside normal range, shift.\n",
    "s1 = map_tracks.select('PlayKey').where('event == \"ball_snap\" and o < 50 and season is null').distinct().collect()\n",
    "s2 = map_tracks.select('PlayKey').where('event == \"ball_snap\" and o > 325 and season is null').distinct().collect()\n",
    "s3 = map_tracks.select('PlayKey').where('event == \"ball_snap\" and o < 225 and o > 125 and season is null').distinct().collect()"
   ]
  },
  {
   "cell_type": "code",
   "execution_count": 72,
   "metadata": {},
   "outputs": [
    {
     "data": {
      "text/plain": [
       "DataFrame[PlayKey: string, time: float, event: string, x: string, y: string, dir: string, dis: string, o: string, s: string, snap_time: string, snap_x: string, snap_y: string, last_time: float, last_event: string, GameID: string, season: int]"
      ]
     },
     "execution_count": 72,
     "metadata": {},
     "output_type": "execute_result"
    }
   ],
   "source": [
    "map_tracks"
   ]
  },
  {
   "cell_type": "code",
   "execution_count": 75,
   "metadata": {},
   "outputs": [],
   "source": [
    "def foo(x):\n",
    "    return [i['PlayKey'] for i in x]"
   ]
  },
  {
   "cell_type": "code",
   "execution_count": 77,
   "metadata": {},
   "outputs": [],
   "source": [
    "abnormal_play_key = foo(s1)+foo(s2)+foo(s3)"
   ]
  },
  {
   "cell_type": "code",
   "execution_count": 80,
   "metadata": {},
   "outputs": [],
   "source": [
    "abnormal_play_key = list(set(abnormal_play_key))"
   ]
  },
  {
   "cell_type": "code",
   "execution_count": 87,
   "metadata": {},
   "outputs": [],
   "source": [
    "_map_tracks = map_tracks.withColumn('season', \n",
    "                                    f.when(map_tracks.PlayKey.isin(abnormal_play_key) \n",
    "                                           & map_tracks.season.isNull(),1))"
   ]
  },
  {
   "cell_type": "code",
   "execution_count": 91,
   "metadata": {},
   "outputs": [],
   "source": [
    "# all normal orientation record will be treated as session 2\n",
    "_map_tracks = _map_tracks.withColumn('season', \n",
    "                                    f.when(_map_tracks.season.isNull()\n",
    "                                           & ~_map_tracks.PlayKey.isin(abnormal_play_key),2))"
   ]
  },
  {
   "cell_type": "code",
   "execution_count": 93,
   "metadata": {},
   "outputs": [
    {
     "data": {
      "text/plain": [
       "DataFrame[PlayKey: string, time: float, event: string, x: string, y: string, dir: string, dis: string, o: string, s: string, snap_time: string, snap_x: string, snap_y: string, last_time: float, last_event: string, GameID: string, season: int]"
      ]
     },
     "execution_count": 93,
     "metadata": {},
     "output_type": "execute_result"
    }
   ],
   "source": [
    "_map_tracks.persist(StorageLevel.MEMORY_ONLY)"
   ]
  },
  {
   "cell_type": "code",
   "execution_count": 95,
   "metadata": {},
   "outputs": [
    {
     "name": "stdout",
     "output_type": "stream",
     "text": [
      "17304958\n"
     ]
    }
   ],
   "source": [
    "print(_map_tracks.count())"
   ]
  },
  {
   "cell_type": "code",
   "execution_count": null,
   "metadata": {},
   "outputs": [],
   "source": [
    "# Change orientation for season 1\n",
    "# tracks['o'] = np.where(tracks.Season == 1,\n",
    "#                             np.mod(tracks.o+90, 360),\n",
    "#                             tracks.o\n",
    "#                             )\n"
   ]
  },
  {
   "cell_type": "code",
   "execution_count": 108,
   "metadata": {},
   "outputs": [],
   "source": [
    "_map_tracks = _map_tracks.withColumn(\"s\", _map_tracks.s.cast('float').alias(\"s\"))\n",
    "_map_tracks = _map_tracks.withColumn(\"o\", _map_tracks.o.cast('float').alias(\"o\"))\n",
    "_map_tracks = _map_tracks.withColumn(\"dir\", _map_tracks.dir.cast('float').alias(\"dir\"))"
   ]
  },
  {
   "cell_type": "code",
   "execution_count": 109,
   "metadata": {},
   "outputs": [
    {
     "name": "stdout",
     "output_type": "stream",
     "text": [
      "root\n",
      " |-- PlayKey: string (nullable = true)\n",
      " |-- time: float (nullable = true)\n",
      " |-- event: string (nullable = true)\n",
      " |-- x: string (nullable = true)\n",
      " |-- y: string (nullable = true)\n",
      " |-- dir: float (nullable = true)\n",
      " |-- dis: string (nullable = true)\n",
      " |-- o: float (nullable = true)\n",
      " |-- s: float (nullable = true)\n",
      " |-- snap_time: string (nullable = true)\n",
      " |-- snap_x: string (nullable = true)\n",
      " |-- snap_y: string (nullable = true)\n",
      " |-- last_time: float (nullable = true)\n",
      " |-- last_event: string (nullable = true)\n",
      " |-- GameID: string (nullable = true)\n",
      " |-- season: integer (nullable = true)\n",
      "\n"
     ]
    }
   ],
   "source": [
    "_map_tracks.printSchema()"
   ]
  },
  {
   "cell_type": "code",
   "execution_count": 113,
   "metadata": {},
   "outputs": [],
   "source": [
    "adjusted_tracks = _map_tracks.withColumn('o',f.when(f.col('season') == 1, (f.col('o')+90)%360))"
   ]
  },
  {
   "cell_type": "code",
   "execution_count": 114,
   "metadata": {},
   "outputs": [
    {
     "name": "stdout",
     "output_type": "stream",
     "text": [
      "+-----------+----+---------+-----+-----+------+----+----+----+---------+------+------+---------+--------------------+--------+------+\n",
      "|    PlayKey|time|    event|    x|    y|   dir| dis|   o|   s|snap_time|snap_x|snap_y|last_time|          last_event|  GameID|season|\n",
      "+-----------+----+---------+-----+-----+------+----+----+----+---------+------+------+---------+--------------------+--------+------+\n",
      "|26624-13-32|19.4|     null|19.85| 23.9|267.19| 0.0|null|0.29|     19.5| 19.85|  23.9|     23.6|pass_outcome_inco...|26624-13|     2|\n",
      "|26624-13-32|19.5|ball_snap|19.85| 23.9|266.62| 0.0|null|0.51|     19.5| 19.85|  23.9|     23.6|pass_outcome_inco...|26624-13|     2|\n",
      "|26624-13-32|19.6|     null|19.84| 23.9|266.04| 0.0|null|0.68|     19.5| 19.85|  23.9|     23.6|pass_outcome_inco...|26624-13|     2|\n",
      "|26624-13-32|19.7|     null|19.84| 23.9|265.88| 0.0|null| 0.8|     19.5| 19.85|  23.9|     23.6|pass_outcome_inco...|26624-13|     2|\n",
      "|26624-13-32|19.8|     null|19.84| 23.9|265.98| 0.0|null|0.89|     19.5| 19.85|  23.9|     23.6|pass_outcome_inco...|26624-13|     2|\n",
      "|26624-13-32|19.9|     null|19.83| 23.9|266.15|0.01|null|0.96|     19.5| 19.85|  23.9|     23.6|pass_outcome_inco...|26624-13|     2|\n",
      "|26624-13-32|20.0|     null|19.82| 23.9|266.43|0.01|null|1.03|     19.5| 19.85|  23.9|     23.6|pass_outcome_inco...|26624-13|     2|\n",
      "|26624-13-32|20.1|     null| 19.8| 23.9| 266.2|0.02|null|1.11|     19.5| 19.85|  23.9|     23.6|pass_outcome_inco...|26624-13|     2|\n",
      "|26624-13-32|20.2|     null|19.67| 23.9|267.22|0.12|null|1.16|     19.5| 19.85|  23.9|     23.6|pass_outcome_inco...|26624-13|     2|\n",
      "|26624-13-32|20.3|     null|19.32|23.87|268.67|0.36|null| 1.2|     19.5| 19.85|  23.9|     23.6|pass_outcome_inco...|26624-13|     2|\n",
      "|26624-13-32|20.4|     null|18.93|23.84|270.45|0.39|null|1.25|     19.5| 19.85|  23.9|     23.6|pass_outcome_inco...|26624-13|     2|\n",
      "|26624-13-32|20.5|     null|18.62|23.81|272.09|0.31|null|1.28|     19.5| 19.85|  23.9|     23.6|pass_outcome_inco...|26624-13|     2|\n",
      "|26624-13-32|20.6|     null|18.41|23.79|274.16|0.21|null| 1.3|     19.5| 19.85|  23.9|     23.6|pass_outcome_inco...|26624-13|     2|\n",
      "|26624-13-32|20.7|     null|18.25|23.79|276.21|0.16|null|1.32|     19.5| 19.85|  23.9|     23.6|pass_outcome_inco...|26624-13|     2|\n",
      "|26624-13-32|20.8|     null|18.11|23.78|278.05|0.13|null|1.32|     19.5| 19.85|  23.9|     23.6|pass_outcome_inco...|26624-13|     2|\n",
      "|26624-13-32|20.9|     null|17.99|23.78|279.52|0.12|null|1.32|     19.5| 19.85|  23.9|     23.6|pass_outcome_inco...|26624-13|     2|\n",
      "|26624-13-32|21.0|     null|17.85|23.77|280.74|0.14|null|1.31|     19.5| 19.85|  23.9|     23.6|pass_outcome_inco...|26624-13|     2|\n",
      "|26624-13-32|21.1|     null|17.76| 23.8| 283.5|0.09|null|1.26|     19.5| 19.85|  23.9|     23.6|pass_outcome_inco...|26624-13|     2|\n",
      "|26624-13-32|21.2|     null|17.68|23.85|289.14| 0.1|null|1.14|     19.5| 19.85|  23.9|     23.6|pass_outcome_inco...|26624-13|     2|\n",
      "|26624-13-32|21.3|     null| 17.6|23.92|295.25| 0.1|null|0.99|     19.5| 19.85|  23.9|     23.6|pass_outcome_inco...|26624-13|     2|\n",
      "+-----------+----+---------+-----+-----+------+----+----+----+---------+------+------+---------+--------------------+--------+------+\n",
      "only showing top 20 rows\n",
      "\n"
     ]
    }
   ],
   "source": [
    "adjusted_tracks.show()"
   ]
  },
  {
   "cell_type": "code",
   "execution_count": null,
   "metadata": {},
   "outputs": [],
   "source": []
  },
  {
   "cell_type": "code",
   "execution_count": null,
   "metadata": {},
   "outputs": [],
   "source": []
  },
  {
   "cell_type": "code",
   "execution_count": null,
   "metadata": {},
   "outputs": [],
   "source": []
  },
  {
   "cell_type": "code",
   "execution_count": null,
   "metadata": {},
   "outputs": [],
   "source": []
  },
  {
   "cell_type": "code",
   "execution_count": 39,
   "metadata": {},
   "outputs": [],
   "source": [
    "temp = last_event_tracks[last_event_tracks.PlayKey,last_event_tracks.time,last_event_tracks.event]"
   ]
  },
  {
   "cell_type": "code",
   "execution_count": 41,
   "metadata": {},
   "outputs": [
    {
     "name": "stdout",
     "output_type": "stream",
     "text": [
      "+-----------+----+--------------------+\n",
      "|    PlayKey|time|               event|\n",
      "+-----------+----+--------------------+\n",
      "|  26624-1-6| 5.0|              tackle|\n",
      "| 26624-1-70|24.7|              tackle|\n",
      "|26624-11-18|19.3|       out_of_bounds|\n",
      "| 26624-18-9| 8.8|           ball_snap|\n",
      "|26624-23-24|18.3|pass_outcome_inco...|\n",
      "|26624-26-28|24.9|pass_outcome_inco...|\n",
      "| 26624-6-23| 5.7|              tackle|\n",
      "|  26624-7-2|33.3|        penalty_flag|\n",
      "| 26624-7-49| 8.8|           ball_snap|\n",
      "| 27363-1-53|16.8|              tackle|\n",
      "| 27363-1-62|18.6|pass_outcome_touc...|\n",
      "|27363-10-63| 9.9|           ball_snap|\n",
      "|27363-19-42|22.4|              tackle|\n",
      "|27363-21-59|21.4|              tackle|\n",
      "|27363-27-45|19.5|              tackle|\n",
      "|  27363-3-6|16.8|              tackle|\n",
      "|27363-30-51|51.2|        penalty_flag|\n",
      "| 27363-4-62|18.4|              tackle|\n",
      "| 27363-5-23| 9.1|             handoff|\n",
      "|  27363-6-3|31.3|              tackle|\n",
      "+-----------+----+--------------------+\n",
      "only showing top 20 rows\n",
      "\n"
     ]
    }
   ],
   "source": [
    "temp.show()"
   ]
  },
  {
   "cell_type": "code",
   "execution_count": null,
   "metadata": {},
   "outputs": [],
   "source": []
  },
  {
   "cell_type": "code",
   "execution_count": null,
   "metadata": {},
   "outputs": [],
   "source": []
  },
  {
   "cell_type": "code",
   "execution_count": null,
   "metadata": {},
   "outputs": [],
   "source": []
  },
  {
   "cell_type": "code",
   "execution_count": null,
   "metadata": {},
   "outputs": [],
   "source": []
  },
  {
   "cell_type": "code",
   "execution_count": null,
   "metadata": {},
   "outputs": [],
   "source": []
  },
  {
   "cell_type": "code",
   "execution_count": 100,
   "metadata": {},
   "outputs": [],
   "source": [
    "# speed\n",
    "# player_mean_speed_df = df.rdd.map(lambda x: [x[0].split('-')[0], float(x[-1])]).toDF([\"playerKey\",\"s\"])\n",
    "# # remove extreme small speed\n",
    "# player_mean_speed_df = player_mean_speed_df.rdd.filter(lambda x:x.s >= 1).toDF([\"playerKey\",\"s\"])\n",
    "# # get average speed\n",
    "# player_mean_speed = player_mean_speed_df.groupBy('playerKey').agg(f.mean(\"s\").alias('mean'))\n",
    "# result = player_mean_speed.collect()"
   ]
  },
  {
   "cell_type": "code",
   "execution_count": null,
   "metadata": {},
   "outputs": [],
   "source": []
  },
  {
   "cell_type": "code",
   "execution_count": 88,
   "metadata": {},
   "outputs": [],
   "source": [
    "# convert string to float\n",
    "df = df.withColumn(\"s\", df.s.cast('float').alias(\"s\"))\n",
    "df = df.withColumn(\"o\", df.o.cast('float').alias(\"o\"))\n",
    "df = df.withColumn(\"dir\", df.dir.cast('float').alias(\"dir\"))"
   ]
  },
  {
   "cell_type": "code",
   "execution_count": 89,
   "metadata": {},
   "outputs": [
    {
     "name": "stdout",
     "output_type": "stream",
     "text": [
      "root\n",
      " |-- PlayKey: string (nullable = true)\n",
      " |-- time: string (nullable = true)\n",
      " |-- event: string (nullable = true)\n",
      " |-- x: string (nullable = true)\n",
      " |-- y: string (nullable = true)\n",
      " |-- dir: float (nullable = true)\n",
      " |-- dis: string (nullable = true)\n",
      " |-- o: float (nullable = true)\n",
      " |-- s: float (nullable = true)\n",
      "\n"
     ]
    }
   ],
   "source": [
    "df.printSchema()"
   ]
  },
  {
   "cell_type": "code",
   "execution_count": 90,
   "metadata": {},
   "outputs": [],
   "source": [
    "# add new col.\n",
    "# compute the difference between o and dir\n",
    "def add_o_dir_diff(x):\n",
    "    x = x.asDict()\n",
    "    x['o_dir_diff'] = min([abs(x['o']-x['dir']),abs(x['o']-(x['dir']-360)),abs(x['o']-(x['dir']+360))])\n",
    "    \n",
    "    x['is_forward_move'] = False\n",
    "    x['is_sideway_move'] = False\n",
    "    x['is_backward_move'] = False\n",
    "    \n",
    "    if x['o_dir_diff'] <= 45:\n",
    "        x['move_type'] = 'forward'\n",
    "        x['is_forward_move'] = True\n",
    "    elif x['o_dir_diff'] <= 135:\n",
    "        x['move_type'] = 'sideway'\n",
    "        x['is_sideway_move'] = True\n",
    "    else:\n",
    "        x['move_type'] = 'backward'\n",
    "        x['is_backward_move'] = True\n",
    "        \n",
    "    return Row(**x)\n",
    "\n",
    "rdd = df.rdd.map(add_o_dir_diff)"
   ]
  },
  {
   "cell_type": "code",
   "execution_count": 91,
   "metadata": {},
   "outputs": [],
   "source": [
    "df = rdd.toDF()"
   ]
  },
  {
   "cell_type": "code",
   "execution_count": 99,
   "metadata": {},
   "outputs": [],
   "source": [
    "# get the distinct event in player trace data\n",
    "# res = df.select('event').distinct().collect()"
   ]
  },
  {
   "cell_type": "code",
   "execution_count": 98,
   "metadata": {},
   "outputs": [],
   "source": []
  },
  {
   "cell_type": "code",
   "execution_count": 101,
   "metadata": {
    "scrolled": true
   },
   "outputs": [
    {
     "ename": "KeyboardInterrupt",
     "evalue": "",
     "output_type": "error",
     "traceback": [
      "\u001b[0;31m---------------------------------------------------------------------------\u001b[0m",
      "\u001b[0;31mKeyboardInterrupt\u001b[0m                         Traceback (most recent call last)",
      "\u001b[0;32m<ipython-input-101-63512dda2991>\u001b[0m in \u001b[0;36m<module>\u001b[0;34m\u001b[0m\n\u001b[1;32m      1\u001b[0m \u001b[0;31m# we only focus on ball-snap (the most common event in player trace data)\u001b[0m\u001b[0;34m\u001b[0m\u001b[0;34m\u001b[0m\u001b[0;34m\u001b[0m\u001b[0m\n\u001b[0;32m----> 2\u001b[0;31m \u001b[0m_rdd\u001b[0m \u001b[0;34m=\u001b[0m \u001b[0mdf\u001b[0m\u001b[0;34m.\u001b[0m\u001b[0mrdd\u001b[0m\u001b[0;34m.\u001b[0m\u001b[0mfilter\u001b[0m\u001b[0;34m(\u001b[0m\u001b[0;32mlambda\u001b[0m \u001b[0mx\u001b[0m\u001b[0;34m:\u001b[0m \u001b[0mx\u001b[0m\u001b[0;34m.\u001b[0m\u001b[0mevent\u001b[0m \u001b[0;34m==\u001b[0m \u001b[0;34m'ball-snap'\u001b[0m\u001b[0;34m)\u001b[0m\u001b[0;34m.\u001b[0m\u001b[0mtoDF\u001b[0m\u001b[0;34m(\u001b[0m\u001b[0;34m)\u001b[0m\u001b[0;34m\u001b[0m\u001b[0;34m\u001b[0m\u001b[0m\n\u001b[0m",
      "\u001b[0;32m/usr/local/spark/python/pyspark/sql/session.py\u001b[0m in \u001b[0;36mtoDF\u001b[0;34m(self, schema, sampleRatio)\u001b[0m\n\u001b[1;32m     56\u001b[0m         \u001b[0;34m[\u001b[0m\u001b[0mRow\u001b[0m\u001b[0;34m(\u001b[0m\u001b[0mname\u001b[0m\u001b[0;34m=\u001b[0m\u001b[0;34mu'Alice'\u001b[0m\u001b[0;34m,\u001b[0m \u001b[0mage\u001b[0m\u001b[0;34m=\u001b[0m\u001b[0;36m1\u001b[0m\u001b[0;34m)\u001b[0m\u001b[0;34m]\u001b[0m\u001b[0;34m\u001b[0m\u001b[0;34m\u001b[0m\u001b[0m\n\u001b[1;32m     57\u001b[0m         \"\"\"\n\u001b[0;32m---> 58\u001b[0;31m         \u001b[0;32mreturn\u001b[0m \u001b[0msparkSession\u001b[0m\u001b[0;34m.\u001b[0m\u001b[0mcreateDataFrame\u001b[0m\u001b[0;34m(\u001b[0m\u001b[0mself\u001b[0m\u001b[0;34m,\u001b[0m \u001b[0mschema\u001b[0m\u001b[0;34m,\u001b[0m \u001b[0msampleRatio\u001b[0m\u001b[0;34m)\u001b[0m\u001b[0;34m\u001b[0m\u001b[0;34m\u001b[0m\u001b[0m\n\u001b[0m\u001b[1;32m     59\u001b[0m \u001b[0;34m\u001b[0m\u001b[0m\n\u001b[1;32m     60\u001b[0m     \u001b[0mRDD\u001b[0m\u001b[0;34m.\u001b[0m\u001b[0mtoDF\u001b[0m \u001b[0;34m=\u001b[0m \u001b[0mtoDF\u001b[0m\u001b[0;34m\u001b[0m\u001b[0;34m\u001b[0m\u001b[0m\n",
      "\u001b[0;32m/usr/local/spark/python/pyspark/sql/session.py\u001b[0m in \u001b[0;36mcreateDataFrame\u001b[0;34m(self, data, schema, samplingRatio, verifySchema)\u001b[0m\n\u001b[1;32m    744\u001b[0m \u001b[0;34m\u001b[0m\u001b[0m\n\u001b[1;32m    745\u001b[0m         \u001b[0;32mif\u001b[0m \u001b[0misinstance\u001b[0m\u001b[0;34m(\u001b[0m\u001b[0mdata\u001b[0m\u001b[0;34m,\u001b[0m \u001b[0mRDD\u001b[0m\u001b[0;34m)\u001b[0m\u001b[0;34m:\u001b[0m\u001b[0;34m\u001b[0m\u001b[0;34m\u001b[0m\u001b[0m\n\u001b[0;32m--> 746\u001b[0;31m             \u001b[0mrdd\u001b[0m\u001b[0;34m,\u001b[0m \u001b[0mschema\u001b[0m \u001b[0;34m=\u001b[0m \u001b[0mself\u001b[0m\u001b[0;34m.\u001b[0m\u001b[0m_createFromRDD\u001b[0m\u001b[0;34m(\u001b[0m\u001b[0mdata\u001b[0m\u001b[0;34m.\u001b[0m\u001b[0mmap\u001b[0m\u001b[0;34m(\u001b[0m\u001b[0mprepare\u001b[0m\u001b[0;34m)\u001b[0m\u001b[0;34m,\u001b[0m \u001b[0mschema\u001b[0m\u001b[0;34m,\u001b[0m \u001b[0msamplingRatio\u001b[0m\u001b[0;34m)\u001b[0m\u001b[0;34m\u001b[0m\u001b[0;34m\u001b[0m\u001b[0m\n\u001b[0m\u001b[1;32m    747\u001b[0m         \u001b[0;32melse\u001b[0m\u001b[0;34m:\u001b[0m\u001b[0;34m\u001b[0m\u001b[0;34m\u001b[0m\u001b[0m\n\u001b[1;32m    748\u001b[0m             \u001b[0mrdd\u001b[0m\u001b[0;34m,\u001b[0m \u001b[0mschema\u001b[0m \u001b[0;34m=\u001b[0m \u001b[0mself\u001b[0m\u001b[0;34m.\u001b[0m\u001b[0m_createFromLocal\u001b[0m\u001b[0;34m(\u001b[0m\u001b[0mmap\u001b[0m\u001b[0;34m(\u001b[0m\u001b[0mprepare\u001b[0m\u001b[0;34m,\u001b[0m \u001b[0mdata\u001b[0m\u001b[0;34m)\u001b[0m\u001b[0;34m,\u001b[0m \u001b[0mschema\u001b[0m\u001b[0;34m)\u001b[0m\u001b[0;34m\u001b[0m\u001b[0;34m\u001b[0m\u001b[0m\n",
      "\u001b[0;32m/usr/local/spark/python/pyspark/sql/session.py\u001b[0m in \u001b[0;36m_createFromRDD\u001b[0;34m(self, rdd, schema, samplingRatio)\u001b[0m\n\u001b[1;32m    388\u001b[0m         \"\"\"\n\u001b[1;32m    389\u001b[0m         \u001b[0;32mif\u001b[0m \u001b[0mschema\u001b[0m \u001b[0;32mis\u001b[0m \u001b[0;32mNone\u001b[0m \u001b[0;32mor\u001b[0m \u001b[0misinstance\u001b[0m\u001b[0;34m(\u001b[0m\u001b[0mschema\u001b[0m\u001b[0;34m,\u001b[0m \u001b[0;34m(\u001b[0m\u001b[0mlist\u001b[0m\u001b[0;34m,\u001b[0m \u001b[0mtuple\u001b[0m\u001b[0;34m)\u001b[0m\u001b[0;34m)\u001b[0m\u001b[0;34m:\u001b[0m\u001b[0;34m\u001b[0m\u001b[0;34m\u001b[0m\u001b[0m\n\u001b[0;32m--> 390\u001b[0;31m             \u001b[0mstruct\u001b[0m \u001b[0;34m=\u001b[0m \u001b[0mself\u001b[0m\u001b[0;34m.\u001b[0m\u001b[0m_inferSchema\u001b[0m\u001b[0;34m(\u001b[0m\u001b[0mrdd\u001b[0m\u001b[0;34m,\u001b[0m \u001b[0msamplingRatio\u001b[0m\u001b[0;34m,\u001b[0m \u001b[0mnames\u001b[0m\u001b[0;34m=\u001b[0m\u001b[0mschema\u001b[0m\u001b[0;34m)\u001b[0m\u001b[0;34m\u001b[0m\u001b[0;34m\u001b[0m\u001b[0m\n\u001b[0m\u001b[1;32m    391\u001b[0m             \u001b[0mconverter\u001b[0m \u001b[0;34m=\u001b[0m \u001b[0m_create_converter\u001b[0m\u001b[0;34m(\u001b[0m\u001b[0mstruct\u001b[0m\u001b[0;34m)\u001b[0m\u001b[0;34m\u001b[0m\u001b[0;34m\u001b[0m\u001b[0m\n\u001b[1;32m    392\u001b[0m             \u001b[0mrdd\u001b[0m \u001b[0;34m=\u001b[0m \u001b[0mrdd\u001b[0m\u001b[0;34m.\u001b[0m\u001b[0mmap\u001b[0m\u001b[0;34m(\u001b[0m\u001b[0mconverter\u001b[0m\u001b[0;34m)\u001b[0m\u001b[0;34m\u001b[0m\u001b[0;34m\u001b[0m\u001b[0m\n",
      "\u001b[0;32m/usr/local/spark/python/pyspark/sql/session.py\u001b[0m in \u001b[0;36m_inferSchema\u001b[0;34m(self, rdd, samplingRatio, names)\u001b[0m\n\u001b[1;32m    359\u001b[0m         \u001b[0;34m:\u001b[0m\u001b[0;32mreturn\u001b[0m\u001b[0;34m:\u001b[0m \u001b[0;34m:\u001b[0m\u001b[0;32mclass\u001b[0m\u001b[0;34m:\u001b[0m\u001b[0;31m`\u001b[0m\u001b[0mpyspark\u001b[0m\u001b[0;34m.\u001b[0m\u001b[0msql\u001b[0m\u001b[0;34m.\u001b[0m\u001b[0mtypes\u001b[0m\u001b[0;34m.\u001b[0m\u001b[0mStructType\u001b[0m\u001b[0;31m`\u001b[0m\u001b[0;34m\u001b[0m\u001b[0;34m\u001b[0m\u001b[0m\n\u001b[1;32m    360\u001b[0m         \"\"\"\n\u001b[0;32m--> 361\u001b[0;31m         \u001b[0mfirst\u001b[0m \u001b[0;34m=\u001b[0m \u001b[0mrdd\u001b[0m\u001b[0;34m.\u001b[0m\u001b[0mfirst\u001b[0m\u001b[0;34m(\u001b[0m\u001b[0;34m)\u001b[0m\u001b[0;34m\u001b[0m\u001b[0;34m\u001b[0m\u001b[0m\n\u001b[0m\u001b[1;32m    362\u001b[0m         \u001b[0;32mif\u001b[0m \u001b[0;32mnot\u001b[0m \u001b[0mfirst\u001b[0m\u001b[0;34m:\u001b[0m\u001b[0;34m\u001b[0m\u001b[0;34m\u001b[0m\u001b[0m\n\u001b[1;32m    363\u001b[0m             raise ValueError(\"The first row in RDD is empty, \"\n",
      "\u001b[0;32m/usr/local/spark/python/pyspark/rdd.py\u001b[0m in \u001b[0;36mfirst\u001b[0;34m(self)\u001b[0m\n\u001b[1;32m   1376\u001b[0m         \u001b[0mValueError\u001b[0m\u001b[0;34m:\u001b[0m \u001b[0mRDD\u001b[0m \u001b[0;32mis\u001b[0m \u001b[0mempty\u001b[0m\u001b[0;34m\u001b[0m\u001b[0;34m\u001b[0m\u001b[0m\n\u001b[1;32m   1377\u001b[0m         \"\"\"\n\u001b[0;32m-> 1378\u001b[0;31m         \u001b[0mrs\u001b[0m \u001b[0;34m=\u001b[0m \u001b[0mself\u001b[0m\u001b[0;34m.\u001b[0m\u001b[0mtake\u001b[0m\u001b[0;34m(\u001b[0m\u001b[0;36m1\u001b[0m\u001b[0;34m)\u001b[0m\u001b[0;34m\u001b[0m\u001b[0;34m\u001b[0m\u001b[0m\n\u001b[0m\u001b[1;32m   1379\u001b[0m         \u001b[0;32mif\u001b[0m \u001b[0mrs\u001b[0m\u001b[0;34m:\u001b[0m\u001b[0;34m\u001b[0m\u001b[0;34m\u001b[0m\u001b[0m\n\u001b[1;32m   1380\u001b[0m             \u001b[0;32mreturn\u001b[0m \u001b[0mrs\u001b[0m\u001b[0;34m[\u001b[0m\u001b[0;36m0\u001b[0m\u001b[0;34m]\u001b[0m\u001b[0;34m\u001b[0m\u001b[0;34m\u001b[0m\u001b[0m\n",
      "\u001b[0;32m/usr/local/spark/python/pyspark/rdd.py\u001b[0m in \u001b[0;36mtake\u001b[0;34m(self, num)\u001b[0m\n\u001b[1;32m   1358\u001b[0m \u001b[0;34m\u001b[0m\u001b[0m\n\u001b[1;32m   1359\u001b[0m             \u001b[0mp\u001b[0m \u001b[0;34m=\u001b[0m \u001b[0mrange\u001b[0m\u001b[0;34m(\u001b[0m\u001b[0mpartsScanned\u001b[0m\u001b[0;34m,\u001b[0m \u001b[0mmin\u001b[0m\u001b[0;34m(\u001b[0m\u001b[0mpartsScanned\u001b[0m \u001b[0;34m+\u001b[0m \u001b[0mnumPartsToTry\u001b[0m\u001b[0;34m,\u001b[0m \u001b[0mtotalParts\u001b[0m\u001b[0;34m)\u001b[0m\u001b[0;34m)\u001b[0m\u001b[0;34m\u001b[0m\u001b[0;34m\u001b[0m\u001b[0m\n\u001b[0;32m-> 1360\u001b[0;31m             \u001b[0mres\u001b[0m \u001b[0;34m=\u001b[0m \u001b[0mself\u001b[0m\u001b[0;34m.\u001b[0m\u001b[0mcontext\u001b[0m\u001b[0;34m.\u001b[0m\u001b[0mrunJob\u001b[0m\u001b[0;34m(\u001b[0m\u001b[0mself\u001b[0m\u001b[0;34m,\u001b[0m \u001b[0mtakeUpToNumLeft\u001b[0m\u001b[0;34m,\u001b[0m \u001b[0mp\u001b[0m\u001b[0;34m)\u001b[0m\u001b[0;34m\u001b[0m\u001b[0;34m\u001b[0m\u001b[0m\n\u001b[0m\u001b[1;32m   1361\u001b[0m \u001b[0;34m\u001b[0m\u001b[0m\n\u001b[1;32m   1362\u001b[0m             \u001b[0mitems\u001b[0m \u001b[0;34m+=\u001b[0m \u001b[0mres\u001b[0m\u001b[0;34m\u001b[0m\u001b[0;34m\u001b[0m\u001b[0m\n",
      "\u001b[0;32m/usr/local/spark/python/pyspark/context.py\u001b[0m in \u001b[0;36mrunJob\u001b[0;34m(self, rdd, partitionFunc, partitions, allowLocal)\u001b[0m\n\u001b[1;32m   1067\u001b[0m         \u001b[0;31m# SparkContext#runJob.\u001b[0m\u001b[0;34m\u001b[0m\u001b[0;34m\u001b[0m\u001b[0;34m\u001b[0m\u001b[0m\n\u001b[1;32m   1068\u001b[0m         \u001b[0mmappedRDD\u001b[0m \u001b[0;34m=\u001b[0m \u001b[0mrdd\u001b[0m\u001b[0;34m.\u001b[0m\u001b[0mmapPartitions\u001b[0m\u001b[0;34m(\u001b[0m\u001b[0mpartitionFunc\u001b[0m\u001b[0;34m)\u001b[0m\u001b[0;34m\u001b[0m\u001b[0;34m\u001b[0m\u001b[0m\n\u001b[0;32m-> 1069\u001b[0;31m         \u001b[0msock_info\u001b[0m \u001b[0;34m=\u001b[0m \u001b[0mself\u001b[0m\u001b[0;34m.\u001b[0m\u001b[0m_jvm\u001b[0m\u001b[0;34m.\u001b[0m\u001b[0mPythonRDD\u001b[0m\u001b[0;34m.\u001b[0m\u001b[0mrunJob\u001b[0m\u001b[0;34m(\u001b[0m\u001b[0mself\u001b[0m\u001b[0;34m.\u001b[0m\u001b[0m_jsc\u001b[0m\u001b[0;34m.\u001b[0m\u001b[0msc\u001b[0m\u001b[0;34m(\u001b[0m\u001b[0;34m)\u001b[0m\u001b[0;34m,\u001b[0m \u001b[0mmappedRDD\u001b[0m\u001b[0;34m.\u001b[0m\u001b[0m_jrdd\u001b[0m\u001b[0;34m,\u001b[0m \u001b[0mpartitions\u001b[0m\u001b[0;34m)\u001b[0m\u001b[0;34m\u001b[0m\u001b[0;34m\u001b[0m\u001b[0m\n\u001b[0m\u001b[1;32m   1070\u001b[0m         \u001b[0;32mreturn\u001b[0m \u001b[0mlist\u001b[0m\u001b[0;34m(\u001b[0m\u001b[0m_load_from_socket\u001b[0m\u001b[0;34m(\u001b[0m\u001b[0msock_info\u001b[0m\u001b[0;34m,\u001b[0m \u001b[0mmappedRDD\u001b[0m\u001b[0;34m.\u001b[0m\u001b[0m_jrdd_deserializer\u001b[0m\u001b[0;34m)\u001b[0m\u001b[0;34m)\u001b[0m\u001b[0;34m\u001b[0m\u001b[0;34m\u001b[0m\u001b[0m\n\u001b[1;32m   1071\u001b[0m \u001b[0;34m\u001b[0m\u001b[0m\n",
      "\u001b[0;32m/usr/local/spark/python/lib/py4j-0.10.7-src.zip/py4j/java_gateway.py\u001b[0m in \u001b[0;36m__call__\u001b[0;34m(self, *args)\u001b[0m\n\u001b[1;32m   1253\u001b[0m             \u001b[0mproto\u001b[0m\u001b[0;34m.\u001b[0m\u001b[0mEND_COMMAND_PART\u001b[0m\u001b[0;34m\u001b[0m\u001b[0;34m\u001b[0m\u001b[0m\n\u001b[1;32m   1254\u001b[0m \u001b[0;34m\u001b[0m\u001b[0m\n\u001b[0;32m-> 1255\u001b[0;31m         \u001b[0manswer\u001b[0m \u001b[0;34m=\u001b[0m \u001b[0mself\u001b[0m\u001b[0;34m.\u001b[0m\u001b[0mgateway_client\u001b[0m\u001b[0;34m.\u001b[0m\u001b[0msend_command\u001b[0m\u001b[0;34m(\u001b[0m\u001b[0mcommand\u001b[0m\u001b[0;34m)\u001b[0m\u001b[0;34m\u001b[0m\u001b[0;34m\u001b[0m\u001b[0m\n\u001b[0m\u001b[1;32m   1256\u001b[0m         return_value = get_return_value(\n\u001b[1;32m   1257\u001b[0m             answer, self.gateway_client, self.target_id, self.name)\n",
      "\u001b[0;32m/usr/local/spark/python/lib/py4j-0.10.7-src.zip/py4j/java_gateway.py\u001b[0m in \u001b[0;36msend_command\u001b[0;34m(self, command, retry, binary)\u001b[0m\n\u001b[1;32m    983\u001b[0m         \u001b[0mconnection\u001b[0m \u001b[0;34m=\u001b[0m \u001b[0mself\u001b[0m\u001b[0;34m.\u001b[0m\u001b[0m_get_connection\u001b[0m\u001b[0;34m(\u001b[0m\u001b[0;34m)\u001b[0m\u001b[0;34m\u001b[0m\u001b[0;34m\u001b[0m\u001b[0m\n\u001b[1;32m    984\u001b[0m         \u001b[0;32mtry\u001b[0m\u001b[0;34m:\u001b[0m\u001b[0;34m\u001b[0m\u001b[0;34m\u001b[0m\u001b[0m\n\u001b[0;32m--> 985\u001b[0;31m             \u001b[0mresponse\u001b[0m \u001b[0;34m=\u001b[0m \u001b[0mconnection\u001b[0m\u001b[0;34m.\u001b[0m\u001b[0msend_command\u001b[0m\u001b[0;34m(\u001b[0m\u001b[0mcommand\u001b[0m\u001b[0;34m)\u001b[0m\u001b[0;34m\u001b[0m\u001b[0;34m\u001b[0m\u001b[0m\n\u001b[0m\u001b[1;32m    986\u001b[0m             \u001b[0;32mif\u001b[0m \u001b[0mbinary\u001b[0m\u001b[0;34m:\u001b[0m\u001b[0;34m\u001b[0m\u001b[0;34m\u001b[0m\u001b[0m\n\u001b[1;32m    987\u001b[0m                 \u001b[0;32mreturn\u001b[0m \u001b[0mresponse\u001b[0m\u001b[0;34m,\u001b[0m \u001b[0mself\u001b[0m\u001b[0;34m.\u001b[0m\u001b[0m_create_connection_guard\u001b[0m\u001b[0;34m(\u001b[0m\u001b[0mconnection\u001b[0m\u001b[0;34m)\u001b[0m\u001b[0;34m\u001b[0m\u001b[0;34m\u001b[0m\u001b[0m\n",
      "\u001b[0;32m/usr/local/spark/python/lib/py4j-0.10.7-src.zip/py4j/java_gateway.py\u001b[0m in \u001b[0;36msend_command\u001b[0;34m(self, command)\u001b[0m\n\u001b[1;32m   1150\u001b[0m \u001b[0;34m\u001b[0m\u001b[0m\n\u001b[1;32m   1151\u001b[0m         \u001b[0;32mtry\u001b[0m\u001b[0;34m:\u001b[0m\u001b[0;34m\u001b[0m\u001b[0;34m\u001b[0m\u001b[0m\n\u001b[0;32m-> 1152\u001b[0;31m             \u001b[0manswer\u001b[0m \u001b[0;34m=\u001b[0m \u001b[0msmart_decode\u001b[0m\u001b[0;34m(\u001b[0m\u001b[0mself\u001b[0m\u001b[0;34m.\u001b[0m\u001b[0mstream\u001b[0m\u001b[0;34m.\u001b[0m\u001b[0mreadline\u001b[0m\u001b[0;34m(\u001b[0m\u001b[0;34m)\u001b[0m\u001b[0;34m[\u001b[0m\u001b[0;34m:\u001b[0m\u001b[0;34m-\u001b[0m\u001b[0;36m1\u001b[0m\u001b[0;34m]\u001b[0m\u001b[0;34m)\u001b[0m\u001b[0;34m\u001b[0m\u001b[0;34m\u001b[0m\u001b[0m\n\u001b[0m\u001b[1;32m   1153\u001b[0m             \u001b[0mlogger\u001b[0m\u001b[0;34m.\u001b[0m\u001b[0mdebug\u001b[0m\u001b[0;34m(\u001b[0m\u001b[0;34m\"Answer received: {0}\"\u001b[0m\u001b[0;34m.\u001b[0m\u001b[0mformat\u001b[0m\u001b[0;34m(\u001b[0m\u001b[0manswer\u001b[0m\u001b[0;34m)\u001b[0m\u001b[0;34m)\u001b[0m\u001b[0;34m\u001b[0m\u001b[0;34m\u001b[0m\u001b[0m\n\u001b[1;32m   1154\u001b[0m             \u001b[0;32mif\u001b[0m \u001b[0manswer\u001b[0m\u001b[0;34m.\u001b[0m\u001b[0mstartswith\u001b[0m\u001b[0;34m(\u001b[0m\u001b[0mproto\u001b[0m\u001b[0;34m.\u001b[0m\u001b[0mRETURN_MESSAGE\u001b[0m\u001b[0;34m)\u001b[0m\u001b[0;34m:\u001b[0m\u001b[0;34m\u001b[0m\u001b[0;34m\u001b[0m\u001b[0m\n",
      "\u001b[0;32m/opt/conda/lib/python3.7/socket.py\u001b[0m in \u001b[0;36mreadinto\u001b[0;34m(self, b)\u001b[0m\n\u001b[1;32m    587\u001b[0m         \u001b[0;32mwhile\u001b[0m \u001b[0;32mTrue\u001b[0m\u001b[0;34m:\u001b[0m\u001b[0;34m\u001b[0m\u001b[0;34m\u001b[0m\u001b[0m\n\u001b[1;32m    588\u001b[0m             \u001b[0;32mtry\u001b[0m\u001b[0;34m:\u001b[0m\u001b[0;34m\u001b[0m\u001b[0;34m\u001b[0m\u001b[0m\n\u001b[0;32m--> 589\u001b[0;31m                 \u001b[0;32mreturn\u001b[0m \u001b[0mself\u001b[0m\u001b[0;34m.\u001b[0m\u001b[0m_sock\u001b[0m\u001b[0;34m.\u001b[0m\u001b[0mrecv_into\u001b[0m\u001b[0;34m(\u001b[0m\u001b[0mb\u001b[0m\u001b[0;34m)\u001b[0m\u001b[0;34m\u001b[0m\u001b[0;34m\u001b[0m\u001b[0m\n\u001b[0m\u001b[1;32m    590\u001b[0m             \u001b[0;32mexcept\u001b[0m \u001b[0mtimeout\u001b[0m\u001b[0;34m:\u001b[0m\u001b[0;34m\u001b[0m\u001b[0;34m\u001b[0m\u001b[0m\n\u001b[1;32m    591\u001b[0m                 \u001b[0mself\u001b[0m\u001b[0;34m.\u001b[0m\u001b[0m_timeout_occurred\u001b[0m \u001b[0;34m=\u001b[0m \u001b[0;32mTrue\u001b[0m\u001b[0;34m\u001b[0m\u001b[0;34m\u001b[0m\u001b[0m\n",
      "\u001b[0;31mKeyboardInterrupt\u001b[0m: "
     ]
    }
   ],
   "source": [
    "# we only focus on ball-snap (the most common event in player trace data)\n",
    "# rename some columns\n",
    "_df = df.rdd.filter(lambda x: x.event == 'ball-snap').toDF()\n",
    "_df = _df.withColumnRenamed('x','x_snap').withColumnRenamed('y','y_snap').withColumnRenamed('time','time_snap')"
   ]
  },
  {
   "cell_type": "code",
   "execution_count": null,
   "metadata": {},
   "outputs": [],
   "source": [
    "# Remove any data for a play 0.1 second before snap\n",
    "df = df.merge(_df, on='PlayKey', how='left')\n",
    "df = df.rdd.filter(lambda x: x.time >= x.time_snap-0.1)\n",
    "\n",
    "# Remove any data for a play 0.1 second after snap\n",
    "# TODO"
   ]
  }
 ],
 "metadata": {
  "kernelspec": {
   "display_name": "Python 3",
   "language": "python",
   "name": "python3"
  },
  "language_info": {
   "codemirror_mode": {
    "name": "ipython",
    "version": 3
   },
   "file_extension": ".py",
   "mimetype": "text/x-python",
   "name": "python",
   "nbconvert_exporter": "python",
   "pygments_lexer": "ipython3",
   "version": "3.7.6"
  }
 },
 "nbformat": 4,
 "nbformat_minor": 4
}
