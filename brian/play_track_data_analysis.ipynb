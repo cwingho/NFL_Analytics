{
 "cells": [
  {
   "cell_type": "code",
   "execution_count": 1,
   "metadata": {},
   "outputs": [],
   "source": [
    "from pyspark import SparkContext\n",
    "from pyspark.sql import SQLContext\n",
    "import pyspark.sql.functions as f\n",
    "from pyspark.sql import Row\n",
    "from pyspark import StorageLevel\n",
    "from pyspark.sql import SparkSession\n",
    "import sys\n",
    "import numpy as np"
   ]
  },
  {
   "cell_type": "code",
   "execution_count": 2,
   "metadata": {},
   "outputs": [],
   "source": [
    "# sc = SparkContext(\"local[*]\", \"NFL\")\n",
    "# rdd = sc.textFile('../in/PlayerTrackData.csv')\n",
    "\n",
    "# remove header\n",
    "# rdd = rdd.filter(lambda x: 'PlayKey' not in x)\n",
    "\n",
    "# split the col\n",
    "# rdd = rdd.map(lambda x: x.split(','))\n",
    "\n",
    "# remove row if missing some value\n",
    "# rdd = rdd.filter(lambda x: x[5] != '' and x[7] != '')\n",
    "\n",
    "# convert to dataframe object\n",
    "# sqlContext = SQLContext(sc)\n",
    "# df = rdd.toDF(['PlayKey','time','event','x','y','dir','dis','o','s'])\n",
    "\n",
    "# if df want to use rdd function\n",
    "# just df.rdd.xxx()"
   ]
  },
  {
   "cell_type": "code",
   "execution_count": 3,
   "metadata": {},
   "outputs": [],
   "source": [
    "spark = SparkSession.builder.master(\"local[*]\").appName(\"NFL\").getOrCreate()\n",
    "tracks = spark.read.option(\"header\",True).csv('../in/PlayerTrackData.csv')"
   ]
  },
  {
   "cell_type": "code",
   "execution_count": 6,
   "metadata": {},
   "outputs": [
    {
     "name": "stdout",
     "output_type": "stream",
     "text": [
      "root\n",
      " |-- PlayKey: string (nullable = true)\n",
      " |-- time: string (nullable = true)\n",
      " |-- event: string (nullable = true)\n",
      " |-- x: string (nullable = true)\n",
      " |-- y: string (nullable = true)\n",
      " |-- dir: string (nullable = true)\n",
      " |-- dis: string (nullable = true)\n",
      " |-- o: string (nullable = true)\n",
      " |-- s: string (nullable = true)\n",
      "\n"
     ]
    }
   ],
   "source": [
    "# show header\n",
    "# rdd.take(1)\n",
    "# show schema\n",
    "tracks.printSchema()"
   ]
  },
  {
   "cell_type": "code",
   "execution_count": 8,
   "metadata": {},
   "outputs": [],
   "source": [
    "# convert the defautl datatype\n",
    "tracks = tracks.withColumn(\"time\", tracks.time.cast('float').alias(\"time\"))\n",
    "tracks = tracks.withColumn(\"x\", tracks.x.cast('float').alias(\"x\"))\n",
    "tracks = tracks.withColumn(\"y\", tracks.y.cast('float').alias(\"y\"))\n",
    "tracks = tracks.withColumn(\"dir\", tracks.dir.cast('float').alias(\"dir\"))\n",
    "tracks = tracks.withColumn(\"o\", tracks.o.cast('float').alias(\"o\"))\n",
    "tracks = tracks.withColumn(\"s\", tracks.s.cast('float').alias(\"s\"))\n",
    "tracks = tracks.withColumn(\"x\", tracks.x.cast('float').alias(\"x\"))"
   ]
  },
  {
   "cell_type": "code",
   "execution_count": 9,
   "metadata": {},
   "outputs": [
    {
     "name": "stdout",
     "output_type": "stream",
     "text": [
      "root\n",
      " |-- PlayKey: string (nullable = true)\n",
      " |-- time: float (nullable = true)\n",
      " |-- event: string (nullable = true)\n",
      " |-- x: float (nullable = true)\n",
      " |-- y: float (nullable = true)\n",
      " |-- dir: float (nullable = true)\n",
      " |-- dis: string (nullable = true)\n",
      " |-- o: float (nullable = true)\n",
      " |-- s: float (nullable = true)\n",
      "\n"
     ]
    }
   ],
   "source": [
    "tracks.printSchema()"
   ]
  },
  {
   "cell_type": "code",
   "execution_count": 10,
   "metadata": {},
   "outputs": [],
   "source": [
    "# get all ball_snap play record\n",
    "ball_snap_tracks = tracks.where(\"event == 'ball_snap'\")\n",
    "\n",
    "# rename x,y,time for ball snap\n",
    "drop_list = ['dir','dis','o','event','s']\n",
    "ball_snap_tracks = ball_snap_tracks.withColumnRenamed('x','snap_x')\\\n",
    ".withColumnRenamed('y','snap_y')\\\n",
    ".withColumnRenamed('time','snap_time').drop(*drop_list)\n",
    "\n",
    "# join two table (orign tracks and tracks only contained ball_snap event)\n",
    "tracks = tracks.join(ball_snap_tracks, ['PlayKey'], \"left_outer\")\n",
    "\n",
    "# remove any data for a play 0.1 second before snap\n",
    "tracks = tracks.where('time >= (snap_time - 0.1)')\n"
   ]
  },
  {
   "cell_type": "code",
   "execution_count": 11,
   "metadata": {},
   "outputs": [],
   "source": [
    "# get the last event of each play key\n",
    "last_event_tracks = tracks.where('event is not null').groupBy('PlayKey').agg(f.max('time').alias('time'))\n",
    "\n",
    "# join last event tracks and tracks\n",
    "# only get the playkey, time, and event field\n",
    "last_event_tracks = last_event_tracks.join(tracks, ['PlayKey','time'], \"inner\")[['PlayKey','time','event']]\n",
    "\n",
    "# rename the column\n",
    "last_event_tracks = last_event_tracks.withColumnRenamed('time','last_time').withColumnRenamed('event','last_event')\n",
    "\n",
    "# park the result of last event tracks to the tracks\n",
    "tracks = tracks.join(last_event_tracks, ['PlayKey'], 'left_outer')\n",
    "\n",
    "# Remove any data for a play 0.1 second after last event\n",
    "tracks = tracks.where('time <= (last_time + 0.1)')"
   ]
  },
  {
   "cell_type": "code",
   "execution_count": 12,
   "metadata": {},
   "outputs": [
    {
     "name": "stdout",
     "output_type": "stream",
     "text": [
      "root\n",
      " |-- PlayKey: string (nullable = true)\n",
      " |-- time: float (nullable = true)\n",
      " |-- event: string (nullable = true)\n",
      " |-- x: float (nullable = true)\n",
      " |-- y: float (nullable = true)\n",
      " |-- dir: float (nullable = true)\n",
      " |-- dis: string (nullable = true)\n",
      " |-- o: float (nullable = true)\n",
      " |-- s: float (nullable = true)\n",
      " |-- snap_time: float (nullable = true)\n",
      " |-- snap_x: float (nullable = true)\n",
      " |-- snap_y: float (nullable = true)\n",
      " |-- last_time: float (nullable = true)\n",
      " |-- last_event: string (nullable = true)\n",
      "\n"
     ]
    }
   ],
   "source": [
    "tracks.printSchema()"
   ]
  },
  {
   "cell_type": "code",
   "execution_count": 13,
   "metadata": {},
   "outputs": [
    {
     "data": {
      "text/plain": [
       "DataFrame[PlayKey: string, time: float, event: string, x: float, y: float, dir: float, dis: string, o: float, s: float, snap_time: float, snap_x: float, snap_y: float, last_time: float, last_event: string]"
      ]
     },
     "execution_count": 13,
     "metadata": {},
     "output_type": "execute_result"
    }
   ],
   "source": [
    "# save tracks into memory\n",
    "# only record the time from the start of first event-1 to the end of last event+1\n",
    "tracks.persist(StorageLevel.MEMORY_ONLY)"
   ]
  },
  {
   "cell_type": "code",
   "execution_count": 14,
   "metadata": {},
   "outputs": [
    {
     "name": "stdout",
     "output_type": "stream",
     "text": [
      "+-----------+----+---------+-----+-----+------+----+-----+----+---------+------+------+---------+--------------------+\n",
      "|    PlayKey|time|    event|    x|    y|   dir| dis|    o|   s|snap_time|snap_x|snap_y|last_time|          last_event|\n",
      "+-----------+----+---------+-----+-----+------+----+-----+----+---------+------+------+---------+--------------------+\n",
      "|26624-13-32|19.5|ball_snap|19.85| 23.9|266.62| 0.0|15.32|0.51|     19.5| 19.85|  23.9|     23.6|pass_outcome_inco...|\n",
      "|26624-13-32|19.6|     null|19.84| 23.9|266.04| 0.0|15.48|0.68|     19.5| 19.85|  23.9|     23.6|pass_outcome_inco...|\n",
      "|26624-13-32|19.7|     null|19.84| 23.9|265.88| 0.0|15.85| 0.8|     19.5| 19.85|  23.9|     23.6|pass_outcome_inco...|\n",
      "|26624-13-32|19.8|     null|19.84| 23.9|265.98| 0.0|16.76|0.89|     19.5| 19.85|  23.9|     23.6|pass_outcome_inco...|\n",
      "|26624-13-32|19.9|     null|19.83| 23.9|266.15|0.01|18.18|0.96|     19.5| 19.85|  23.9|     23.6|pass_outcome_inco...|\n",
      "|26624-13-32|20.0|     null|19.82| 23.9|266.43|0.01| 19.8|1.03|     19.5| 19.85|  23.9|     23.6|pass_outcome_inco...|\n",
      "|26624-13-32|20.1|     null| 19.8| 23.9| 266.2|0.02|21.42|1.11|     19.5| 19.85|  23.9|     23.6|pass_outcome_inco...|\n",
      "|26624-13-32|20.2|     null|19.67| 23.9|267.22|0.12|23.02|1.16|     19.5| 19.85|  23.9|     23.6|pass_outcome_inco...|\n",
      "|26624-13-32|20.3|     null|19.32|23.87|268.67|0.36|24.85| 1.2|     19.5| 19.85|  23.9|     23.6|pass_outcome_inco...|\n",
      "|26624-13-32|20.4|     null|18.93|23.84|270.45|0.39|26.79|1.25|     19.5| 19.85|  23.9|     23.6|pass_outcome_inco...|\n",
      "|26624-13-32|20.5|     null|18.62|23.81|272.09|0.31| 28.8|1.28|     19.5| 19.85|  23.9|     23.6|pass_outcome_inco...|\n",
      "|26624-13-32|20.6|     null|18.41|23.79|274.16|0.21|30.57| 1.3|     19.5| 19.85|  23.9|     23.6|pass_outcome_inco...|\n",
      "|26624-13-32|20.7|     null|18.25|23.79|276.21|0.16| 32.1|1.32|     19.5| 19.85|  23.9|     23.6|pass_outcome_inco...|\n",
      "|26624-13-32|20.8|     null|18.11|23.78|278.05|0.13|33.36|1.32|     19.5| 19.85|  23.9|     23.6|pass_outcome_inco...|\n",
      "|26624-13-32|20.9|     null|17.99|23.78|279.52|0.12|34.32|1.32|     19.5| 19.85|  23.9|     23.6|pass_outcome_inco...|\n",
      "|26624-13-32|21.0|     null|17.85|23.77|280.74|0.14|34.57|1.31|     19.5| 19.85|  23.9|     23.6|pass_outcome_inco...|\n",
      "|26624-13-32|21.1|     null|17.76| 23.8| 283.5|0.09|34.04|1.26|     19.5| 19.85|  23.9|     23.6|pass_outcome_inco...|\n",
      "|26624-13-32|21.2|     null|17.68|23.85|289.14| 0.1|33.67|1.14|     19.5| 19.85|  23.9|     23.6|pass_outcome_inco...|\n",
      "|26624-13-32|21.3|     null| 17.6|23.92|295.25| 0.1|33.72|0.99|     19.5| 19.85|  23.9|     23.6|pass_outcome_inco...|\n",
      "|26624-13-32|21.4|     null|17.54|23.99|300.09|0.09| 34.4|0.86|     19.5| 19.85|  23.9|     23.6|pass_outcome_inco...|\n",
      "+-----------+----+---------+-----+-----+------+----+-----+----+---------+------+------+---------+--------------------+\n",
      "only showing top 20 rows\n",
      "\n",
      "17179324\n"
     ]
    }
   ],
   "source": [
    "tracks.show()\n",
    "print(tracks.count())"
   ]
  },
  {
   "cell_type": "code",
   "execution_count": 49,
   "metadata": {},
   "outputs": [],
   "source": []
  },
  {
   "cell_type": "code",
   "execution_count": 28,
   "metadata": {},
   "outputs": [],
   "source": [
    "#load play list data\n",
    "playlist = spark.read.option(\"header\",True).csv('../in/PlayList.csv')\n",
    "\n",
    "# convert player day to integer\n",
    "playlist = playlist.withColumn(\"PlayerDay\", playlist.PlayerDay.cast('int').alias(\"PlayerDay\"))"
   ]
  },
  {
   "cell_type": "code",
   "execution_count": 29,
   "metadata": {},
   "outputs": [
    {
     "name": "stdout",
     "output_type": "stream",
     "text": [
      "root\n",
      " |-- PlayerKey: string (nullable = true)\n",
      " |-- GameID: string (nullable = true)\n",
      " |-- PlayKey: string (nullable = true)\n",
      " |-- RosterPosition: string (nullable = true)\n",
      " |-- PlayerDay: integer (nullable = true)\n",
      " |-- PlayerGame: string (nullable = true)\n",
      " |-- StadiumType: string (nullable = true)\n",
      " |-- FieldType: string (nullable = true)\n",
      " |-- Temperature: string (nullable = true)\n",
      " |-- Weather: string (nullable = true)\n",
      " |-- PlayType: string (nullable = true)\n",
      " |-- PlayerGamePlay: string (nullable = true)\n",
      " |-- Position: string (nullable = true)\n",
      " |-- PositionGroup: string (nullable = true)\n",
      "\n"
     ]
    }
   ],
   "source": [
    "playlist.printSchema()"
   ]
  },
  {
   "cell_type": "code",
   "execution_count": 41,
   "metadata": {},
   "outputs": [],
   "source": [
    "# get season 2 distinct player key\n",
    "tough_playerkey = playlist.select('PlayerKey').where('PlayerDay >= 350').distinct()\n",
    "tough_playerkey = tough_playerkey.rdd.map(lambda x:x.PlayerKey).collect()"
   ]
  },
  {
   "cell_type": "code",
   "execution_count": 42,
   "metadata": {},
   "outputs": [],
   "source": [
    "# only select the player who play in season 2, dont know is he play season 1\n",
    "tough_playlist = playlist[playlist.PlayerKey.isin(season2_playerkey)]\n",
    "\n",
    "# add season to df, if less than 350, season 1 else season 2\n",
    "tough_playlist = season2_playlist.withColumn('season', f.when(f.col(\"PlayerDay\") < 350,1).otherwise(2))"
   ]
  },
  {
   "cell_type": "code",
   "execution_count": 43,
   "metadata": {},
   "outputs": [],
   "source": [
    "games = tough_playlist[['GameID','season']].distinct()"
   ]
  },
  {
   "cell_type": "code",
   "execution_count": 48,
   "metadata": {},
   "outputs": [
    {
     "data": {
      "text/plain": [
       "DataFrame[GameID: string, PlayKey: string, time: float, event: string, x: float, y: float, dir: float, dis: string, o: float, s: float, snap_time: float, snap_x: float, snap_y: float, last_time: float, last_event: string, season: int]"
      ]
     },
     "execution_count": 48,
     "metadata": {},
     "output_type": "execute_result"
    }
   ],
   "source": [
    "_tracks = tracks.join(tough_playlist[['PlayKey','GameID']],['PlayKey'],'left_outer')\n",
    "_tracks = _tracks.join(games,['GameID'],'left_outer')\n",
    "_tracks.persist(StorageLevel.MEMORY_ONLY)"
   ]
  },
  {
   "cell_type": "code",
   "execution_count": null,
   "metadata": {},
   "outputs": [],
   "source": []
  },
  {
   "cell_type": "code",
   "execution_count": 52,
   "metadata": {},
   "outputs": [],
   "source": [
    "# Fix orientation\n",
    "# Assume other seasons based on direction at snap - if orientation at snap is outside normal range, shift.\n",
    "s1 = _tracks.select('PlayKey').where('event == \"ball_snap\" and o < 50 and season is null').distinct().collect()\n",
    "s2 = _tracks.select('PlayKey').where('event == \"ball_snap\" and o > 325 and season is null').distinct().collect()\n",
    "s3 = _tracks.select('PlayKey').where('event == \"ball_snap\" and o < 225 and o > 125 and season is null').distinct().collect()\n",
    "\n",
    "def get(x, field='PlayKey'):\n",
    "    return [i[field] for i in x]\n",
    "\n",
    "abnormal_playkey = get(s1)+get(s2)+get(s3)\n",
    "abnormal_playkey = list(set(abnormal_playkey))"
   ]
  },
  {
   "cell_type": "code",
   "execution_count": 55,
   "metadata": {},
   "outputs": [],
   "source": [
    "# all abnormal orientation record will be treated as session 1\n",
    "tracks = _tracks.withColumn('season', \n",
    "                            f.when(_tracks.season.isNull()\n",
    "                                   & _tracks.PlayKey.isin(abnormal_playkey),1).otherwise(f.col('season')))\n",
    "\n",
    "# all normal orientation record will be treated as session 2\n",
    "tracks = tracks.withColumn('season', \n",
    "                           f.when(tracks.season.isNull()\n",
    "                                  & ~tracks.PlayKey.isin(abnormal_playkey),2).otherwise(f.col('season')))\n",
    "tracks.persist(StorageLevel.MEMORY_ONLY)"
   ]
  },
  {
   "cell_type": "code",
   "execution_count": 60,
   "metadata": {},
   "outputs": [
    {
     "data": {
      "text/plain": [
       "DataFrame[GameID: string, PlayKey: string, time: float, event: string, x: float, y: float, dir: float, dis: string, o: float, s: float, snap_time: float, snap_x: float, snap_y: float, last_time: float, last_event: string, season: int]"
      ]
     },
     "execution_count": 60,
     "metadata": {},
     "output_type": "execute_result"
    }
   ],
   "source": [
    "# Change orientation for season 1\n",
    "clean_tracks = tracks.withColumn('o',f.when(f.col('season')== 1, (f.col('o')+90%360)).otherwise(f.col('o')))\n",
    "clean_tracks.persist(StorageLevel.MEMORY_ONLY)"
   ]
  },
  {
   "cell_type": "code",
   "execution_count": 70,
   "metadata": {},
   "outputs": [],
   "source": [
    "# join clean track and playlist\n",
    "tracks = clean_tracks.join(playlist[['PlayKey','PlayerKey','RosterPosition','PositionGroup','FieldType','PlayType']], ['PlayKey'], 'inner')"
   ]
  },
  {
   "cell_type": "code",
   "execution_count": null,
   "metadata": {},
   "outputs": [],
   "source": []
  },
  {
   "cell_type": "code",
   "execution_count": 71,
   "metadata": {},
   "outputs": [],
   "source": [
    "#load injury data\n",
    "injury = spark.read.option(\"header\",True).csv('../in/InjuryRecord.csv')\n",
    "injury_plays = injury.select('PlayKey').distinct().collect()\n",
    "injury_plays = get(injury_plays)"
   ]
  },
  {
   "cell_type": "code",
   "execution_count": null,
   "metadata": {},
   "outputs": [],
   "source": [
    "# only focus on 3 kind of position\n",
    "tracks = tracks.withColumn('isInjuryPronePos', \n",
    "                           f.when(tracks.PositionGroup.isin(['DB','WR','LB']),True).otherwise(False))\n",
    "\n",
    "tracks = tracks.withColumn('isInjuryPlay', \n",
    "                           f.when(tracks.PositionGroup.isin(injury_plays),True).otherwise(False))\n",
    "\n",
    "tracks = tracks.withColumn('isRushPass', \n",
    "                           f.when(tracks.PositionGroup.isin(injury_plays),True).otherwise(False))\n",
    "\n",
    "tracks = tracks.withColumn('isInjuredPlayer', \n",
    "                           f.when(tracks.PositionGroup.isin(injury_plays),True).otherwise(False))\n",
    "\n"
   ]
  },
  {
   "cell_type": "code",
   "execution_count": null,
   "metadata": {},
   "outputs": [],
   "source": []
  },
  {
   "cell_type": "code",
   "execution_count": null,
   "metadata": {},
   "outputs": [],
   "source": []
  },
  {
   "cell_type": "code",
   "execution_count": null,
   "metadata": {},
   "outputs": [],
   "source": []
  },
  {
   "cell_type": "code",
   "execution_count": null,
   "metadata": {},
   "outputs": [],
   "source": []
  },
  {
   "cell_type": "code",
   "execution_count": null,
   "metadata": {},
   "outputs": [],
   "source": [
    "# only focus on 3 kind of position\n",
    "tracks = tracks.withColumn('isInjuryPronePos', \n",
    "                           f.when(tracks.PositionGroup.isin(['DB','WR','LB']),True).otherwise(False))\n",
    "\n",
    "tracks = tracks.withColumn('isInjuryPlay', \n",
    "                           f.when(tracks.PositionGroup.isin(['DB','WR','LB']),True).otherwise(False))\n",
    "\n"
   ]
  },
  {
   "cell_type": "code",
   "execution_count": null,
   "metadata": {},
   "outputs": [],
   "source": []
  },
  {
   "cell_type": "code",
   "execution_count": null,
   "metadata": {},
   "outputs": [],
   "source": []
  },
  {
   "cell_type": "code",
   "execution_count": null,
   "metadata": {},
   "outputs": [],
   "source": []
  },
  {
   "cell_type": "code",
   "execution_count": null,
   "metadata": {},
   "outputs": [],
   "source": []
  },
  {
   "cell_type": "code",
   "execution_count": null,
   "metadata": {},
   "outputs": [],
   "source": []
  },
  {
   "cell_type": "code",
   "execution_count": null,
   "metadata": {},
   "outputs": [],
   "source": []
  },
  {
   "cell_type": "code",
   "execution_count": null,
   "metadata": {},
   "outputs": [],
   "source": []
  },
  {
   "cell_type": "code",
   "execution_count": 100,
   "metadata": {},
   "outputs": [],
   "source": [
    "# speed\n",
    "# player_mean_speed_df = df.rdd.map(lambda x: [x[0].split('-')[0], float(x[-1])]).toDF([\"playerKey\",\"s\"])\n",
    "# # remove extreme small speed\n",
    "# player_mean_speed_df = player_mean_speed_df.rdd.filter(lambda x:x.s >= 1).toDF([\"playerKey\",\"s\"])\n",
    "# # get average speed\n",
    "# player_mean_speed = player_mean_speed_df.groupBy('playerKey').agg(f.mean(\"s\").alias('mean'))\n",
    "# result = player_mean_speed.collect()"
   ]
  },
  {
   "cell_type": "code",
   "execution_count": null,
   "metadata": {},
   "outputs": [],
   "source": []
  },
  {
   "cell_type": "code",
   "execution_count": 88,
   "metadata": {},
   "outputs": [],
   "source": [
    "# convert string to float\n",
    "df = df.withColumn(\"s\", df.s.cast('float').alias(\"s\"))\n",
    "df = df.withColumn(\"o\", df.o.cast('float').alias(\"o\"))\n",
    "df = df.withColumn(\"dir\", df.dir.cast('float').alias(\"dir\"))"
   ]
  },
  {
   "cell_type": "code",
   "execution_count": 89,
   "metadata": {},
   "outputs": [
    {
     "name": "stdout",
     "output_type": "stream",
     "text": [
      "root\n",
      " |-- PlayKey: string (nullable = true)\n",
      " |-- time: string (nullable = true)\n",
      " |-- event: string (nullable = true)\n",
      " |-- x: string (nullable = true)\n",
      " |-- y: string (nullable = true)\n",
      " |-- dir: float (nullable = true)\n",
      " |-- dis: string (nullable = true)\n",
      " |-- o: float (nullable = true)\n",
      " |-- s: float (nullable = true)\n",
      "\n"
     ]
    }
   ],
   "source": [
    "df.printSchema()"
   ]
  },
  {
   "cell_type": "code",
   "execution_count": 90,
   "metadata": {},
   "outputs": [],
   "source": [
    "# add new col.\n",
    "# compute the difference between o and dir\n",
    "def add_o_dir_diff(x):\n",
    "    x = x.asDict()\n",
    "    x['o_dir_diff'] = min([abs(x['o']-x['dir']),abs(x['o']-(x['dir']-360)),abs(x['o']-(x['dir']+360))])\n",
    "    \n",
    "    x['is_forward_move'] = False\n",
    "    x['is_sideway_move'] = False\n",
    "    x['is_backward_move'] = False\n",
    "    \n",
    "    if x['o_dir_diff'] <= 45:\n",
    "        x['move_type'] = 'forward'\n",
    "        x['is_forward_move'] = True\n",
    "    elif x['o_dir_diff'] <= 135:\n",
    "        x['move_type'] = 'sideway'\n",
    "        x['is_sideway_move'] = True\n",
    "    else:\n",
    "        x['move_type'] = 'backward'\n",
    "        x['is_backward_move'] = True\n",
    "        \n",
    "    return Row(**x)\n",
    "\n",
    "rdd = df.rdd.map(add_o_dir_diff)"
   ]
  },
  {
   "cell_type": "code",
   "execution_count": 91,
   "metadata": {},
   "outputs": [],
   "source": [
    "df = rdd.toDF()"
   ]
  },
  {
   "cell_type": "code",
   "execution_count": 99,
   "metadata": {},
   "outputs": [],
   "source": [
    "# get the distinct event in player trace data\n",
    "# res = df.select('event').distinct().collect()"
   ]
  },
  {
   "cell_type": "code",
   "execution_count": 98,
   "metadata": {},
   "outputs": [],
   "source": []
  },
  {
   "cell_type": "code",
   "execution_count": 101,
   "metadata": {
    "scrolled": true
   },
   "outputs": [
    {
     "ename": "KeyboardInterrupt",
     "evalue": "",
     "output_type": "error",
     "traceback": [
      "\u001b[0;31m---------------------------------------------------------------------------\u001b[0m",
      "\u001b[0;31mKeyboardInterrupt\u001b[0m                         Traceback (most recent call last)",
      "\u001b[0;32m<ipython-input-101-63512dda2991>\u001b[0m in \u001b[0;36m<module>\u001b[0;34m\u001b[0m\n\u001b[1;32m      1\u001b[0m \u001b[0;31m# we only focus on ball-snap (the most common event in player trace data)\u001b[0m\u001b[0;34m\u001b[0m\u001b[0;34m\u001b[0m\u001b[0;34m\u001b[0m\u001b[0m\n\u001b[0;32m----> 2\u001b[0;31m \u001b[0m_rdd\u001b[0m \u001b[0;34m=\u001b[0m \u001b[0mdf\u001b[0m\u001b[0;34m.\u001b[0m\u001b[0mrdd\u001b[0m\u001b[0;34m.\u001b[0m\u001b[0mfilter\u001b[0m\u001b[0;34m(\u001b[0m\u001b[0;32mlambda\u001b[0m \u001b[0mx\u001b[0m\u001b[0;34m:\u001b[0m \u001b[0mx\u001b[0m\u001b[0;34m.\u001b[0m\u001b[0mevent\u001b[0m \u001b[0;34m==\u001b[0m \u001b[0;34m'ball-snap'\u001b[0m\u001b[0;34m)\u001b[0m\u001b[0;34m.\u001b[0m\u001b[0mtoDF\u001b[0m\u001b[0;34m(\u001b[0m\u001b[0;34m)\u001b[0m\u001b[0;34m\u001b[0m\u001b[0;34m\u001b[0m\u001b[0m\n\u001b[0m",
      "\u001b[0;32m/usr/local/spark/python/pyspark/sql/session.py\u001b[0m in \u001b[0;36mtoDF\u001b[0;34m(self, schema, sampleRatio)\u001b[0m\n\u001b[1;32m     56\u001b[0m         \u001b[0;34m[\u001b[0m\u001b[0mRow\u001b[0m\u001b[0;34m(\u001b[0m\u001b[0mname\u001b[0m\u001b[0;34m=\u001b[0m\u001b[0;34mu'Alice'\u001b[0m\u001b[0;34m,\u001b[0m \u001b[0mage\u001b[0m\u001b[0;34m=\u001b[0m\u001b[0;36m1\u001b[0m\u001b[0;34m)\u001b[0m\u001b[0;34m]\u001b[0m\u001b[0;34m\u001b[0m\u001b[0;34m\u001b[0m\u001b[0m\n\u001b[1;32m     57\u001b[0m         \"\"\"\n\u001b[0;32m---> 58\u001b[0;31m         \u001b[0;32mreturn\u001b[0m \u001b[0msparkSession\u001b[0m\u001b[0;34m.\u001b[0m\u001b[0mcreateDataFrame\u001b[0m\u001b[0;34m(\u001b[0m\u001b[0mself\u001b[0m\u001b[0;34m,\u001b[0m \u001b[0mschema\u001b[0m\u001b[0;34m,\u001b[0m \u001b[0msampleRatio\u001b[0m\u001b[0;34m)\u001b[0m\u001b[0;34m\u001b[0m\u001b[0;34m\u001b[0m\u001b[0m\n\u001b[0m\u001b[1;32m     59\u001b[0m \u001b[0;34m\u001b[0m\u001b[0m\n\u001b[1;32m     60\u001b[0m     \u001b[0mRDD\u001b[0m\u001b[0;34m.\u001b[0m\u001b[0mtoDF\u001b[0m \u001b[0;34m=\u001b[0m \u001b[0mtoDF\u001b[0m\u001b[0;34m\u001b[0m\u001b[0;34m\u001b[0m\u001b[0m\n",
      "\u001b[0;32m/usr/local/spark/python/pyspark/sql/session.py\u001b[0m in \u001b[0;36mcreateDataFrame\u001b[0;34m(self, data, schema, samplingRatio, verifySchema)\u001b[0m\n\u001b[1;32m    744\u001b[0m \u001b[0;34m\u001b[0m\u001b[0m\n\u001b[1;32m    745\u001b[0m         \u001b[0;32mif\u001b[0m \u001b[0misinstance\u001b[0m\u001b[0;34m(\u001b[0m\u001b[0mdata\u001b[0m\u001b[0;34m,\u001b[0m \u001b[0mRDD\u001b[0m\u001b[0;34m)\u001b[0m\u001b[0;34m:\u001b[0m\u001b[0;34m\u001b[0m\u001b[0;34m\u001b[0m\u001b[0m\n\u001b[0;32m--> 746\u001b[0;31m             \u001b[0mrdd\u001b[0m\u001b[0;34m,\u001b[0m \u001b[0mschema\u001b[0m \u001b[0;34m=\u001b[0m \u001b[0mself\u001b[0m\u001b[0;34m.\u001b[0m\u001b[0m_createFromRDD\u001b[0m\u001b[0;34m(\u001b[0m\u001b[0mdata\u001b[0m\u001b[0;34m.\u001b[0m\u001b[0mmap\u001b[0m\u001b[0;34m(\u001b[0m\u001b[0mprepare\u001b[0m\u001b[0;34m)\u001b[0m\u001b[0;34m,\u001b[0m \u001b[0mschema\u001b[0m\u001b[0;34m,\u001b[0m \u001b[0msamplingRatio\u001b[0m\u001b[0;34m)\u001b[0m\u001b[0;34m\u001b[0m\u001b[0;34m\u001b[0m\u001b[0m\n\u001b[0m\u001b[1;32m    747\u001b[0m         \u001b[0;32melse\u001b[0m\u001b[0;34m:\u001b[0m\u001b[0;34m\u001b[0m\u001b[0;34m\u001b[0m\u001b[0m\n\u001b[1;32m    748\u001b[0m             \u001b[0mrdd\u001b[0m\u001b[0;34m,\u001b[0m \u001b[0mschema\u001b[0m \u001b[0;34m=\u001b[0m \u001b[0mself\u001b[0m\u001b[0;34m.\u001b[0m\u001b[0m_createFromLocal\u001b[0m\u001b[0;34m(\u001b[0m\u001b[0mmap\u001b[0m\u001b[0;34m(\u001b[0m\u001b[0mprepare\u001b[0m\u001b[0;34m,\u001b[0m \u001b[0mdata\u001b[0m\u001b[0;34m)\u001b[0m\u001b[0;34m,\u001b[0m \u001b[0mschema\u001b[0m\u001b[0;34m)\u001b[0m\u001b[0;34m\u001b[0m\u001b[0;34m\u001b[0m\u001b[0m\n",
      "\u001b[0;32m/usr/local/spark/python/pyspark/sql/session.py\u001b[0m in \u001b[0;36m_createFromRDD\u001b[0;34m(self, rdd, schema, samplingRatio)\u001b[0m\n\u001b[1;32m    388\u001b[0m         \"\"\"\n\u001b[1;32m    389\u001b[0m         \u001b[0;32mif\u001b[0m \u001b[0mschema\u001b[0m \u001b[0;32mis\u001b[0m \u001b[0;32mNone\u001b[0m \u001b[0;32mor\u001b[0m \u001b[0misinstance\u001b[0m\u001b[0;34m(\u001b[0m\u001b[0mschema\u001b[0m\u001b[0;34m,\u001b[0m \u001b[0;34m(\u001b[0m\u001b[0mlist\u001b[0m\u001b[0;34m,\u001b[0m \u001b[0mtuple\u001b[0m\u001b[0;34m)\u001b[0m\u001b[0;34m)\u001b[0m\u001b[0;34m:\u001b[0m\u001b[0;34m\u001b[0m\u001b[0;34m\u001b[0m\u001b[0m\n\u001b[0;32m--> 390\u001b[0;31m             \u001b[0mstruct\u001b[0m \u001b[0;34m=\u001b[0m \u001b[0mself\u001b[0m\u001b[0;34m.\u001b[0m\u001b[0m_inferSchema\u001b[0m\u001b[0;34m(\u001b[0m\u001b[0mrdd\u001b[0m\u001b[0;34m,\u001b[0m \u001b[0msamplingRatio\u001b[0m\u001b[0;34m,\u001b[0m \u001b[0mnames\u001b[0m\u001b[0;34m=\u001b[0m\u001b[0mschema\u001b[0m\u001b[0;34m)\u001b[0m\u001b[0;34m\u001b[0m\u001b[0;34m\u001b[0m\u001b[0m\n\u001b[0m\u001b[1;32m    391\u001b[0m             \u001b[0mconverter\u001b[0m \u001b[0;34m=\u001b[0m \u001b[0m_create_converter\u001b[0m\u001b[0;34m(\u001b[0m\u001b[0mstruct\u001b[0m\u001b[0;34m)\u001b[0m\u001b[0;34m\u001b[0m\u001b[0;34m\u001b[0m\u001b[0m\n\u001b[1;32m    392\u001b[0m             \u001b[0mrdd\u001b[0m \u001b[0;34m=\u001b[0m \u001b[0mrdd\u001b[0m\u001b[0;34m.\u001b[0m\u001b[0mmap\u001b[0m\u001b[0;34m(\u001b[0m\u001b[0mconverter\u001b[0m\u001b[0;34m)\u001b[0m\u001b[0;34m\u001b[0m\u001b[0;34m\u001b[0m\u001b[0m\n",
      "\u001b[0;32m/usr/local/spark/python/pyspark/sql/session.py\u001b[0m in \u001b[0;36m_inferSchema\u001b[0;34m(self, rdd, samplingRatio, names)\u001b[0m\n\u001b[1;32m    359\u001b[0m         \u001b[0;34m:\u001b[0m\u001b[0;32mreturn\u001b[0m\u001b[0;34m:\u001b[0m \u001b[0;34m:\u001b[0m\u001b[0;32mclass\u001b[0m\u001b[0;34m:\u001b[0m\u001b[0;31m`\u001b[0m\u001b[0mpyspark\u001b[0m\u001b[0;34m.\u001b[0m\u001b[0msql\u001b[0m\u001b[0;34m.\u001b[0m\u001b[0mtypes\u001b[0m\u001b[0;34m.\u001b[0m\u001b[0mStructType\u001b[0m\u001b[0;31m`\u001b[0m\u001b[0;34m\u001b[0m\u001b[0;34m\u001b[0m\u001b[0m\n\u001b[1;32m    360\u001b[0m         \"\"\"\n\u001b[0;32m--> 361\u001b[0;31m         \u001b[0mfirst\u001b[0m \u001b[0;34m=\u001b[0m \u001b[0mrdd\u001b[0m\u001b[0;34m.\u001b[0m\u001b[0mfirst\u001b[0m\u001b[0;34m(\u001b[0m\u001b[0;34m)\u001b[0m\u001b[0;34m\u001b[0m\u001b[0;34m\u001b[0m\u001b[0m\n\u001b[0m\u001b[1;32m    362\u001b[0m         \u001b[0;32mif\u001b[0m \u001b[0;32mnot\u001b[0m \u001b[0mfirst\u001b[0m\u001b[0;34m:\u001b[0m\u001b[0;34m\u001b[0m\u001b[0;34m\u001b[0m\u001b[0m\n\u001b[1;32m    363\u001b[0m             raise ValueError(\"The first row in RDD is empty, \"\n",
      "\u001b[0;32m/usr/local/spark/python/pyspark/rdd.py\u001b[0m in \u001b[0;36mfirst\u001b[0;34m(self)\u001b[0m\n\u001b[1;32m   1376\u001b[0m         \u001b[0mValueError\u001b[0m\u001b[0;34m:\u001b[0m \u001b[0mRDD\u001b[0m \u001b[0;32mis\u001b[0m \u001b[0mempty\u001b[0m\u001b[0;34m\u001b[0m\u001b[0;34m\u001b[0m\u001b[0m\n\u001b[1;32m   1377\u001b[0m         \"\"\"\n\u001b[0;32m-> 1378\u001b[0;31m         \u001b[0mrs\u001b[0m \u001b[0;34m=\u001b[0m \u001b[0mself\u001b[0m\u001b[0;34m.\u001b[0m\u001b[0mtake\u001b[0m\u001b[0;34m(\u001b[0m\u001b[0;36m1\u001b[0m\u001b[0;34m)\u001b[0m\u001b[0;34m\u001b[0m\u001b[0;34m\u001b[0m\u001b[0m\n\u001b[0m\u001b[1;32m   1379\u001b[0m         \u001b[0;32mif\u001b[0m \u001b[0mrs\u001b[0m\u001b[0;34m:\u001b[0m\u001b[0;34m\u001b[0m\u001b[0;34m\u001b[0m\u001b[0m\n\u001b[1;32m   1380\u001b[0m             \u001b[0;32mreturn\u001b[0m \u001b[0mrs\u001b[0m\u001b[0;34m[\u001b[0m\u001b[0;36m0\u001b[0m\u001b[0;34m]\u001b[0m\u001b[0;34m\u001b[0m\u001b[0;34m\u001b[0m\u001b[0m\n",
      "\u001b[0;32m/usr/local/spark/python/pyspark/rdd.py\u001b[0m in \u001b[0;36mtake\u001b[0;34m(self, num)\u001b[0m\n\u001b[1;32m   1358\u001b[0m \u001b[0;34m\u001b[0m\u001b[0m\n\u001b[1;32m   1359\u001b[0m             \u001b[0mp\u001b[0m \u001b[0;34m=\u001b[0m \u001b[0mrange\u001b[0m\u001b[0;34m(\u001b[0m\u001b[0mpartsScanned\u001b[0m\u001b[0;34m,\u001b[0m \u001b[0mmin\u001b[0m\u001b[0;34m(\u001b[0m\u001b[0mpartsScanned\u001b[0m \u001b[0;34m+\u001b[0m \u001b[0mnumPartsToTry\u001b[0m\u001b[0;34m,\u001b[0m \u001b[0mtotalParts\u001b[0m\u001b[0;34m)\u001b[0m\u001b[0;34m)\u001b[0m\u001b[0;34m\u001b[0m\u001b[0;34m\u001b[0m\u001b[0m\n\u001b[0;32m-> 1360\u001b[0;31m             \u001b[0mres\u001b[0m \u001b[0;34m=\u001b[0m \u001b[0mself\u001b[0m\u001b[0;34m.\u001b[0m\u001b[0mcontext\u001b[0m\u001b[0;34m.\u001b[0m\u001b[0mrunJob\u001b[0m\u001b[0;34m(\u001b[0m\u001b[0mself\u001b[0m\u001b[0;34m,\u001b[0m \u001b[0mtakeUpToNumLeft\u001b[0m\u001b[0;34m,\u001b[0m \u001b[0mp\u001b[0m\u001b[0;34m)\u001b[0m\u001b[0;34m\u001b[0m\u001b[0;34m\u001b[0m\u001b[0m\n\u001b[0m\u001b[1;32m   1361\u001b[0m \u001b[0;34m\u001b[0m\u001b[0m\n\u001b[1;32m   1362\u001b[0m             \u001b[0mitems\u001b[0m \u001b[0;34m+=\u001b[0m \u001b[0mres\u001b[0m\u001b[0;34m\u001b[0m\u001b[0;34m\u001b[0m\u001b[0m\n",
      "\u001b[0;32m/usr/local/spark/python/pyspark/context.py\u001b[0m in \u001b[0;36mrunJob\u001b[0;34m(self, rdd, partitionFunc, partitions, allowLocal)\u001b[0m\n\u001b[1;32m   1067\u001b[0m         \u001b[0;31m# SparkContext#runJob.\u001b[0m\u001b[0;34m\u001b[0m\u001b[0;34m\u001b[0m\u001b[0;34m\u001b[0m\u001b[0m\n\u001b[1;32m   1068\u001b[0m         \u001b[0mmappedRDD\u001b[0m \u001b[0;34m=\u001b[0m \u001b[0mrdd\u001b[0m\u001b[0;34m.\u001b[0m\u001b[0mmapPartitions\u001b[0m\u001b[0;34m(\u001b[0m\u001b[0mpartitionFunc\u001b[0m\u001b[0;34m)\u001b[0m\u001b[0;34m\u001b[0m\u001b[0;34m\u001b[0m\u001b[0m\n\u001b[0;32m-> 1069\u001b[0;31m         \u001b[0msock_info\u001b[0m \u001b[0;34m=\u001b[0m \u001b[0mself\u001b[0m\u001b[0;34m.\u001b[0m\u001b[0m_jvm\u001b[0m\u001b[0;34m.\u001b[0m\u001b[0mPythonRDD\u001b[0m\u001b[0;34m.\u001b[0m\u001b[0mrunJob\u001b[0m\u001b[0;34m(\u001b[0m\u001b[0mself\u001b[0m\u001b[0;34m.\u001b[0m\u001b[0m_jsc\u001b[0m\u001b[0;34m.\u001b[0m\u001b[0msc\u001b[0m\u001b[0;34m(\u001b[0m\u001b[0;34m)\u001b[0m\u001b[0;34m,\u001b[0m \u001b[0mmappedRDD\u001b[0m\u001b[0;34m.\u001b[0m\u001b[0m_jrdd\u001b[0m\u001b[0;34m,\u001b[0m \u001b[0mpartitions\u001b[0m\u001b[0;34m)\u001b[0m\u001b[0;34m\u001b[0m\u001b[0;34m\u001b[0m\u001b[0m\n\u001b[0m\u001b[1;32m   1070\u001b[0m         \u001b[0;32mreturn\u001b[0m \u001b[0mlist\u001b[0m\u001b[0;34m(\u001b[0m\u001b[0m_load_from_socket\u001b[0m\u001b[0;34m(\u001b[0m\u001b[0msock_info\u001b[0m\u001b[0;34m,\u001b[0m \u001b[0mmappedRDD\u001b[0m\u001b[0;34m.\u001b[0m\u001b[0m_jrdd_deserializer\u001b[0m\u001b[0;34m)\u001b[0m\u001b[0;34m)\u001b[0m\u001b[0;34m\u001b[0m\u001b[0;34m\u001b[0m\u001b[0m\n\u001b[1;32m   1071\u001b[0m \u001b[0;34m\u001b[0m\u001b[0m\n",
      "\u001b[0;32m/usr/local/spark/python/lib/py4j-0.10.7-src.zip/py4j/java_gateway.py\u001b[0m in \u001b[0;36m__call__\u001b[0;34m(self, *args)\u001b[0m\n\u001b[1;32m   1253\u001b[0m             \u001b[0mproto\u001b[0m\u001b[0;34m.\u001b[0m\u001b[0mEND_COMMAND_PART\u001b[0m\u001b[0;34m\u001b[0m\u001b[0;34m\u001b[0m\u001b[0m\n\u001b[1;32m   1254\u001b[0m \u001b[0;34m\u001b[0m\u001b[0m\n\u001b[0;32m-> 1255\u001b[0;31m         \u001b[0manswer\u001b[0m \u001b[0;34m=\u001b[0m \u001b[0mself\u001b[0m\u001b[0;34m.\u001b[0m\u001b[0mgateway_client\u001b[0m\u001b[0;34m.\u001b[0m\u001b[0msend_command\u001b[0m\u001b[0;34m(\u001b[0m\u001b[0mcommand\u001b[0m\u001b[0;34m)\u001b[0m\u001b[0;34m\u001b[0m\u001b[0;34m\u001b[0m\u001b[0m\n\u001b[0m\u001b[1;32m   1256\u001b[0m         return_value = get_return_value(\n\u001b[1;32m   1257\u001b[0m             answer, self.gateway_client, self.target_id, self.name)\n",
      "\u001b[0;32m/usr/local/spark/python/lib/py4j-0.10.7-src.zip/py4j/java_gateway.py\u001b[0m in \u001b[0;36msend_command\u001b[0;34m(self, command, retry, binary)\u001b[0m\n\u001b[1;32m    983\u001b[0m         \u001b[0mconnection\u001b[0m \u001b[0;34m=\u001b[0m \u001b[0mself\u001b[0m\u001b[0;34m.\u001b[0m\u001b[0m_get_connection\u001b[0m\u001b[0;34m(\u001b[0m\u001b[0;34m)\u001b[0m\u001b[0;34m\u001b[0m\u001b[0;34m\u001b[0m\u001b[0m\n\u001b[1;32m    984\u001b[0m         \u001b[0;32mtry\u001b[0m\u001b[0;34m:\u001b[0m\u001b[0;34m\u001b[0m\u001b[0;34m\u001b[0m\u001b[0m\n\u001b[0;32m--> 985\u001b[0;31m             \u001b[0mresponse\u001b[0m \u001b[0;34m=\u001b[0m \u001b[0mconnection\u001b[0m\u001b[0;34m.\u001b[0m\u001b[0msend_command\u001b[0m\u001b[0;34m(\u001b[0m\u001b[0mcommand\u001b[0m\u001b[0;34m)\u001b[0m\u001b[0;34m\u001b[0m\u001b[0;34m\u001b[0m\u001b[0m\n\u001b[0m\u001b[1;32m    986\u001b[0m             \u001b[0;32mif\u001b[0m \u001b[0mbinary\u001b[0m\u001b[0;34m:\u001b[0m\u001b[0;34m\u001b[0m\u001b[0;34m\u001b[0m\u001b[0m\n\u001b[1;32m    987\u001b[0m                 \u001b[0;32mreturn\u001b[0m \u001b[0mresponse\u001b[0m\u001b[0;34m,\u001b[0m \u001b[0mself\u001b[0m\u001b[0;34m.\u001b[0m\u001b[0m_create_connection_guard\u001b[0m\u001b[0;34m(\u001b[0m\u001b[0mconnection\u001b[0m\u001b[0;34m)\u001b[0m\u001b[0;34m\u001b[0m\u001b[0;34m\u001b[0m\u001b[0m\n",
      "\u001b[0;32m/usr/local/spark/python/lib/py4j-0.10.7-src.zip/py4j/java_gateway.py\u001b[0m in \u001b[0;36msend_command\u001b[0;34m(self, command)\u001b[0m\n\u001b[1;32m   1150\u001b[0m \u001b[0;34m\u001b[0m\u001b[0m\n\u001b[1;32m   1151\u001b[0m         \u001b[0;32mtry\u001b[0m\u001b[0;34m:\u001b[0m\u001b[0;34m\u001b[0m\u001b[0;34m\u001b[0m\u001b[0m\n\u001b[0;32m-> 1152\u001b[0;31m             \u001b[0manswer\u001b[0m \u001b[0;34m=\u001b[0m \u001b[0msmart_decode\u001b[0m\u001b[0;34m(\u001b[0m\u001b[0mself\u001b[0m\u001b[0;34m.\u001b[0m\u001b[0mstream\u001b[0m\u001b[0;34m.\u001b[0m\u001b[0mreadline\u001b[0m\u001b[0;34m(\u001b[0m\u001b[0;34m)\u001b[0m\u001b[0;34m[\u001b[0m\u001b[0;34m:\u001b[0m\u001b[0;34m-\u001b[0m\u001b[0;36m1\u001b[0m\u001b[0;34m]\u001b[0m\u001b[0;34m)\u001b[0m\u001b[0;34m\u001b[0m\u001b[0;34m\u001b[0m\u001b[0m\n\u001b[0m\u001b[1;32m   1153\u001b[0m             \u001b[0mlogger\u001b[0m\u001b[0;34m.\u001b[0m\u001b[0mdebug\u001b[0m\u001b[0;34m(\u001b[0m\u001b[0;34m\"Answer received: {0}\"\u001b[0m\u001b[0;34m.\u001b[0m\u001b[0mformat\u001b[0m\u001b[0;34m(\u001b[0m\u001b[0manswer\u001b[0m\u001b[0;34m)\u001b[0m\u001b[0;34m)\u001b[0m\u001b[0;34m\u001b[0m\u001b[0;34m\u001b[0m\u001b[0m\n\u001b[1;32m   1154\u001b[0m             \u001b[0;32mif\u001b[0m \u001b[0manswer\u001b[0m\u001b[0;34m.\u001b[0m\u001b[0mstartswith\u001b[0m\u001b[0;34m(\u001b[0m\u001b[0mproto\u001b[0m\u001b[0;34m.\u001b[0m\u001b[0mRETURN_MESSAGE\u001b[0m\u001b[0;34m)\u001b[0m\u001b[0;34m:\u001b[0m\u001b[0;34m\u001b[0m\u001b[0;34m\u001b[0m\u001b[0m\n",
      "\u001b[0;32m/opt/conda/lib/python3.7/socket.py\u001b[0m in \u001b[0;36mreadinto\u001b[0;34m(self, b)\u001b[0m\n\u001b[1;32m    587\u001b[0m         \u001b[0;32mwhile\u001b[0m \u001b[0;32mTrue\u001b[0m\u001b[0;34m:\u001b[0m\u001b[0;34m\u001b[0m\u001b[0;34m\u001b[0m\u001b[0m\n\u001b[1;32m    588\u001b[0m             \u001b[0;32mtry\u001b[0m\u001b[0;34m:\u001b[0m\u001b[0;34m\u001b[0m\u001b[0;34m\u001b[0m\u001b[0m\n\u001b[0;32m--> 589\u001b[0;31m                 \u001b[0;32mreturn\u001b[0m \u001b[0mself\u001b[0m\u001b[0;34m.\u001b[0m\u001b[0m_sock\u001b[0m\u001b[0;34m.\u001b[0m\u001b[0mrecv_into\u001b[0m\u001b[0;34m(\u001b[0m\u001b[0mb\u001b[0m\u001b[0;34m)\u001b[0m\u001b[0;34m\u001b[0m\u001b[0;34m\u001b[0m\u001b[0m\n\u001b[0m\u001b[1;32m    590\u001b[0m             \u001b[0;32mexcept\u001b[0m \u001b[0mtimeout\u001b[0m\u001b[0;34m:\u001b[0m\u001b[0;34m\u001b[0m\u001b[0;34m\u001b[0m\u001b[0m\n\u001b[1;32m    591\u001b[0m                 \u001b[0mself\u001b[0m\u001b[0;34m.\u001b[0m\u001b[0m_timeout_occurred\u001b[0m \u001b[0;34m=\u001b[0m \u001b[0;32mTrue\u001b[0m\u001b[0;34m\u001b[0m\u001b[0;34m\u001b[0m\u001b[0m\n",
      "\u001b[0;31mKeyboardInterrupt\u001b[0m: "
     ]
    }
   ],
   "source": [
    "# we only focus on ball-snap (the most common event in player trace data)\n",
    "# rename some columns\n",
    "_df = df.rdd.filter(lambda x: x.event == 'ball-snap').toDF()\n",
    "_df = _df.withColumnRenamed('x','x_snap').withColumnRenamed('y','y_snap').withColumnRenamed('time','time_snap')"
   ]
  },
  {
   "cell_type": "code",
   "execution_count": null,
   "metadata": {},
   "outputs": [],
   "source": [
    "# Remove any data for a play 0.1 second before snap\n",
    "df = df.merge(_df, on='PlayKey', how='left')\n",
    "df = df.rdd.filter(lambda x: x.time >= x.time_snap-0.1)\n",
    "\n",
    "# Remove any data for a play 0.1 second after snap\n",
    "# TODO"
   ]
  }
 ],
 "metadata": {
  "kernelspec": {
   "display_name": "Python 3",
   "language": "python",
   "name": "python3"
  },
  "language_info": {
   "codemirror_mode": {
    "name": "ipython",
    "version": 3
   },
   "file_extension": ".py",
   "mimetype": "text/x-python",
   "name": "python",
   "nbconvert_exporter": "python",
   "pygments_lexer": "ipython3",
   "version": "3.7.6"
  }
 },
 "nbformat": 4,
 "nbformat_minor": 4
}
