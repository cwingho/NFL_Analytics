﻿{
  "metadata": {
    "name": "NFLData",
    "kernelspec": {
      "language": "scala",
      "name": "spark2-scala"
    },
    "language_info": {
      "codemirror_mode": "text/x-scala",
      "file_extension": ".scala",
      "mimetype": "text/x-scala",
      "name": "scala",
      "pygments_lexer": "scala"
    }
  },
  "nbformat": 4,
  "nbformat_minor": 2,
  "cells": [
    {
      "cell_type": "code",
      "execution_count": 0,
      "metadata": {
        "autoscroll": "auto"
      },
      "outputs": [],
      "source": "import org.apache.spark.sql.{SaveMode, SparkSession}\nimport org.apache.spark.sql.functions.{col, column, expr}\nimport org.apache.spark.sql.types._\n\nval spark \u003d SparkSession.builder()\n    .appName(\"Data Sources and Formats\")\n    .config(\"spark.master\", \"local\")\n    .getOrCreate()\n\n  // InjuryRecord schema\n  //PlayerKey,GameID,PlayKey,BodyPart,Surface,DM_M1,DM_M7,DM_M28,DM_M42\nval injurySchema \u003d StructType(Array(\n    StructField(\"PlayerKey\", StringType),\n    StructField(\"GameID\", StringType),\n    StructField(\"PlayKey\", StringType),\n    StructField(\"BodyPart\", StringType),\n    StructField(\"Surface\", StringType),\n    StructField(\"DM_M1\", IntegerType),\n    StructField(\"DM_M7\", IntegerType),\n    StructField(\"DM_M28\", IntegerType),\n    StructField(\"DM_M42\", IntegerType)\n))"
    },
    {
      "cell_type": "code",
      "execution_count": 1,
      "metadata": {
        "autoscroll": "auto"
      },
      "outputs": [],
      "source": "val injuryDF \u003d spark.read\n    .schema(injurySchema)\n    .option(\"header\", \"true\")\n    .option(\"sep\", \",\")\n    .csv(\"/data/injuryRecord.csv\")\n\n    // adding a column\n  val newInjuryDF \u003d injuryDF\n    .withColumnRenamed(\"PlayerKey\", \"InjPlayerKey\")\n    .withColumnRenamed(\"GameID\", \"InjGameID\")\n    .withColumnRenamed(\"PlayKey\", \"InjPlayKey\")\n    .withColumn(\"Severity\", col(\"DM_M1\") + col(\"DM_M7\") + col(\"DM_M28\") + col(\"DM_M42\"))\n\n  println(s\"The injuryDF has ${newInjuryDF.count()} rows\")"
    },
    {
      "cell_type": "code",
      "execution_count": 2,
      "metadata": {
        "autoscroll": "auto"
      },
      "outputs": [],
      "source": "//PlayList schema\n  //PlayerKey,GameID,PlayKey,RosterPosition,PlayerDay,PlayerGame,StadiumType,\n  //FieldType,Temperature,Weather,PlayType,PlayerGamePlay,Position,PositionGroup\nval playListSchema \u003d StructType(Array(\n    StructField(\"PlayerKey\", StringType),\n    StructField(\"GameID\", StringType),\n    StructField(\"PlayKey\", StringType),\n    StructField(\"RosterPosition\", StringType),\n    StructField(\"PlayerDay\", IntegerType),\n    StructField(\"PlayerGame\", IntegerType),\n    StructField(\"StadiumType\", StringType),\n    StructField(\"FieldType\", StringType),\n    StructField(\"Temperature\", FloatType),\n    StructField(\"Weather\", StringType),\n    StructField(\"PlayType\", StringType),\n    StructField(\"PlayerGamePlay\", IntegerType),\n    StructField(\"Position\", StringType),\n    StructField(\"PositionGroup\", StringType)\n))\nval playListDF \u003d spark.read\n.schema(playListSchema)\n.option(\"header\", \"true\")\n.option(\"sep\", \",\")\n.csv(\"/data/PlayList.csv\")\n\nplayListDF.printSchema()\nprintln(s\"The PlayListDF has ${playListDF.count()} rows\")"
    },
    {
      "cell_type": "code",
      "execution_count": 3,
      "metadata": {
        "autoscroll": "auto"
      },
      "outputs": [],
      "source": "//PlayerTrackData schema\n  //PlayKey,time,event,x,y,dir,dis,o,s\n\n  val playerTrackSchema \u003d StructType(Array(\n    StructField(\"PlayKey\", StringType),\n    StructField(\"time\", FloatType),\n    StructField(\"event\", StringType),\n    StructField(\"x\", FloatType),\n    StructField(\"y\", FloatType),\n    StructField(\"dir\", FloatType),\n    StructField(\"dis\", FloatType),\n    StructField(\"o\", FloatType),\n    StructField(\"s\",FloatType)\n  ))\n\n  val playerTrackDF \u003d spark.read\n    .schema(playerTrackSchema)\n    .option(\"header\", \"true\")\n    .option(\"sep\", \",\")\n    .csv(\"/data/PlayerTrackData.csv\")\n\n  playerTrackDF.printSchema()\n  println(s\"The PlayerTrackDF has ${playerTrackDF.count()} rows\")"
    },
    {
      "cell_type": "code",
      "execution_count": 4,
      "metadata": {
        "autoscroll": "auto"
      },
      "outputs": [],
      "source": "//Different body part and severity injury\n  val countByBodyPartDF \u003d newInjuryDF\n    .groupBy(col(\"BodyPart\"), col(\"Severity\")) // includes null\n    .count()\n    .orderBy(\"BodyPart\", \"Severity\")\n  countByBodyPartDF.show()\n  //The injury count by different surface\n  val countBySurfaceDF \u003d newInjuryDF\n    .groupBy(col(\"Surface\"), col(\"Severity\")) // includes null\n    .count()\n    .orderBy(\"Surface\", \"Severity\")\n  countBySurfaceDF.show()\n\n  //injuryPlayListDF: The game history of each injury player\n  val injuryAllPlayListDF \u003d newInjuryDF.join(playListDF,\n    newInjuryDF.col(\"InjPlayerKey\") \u003d\u003d\u003d playListDF.col(\"PlayerKey\"),\n    \"inner\")\n\n  injuryAllPlayListDF.printSchema()\n  //injuryAllPlayListDF.show(10)\n\n  val injuryAllGameHistoryPlayListDF \u003d injuryAllPlayListDF.select(\n    \"InjPlayerKey\", \"PlayKey\",\n    \"RosterPosition\", \"PlayerDay\", \"PlayerGame\",\n    \"StadiumType\",\"FieldType\",\"Temperature\",\"Weather\",\n    \"PlayType\",\"PlayerGamePlay\",\"Position\",\"PositionGroup\")\n    .orderBy(\"InjPlayerKey\",\"PlayKey\",\"PlayerGamePlay\")\n\n  println(s\"The Injury PlayList History has ${injuryAllGameHistoryPlayListDF.count()} rows\")\n\n  val injuryGamePlayListDF \u003d injuryAllPlayListDF.select(\n    \"InjPlayerKey\", \"InjGameID\", \"PlayKey\",\n    \"RosterPosition\", \"PlayerDay\", \"PlayerGame\",\n    \"StadiumType\",\"FieldType\",\"Temperature\",\"Weather\",\n    \"PlayType\",\"PlayerGamePlay\",\"Position\",\"PositionGroup\")\n    .where(col(\"InjGameID\") \u003d\u003d\u003d col(\"GameID\"))\n    .orderBy(\"InjPlayerKey\",\"InjGameID\",\"PlayerGamePlay\")\n\n  println(s\"The Injury PlayList has ${injuryGamePlayListDF.count()} rows\")"
    },
    {
      "cell_type": "code",
      "execution_count": 5,
      "metadata": {
        "autoscroll": "auto"
      },
      "outputs": [],
      "source": "countByBodyPartDF.createOrReplaceTempView(\"countByBodyPartDF\")\ncountBySurfaceDF.createOrReplaceTempView(\"countBySurfaceDF\")\n"
    },
    {
      "cell_type": "code",
      "execution_count": 6,
      "metadata": {},
      "outputs": [],
      "source": "%%sql\nselect * from countByBodyPartDF"
    },
    {
      "cell_type": "code",
      "execution_count": 7,
      "metadata": {},
      "outputs": [],
      "source": "%%sql\nselect * from countBySurfaceDF"
    },
    {
      "cell_type": "code",
      "execution_count": 8,
      "metadata": {},
      "outputs": [],
      "source": "%%sql\nselect * from countBySurfaceDF"
    }
  ]
}